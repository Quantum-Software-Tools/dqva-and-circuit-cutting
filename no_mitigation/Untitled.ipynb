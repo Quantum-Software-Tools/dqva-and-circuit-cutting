{
 "cells": [
  {
   "cell_type": "code",
   "execution_count": 8,
   "metadata": {},
   "outputs": [
    {
     "name": "stdout",
     "output_type": "stream",
     "text": [
      "[(512, 4936)]\n"
     ]
    }
   ],
   "source": [
    "def split_shots(total_shots,max_shots,max_experiments):\n",
    "    if total_shots > max_shots*max_experiments:\n",
    "        current_schedule = (max_experiments,max_shots)\n",
    "        next_schedule = split_shots(total_shots=total_shots-max_shots*max_experiments,max_shots=max_shots,max_experiments=max_experiments)\n",
    "        next_schedule.insert(0,current_schedule)\n",
    "        return next_schedule\n",
    "    elif total_shots == max_shots*max_experiments:\n",
    "        return [(max_experiments,max_shots)]\n",
    "    else:\n",
    "        for num_experiments in range(1,max_experiments+1):\n",
    "            equally_divided_shots = int(total_shots/num_experiments)\n",
    "            if total_shots%num_experiments==0 and equally_divided_shots<=max_shots:\n",
    "                return [(num_experiments,equally_divided_shots)]\n",
    "            else:\n",
    "                continue\n",
    "        return None\n",
    "\n",
    "schedule = split_shots(total_shots=2048*1234,max_shots=8192,max_experiments=600)\n",
    "print(schedule)"
   ]
  },
  {
   "cell_type": "code",
   "execution_count": null,
   "metadata": {},
   "outputs": [],
   "source": []
  }
 ],
 "metadata": {
  "kernelspec": {
   "display_name": "Python 3",
   "language": "python",
   "name": "python3"
  },
  "language_info": {
   "codemirror_mode": {
    "name": "ipython",
    "version": 3
   },
   "file_extension": ".py",
   "mimetype": "text/x-python",
   "name": "python",
   "nbconvert_exporter": "python",
   "pygments_lexer": "ipython3",
   "version": "3.7.4"
  }
 },
 "nbformat": 4,
 "nbformat_minor": 4
}
