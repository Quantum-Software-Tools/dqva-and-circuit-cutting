{
 "cells": [
  {
   "cell_type": "code",
   "execution_count": 1,
   "metadata": {},
   "outputs": [
    {
     "name": "stdout",
     "output_type": "stream",
     "text": [
      "(QuantumRegister(16, 'qreg'), 0) [(0, (QuantumRegister(12, 'qreg'), 0))]\n",
      "(QuantumRegister(16, 'qreg'), 1) [(0, (QuantumRegister(12, 'qreg'), 3))]\n",
      "(QuantumRegister(16, 'qreg'), 2) [(0, (QuantumRegister(12, 'qreg'), 9)), (1, (QuantumRegister(2, 'cutQ'), 0))]\n",
      "(QuantumRegister(16, 'qreg'), 3) [(1, (QuantumRegister(1, 'qreg'), 0))]\n",
      "(QuantumRegister(16, 'qreg'), 4) [(0, (QuantumRegister(12, 'qreg'), 1))]\n",
      "(QuantumRegister(16, 'qreg'), 5) [(0, (QuantumRegister(12, 'qreg'), 6))]\n",
      "(QuantumRegister(16, 'qreg'), 6) [(0, (QuantumRegister(12, 'qreg'), 4))]\n",
      "(QuantumRegister(16, 'qreg'), 7) [(0, (QuantumRegister(12, 'qreg'), 10)), (3, (QuantumRegister(2, 'cutQ'), 0)), (1, (QuantumRegister(2, 'cutQ'), 1))]\n",
      "(QuantumRegister(16, 'qreg'), 8) [(0, (QuantumRegister(12, 'qreg'), 8))]\n",
      "(QuantumRegister(16, 'qreg'), 9) [(0, (QuantumRegister(12, 'qreg'), 5))]\n",
      "(QuantumRegister(16, 'qreg'), 10) [(0, (QuantumRegister(12, 'qreg'), 2)), (2, (QuantumRegister(2, 'cutQ'), 1))]\n",
      "(QuantumRegister(16, 'qreg'), 11) [(2, (QuantumRegister(3, 'qreg'), 0)), (3, (QuantumRegister(2, 'cutQ'), 1))]\n",
      "(QuantumRegister(16, 'qreg'), 12) [(0, (QuantumRegister(12, 'qreg'), 11))]\n",
      "(QuantumRegister(16, 'qreg'), 13) [(0, (QuantumRegister(12, 'qreg'), 7)), (2, (QuantumRegister(2, 'cutQ'), 0))]\n",
      "(QuantumRegister(16, 'qreg'), 14) [(2, (QuantumRegister(3, 'qreg'), 2))]\n",
      "(QuantumRegister(16, 'qreg'), 15) [(2, (QuantumRegister(3, 'qreg'), 1))]\n"
     ]
    }
   ],
   "source": [
    "import pickle\n",
    "import itertools\n",
    "import uniter\n",
    "from qiskit.quantum_info.states.measures import state_fidelity\n",
    "import numpy as np\n",
    "import uniter\n",
    "import time\n",
    "import glob\n",
    "\n",
    "complete_path_map = pickle.load( open( './data/cpm.p', 'rb' ) )\n",
    "[print(x, complete_path_map[x]) for x in complete_path_map]\n",
    "\n",
    "full_circ = pickle.load( open( './data/full_circ.p', 'rb' ) )\n",
    "\n",
    "cluster_circs = []\n",
    "cluster_measurement_init_meas = []\n",
    "cluster_measurement_init = []\n",
    "for i in range(4):\n",
    "    cluster_circs.append(pickle.load( open( './data/cluster_%d_circ.p'%i, 'rb' ) ))\n",
    "    cluster_measurement_init_meas.append(pickle.load( open( './data/cluster_%d_measurement_init_meas.p'%i, 'rb' ) ))\n",
    "    cluster_measurement_init.append(pickle.load( open( './data/cluster_%d_measurement_init.p'%i, 'rb' ) ))"
   ]
  },
  {
   "cell_type": "code",
   "execution_count": 2,
   "metadata": {},
   "outputs": [
    {
     "name": "stdout",
     "output_type": "stream",
     "text": [
      "((0, (QuantumRegister(12, 'qreg'), 9)), (1, (QuantumRegister(2, 'cutQ'), 0)))\n",
      "((0, (QuantumRegister(12, 'qreg'), 10)), (3, (QuantumRegister(2, 'cutQ'), 0)))\n",
      "((3, (QuantumRegister(2, 'cutQ'), 0)), (1, (QuantumRegister(2, 'cutQ'), 1)))\n",
      "((0, (QuantumRegister(12, 'qreg'), 2)), (2, (QuantumRegister(2, 'cutQ'), 1)))\n",
      "((2, (QuantumRegister(3, 'qreg'), 0)), (3, (QuantumRegister(2, 'cutQ'), 1)))\n",
      "((0, (QuantumRegister(12, 'qreg'), 7)), (2, (QuantumRegister(2, 'cutQ'), 0)))\n",
      "total 262144 variants\n",
      "ordering: [12, -1, -1, 8, -1, 5, 9, 6, 1, -1, 4, 0, 3, 7, 2, 14, 15, -1, 10, 13, 11, -1]\n"
     ]
    }
   ],
   "source": [
    "O_rho_pairs = uniter.find_cuts_pairs(complete_path_map)\n",
    "[print(x) for x in O_rho_pairs]\n",
    "all_s = list(itertools.product(range(1,9),repeat=len(O_rho_pairs)))\n",
    "total_variants = len(all_s)\n",
    "print('total %d variants'%total_variants)\n",
    "\n",
    "s = (3,4,5,1,2,8)\n",
    "output = uniter.sampler(cluster_circs, complete_path_map, cluster_measurement_init, s)"
   ]
  },
  {
   "cell_type": "code",
   "execution_count": 3,
   "metadata": {},
   "outputs": [
    {
     "ename": "NameError",
     "evalue": "name 'ordering' is not defined",
     "output_type": "error",
     "traceback": [
      "\u001b[0;31m---------------------------------------------------------------------------\u001b[0m",
      "\u001b[0;31mNameError\u001b[0m                                 Traceback (most recent call last)",
      "\u001b[0;32m<ipython-input-3-ca7965c24d85>\u001b[0m in \u001b[0;36m<module>\u001b[0;34m\u001b[0m\n\u001b[1;32m      8\u001b[0m     \u001b[0;32mreturn\u001b[0m \u001b[0mconverted\u001b[0m\u001b[0;34m\u001b[0m\u001b[0;34m\u001b[0m\u001b[0m\n\u001b[1;32m      9\u001b[0m \u001b[0;34m\u001b[0m\u001b[0m\n\u001b[0;32m---> 10\u001b[0;31m \u001b[0mconverted\u001b[0m \u001b[0;34m=\u001b[0m \u001b[0mconvert_idx\u001b[0m\u001b[0;34m(\u001b[0m\u001b[0mordering\u001b[0m\u001b[0;34m,\u001b[0m \u001b[0;36m3\u001b[0m\u001b[0;34m)\u001b[0m\u001b[0;34m\u001b[0m\u001b[0;34m\u001b[0m\u001b[0m\n\u001b[0m\u001b[1;32m     11\u001b[0m \u001b[0mprint\u001b[0m\u001b[0;34m(\u001b[0m\u001b[0mconverted\u001b[0m\u001b[0;34m)\u001b[0m\u001b[0;34m\u001b[0m\u001b[0;34m\u001b[0m\u001b[0m\n",
      "\u001b[0;31mNameError\u001b[0m: name 'ordering' is not defined"
     ]
    }
   ],
   "source": [
    "def convert_idx(ordering,idx):\n",
    "    total_digits = len(ordering)\n",
    "    bin_idx = bin(idx)[2:].zfill(total_digits)\n",
    "    converted = 0\n",
    "    for idx, digit in enumerate(bin_idx):\n",
    "        if ordering[idx]!=-1:\n",
    "            converted += np.power(2,ordering[idx])*int(digit)\n",
    "    return converted\n",
    "\n",
    "converted = convert_idx(ordering, 3)\n",
    "print(converted)"
   ]
  },
  {
   "cell_type": "code",
   "execution_count": null,
   "metadata": {},
   "outputs": [],
   "source": []
  }
 ],
 "metadata": {
  "kernelspec": {
   "display_name": "venv",
   "language": "python",
   "name": "venv"
  },
  "language_info": {
   "codemirror_mode": {
    "name": "ipython",
    "version": 3
   },
   "file_extension": ".py",
   "mimetype": "text/x-python",
   "name": "python",
   "nbconvert_exporter": "python",
   "pygments_lexer": "ipython3",
   "version": "3.7.3"
  }
 },
 "nbformat": 4,
 "nbformat_minor": 4
}
