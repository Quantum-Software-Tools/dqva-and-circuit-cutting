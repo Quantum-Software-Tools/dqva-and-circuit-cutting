{
 "cells": [
  {
   "cell_type": "code",
   "execution_count": 1,
   "metadata": {},
   "outputs": [
    {
     "name": "stdout",
     "output_type": "stream",
     "text": [
      "(QuantumRegister(16, 'q0'), 0) [(0, (QuantumRegister(4, 'q0'), 2))]\n",
      "(QuantumRegister(16, 'q0'), 1) [(0, (QuantumRegister(4, 'q0'), 3))]\n",
      "(QuantumRegister(16, 'q0'), 2) [(0, (QuantumRegister(4, 'q0'), 0)), (1, (QuantumRegister(2, 'cutQ'), 0))]\n",
      "(QuantumRegister(16, 'q0'), 3) [(1, (QuantumRegister(4, 'q0'), 3))]\n",
      "(QuantumRegister(16, 'q0'), 4) [(2, (QuantumRegister(8, 'q0'), 7)), (0, (QuantumRegister(2, 'cutQ'), 1))]\n",
      "(QuantumRegister(16, 'q0'), 5) [(0, (QuantumRegister(4, 'q0'), 1)), (3, (QuantumRegister(3, 'cutQ'), 2)), (0, (QuantumRegister(2, 'cutQ'), 0))]\n",
      "(QuantumRegister(16, 'q0'), 6) [(1, (QuantumRegister(4, 'q0'), 0)), (3, (QuantumRegister(3, 'cutQ'), 0))]\n",
      "(QuantumRegister(16, 'q0'), 7) [(1, (QuantumRegister(4, 'q0'), 1))]\n",
      "(QuantumRegister(16, 'q0'), 8) [(2, (QuantumRegister(8, 'q0'), 0))]\n",
      "(QuantumRegister(16, 'q0'), 9) [(2, (QuantumRegister(8, 'q0'), 1)), (3, (QuantumRegister(3, 'cutQ'), 1))]\n",
      "(QuantumRegister(16, 'q0'), 10) [(1, (QuantumRegister(4, 'q0'), 2)), (2, (QuantumRegister(1, 'cutQ'), 0))]\n",
      "(QuantumRegister(16, 'q0'), 11) [(2, (QuantumRegister(8, 'q0'), 3)), (1, (QuantumRegister(2, 'cutQ'), 1))]\n",
      "(QuantumRegister(16, 'q0'), 12) [(2, (QuantumRegister(8, 'q0'), 2))]\n",
      "(QuantumRegister(16, 'q0'), 13) [(2, (QuantumRegister(8, 'q0'), 4))]\n",
      "(QuantumRegister(16, 'q0'), 14) [(2, (QuantumRegister(8, 'q0'), 5))]\n",
      "(QuantumRegister(16, 'q0'), 15) [(2, (QuantumRegister(8, 'q0'), 6))]\n"
     ]
    }
   ],
   "source": [
    "import pickle\n",
    "import itertools\n",
    "import uniter\n",
    "from qiskit.quantum_info.states.measures import state_fidelity\n",
    "import numpy as np\n",
    "import uniter\n",
    "import time\n",
    "import glob\n",
    "import random\n",
    "\n",
    "complete_path_map = pickle.load( open( './data/cpm.p', 'rb' ) )\n",
    "[print(x, complete_path_map[x]) for x in complete_path_map]\n",
    "\n",
    "full_circ = pickle.load( open( './data/full_circ.p', 'rb' ) )\n",
    "\n",
    "cluster_circs = []\n",
    "cluster_measurement_init_meas = []\n",
    "cluster_measurement_init = []\n",
    "for i in range(4):\n",
    "    cluster_circs.append(pickle.load( open( './data/cluster_%d_circ.p'%i, 'rb' ) ))\n",
    "    cluster_measurement_init_meas.append(pickle.load( open( './data/cluster_%d_measurement_init_meas.p'%i, 'rb' ) ))\n",
    "    cluster_measurement_init.append(pickle.load( open( './data/cluster_%d_measurement_init.p'%i, 'rb' ) ))"
   ]
  },
  {
   "cell_type": "code",
   "execution_count": 2,
   "metadata": {},
   "outputs": [
    {
     "name": "stdout",
     "output_type": "stream",
     "text": [
      "O_rho_pairs:\n",
      "((0, (QuantumRegister(4, 'q0'), 0)), (1, (QuantumRegister(2, 'cutQ'), 0)))\n",
      "((2, (QuantumRegister(8, 'q0'), 7)), (0, (QuantumRegister(2, 'cutQ'), 1)))\n",
      "((0, (QuantumRegister(4, 'q0'), 1)), (3, (QuantumRegister(3, 'cutQ'), 2)))\n",
      "((3, (QuantumRegister(3, 'cutQ'), 2)), (0, (QuantumRegister(2, 'cutQ'), 0)))\n",
      "((1, (QuantumRegister(4, 'q0'), 0)), (3, (QuantumRegister(3, 'cutQ'), 0)))\n",
      "((2, (QuantumRegister(8, 'q0'), 1)), (3, (QuantumRegister(3, 'cutQ'), 1)))\n",
      "((1, (QuantumRegister(4, 'q0'), 2)), (2, (QuantumRegister(1, 'cutQ'), 0)))\n",
      "((2, (QuantumRegister(8, 'q0'), 3)), (1, (QuantumRegister(2, 'cutQ'), 1)))\n",
      "ordering: [[4, 5, 1, 0, -1, -1], [11, 2, 3, -1, 7, -1], [10, -1, 15, 14, 13, -1, 12, -1, 8], [-1, 9, 6]]\n",
      "16777216 s samples\n",
      "----------------------------------------------------------------------------------------------------\n",
      "sampling for s = (1, 1, 1, 6, 6, 7, 2, 4)\n",
      "c_s = -0.00390625\n",
      "[[1, 1, 1, 1, 6, 1], [1, 1, 1, 1, 1, 4], [1, 1, 1, 1, 1, 1, 1, 1, 2], [6, 1, 1]]\n",
      "[[1, 1, 1, 1, 1, 1], [6, 1, 2, 1, 1, 1], [1, 1, 1, 4, 1, 1, 1, 1, 1], [1, 1, 6]]\n",
      "[6.870324967587395e-08, 6.870324967587392e-08, 1.1787614086170065e-08]\n"
     ]
    }
   ],
   "source": [
    "reconstructed = uniter.reconstruct(cluster_circs, cluster_measurement_init, complete_path_map)"
   ]
  },
  {
   "cell_type": "code",
   "execution_count": null,
   "metadata": {},
   "outputs": [],
   "source": [
    "key = random.choice(list(cluster_measurement_init_meas[0].keys()))\n",
    "for cluster in range(len(cluster_circs)):\n",
    "    for key in cluster_measurement_init_meas[cluster].keys():\n",
    "        init, meas = key\n",
    "        init_meas_prob = cluster_measurement_init_meas[cluster][key]\n",
    "        init_prob = cluster_measurement_init[cluster][key]\n",
    "        if state_fidelity(init_meas_sv, init_sv) < 0.999:\n",
    "            print(init_meas_prob)\n",
    "            print(init_prob)\n",
    "            raise Exception('Wrong, state_fidelity = %.3f'% state_fidelity(init_meas_sv, init_sv))"
   ]
  }
 ],
 "metadata": {
  "kernelspec": {
   "display_name": "Python 3",
   "language": "python",
   "name": "python3"
  },
  "language_info": {
   "codemirror_mode": {
    "name": "ipython",
    "version": 3
   },
   "file_extension": ".py",
   "mimetype": "text/x-python",
   "name": "python",
   "nbconvert_exporter": "python",
   "pygments_lexer": "ipython3",
   "version": "3.7.4"
  }
 },
 "nbformat": 4,
 "nbformat_minor": 4
}
