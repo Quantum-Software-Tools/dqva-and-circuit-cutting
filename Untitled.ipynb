{
 "cells": [
  {
   "cell_type": "code",
   "execution_count": 3,
   "metadata": {
    "scrolled": false
   },
   "outputs": [
    {
     "name": "stdout",
     "output_type": "stream",
     "text": [
      "Generating 6x8, 1+8+1 supremacy circuit\n",
      "splitting into 2 fragments, 116 edges 82 vertices graph will run 14634 times\n",
      "splitting into 3 fragments, 116 edges 82 vertices graph will run 14634 times\n",
      "splitting into 4 fragments, 116 edges 82 vertices graph will run 14634 times\n",
      "splitting into 5 fragments, 116 edges 82 vertices graph will run 14634 times\n",
      "[((QuantumRegister(48, 'qreg'), 35), 5), ((QuantumRegister(48, 'qreg'), 8), 4), ((QuantumRegister(48, 'qreg'), 19), 3), ((QuantumRegister(48, 'qreg'), 3), 2), ((QuantumRegister(48, 'qreg'), 28), 2), ((QuantumRegister(48, 'qreg'), 16), 2), ((QuantumRegister(48, 'qreg'), 1), 1), ((QuantumRegister(48, 'qreg'), 11), 1), ((QuantumRegister(48, 'qreg'), 17), 1), ((QuantumRegister(48, 'qreg'), 42), 1)]\n",
      "hardness = 40, K = 10, d = 30, split into 3 clusters\n"
     ]
    }
   ],
   "source": [
    "import supremacy_generator as suprem_gen\n",
    "from qcg.generators import gen_supremacy\n",
    "import cut_searcher as cut_searcher\n",
    "\n",
    "# circ = suprem_gen.circuit_generator([5,5,8], random_order = True)\n",
    "circ = gen_supremacy(6,8,8,barriers=False)\n",
    "cuts, hardness, K, d, num_clusters = cut_searcher.find_best_cuts(circ=circ,hw_max_qubit=30,num_clusters=[2,3,4,5])\n",
    "print(cuts)\n",
    "print('hardness = %d, K = %d, d = %d, split into %d clusters' % (hardness, K, d, num_clusters))"
   ]
  },
  {
   "cell_type": "code",
   "execution_count": null,
   "metadata": {},
   "outputs": [],
   "source": []
  }
 ],
 "metadata": {
  "kernelspec": {
   "display_name": "venv",
   "language": "python",
   "name": "venv"
  },
  "language_info": {
   "codemirror_mode": {
    "name": "ipython",
    "version": 3
   },
   "file_extension": ".py",
   "mimetype": "text/x-python",
   "name": "python",
   "nbconvert_exporter": "python",
   "pygments_lexer": "ipython3",
   "version": "3.7.3"
  }
 },
 "nbformat": 4,
 "nbformat_minor": 2
}
