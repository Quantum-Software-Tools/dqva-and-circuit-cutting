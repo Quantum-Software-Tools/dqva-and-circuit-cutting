{
 "cells": [
  {
   "cell_type": "code",
   "execution_count": 1,
   "metadata": {},
   "outputs": [
    {
     "name": "stdout",
     "output_type": "stream",
     "text": [
      "(QuantumRegister(16, 'qreg'), 0) [(0, (QuantumRegister(4, 'qreg'), 2))]\n",
      "(QuantumRegister(16, 'qreg'), 1) [(0, (QuantumRegister(4, 'qreg'), 1))]\n",
      "(QuantumRegister(16, 'qreg'), 2) [(0, (QuantumRegister(4, 'qreg'), 0)), (1, (QuantumRegister(2, 'cutQ'), 0))]\n",
      "(QuantumRegister(16, 'qreg'), 3) [(1, (QuantumRegister(4, 'qreg'), 1))]\n",
      "(QuantumRegister(16, 'qreg'), 4) [(2, (QuantumRegister(8, 'qreg'), 2)), (0, (QuantumRegister(3, 'cutQ'), 1))]\n",
      "(QuantumRegister(16, 'qreg'), 5) [(0, (QuantumRegister(4, 'qreg'), 3))]\n",
      "(QuantumRegister(16, 'qreg'), 6) [(1, (QuantumRegister(4, 'qreg'), 3)), (0, (QuantumRegister(3, 'cutQ'), 2))]\n",
      "(QuantumRegister(16, 'qreg'), 7) [(1, (QuantumRegister(4, 'qreg'), 2))]\n",
      "(QuantumRegister(16, 'qreg'), 8) [(2, (QuantumRegister(8, 'qreg'), 3))]\n",
      "(QuantumRegister(16, 'qreg'), 9) [(2, (QuantumRegister(8, 'qreg'), 1)), (0, (QuantumRegister(3, 'cutQ'), 0))]\n",
      "(QuantumRegister(16, 'qreg'), 10) [(1, (QuantumRegister(4, 'qreg'), 0)), (2, (QuantumRegister(1, 'cutQ'), 0))]\n",
      "(QuantumRegister(16, 'qreg'), 11) [(2, (QuantumRegister(8, 'qreg'), 7)), (1, (QuantumRegister(2, 'cutQ'), 1))]\n",
      "(QuantumRegister(16, 'qreg'), 12) [(2, (QuantumRegister(8, 'qreg'), 6))]\n",
      "(QuantumRegister(16, 'qreg'), 13) [(2, (QuantumRegister(8, 'qreg'), 0))]\n",
      "(QuantumRegister(16, 'qreg'), 14) [(2, (QuantumRegister(8, 'qreg'), 4))]\n",
      "(QuantumRegister(16, 'qreg'), 15) [(2, (QuantumRegister(8, 'qreg'), 5))]\n",
      "****************************************************************************************************\n",
      "sampling for s = (3, 4, 5, 6, 2, 3)\n",
      "cluster init s = {0: (4, 5, 6), 1: (3, 3), 2: (2,)}\n",
      "clusters meas s = {(0, (QuantumRegister(4, 'qreg'), 0)): 3, (2, (QuantumRegister(8, 'qreg'), 2)): 4, (1, (QuantumRegister(4, 'qreg'), 3)): 5, (2, (QuantumRegister(8, 'qreg'), 1)): 6, (1, (QuantumRegister(4, 'qreg'), 0)): 2, (2, (QuantumRegister(8, 'qreg'), 7)): 3}\n",
      "****************************************************************************************************\n",
      "(0, (QuantumRegister(4, 'qreg'), 0)) 3\n",
      "0\n",
      "(2, (QuantumRegister(8, 'qreg'), 2)) 4\n",
      "3\n",
      "(1, (QuantumRegister(4, 'qreg'), 3)) 5\n",
      "3\n",
      "(2, (QuantumRegister(8, 'qreg'), 1)) 6\n",
      "2\n",
      "(1, (QuantumRegister(4, 'qreg'), 0)) 2\n",
      "0\n",
      "(2, (QuantumRegister(8, 'qreg'), 7)) 3\n",
      "8\n",
      "cluster meas basis: [[3, 1, 1, 1, 1, 1, 1], [2, 1, 1, 5, 1, 1], [1, 1, 6, 4, 1, 1, 1, 1, 3]]\n",
      "cluster 0, position 0 basis item = 3\n",
      "position 0 use H\n",
      "cluster 0, position 1 basis item = 1\n",
      "position 1 use Id\n",
      "cluster 0, position 2 basis item = 1\n",
      "position 1 use Id\n",
      "cluster 0, position 3 basis item = 1\n",
      "position 3 use Id\n",
      "cluster 0, position 4 basis item = 1\n",
      "position 1 use Id\n",
      "cluster 0, position 5 basis item = 1\n",
      "position 5 use Id\n",
      "cluster 0, position 6 basis item = 1\n",
      "position 3 use Id\n",
      "cluster 1, position 0 basis item = 2\n",
      "position 0 use Id\n",
      "cluster 1, position 1 basis item = 1\n",
      "position 1 use Id\n",
      "cluster 1, position 2 basis item = 1\n",
      "position 1 use Id\n",
      "cluster 1, position 3 basis item = 5\n",
      "position 3 use H_sDagger\n",
      "cluster 1, position 4 basis item = 1\n",
      "position 1 use Id\n",
      "cluster 1, position 5 basis item = 1\n",
      "position 5 use Id\n",
      "cluster 2, position 0 basis item = 1\n",
      "position 0 use Id\n",
      "cluster 2, position 1 basis item = 1\n",
      "position 1 use Id\n",
      "cluster 2, position 2 basis item = 6\n",
      "position 1 use H_sDagger\n",
      "cluster 2, position 3 basis item = 4\n",
      "position 3 use H\n",
      "cluster 2, position 4 basis item = 1\n",
      "position 1 use Id\n",
      "cluster 2, position 5 basis item = 1\n",
      "position 5 use Id\n",
      "cluster 2, position 6 basis item = 1\n",
      "position 3 use Id\n",
      "cluster 2, position 7 basis item = 1\n",
      "position 7 use Id\n",
      "cluster 2, position 8 basis item = 3\n",
      "position 1 use H\n"
     ]
    },
    {
     "data": {
      "text/plain": [
       "[['H', 'Id', 'Id', 'Id', 'Id', 'Id', 'Id'],\n",
       " ['Id', 'Id', 'Id', 'H_sDagger', 'Id', 'Id'],\n",
       " ['Id', 'H', 'Id', 'H', 'Id', 'Id', 'Id', 'Id', 'Id']]"
      ]
     },
     "execution_count": 1,
     "metadata": {},
     "output_type": "execute_result"
    }
   ],
   "source": [
    "import pickle\n",
    "import itertools\n",
    "import uniter\n",
    "complete_path_map = pickle.load( open( './data/cpm.p', 'rb' ) )\n",
    "full_circ = pickle.load( open( './data/full_circ.p', 'rb' ) )\n",
    "cluster_0_meas, cluster_0_cut_in_qubits = pickle.load( open('./data/cluster_0_measurement_sv.p', 'rb'))\n",
    "cluster_1_meas, cluster_1_cut_in_qubits = pickle.load( open('./data/cluster_1_measurement_sv.p', 'rb'))\n",
    "cluster_2_meas, cluster_2_cut_in_qubits = pickle.load( open('./data/cluster_2_measurement_sv.p', 'rb'))\n",
    "cluster_0_circ = pickle.load( open('./data/cluster_0_circ.p', 'rb'))\n",
    "cluster_1_circ = pickle.load( open('./data/cluster_1_circ.p', 'rb'))\n",
    "cluster_2_circ = pickle.load( open('./data/cluster_2_circ.p', 'rb'))\n",
    "cluster_measurements = [cluster_0_meas, cluster_1_meas, cluster_2_meas]\n",
    "all_cluster_cut_in_qubits = [cluster_0_cut_in_qubits, cluster_1_cut_in_qubits, cluster_2_cut_in_qubits]\n",
    "cluster_circs = [cluster_0_circ, cluster_1_circ, cluster_2_circ]\n",
    "\n",
    "[print(x, complete_path_map[x]) for x in complete_path_map]\n",
    "print('*'*100)\n",
    "\n",
    "all_s = uniter.find_all_s(complete_path_map)\n",
    "s = (3,4,5,6,2,3)\n",
    "cluster_meas_wt_init, cluster_meas_s_map = uniter.find_cluster_init_s(all_cluster_cut_in_qubits,s,complete_path_map,cluster_measurements)\n",
    "print('*'*100)\n",
    "\n",
    "# [print(len(x)) for x in cluster_meas_wt_init]\n",
    "\n",
    "uniter.modify_output_meas(cluster_meas_wt_init, cluster_meas_s_map, cluster_circs)"
   ]
  },
  {
   "cell_type": "code",
   "execution_count": 4,
   "metadata": {},
   "outputs": [
    {
     "data": {
      "text/plain": [
       "1"
      ]
     },
     "execution_count": 4,
     "metadata": {},
     "output_type": "execute_result"
    }
   ],
   "source": [
    "def reverseBits(n) : \n",
    "    rev = 0\n",
    "    while (n > 0):\n",
    "        rev = rev << 1\n",
    "        if (n & 1 == 1):\n",
    "            rev = rev ^ 1\n",
    "        n = n >> 1\n",
    "    return rev\n",
    "reverseBits(1)"
   ]
  },
  {
   "cell_type": "code",
   "execution_count": null,
   "metadata": {},
   "outputs": [],
   "source": []
  }
 ],
 "metadata": {
  "kernelspec": {
   "display_name": "venv",
   "language": "python",
   "name": "venv"
  },
  "language_info": {
   "codemirror_mode": {
    "name": "ipython",
    "version": 3
   },
   "file_extension": ".py",
   "mimetype": "text/x-python",
   "name": "python",
   "nbconvert_exporter": "python",
   "pygments_lexer": "ipython3",
   "version": "3.7.3"
  }
 },
 "nbformat": 4,
 "nbformat_minor": 4
}
