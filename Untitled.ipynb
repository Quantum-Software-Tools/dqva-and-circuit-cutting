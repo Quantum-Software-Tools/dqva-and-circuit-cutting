{
 "cells": [
  {
   "cell_type": "code",
   "execution_count": 1,
   "metadata": {},
   "outputs": [
    {
     "name": "stdout",
     "output_type": "stream",
     "text": [
      "Generating 2x4, 1+8+1 supremacy circuit\n",
      "10.477307397486427\n",
      "6.9467175826199234\n",
      "6.045163159362278\n",
      "5.841479052734024\n",
      "5.8423999344169255\n",
      "5.848835910285866\n",
      "5.842147315783253\n",
      "5.838292972715861\n",
      "5.8379096964551085\n",
      "5.842296120486951\n",
      "5.846042350886218\n",
      "[10240]\n"
     ]
    }
   ],
   "source": [
    "from utils.helper_fun import get_circ_saturated_shots, factor_int\n",
    "from qcg.generators import gen_supremacy\n",
    "\n",
    "for dimension in range(8,9):\n",
    "    i,j = factor_int(dimension)\n",
    "    full_circ = gen_supremacy(i,j,8)\n",
    "    saturated_shots = get_circ_saturated_shots(circs=[full_circ],device_name='ibmq_boeblingen')\n",
    "    print(saturated_shots)"
   ]
  },
  {
   "cell_type": "code",
   "execution_count": null,
   "metadata": {},
   "outputs": [],
   "source": []
  }
 ],
 "metadata": {
  "kernelspec": {
   "display_name": "Python 3",
   "language": "python",
   "name": "python3"
  },
  "language_info": {
   "codemirror_mode": {
    "name": "ipython",
    "version": 3
   },
   "file_extension": ".py",
   "mimetype": "text/x-python",
   "name": "python",
   "nbconvert_exporter": "python",
   "pygments_lexer": "ipython3",
   "version": "3.7.5"
  }
 },
 "nbformat": 4,
 "nbformat_minor": 4
}
