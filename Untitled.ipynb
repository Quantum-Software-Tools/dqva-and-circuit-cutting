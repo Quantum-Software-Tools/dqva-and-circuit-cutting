{
 "cells": [
  {
   "cell_type": "code",
   "execution_count": 15,
   "metadata": {},
   "outputs": [
    {
     "name": "stdout",
     "output_type": "stream",
     "text": [
      "job 0: 1 circuits, 8192 shots, 125 reps\n",
      "dict_keys([0])\n"
     ]
    }
   ],
   "source": [
    "import numpy as np\n",
    "def schedule_job(circs,shots,max_experiments,max_shots):\n",
    "    if len(circs)==0 or shots==0:\n",
    "        return []\n",
    "    elif len(circs)<=max_experiments and shots<=max_shots:\n",
    "        current_schedule = {'circs':circs,'shots':shots,'reps':1}\n",
    "        return [current_schedule]\n",
    "    elif len(circs)>max_experiments and shots<=max_shots:\n",
    "        curr_circs = {}\n",
    "        next_circs = {}\n",
    "        for init_meas in circs:\n",
    "            if len(curr_circs)<max_experiments:\n",
    "                curr_circs[init_meas] = circs[init_meas]\n",
    "            else:\n",
    "                next_circs[init_meas] = circs[init_meas]\n",
    "        current_schedule = {'circs':curr_circs,'shots':shots,'reps':1}\n",
    "        next_schedule = schedule_job(circs=next_circs,shots=shots,max_experiments=max_experiments,max_shots=max_shots)\n",
    "        return [current_schedule]+next_schedule\n",
    "    elif len(circs)<=max_experiments and shots>max_shots:\n",
    "        shots_repetitions_required = int(shots/max_shots)\n",
    "        repetitions_allowed = int(max_experiments/len(circs))\n",
    "        reps = min(shots_repetitions_required,repetitions_allowed)\n",
    "        remaining_shots = shots - max_shots*reps\n",
    "        current_schedule = {'circs':circs,'shots':max_shots,'reps':reps}\n",
    "        next_schedule = schedule_job(circs=circs,shots=remaining_shots,max_experiments=max_experiments,max_shots=max_shots)\n",
    "        return [current_schedule]+next_schedule\n",
    "    elif len(circs)>max_experiments and shots>max_shots:\n",
    "        left_circs = {}\n",
    "        right_circs = {}\n",
    "        for init_meas in circs:\n",
    "            if len(left_circs) < max_experiments:\n",
    "                left_circs[init_meas] = circs[init_meas]\n",
    "            else:\n",
    "                right_circs[init_meas] = circs[init_meas]\n",
    "        left_schedule = schedule_job(circs=left_circs,shots=shots,max_experiments=max_experiments,max_shots=max_shots)\n",
    "        right_schedule = schedule_job(circs=right_circs,shots=shots,max_experiments=max_experiments,max_shots=max_shots)\n",
    "        return left_schedule + right_schedule\n",
    "    else:\n",
    "        raise Exception('This condition should not happen')\n",
    "\n",
    "circs = {}\n",
    "for init_meas in np.arange(1):\n",
    "    circs[init_meas] = None\n",
    "shots = 512*2000\n",
    "max_experiments = int(912/3*2)\n",
    "max_shots = 8192\n",
    "schedule = schedule_job(circs=circs,shots=shots,max_experiments=max_experiments,max_shots=max_shots)\n",
    "for i, s in enumerate(schedule):\n",
    "    print('job %d: %d circuits, %d shots, %d reps'%(i,len(s['circs']),s['shots'],s['reps']))\n",
    "    print(s['circs'].keys())"
   ]
  },
  {
   "cell_type": "code",
   "execution_count": null,
   "metadata": {},
   "outputs": [],
   "source": []
  }
 ],
 "metadata": {
  "kernelspec": {
   "display_name": "Python 3",
   "language": "python",
   "name": "python3"
  },
  "language_info": {
   "codemirror_mode": {
    "name": "ipython",
    "version": 3
   },
   "file_extension": ".py",
   "mimetype": "text/x-python",
   "name": "python",
   "nbconvert_exporter": "python",
   "pygments_lexer": "ipython3",
   "version": "3.7.5"
  }
 },
 "nbformat": 4,
 "nbformat_minor": 4
}
