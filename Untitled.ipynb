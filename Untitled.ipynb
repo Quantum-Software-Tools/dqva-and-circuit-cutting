{
 "cells": [
  {
   "cell_type": "code",
   "execution_count": 1,
   "metadata": {},
   "outputs": [
    {
     "name": "stdout",
     "output_type": "stream",
     "text": [
      "(QuantumRegister(16, 'qreg'), 0) [(0, (QuantumRegister(4, 'qreg'), 2))]\n",
      "(QuantumRegister(16, 'qreg'), 1) [(0, (QuantumRegister(4, 'qreg'), 3))]\n",
      "(QuantumRegister(16, 'qreg'), 2) [(0, (QuantumRegister(4, 'qreg'), 0)), (1, (QuantumRegister(2, 'cutQ'), 0))]\n",
      "(QuantumRegister(16, 'qreg'), 3) [(1, (QuantumRegister(4, 'qreg'), 0))]\n",
      "(QuantumRegister(16, 'qreg'), 4) [(2, (QuantumRegister(8, 'qreg'), 3)), (0, (QuantumRegister(3, 'cutQ'), 1))]\n",
      "(QuantumRegister(16, 'qreg'), 5) [(0, (QuantumRegister(4, 'qreg'), 1))]\n",
      "(QuantumRegister(16, 'qreg'), 6) [(1, (QuantumRegister(4, 'qreg'), 1)), (0, (QuantumRegister(3, 'cutQ'), 2))]\n",
      "(QuantumRegister(16, 'qreg'), 7) [(1, (QuantumRegister(4, 'qreg'), 2))]\n",
      "(QuantumRegister(16, 'qreg'), 8) [(2, (QuantumRegister(8, 'qreg'), 5))]\n",
      "(QuantumRegister(16, 'qreg'), 9) [(2, (QuantumRegister(8, 'qreg'), 1)), (0, (QuantumRegister(3, 'cutQ'), 0))]\n",
      "(QuantumRegister(16, 'qreg'), 10) [(1, (QuantumRegister(4, 'qreg'), 3)), (2, (QuantumRegister(1, 'cutQ'), 0))]\n",
      "(QuantumRegister(16, 'qreg'), 11) [(2, (QuantumRegister(8, 'qreg'), 2)), (1, (QuantumRegister(2, 'cutQ'), 1))]\n",
      "(QuantumRegister(16, 'qreg'), 12) [(2, (QuantumRegister(8, 'qreg'), 0))]\n",
      "(QuantumRegister(16, 'qreg'), 13) [(2, (QuantumRegister(8, 'qreg'), 4))]\n",
      "(QuantumRegister(16, 'qreg'), 14) [(2, (QuantumRegister(8, 'qreg'), 7))]\n",
      "(QuantumRegister(16, 'qreg'), 15) [(2, (QuantumRegister(8, 'qreg'), 6))]\n"
     ]
    }
   ],
   "source": [
    "import pickle\n",
    "import itertools\n",
    "import uniter\n",
    "from qiskit.quantum_info.states.measures import state_fidelity\n",
    "import numpy as np\n",
    "import uniter\n",
    "import time\n",
    "\n",
    "complete_path_map = pickle.load( open( './data/cpm.p', 'rb' ) )\n",
    "[print(x, complete_path_map[x]) for x in complete_path_map]\n",
    "\n",
    "full_circ = pickle.load( open( './data/full_circ.p', 'rb' ) )\n",
    "\n",
    "cluster_0_circ = pickle.load( open( './data/cluster_0_circ.p', 'rb' ) )\n",
    "cluster_1_circ = pickle.load( open( './data/cluster_1_circ.p', 'rb' ) )\n",
    "cluster_2_circ = pickle.load( open( './data/cluster_2_circ.p', 'rb' ) )\n",
    "cluster_circs = [cluster_0_circ, cluster_1_circ, cluster_2_circ]\n",
    "\n",
    "cluster_0_measurement_init_meas = pickle.load( open( './data/cluster_0_measurement_init_meas.p', 'rb' ) )\n",
    "cluster_0_measurement_init = pickle.load( open( './data/cluster_0_measurement_init.p', 'rb' ) )\n",
    "cluster_1_measurement_init = pickle.load( open( './data/cluster_1_measurement_init.p', 'rb' ) )\n",
    "cluster_2_measurement_init = pickle.load( open( './data/cluster_2_measurement_init.p', 'rb' ) )\n",
    "cluster_meas_init = [cluster_0_measurement_init, cluster_1_measurement_init, cluster_2_measurement_init]"
   ]
  },
  {
   "cell_type": "code",
   "execution_count": 3,
   "metadata": {},
   "outputs": [
    {
     "name": "stdout",
     "output_type": "stream",
     "text": [
      "((0, (QuantumRegister(4, 'qreg'), 0)), (1, (QuantumRegister(2, 'cutQ'), 0)))\n",
      "((2, (QuantumRegister(8, 'qreg'), 3)), (0, (QuantumRegister(3, 'cutQ'), 1)))\n",
      "((1, (QuantumRegister(4, 'qreg'), 1)), (0, (QuantumRegister(3, 'cutQ'), 2)))\n",
      "((2, (QuantumRegister(8, 'qreg'), 1)), (0, (QuantumRegister(3, 'cutQ'), 0)))\n",
      "((1, (QuantumRegister(4, 'qreg'), 3)), (2, (QuantumRegister(1, 'cutQ'), 0)))\n",
      "((2, (QuantumRegister(8, 'qreg'), 2)), (1, (QuantumRegister(2, 'cutQ'), 1)))\n",
      "total 262144 variants\n"
     ]
    }
   ],
   "source": [
    "O_rho_pairs = uniter.find_cuts_pairs(complete_path_map)\n",
    "[print(x) for x in O_rho_pairs]\n",
    "all_s = list(itertools.product(range(1,9),repeat=len(O_rho_pairs)))\n",
    "total_variants = len(all_s)\n",
    "print('total %d variants'%total_variants)\n",
    "\n",
    "s = (3,4,5,1,2,8)\n",
    "sigma_cluster_meas = uniter.sampler(cluster_circs, complete_path_map, cluster_meas_init, s)"
   ]
  },
  {
   "cell_type": "code",
   "execution_count": null,
   "metadata": {},
   "outputs": [],
   "source": []
  }
 ],
 "metadata": {
  "kernelspec": {
   "display_name": "venv",
   "language": "python",
   "name": "venv"
  },
  "language_info": {
   "codemirror_mode": {
    "name": "ipython",
    "version": 3
   },
   "file_extension": ".py",
   "mimetype": "text/x-python",
   "name": "python",
   "nbconvert_exporter": "python",
   "pygments_lexer": "ipython3",
   "version": "3.7.3"
  }
 },
 "nbformat": 4,
 "nbformat_minor": 4
}
