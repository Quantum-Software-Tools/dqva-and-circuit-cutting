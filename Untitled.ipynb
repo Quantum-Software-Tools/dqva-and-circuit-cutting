{
 "cells": [
  {
   "cell_type": "code",
   "execution_count": 13,
   "metadata": {},
   "outputs": [
    {
     "name": "stdout",
     "output_type": "stream",
     "text": [
      "           ┌───┐┌───┐┌───┐                   \n",
      "qreg_0: |0>┤ H ├┤ T ├┤ H ├───────────────────\n",
      "           ├───┤├───┤├───┤                   \n",
      "qreg_1: |0>┤ H ├┤ T ├┤ H ├───────────────────\n",
      "           ├───┤├───┤└───┘┌────────────┐┌───┐\n",
      "qreg_2: |0>┤ H ├┤ T ├──■──┤ Ry(1.5708) ├┤ H ├\n",
      "           ├───┤├───┤  │  ├────────────┤├───┤\n",
      "qreg_3: |0>┤ H ├┤ T ├──■──┤ Rx(1.5708) ├┤ H ├\n",
      "           └───┘└───┘     └────────────┘└───┘\n",
      "[ 0.51516504+0.21338835j  0.08838835-0.21338835j  0.08838835-0.21338835j\n",
      " -0.08838835-0.03661165j -0.21338835+0.08838835j  0.03661165+0.08838835j\n",
      "  0.03661165+0.08838835j  0.03661165-0.01516504j  0.21338835+0.08838835j\n",
      "  0.03661165-0.08838835j  0.03661165-0.08838835j -0.03661165-0.01516504j\n",
      "  0.51516504-0.21338835j -0.08838835-0.21338835j -0.08838835-0.21338835j\n",
      " -0.08838835+0.03661165j]\n",
      "----------------------------------------------------------------------------------------------------\n",
      "           ┌───┐┌───┐┌───┐    ┌───┐          \n",
      "qreg_0: |0>┤ H ├┤ T ├┤ H ├────┤ X ├──────────\n",
      "           ├───┤├───┤├───┤    └───┘          \n",
      "qreg_1: |0>┤ H ├┤ T ├┤ H ├───────────────────\n",
      "           ├───┤├───┤└───┘┌────────────┐┌───┐\n",
      "qreg_2: |0>┤ H ├┤ T ├──■──┤ Rx(1.5708) ├┤ H ├\n",
      "           ├───┤├───┤  │  ├────────────┤├───┤\n",
      "qreg_3: |0>┤ H ├┤ T ├──■──┤ Rx(1.5708) ├┤ H ├\n",
      "           └───┘└───┘     └────────────┘└───┘\n",
      "[-0.125    -0.1767767j  0.4267767-0.3017767j -0.0732233+0.0517767j\n",
      " -0.125    -0.1767767j  0.125    +0.j         0.       +0.3017767j\n",
      "  0.       -0.0517767j  0.125    +0.j         0.125    +0.j\n",
      "  0.       +0.3017767j  0.       -0.0517767j  0.125    +0.j\n",
      "  0.125    -0.1767767j  0.4267767+0.3017767j -0.0732233-0.0517767j\n",
      "  0.125    -0.1767767j]\n",
      "----------------------------------------------------------------------------------------------------\n",
      "0.2500000000000002\n"
     ]
    }
   ],
   "source": [
    "from qiskit import QuantumCircuit\n",
    "from qiskit.circuit.quantumregister import QuantumRegister\n",
    "from qiskit.quantum_info.states.measures import state_fidelity\n",
    "import simulator\n",
    "import numpy as np\n",
    "from qcg.generators import gen_supremacy\n",
    "\n",
    "circ_0 = gen_supremacy(2,2,4,'71234506')\n",
    "circ_0_meas = simulator.simulate_circ(circ_0)\n",
    "print(circ_0)\n",
    "print(circ_0_meas)\n",
    "\n",
    "print('-'*100)\n",
    "\n",
    "circ_1 = gen_supremacy(2,2,4,'71234506')\n",
    "circ_1.x(circ_1.qubits[0])\n",
    "circ_1_meas = simulator.simulate_circ(circ_1)\n",
    "print(circ_1)\n",
    "print(circ_1_meas)\n",
    "\n",
    "print('-'*100)\n",
    "\n",
    "H = [[1,1],[1,-1]]/np.sqrt(2)\n",
    "Id = [[1,0],[0,1]]\n",
    "X = [[0,1],[1,0]]\n",
    "\n",
    "prod = np.kron(np.kron(np.kron(Id, Id), Id), X)\n",
    "\n",
    "modified = np.matmul(prod, circ_0_meas)\n",
    "print(state_fidelity(modified, circ_1_meas))"
   ]
  },
  {
   "cell_type": "code",
   "execution_count": 18,
   "metadata": {},
   "outputs": [
    {
     "name": "stdout",
     "output_type": "stream",
     "text": [
      "(1, 1, 1, 2)\n"
     ]
    }
   ],
   "source": [
    "a = (1,1,1)\n",
    "b = (2,)\n",
    "c = a+b\n",
    "print(c)"
   ]
  },
  {
   "cell_type": "code",
   "execution_count": null,
   "metadata": {},
   "outputs": [],
   "source": []
  }
 ],
 "metadata": {
  "kernelspec": {
   "display_name": "venv",
   "language": "python",
   "name": "venv"
  },
  "language_info": {
   "codemirror_mode": {
    "name": "ipython",
    "version": 3
   },
   "file_extension": ".py",
   "mimetype": "text/x-python",
   "name": "python",
   "nbconvert_exporter": "python",
   "pygments_lexer": "ipython3",
   "version": "3.7.3"
  }
 },
 "nbformat": 4,
 "nbformat_minor": 4
}
