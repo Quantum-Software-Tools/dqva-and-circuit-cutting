{
 "cells": [
  {
   "cell_type": "code",
   "execution_count": 25,
   "metadata": {},
   "outputs": [],
   "source": [
    "import pickle\n",
    "import itertools\n",
    "import uniter\n",
    "from qiskit.quantum_info.states.measures import state_fidelity\n",
    "complete_path_map = pickle.load( open( './data/cpm.p', 'rb' ) )\n",
    "full_circ = pickle.load( open( './data/full_circ.p', 'rb' ) )\n",
    "cluster_0_meas = pickle.load( open('./data/cluster_0_measurement_sv.p', 'rb'))\n",
    "cluster_1_meas = pickle.load( open('./data/cluster_1_measurement_sv.p', 'rb'))\n",
    "cluster_2_meas = pickle.load( open('./data/cluster_2_measurement_sv.p', 'rb'))\n",
    "cluster_0_circ = pickle.load( open('./data/cluster_0_circ.p', 'rb'))\n",
    "cluster_1_circ = pickle.load( open('./data/cluster_1_circ.p', 'rb'))\n",
    "cluster_2_circ = pickle.load( open('./data/cluster_2_circ.p', 'rb'))\n",
    "cluster_measurements = [cluster_0_meas, cluster_1_meas, cluster_2_meas]\n",
    "\n"
   ]
  },
  {
   "cell_type": "code",
   "execution_count": 11,
   "metadata": {},
   "outputs": [],
   "source": [
    "direct_meas_0 = pickle.load( open('./data/cluster_0_measurement.p', 'rb'))\n",
    "direct_meas_1 = pickle.load( open('./data/cluster_1_measurement.p', 'rb'))\n",
    "direct_meas_2 = pickle.load( open('./data/cluster_2_measurement.p', 'rb'))\n",
    "\n",
    "initializations = (5,5,6)\n",
    "meas_1 = direct_meas_0[(5,)+initializations]"
   ]
  },
  {
   "cell_type": "code",
   "execution_count": null,
   "metadata": {},
   "outputs": [],
   "source": []
  }
 ],
 "metadata": {
  "kernelspec": {
   "display_name": "venv",
   "language": "python",
   "name": "venv"
  },
  "language_info": {
   "codemirror_mode": {
    "name": "ipython",
    "version": 3
   },
   "file_extension": ".py",
   "mimetype": "text/x-python",
   "name": "python",
   "nbconvert_exporter": "python",
   "pygments_lexer": "ipython3",
   "version": "3.7.3"
  }
 },
 "nbformat": 4,
 "nbformat_minor": 4
}
