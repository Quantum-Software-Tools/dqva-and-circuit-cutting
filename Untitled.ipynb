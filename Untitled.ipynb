{
 "cells": [
  {
   "cell_type": "code",
   "execution_count": 1,
   "metadata": {
    "scrolled": false
   },
   "outputs": [
    {
     "name": "stdout",
     "output_type": "stream",
     "text": [
      "karger cuts: [('q[5]0,q[9]0', 'q[8]0,q[9]1'), ('q[0]1,q[4]1', 'q[4]2,q[8]1'), ('q[10]1,q[11]1', 'q[7]0,q[11]0'), ('q[2]2,q[6]2', 'q[6]3,q[10]2')]\n",
      "hardness =  2048\n",
      "[((QuantumRegister(16, 'q'), 6), 4), ((QuantumRegister(16, 'q'), 4), 3), ((QuantumRegister(16, 'q'), 9), 1), ((QuantumRegister(16, 'q'), 11), 1)]\n"
     ]
    }
   ],
   "source": [
    "import supremacy_generator as suprem_gen\n",
    "import cut_searcher as cut_searcher\n",
    "\n",
    "circ = suprem_gen.circuit_generator([4,4,8], random_order = True)\n",
    "min_hardness_cut = cut_searcher.find_pareto_solutions(circ=circ, num_clusters=2)\n",
    "print(min_hardness_cut)"
   ]
  },
  {
   "cell_type": "code",
   "execution_count": null,
   "metadata": {},
   "outputs": [],
   "source": []
  }
 ],
 "metadata": {
  "kernelspec": {
   "display_name": "venv",
   "language": "python",
   "name": "venv"
  },
  "language_info": {
   "codemirror_mode": {
    "name": "ipython",
    "version": 3
   },
   "file_extension": ".py",
   "mimetype": "text/x-python",
   "name": "python",
   "nbconvert_exporter": "python",
   "pygments_lexer": "ipython3",
   "version": "3.7.3"
  }
 },
 "nbformat": 4,
 "nbformat_minor": 2
}
