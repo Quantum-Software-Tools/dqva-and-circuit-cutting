{
 "cells": [
  {
   "cell_type": "code",
   "execution_count": 21,
   "id": "wound-costs",
   "metadata": {},
   "outputs": [],
   "source": [
    "import sys, glob, itertools, time\n",
    "import numpy as np\n",
    "import qiskit\n",
    "\n",
    "import networkx as nx\n",
    "from networkx.algorithms.community.kernighan_lin import kernighan_lin_bisection\n",
    "\n",
    "import utils.graph_funcs as graph_funcs\n",
    "import utils.helper_funcs as helper_funcs\n",
    "import utils.cutting_funcs as cutting_funcs\n",
    "\n",
    "import qsplit_circuit_cutter as qcc\n",
    "import qsplit_mlrecon_methods as qmm\n",
    "import qsplit_dqva_methods as qdm\n",
    "\n",
    "from ansatz import dqv_cut_ansatz\n",
    "\n",
    "from scipy.optimize import minimize"
   ]
  },
  {
   "cell_type": "code",
   "execution_count": 2,
   "id": "central-substitute",
   "metadata": {},
   "outputs": [
    {
     "data": {
      "image/png": "[encoded data removed]",
      "text/plain": [
       "<Figure size 432x288 with 1 Axes>"
      ]
     },
     "metadata": {},
     "output_type": "display_data"
    }
   ],
   "source": [
    "test_graphs = glob.glob(\"benchmark_graphs/N8_p30_graphs/*\")\n",
    "#test_graph = np.random.choice(test_graphs)\n",
    "G = graph_funcs.graph_from_file(test_graphs[0])\n",
    "qubit_num = G.number_of_nodes()\n",
    "nx.draw_spring(G, with_labels=True, node_color='gold')"
   ]
  },
  {
   "cell_type": "code",
   "execution_count": 3,
   "id": "digital-screw",
   "metadata": {},
   "outputs": [
    {
     "name": "stdout",
     "output_type": "stream",
     "text": [
      "Partition: ({1, 3, 5, 7}, {0, 2, 4, 6})\n",
      "Cut edges: [(5, 4), (0, 5)]\n",
      "Cut nodes: [5, 4, 0, 5] Hot nodes: [0, 4]\n"
     ]
    },
    {
     "data": {
      "image/png": "[encoded data removed]",
      "text/plain": [
       "<Figure size 432x288 with 1 Axes>"
      ]
     },
     "metadata": {},
     "output_type": "display_data"
    }
   ],
   "source": [
    "partition = kernighan_lin_bisection(G)\n",
    "print('Partition:', partition)\n",
    "subgraphs, cut_edges = graph_funcs.get_subgraphs(G, partition)\n",
    "cut_nodes, hot_nodes = cutting_funcs.choose_nodes(G, subgraphs, cut_edges, max_cuts=1)\n",
    "print('Cut edges:', cut_edges)\n",
    "print('Cut nodes:', cut_nodes, 'Hot nodes:', hot_nodes)\n",
    "graph_funcs.view_partition(partition, G)"
   ]
  },
  {
   "cell_type": "code",
   "execution_count": 4,
   "id": "conservative-supply",
   "metadata": {},
   "outputs": [
    {
     "name": "stdout",
     "output_type": "stream",
     "text": [
      "Initial state: 00000000\n",
      "mixer order: [1, 7, 5, 6, 3, 2, 0, 4]\n",
      "\n"
     ]
    }
   ],
   "source": [
    "nq = len(G.nodes())\n",
    "P = 1\n",
    "shots = 500000\n",
    "init_state = '0'*nq\n",
    "init_state = '00000000'\n",
    "print('Initial state:', init_state)\n",
    "\n",
    "num_params = P * (nq + 1)\n",
    "\n",
    "mixer_order = list(np.random.permutation(list(G.nodes)))\n",
    "print('mixer order:', mixer_order)\n",
    "print()"
   ]
  },
  {
   "cell_type": "code",
   "execution_count": 5,
   "id": "characteristic-carter",
   "metadata": {},
   "outputs": [],
   "source": [
    "def get_circuit_and_cuts(num_params, init_state, mixer_order):\n",
    "\n",
    "    params = [qiskit.circuit.Parameter('var_{}'.format(num)) for num in range(num_params)]\n",
    "    print('params:', params)\n",
    "\n",
    "    kwargs = dict(params=params, init_state=init_state, mixer_order=mixer_order,\n",
    "                  decompose_toffoli=1, verbose=1, P=P, barriers=2)\n",
    "    \n",
    "    circuit, cuts = dqv_cut_ansatz.gen_dqva(G, partition, cut_nodes, hot_nodes, **kwargs)\n",
    "    print(cuts)\n",
    "    fragments, wire_path_map = qcc.cut_circuit(circuit, cuts)\n",
    "    \n",
    "    return circuit, cuts, fragments, wire_path_map"
   ]
  },
  {
   "cell_type": "code",
   "execution_count": 6,
   "id": "chronic-commonwealth",
   "metadata": {},
   "outputs": [
    {
     "name": "stdout",
     "output_type": "stream",
     "text": [
      "params: [Parameter(var_0), Parameter(var_1), Parameter(var_2), Parameter(var_3), Parameter(var_4), Parameter(var_5), Parameter(var_6), Parameter(var_7), Parameter(var_8)]\n",
      "WARNING: mixer order changed from [1, 7, 5, 6, 3, 2, 0, 4] to [6, 2, 0, 4, 1, 7, 5, 3] to respect subgraph ordering\n",
      "Parameters:\n",
      "\talpha_0: [Parameter(var_0), Parameter(var_1), Parameter(var_2), Parameter(var_3), Parameter(var_4), Parameter(var_5), Parameter(var_6), Parameter(var_7)]\n",
      "\tgamma_0: var_8\n",
      "APPLYING MIXER UNITARY\n",
      "\tMixer order: [6, 2, 0, 4, 1, 7, 5, 3] Cut nodes: [5, 4, 0, 5] Hot nodes: [0, 4]\n",
      "\tinit_state: 00000000\n",
      "\talpha: [Parameter(var_0), Parameter(var_1), Parameter(var_2), Parameter(var_3), Parameter(var_4), Parameter(var_5), Parameter(var_6), Parameter(var_7)]\n",
      "\tpad_alpha: [Parameter(var_2), Parameter(var_4), Parameter(var_1), Parameter(var_6), Parameter(var_3), None, Parameter(var_0), Parameter(var_5)]\n",
      "\tSwap qubit = 1\n",
      "\tqubit: 6 num_qubits = 10 neighbors: [0, 2]\n",
      "\tqubit: 2 num_qubits = 10 neighbors: [0, 4, 6]\n",
      "\tqubit: 0 num_qubits = 10 neighbors: [2, 5, 6]\n",
      "\tqubit: 4 num_qubits = 10 neighbors: [2, 5]\n",
      "\tcuts: [(Qubit(QuantumRegister(8, 'q'), 5), 12)]\n",
      "\tqubit: 1 num_qubits = 10 neighbors: [7]\n",
      "\tqubit: 7 num_qubits = 10 neighbors: [1, 5]\n",
      "\tqubit: 3 num_qubits = 10 neighbors: [5]\n",
      "i = 0 and cuts = [(Qubit(QuantumRegister(8, 'q'), 5), 12)]\n",
      "Outside loop, cuts = [(Qubit(QuantumRegister(8, 'q'), 5), 12)]\n",
      "fixed cuts: [(Qubit(QuantumRegister(8, 'q'), 5), 13)]\n",
      "[(Qubit(QuantumRegister(8, 'q'), 5), 13)]\n",
      "Cuts: [(Qubit(QuantumRegister(8, 'q'), 5), 13)]\n",
      "Fragments: [<qiskit.circuit.quantumcircuit.QuantumCircuit object at 0x7fb68fa53090>, <qiskit.circuit.quantumcircuit.QuantumCircuit object at 0x7fb68fb4a410>]\n",
      "wire path map: {Qubit(QuantumRegister(8, 'q'), 0): ((0, Qubit(QuantumRegister(6, 'q'), 1)),), Qubit(QuantumRegister(8, 'q'), 1): ((1, Qubit(QuantumRegister(5, 'q'), 4)),), Qubit(QuantumRegister(8, 'q'), 2): ((0, Qubit(QuantumRegister(6, 'q'), 0)),), Qubit(QuantumRegister(8, 'q'), 3): ((1, Qubit(QuantumRegister(5, 'q'), 1)),), Qubit(QuantumRegister(8, 'q'), 4): ((0, Qubit(QuantumRegister(6, 'q'), 3)),), Qubit(QuantumRegister(8, 'q'), 5): ((0, Qubit(QuantumRegister(6, 'q'), 5)), (1, Qubit(QuantumRegister(5, 'q'), 2))), Qubit(QuantumRegister(8, 'q'), 6): ((0, Qubit(QuantumRegister(6, 'q'), 2)),), Qubit(QuantumRegister(8, 'q'), 7): ((1, Qubit(QuantumRegister(5, 'q'), 0)),), AncillaQubit(AncillaRegister(2, 'anc'), 0): ((1, Qubit(QuantumRegister(5, 'q'), 3)),), AncillaQubit(AncillaRegister(2, 'anc'), 1): ((0, Qubit(QuantumRegister(6, 'q'), 4)),)}\n"
     ]
    },
    {
     "data": {
      "text/html": [
       "<pre style=\"word-wrap: normal;white-space: pre;background: #fff0;line-height: 1.1;font-family: &quot;Courier New&quot;,Courier,monospace\">        ░ ┌───┐          ┌───┐     ┌───┐     ┌───┐ ░ ┌───┐     ┌───┐     ┌───┐               ┌───┐ ░                ┌─────────────┐                ░                                               ░                                               ░                                          ░                                               ░  ░ ┌─────────────┐ ░ \n",
       "  q_0: ─░─┤ X ├──■───────┤ X ├─────┤ X ├──■──┤ X ├─░─┤ X ├──■──┤ X ├─────┤ X ├────────────■──┤ X ├─░────────────────┤ RX(2*var_2) ├────────────────░───────────────────────────────────────────────░───────────────────────────────────────────────░──────────────────────────────────────────░───────────────────────────────────────────────░──░─┤ RZ(2*var_8) ├─░─\n",
       "        ░ └───┘  │       └───┘     └───┘  │  └───┘ ░ └───┘  │  └───┘     └───┘            │  └───┘ ░                └──────┬──────┘                ░                                               ░                ┌─────────────┐                ░ ┌───┐          ┌───┐     ┌───┐     ┌───┐ ░                                               ░  ░ ├─────────────┤ ░ \n",
       "  q_1: ─░────────┼────────────────────────┼────────░────────┼─────────────────────────────┼────────░───────────────────────┼───────────────────────░───────────────────────────────────────────────░────────────────┤ RX(2*var_4) ├────────────────░─┤ X ├──■───────┤ X ├─────┤ X ├──■──┤ X ├─░───────────────────────────────────────────────░──░─┤ RZ(2*var_8) ├─░─\n",
       "        ░ ┌───┐  │       ┌───┐     ┌───┐  │  ┌───┐ ░        │       ┌─────────────┐       │        ░ ┌───┐     ┌───┐       │       ┌───┐     ┌───┐ ░ ┌───┐     ┌───┐     ┌───┐               ┌───┐ ░                └──────┬──────┘                ░ └───┘  │       └───┘     └───┘  │  └───┘ ░                                               ░  ░ ├─────────────┤ ░ \n",
       "  q_2: ─░─┤ X ├──■───────┤ X ├─────┤ X ├──■──┤ X ├─░────────┼───────┤ RX(2*var_1) ├───────┼────────░─┤ X ├──■──┤ X ├───────┼───────┤ X ├──■──┤ X ├─░─┤ X ├──■──┤ X ├─────┤ X ├────────────■──┤ X ├─░───────────────────────┼───────────────────────░────────┼────────────────────────┼────────░───────────────────────────────────────────────░──░─┤ RZ(2*var_8) ├─░─\n",
       "        ░ └───┘  │       └───┘     └───┘  │  └───┘ ░        │       └──────┬──────┘       │        ░ └───┘  │  └───┘       │       └───┘  │  └───┘ ░ └───┘  │  └───┘     └───┘            │  └───┘ ░                       │                       ░        │                        │        ░                ┌─────────────┐                ░  ░ ├─────────────┤ ░ \n",
       "  q_3: ─░────────┼────────────────────────┼────────░────────┼──────────────┼──────────────┼────────░────────┼──────────────┼──────────────┼────────░────────┼─────────────────────────────┼────────░───────────────────────┼───────────────────────░────────┼────────────────────────┼────────░────────────────┤ RX(2*var_6) ├────────────────░──░─┤ RZ(2*var_8) ├─░─\n",
       "        ░        │                        │        ░ ┌───┐  │  ┌───┐       │       ┌───┐  │  ┌───┐ ░        │              │              │        ░        │       ┌─────────────┐       │        ░                       │                       ░        │                        │        ░                └──────┬──────┘                ░  ░ ├─────────────┤ ░ \n",
       "  q_4: ─░────────┼────────────────────────┼────────░─┤ X ├──■──┤ X ├───────┼───────┤ X ├──■──┤ X ├─░────────┼──────────────┼──────────────┼────────░────────┼───────┤ RX(2*var_3) ├───────┼────────░───────────────────────┼───────────────────────░────────┼────────────────────────┼────────░───────────────────────┼───────────────────────░──░─┤ RZ(2*var_8) ├─░─\n",
       "        ░        │                        │        ░ └───┘  │  └───┘       │       └───┘  │  └───┘ ░ ┌───┐  │  ┌───┐       │       ┌───┐  │  ┌───┐ ░ ┌───┐  │  ┌───┐└──────┬──────┘┌───┐  │  ┌───┐ ░                       │                       ░ ┌───┐  │       ┌───┐     ┌───┐  │  ┌───┐ ░ ┌───┐     ┌───┐       │       ┌───┐     ┌───┐ ░  ░ ├─────────────┤ ░ \n",
       "  q_5: ─░────────┼────────────────────────┼────────░────────┼──────────────┼──────────────┼────────░─┤ X ├──■──┤ X ├───────┼───────┤ X ├──■──┤ X ├─░─┤ X ├──■──┤ X ├───────┼───────┤ X ├──■──┤ X ├─░───────────────────────┼───────────────────────░─┤ X ├──■───────┤ X ├─────┤ X ├──■──┤ X ├─░─┤ X ├──■──┤ X ├───────┼───────┤ X ├──■──┤ X ├─░──░─┤ RZ(2*var_8) ├─░─\n",
       "        ░        │  ┌─────────────┐       │        ░ ┌───┐  │  ┌───┐       │       ┌───┐  │  ┌───┐ ░ ├───┤  │  ├───┤       │       ├───┤  │  ├───┤ ░ └───┘  │  └───┘       │       └───┘  │  └───┘ ░                       │                       ░ └───┘  │       └───┘     └───┘  │  └───┘ ░ └───┘  │  └───┘       │       └───┘  │  └───┘ ░  ░ ├─────────────┤ ░ \n",
       "  q_6: ─░────────┼──┤ RX(2*var_0) ├───────┼────────░─┤ X ├──■──┤ X ├───────┼───────┤ X ├──■──┤ X ├─░─┤ X ├──■──┤ X ├───────┼───────┤ X ├──■──┤ X ├─░────────┼──────────────┼──────────────┼────────░───────────────────────┼───────────────────────░────────┼────────────────────────┼────────░────────┼──────────────┼──────────────┼────────░──░─┤ RZ(2*var_8) ├─░─\n",
       "        ░        │  └──────┬──────┘       │        ░ └───┘  │  └───┘       │       └───┘  │  └───┘ ░ └───┘  │  └───┘       │       └───┘  │  └───┘ ░        │              │              │        ░ ┌───┐     ┌───┐       │       ┌───┐     ┌───┐ ░        │  ┌─────────────┐       │        ░        │              │              │        ░  ░ ├─────────────┤ ░ \n",
       "  q_7: ─░────────┼─────────┼──────────────┼────────░────────┼──────────────┼──────────────┼────────░────────┼──────────────┼──────────────┼────────░────────┼──────────────┼──────────────┼────────░─┤ X ├──■──┤ X ├───────┼───────┤ X ├──■──┤ X ├─░────────┼──┤ RX(2*var_5) ├───────┼────────░────────┼──────────────┼──────────────┼────────░──░─┤ RZ(2*var_8) ├─░─\n",
       "        ░        │         │              │        ░        │              │              │        ░        │              │              │        ░        │              │              │        ░ └───┘┌─┴─┐└───┘       │       └───┘┌─┴─┐└───┘ ░      ┌─┴─┐└──────┬──────┘     ┌─┴─┐      ░      ┌─┴─┐            │            ┌─┴─┐      ░  ░ └─────────────┘ ░ \n",
       "anc_0: ─░────────┼─────────┼──────────────┼────────░────────┼──────────────┼──────────────┼────────░────────┼──────────────┼──────────────┼────────░────────┼──────────────┼──────────────┼────────░──────┤ X ├────────────■────────────┤ X ├──────░──────┤ X ├───────■────────────┤ X ├──────░──────┤ X ├────────────■────────────┤ X ├──────░──░─────────────────░─\n",
       "        ░      ┌─┴─┐       │            ┌─┴─┐      ░      ┌─┴─┐            │            ┌─┴─┐      ░      ┌─┴─┐            │            ┌─┴─┐      ░      ┌─┴─┐            │            ┌─┴─┐      ░      └───┘                         └───┘      ░      └───┘                    └───┘      ░      └───┘                         └───┘      ░  ░                 ░ \n",
       "anc_1: ─░──────┤ X ├───────■────────────┤ X ├──────░──────┤ X ├────────────■────────────┤ X ├──────░──────┤ X ├────────────■────────────┤ X ├──────░──────┤ X ├────────────■────────────┤ X ├──────░───────────────────────────────────────────────░──────────────────────────────────────────░───────────────────────────────────────────────░──░─────────────────░─\n",
       "        ░      └───┘                    └───┘      ░      └───┘                         └───┘      ░      └───┘                         └───┘      ░      └───┘                         └───┘      ░                                               ░                                          ░                                               ░  ░                 ░ </pre>"
      ],
      "text/plain": [
       "        ░ ┌───┐          ┌───┐     ┌───┐     ┌───┐ ░ ┌───┐     ┌───┐     ┌───┐               ┌───┐ ░                ┌─────────────┐                ░                                               ░                                               ░                                          ░                                               ░  ░ ┌─────────────┐ ░ \n",
       "  q_0: ─░─┤ X ├──■───────┤ X ├─────┤ X ├──■──┤ X ├─░─┤ X ├──■──┤ X ├─────┤ X ├────────────■──┤ X ├─░────────────────┤ RX(2*var_2) ├────────────────░───────────────────────────────────────────────░───────────────────────────────────────────────░──────────────────────────────────────────░───────────────────────────────────────────────░──░─┤ RZ(2*var_8) ├─░─\n",
       "        ░ └───┘  │       └───┘     └───┘  │  └───┘ ░ └───┘  │  └───┘     └───┘            │  └───┘ ░                └──────┬──────┘                ░                                               ░                ┌─────────────┐                ░ ┌───┐          ┌───┐     ┌───┐     ┌───┐ ░                                               ░  ░ ├─────────────┤ ░ \n",
       "  q_1: ─░────────┼────────────────────────┼────────░────────┼─────────────────────────────┼────────░───────────────────────┼───────────────────────░───────────────────────────────────────────────░────────────────┤ RX(2*var_4) ├────────────────░─┤ X ├──■───────┤ X ├─────┤ X ├──■──┤ X ├─░───────────────────────────────────────────────░──░─┤ RZ(2*var_8) ├─░─\n",
       "        ░ ┌───┐  │       ┌───┐     ┌───┐  │  ┌───┐ ░        │       ┌─────────────┐       │        ░ ┌───┐     ┌───┐       │       ┌───┐     ┌───┐ ░ ┌───┐     ┌───┐     ┌───┐               ┌───┐ ░                └──────┬──────┘                ░ └───┘  │       └───┘     └───┘  │  └───┘ ░                                               ░  ░ ├─────────────┤ ░ \n",
       "  q_2: ─░─┤ X ├──■───────┤ X ├─────┤ X ├──■──┤ X ├─░────────┼───────┤ RX(2*var_1) ├───────┼────────░─┤ X ├──■──┤ X ├───────┼───────┤ X ├──■──┤ X ├─░─┤ X ├──■──┤ X ├─────┤ X ├────────────■──┤ X ├─░───────────────────────┼───────────────────────░────────┼────────────────────────┼────────░───────────────────────────────────────────────░──░─┤ RZ(2*var_8) ├─░─\n",
       "        ░ └───┘  │       └───┘     └───┘  │  └───┘ ░        │       └──────┬──────┘       │        ░ └───┘  │  └───┘       │       └───┘  │  └───┘ ░ └───┘  │  └───┘     └───┘            │  └───┘ ░                       │                       ░        │                        │        ░                ┌─────────────┐                ░  ░ ├─────────────┤ ░ \n",
       "  q_3: ─░────────┼────────────────────────┼────────░────────┼──────────────┼──────────────┼────────░────────┼──────────────┼──────────────┼────────░────────┼─────────────────────────────┼────────░───────────────────────┼───────────────────────░────────┼────────────────────────┼────────░────────────────┤ RX(2*var_6) ├────────────────░──░─┤ RZ(2*var_8) ├─░─\n",
       "        ░        │                        │        ░ ┌───┐  │  ┌───┐       │       ┌───┐  │  ┌───┐ ░        │              │              │        ░        │       ┌─────────────┐       │        ░                       │                       ░        │                        │        ░                └──────┬──────┘                ░  ░ ├─────────────┤ ░ \n",
       "  q_4: ─░────────┼────────────────────────┼────────░─┤ X ├──■──┤ X ├───────┼───────┤ X ├──■──┤ X ├─░────────┼──────────────┼──────────────┼────────░────────┼───────┤ RX(2*var_3) ├───────┼────────░───────────────────────┼───────────────────────░────────┼────────────────────────┼────────░───────────────────────┼───────────────────────░──░─┤ RZ(2*var_8) ├─░─\n",
       "        ░        │                        │        ░ └───┘  │  └───┘       │       └───┘  │  └───┘ ░ ┌───┐  │  ┌───┐       │       ┌───┐  │  ┌───┐ ░ ┌───┐  │  ┌───┐└──────┬──────┘┌───┐  │  ┌───┐ ░                       │                       ░ ┌───┐  │       ┌───┐     ┌───┐  │  ┌───┐ ░ ┌───┐     ┌───┐       │       ┌───┐     ┌───┐ ░  ░ ├─────────────┤ ░ \n",
       "  q_5: ─░────────┼────────────────────────┼────────░────────┼──────────────┼──────────────┼────────░─┤ X ├──■──┤ X ├───────┼───────┤ X ├──■──┤ X ├─░─┤ X ├──■──┤ X ├───────┼───────┤ X ├──■──┤ X ├─░───────────────────────┼───────────────────────░─┤ X ├──■───────┤ X ├─────┤ X ├──■──┤ X ├─░─┤ X ├──■──┤ X ├───────┼───────┤ X ├──■──┤ X ├─░──░─┤ RZ(2*var_8) ├─░─\n",
       "        ░        │  ┌─────────────┐       │        ░ ┌───┐  │  ┌───┐       │       ┌───┐  │  ┌───┐ ░ ├───┤  │  ├───┤       │       ├───┤  │  ├───┤ ░ └───┘  │  └───┘       │       └───┘  │  └───┘ ░                       │                       ░ └───┘  │       └───┘     └───┘  │  └───┘ ░ └───┘  │  └───┘       │       └───┘  │  └───┘ ░  ░ ├─────────────┤ ░ \n",
       "  q_6: ─░────────┼──┤ RX(2*var_0) ├───────┼────────░─┤ X ├──■──┤ X ├───────┼───────┤ X ├──■──┤ X ├─░─┤ X ├──■──┤ X ├───────┼───────┤ X ├──■──┤ X ├─░────────┼──────────────┼──────────────┼────────░───────────────────────┼───────────────────────░────────┼────────────────────────┼────────░────────┼──────────────┼──────────────┼────────░──░─┤ RZ(2*var_8) ├─░─\n",
       "        ░        │  └──────┬──────┘       │        ░ └───┘  │  └───┘       │       └───┘  │  └───┘ ░ └───┘  │  └───┘       │       └───┘  │  └───┘ ░        │              │              │        ░ ┌───┐     ┌───┐       │       ┌───┐     ┌───┐ ░        │  ┌─────────────┐       │        ░        │              │              │        ░  ░ ├─────────────┤ ░ \n",
       "  q_7: ─░────────┼─────────┼──────────────┼────────░────────┼──────────────┼──────────────┼────────░────────┼──────────────┼──────────────┼────────░────────┼──────────────┼──────────────┼────────░─┤ X ├──■──┤ X ├───────┼───────┤ X ├──■──┤ X ├─░────────┼──┤ RX(2*var_5) ├───────┼────────░────────┼──────────────┼──────────────┼────────░──░─┤ RZ(2*var_8) ├─░─\n",
       "        ░        │         │              │        ░        │              │              │        ░        │              │              │        ░        │              │              │        ░ └───┘┌─┴─┐└───┘       │       └───┘┌─┴─┐└───┘ ░      ┌─┴─┐└──────┬──────┘     ┌─┴─┐      ░      ┌─┴─┐            │            ┌─┴─┐      ░  ░ └─────────────┘ ░ \n",
       "anc_0: ─░────────┼─────────┼──────────────┼────────░────────┼──────────────┼──────────────┼────────░────────┼──────────────┼──────────────┼────────░────────┼──────────────┼──────────────┼────────░──────┤ X ├────────────■────────────┤ X ├──────░──────┤ X ├───────■────────────┤ X ├──────░──────┤ X ├────────────■────────────┤ X ├──────░──░─────────────────░─\n",
       "        ░      ┌─┴─┐       │            ┌─┴─┐      ░      ┌─┴─┐            │            ┌─┴─┐      ░      ┌─┴─┐            │            ┌─┴─┐      ░      ┌─┴─┐            │            ┌─┴─┐      ░      └───┘                         └───┘      ░      └───┘                    └───┘      ░      └───┘                         └───┘      ░  ░                 ░ \n",
       "anc_1: ─░──────┤ X ├───────■────────────┤ X ├──────░──────┤ X ├────────────■────────────┤ X ├──────░──────┤ X ├────────────■────────────┤ X ├──────░──────┤ X ├────────────■────────────┤ X ├──────░───────────────────────────────────────────────░──────────────────────────────────────────░───────────────────────────────────────────────░──░─────────────────░─\n",
       "        ░      └───┘                    └───┘      ░      └───┘                         └───┘      ░      └───┘                         └───┘      ░      └───┘                         └───┘      ░                                               ░                                          ░                                               ░  ░                 ░ "
      ]
     },
     "execution_count": 6,
     "metadata": {},
     "output_type": "execute_result"
    }
   ],
   "source": [
    "circuit, cuts, fragments, wire_path_map = get_circuit_and_cuts(num_params, init_state, mixer_order)\n",
    "print('Cuts:', cuts)\n",
    "print('Fragments:', fragments)\n",
    "print('wire path map:', wire_path_map)\n",
    "circuit.draw(fold=-1)"
   ]
  },
  {
   "cell_type": "code",
   "execution_count": 7,
   "id": "11964fbe-57c5-4922-81a6-0a8e0f2e0632",
   "metadata": {},
   "outputs": [],
   "source": [
    "def digit_substr(string):\n",
    "    return \"\".join(filter(str.isdigit, string))\n",
    "\n",
    "def bind(circuit, params):\n",
    "    binding = {circuit_param : params[int(digit_substr(circuit_param.name))]\n",
    "               for circuit_param in circuit.parameters}\n",
    "    return circuit.bind_parameters(binding)\n",
    "\n",
    "def get_circuit_output(params, var_fragments, wire_path_map, frag_shots):\n",
    "    fragments = [bind(fragment, params) for fragment in var_fragments]\n",
    "    recombined_dist = cutting_funcs.sim_with_cutting(fragments, wire_path_map, frag_shots, backend, verbose=1)\n",
    "    return recombined_dist"
   ]
  },
  {
   "cell_type": "code",
   "execution_count": 9,
   "id": "8a34f337-f193-4e94-91f7-77e3d6f01a2d",
   "metadata": {},
   "outputs": [
    {
     "name": "stdout",
     "output_type": "stream",
     "text": [
      "71428\n",
      "Model time: 4.549, Recombine time: 0.018\n",
      "{'0000100000': 0.0001121612504829951, '0000100010': 0.0012137974087638014, '0000000000': 0.0007940315995217593, '0000001000': 0.0006049965257937223, '0010000000': 8.5132617171025e-05, '0010001000': 6.284138596110214e-05, '0000000010': 0.010503005953930009, '0000001010': 0.008045507776875002, '0000100100': 0.000705338635154583, '0000100110': 0.0035062803381361515, '0000000100': 0.02778786182615137, '0000001100': 0.021131761983568653, '0010000100': 0.0029631478783255527, '0010001100': 0.0022101147776796156, '0000000110': 0.36849076307308853, '0000001110': 0.28198311931796255, '0000100001': 0.00010701488845310509, '0000100011': 0.0005113285966130643, '0000000001': 0.003934744788648926, '0000001001': 0.0029954532474305105, '0010000001': 0.00042086150956718247, '0010001001': 0.0003168646465609896, '0000000011': 0.052276075558312554, '0000001011': 0.04000069506214269, '0001100000': 1.903625060381349e-05, '0001100010': 0.0002419158932569329, '0001000000': 1.5728031476850554e-05, '0001001000': 1.0872172161789565e-05, '0011000000': 1.296765699325663e-06, '0011001000': 5.9449280353881e-07, '0001000010': 0.00019142844056692105, '0001001010': 0.0001449926077164292, '0000110000': 3.643146785678629e-05, '0000110010': 0.00018598229106351236, '0000010000': 0.0011222322918727943, '0000011000': 0.0008581412743488117, '0010010000': 0.00012136818782865052, '0010011000': 9.141412210455385e-05, '0000010010': 0.01492376303569919, '0000011010': 0.011431469295706332, '0000110001': 0.00015067090830311108, '0000110011': 0.0007159449620665914, '0000010001': 0.005458579619651381, '0000011001': 0.004160580616457959, '0010010001': 0.0005855450930579055, '0010011001': 0.00043951221463630155, '0000010011': 0.07249956682949497, '0000011011': 0.05549757305846205, '0001110000': 6.736754478760883e-06, '0001110010': 7.644945301344253e-05, '0001010000': 9.493847413537555e-06, '0001011000': 7.264807698412975e-06, '0011010000': 1.044662017229259e-06, '0011011000': 9.702922225217198e-07, '0001010010': 0.00013092229183299153, '0001011010': 9.957732213096478e-05}\n",
      "\n",
      "{'0000000000': 0.00088, '0000000001': 0.00419, '0000010000': 0.001244, '0000010001': 0.005864, '0000010010': 0.014596, '0000010011': 0.071962, '0000011000': 0.000878, '0000011001': 0.004474, '0000011010': 0.011048, '0000011011': 0.055284, '0000000010': 0.010962, '0000000011': 0.05401, '0000000100': 0.029842, '0001000000': 1.6e-05, '0001000010': 0.000212, '0001001000': 1.2e-05, '0001001010': 0.000164, '0001010000': 1.8e-05, '0001010010': 0.000326, '0001011000': 1.8e-05, '0001011010': 0.000256, '0000000110': 0.369656, '0000001000': 0.000736, '0010000000': 8e-05, '0010000001': 0.000398, '0010000100': 0.00258, '0010001000': 5.4e-05, '0010001001': 0.000292, '0010001100': 0.00187, '0000001001': 0.003264, '0010010000': 8.4e-05, '0010010001': 0.000464, '0010011000': 8e-05, '0010011001': 0.00039, '0000001010': 0.008286, '0000001011': 0.041326, '0000001100': 0.022688, '0011001000': 2e-06, '0000001110': 0.281494}\n",
      "0.9373236570979727\n"
     ]
    }
   ],
   "source": [
    "frag_shots = shots // qmm.fragment_variants(wire_path_map)\n",
    "print(frag_shots)\n",
    "init_params = np.arange(1, num_params+1)\n",
    "backend = qiskit.Aer.get_backend('qasm_simulator')\n",
    "recombined_dist = get_circuit_output(init_params, fragments, wire_path_map, frag_shots)\n",
    "print(recombined_dist)\n",
    "\n",
    "full_circuit = bind(circuit, init_params)\n",
    "full_circuit.measure_all()\n",
    "result = qiskit.execute(full_circuit, backend=backend, shots=shots).result()\n",
    "counts = result.get_counts(full_circuit)\n",
    "exact_dist = {key : val / shots for key, val in counts.items()}\n",
    "print()\n",
    "print(exact_dist)\n",
    "\n",
    "print(qiskit.quantum_info.hellinger_fidelity(recombined_dist, exact_dist))"
   ]
  },
  {
   "cell_type": "code",
   "execution_count": 19,
   "id": "e27ea712-2e35-4102-a4b4-fa46196c955e",
   "metadata": {},
   "outputs": [],
   "source": [
    "def avg_cost(params, *args):\n",
    "    start = time.time()\n",
    "    probs = get_circuit_output(params, *args)\n",
    "    end = time.time()\n",
    "    \n",
    "    avg_weight = 0\n",
    "    for bitstr, prob in probs.items():\n",
    "        if graph_funcs.is_indset(bitstr, G):\n",
    "            avg_weight += prob * helper_funcs.hamming_weight(bitstr)\n",
    "            \n",
    "    print('\\tTotal time = {:.3f}, avg_weight = {:.4f}'.format(end-start, avg_weight))\n",
    "            \n",
    "    return -avg_weight"
   ]
  },
  {
   "cell_type": "code",
   "execution_count": 20,
   "id": "7debe98a-7614-4eac-bdf6-784b6c67e098",
   "metadata": {
    "scrolled": true,
    "tags": []
   },
   "outputs": [
    {
     "name": "stdout",
     "output_type": "stream",
     "text": [
      "Frag shots: 71428\n",
      "Model time: 8.755, Recombine time: 0.011\n",
      "\tavg_weight = 1.2574\n",
      "Model time: 8.127, Recombine time: 0.012\n",
      "\tavg_weight = 1.0475\n",
      "Model time: 8.858, Recombine time: 0.012\n",
      "\tavg_weight = 1.2464\n",
      "Model time: 8.925, Recombine time: 0.012\n",
      "\tavg_weight = 1.2541\n",
      "Model time: 7.356, Recombine time: 0.013\n",
      "\tavg_weight = 2.0390\n",
      "Model time: 8.213, Recombine time: 0.019\n",
      "\tavg_weight = 2.7497\n",
      "Model time: 8.772, Recombine time: 0.020\n",
      "\tavg_weight = 2.9622\n",
      "Model time: 8.665, Recombine time: 0.018\n",
      "\tavg_weight = 2.9669\n",
      "Model time: 7.926, Recombine time: 0.017\n",
      "\tavg_weight = 2.9524\n",
      "Model time: 8.108, Recombine time: 0.020\n",
      "\tavg_weight = 2.9579\n",
      "Model time: 8.176, Recombine time: 0.012\n",
      "\tavg_weight = 3.0797\n",
      "Model time: 8.493, Recombine time: 0.017\n",
      "\tavg_weight = 2.6328\n",
      "Model time: 8.143, Recombine time: 0.009\n",
      "\tavg_weight = 3.1127\n",
      "Model time: 8.316, Recombine time: 0.018\n",
      "\tavg_weight = 2.8546\n",
      "Model time: 8.829, Recombine time: 0.013\n",
      "\tavg_weight = 3.2065\n",
      "Model time: 8.195, Recombine time: 0.008\n",
      "\tavg_weight = 3.0969\n",
      "Model time: 8.263, Recombine time: 0.011\n",
      "\tavg_weight = 3.0912\n",
      "Model time: 8.296, Recombine time: 0.011\n",
      "\tavg_weight = 3.2140\n",
      "Model time: 8.402, Recombine time: 0.012\n",
      "\tavg_weight = 3.1065\n",
      "Model time: 8.252, Recombine time: 0.011\n",
      "\tavg_weight = 3.2211\n",
      "Model time: 8.359, Recombine time: 0.014\n",
      "\tavg_weight = 3.1226\n",
      "Model time: 8.386, Recombine time: 0.011\n",
      "\tavg_weight = 3.4359\n",
      "Model time: 7.994, Recombine time: 0.013\n",
      "\tavg_weight = 3.5667\n",
      "Model time: 8.004, Recombine time: 0.010\n",
      "\tavg_weight = 3.8349\n",
      "Model time: 8.027, Recombine time: 0.017\n",
      "\tavg_weight = 3.8627\n",
      "Model time: 8.010, Recombine time: 0.019\n",
      "\tavg_weight = 3.8274\n",
      "Model time: 8.095, Recombine time: 0.019\n",
      "\tavg_weight = 3.9004\n",
      "Model time: 8.331, Recombine time: 0.016\n",
      "\tavg_weight = 3.7924\n",
      "Model time: 8.442, Recombine time: 0.011\n",
      "\tavg_weight = 3.7670\n",
      "Model time: 8.356, Recombine time: 0.015\n",
      "\tavg_weight = 3.9282\n",
      "Model time: 8.269, Recombine time: 0.011\n",
      "\tavg_weight = 3.9672\n",
      "Model time: 8.248, Recombine time: 0.016\n",
      "\tavg_weight = 3.8901\n",
      "Model time: 7.989, Recombine time: 0.015\n",
      "\tavg_weight = 3.8757\n",
      "Model time: 8.378, Recombine time: 0.014\n",
      "\tavg_weight = 3.9455\n",
      "Model time: 8.345, Recombine time: 0.011\n",
      "\tavg_weight = 3.9529\n",
      "Model time: 8.414, Recombine time: 0.012\n",
      "\tavg_weight = 3.9693\n",
      "Model time: 8.100, Recombine time: 0.008\n",
      "\tavg_weight = 3.9056\n",
      "Model time: 8.156, Recombine time: 0.018\n",
      "\tavg_weight = 3.9160\n",
      "Model time: 8.184, Recombine time: 0.012\n",
      "\tavg_weight = 3.9457\n",
      "Model time: 8.483, Recombine time: 0.014\n",
      "\tavg_weight = 3.9741\n",
      "Model time: 8.169, Recombine time: 0.012\n",
      "\tavg_weight = 3.9547\n",
      "Model time: 8.043, Recombine time: 0.017\n",
      "\tavg_weight = 3.9580\n",
      "Model time: 8.101, Recombine time: 0.019\n",
      "\tavg_weight = 3.9365\n",
      "Model time: 7.782, Recombine time: 0.017\n",
      "\tavg_weight = 3.9535\n",
      "Model time: 7.988, Recombine time: 0.006\n",
      "\tavg_weight = 3.9301\n",
      "Model time: 8.022, Recombine time: 0.011\n",
      "\tavg_weight = 3.9576\n",
      "Model time: 8.722, Recombine time: 0.016\n",
      "\tavg_weight = 3.9166\n",
      "Model time: 8.636, Recombine time: 0.010\n",
      "\tavg_weight = 3.9918\n",
      "Model time: 8.690, Recombine time: 0.013\n",
      "\tavg_weight = 3.9678\n",
      "Model time: 9.418, Recombine time: 0.015\n",
      "\tavg_weight = 3.9865\n",
      "Model time: 8.836, Recombine time: 0.023\n",
      "\tavg_weight = 3.9836\n",
      "Model time: 8.173, Recombine time: 0.010\n",
      "\tavg_weight = 3.9687\n",
      "Model time: 7.535, Recombine time: 0.012\n",
      "\tavg_weight = 3.9822\n",
      "Model time: 8.120, Recombine time: 0.012\n",
      "\tavg_weight = 3.9894\n",
      "Model time: 8.603, Recombine time: 0.015\n",
      "\tavg_weight = 3.9837\n",
      "Model time: 7.999, Recombine time: 0.012\n",
      "\tavg_weight = 3.9497\n",
      "Model time: 8.127, Recombine time: 0.011\n",
      "\tavg_weight = 3.9543\n",
      "Model time: 8.713, Recombine time: 0.012\n",
      "\tavg_weight = 3.9912\n",
      "Model time: 8.602, Recombine time: 0.012\n",
      "\tavg_weight = 3.9730\n",
      "Model time: 9.326, Recombine time: 0.012\n",
      "\tavg_weight = 3.9862\n",
      "Model time: 8.695, Recombine time: 0.011\n",
      "\tavg_weight = 3.9910\n",
      "Model time: 7.594, Recombine time: 0.011\n",
      "\tavg_weight = 3.9914\n",
      "Model time: 6.822, Recombine time: 0.014\n",
      "\tavg_weight = 3.9635\n",
      "Model time: 8.149, Recombine time: 0.010\n",
      "\tavg_weight = 3.9940\n",
      "Model time: 7.890, Recombine time: 0.013\n",
      "\tavg_weight = 3.9698\n",
      "Model time: 7.926, Recombine time: 0.011\n",
      "\tavg_weight = 3.9937\n",
      "Model time: 8.732, Recombine time: 0.010\n",
      "\tavg_weight = 3.9847\n",
      "Model time: 9.906, Recombine time: 0.014\n",
      "\tavg_weight = 3.9803\n",
      "Model time: 9.381, Recombine time: 0.012\n",
      "\tavg_weight = 3.9819\n",
      "Model time: 7.975, Recombine time: 0.017\n",
      "\tavg_weight = 3.9881\n",
      "Model time: 8.222, Recombine time: 0.012\n",
      "\tavg_weight = 3.9566\n",
      "Model time: 7.680, Recombine time: 0.011\n",
      "\tavg_weight = 3.9911\n",
      "Model time: 7.247, Recombine time: 0.011\n",
      "\tavg_weight = 3.9909\n",
      "Model time: 8.651, Recombine time: 0.011\n",
      "\tavg_weight = 3.9810\n",
      "Model time: 8.600, Recombine time: 0.011\n",
      "\tavg_weight = 3.9867\n",
      "Model time: 8.355, Recombine time: 0.010\n",
      "\tavg_weight = 3.9905\n",
      "Model time: 8.079, Recombine time: 0.012\n",
      "\tavg_weight = 3.9908\n",
      "Model time: 9.277, Recombine time: 0.021\n",
      "\tavg_weight = 3.9947\n",
      "Model time: 8.988, Recombine time: 0.010\n",
      "\tavg_weight = 3.9905\n",
      "Model time: 8.695, Recombine time: 0.011\n",
      "\tavg_weight = 3.9838\n",
      "Model time: 7.603, Recombine time: 0.012\n",
      "\tavg_weight = 3.9879\n",
      "Model time: 8.305, Recombine time: 0.018\n",
      "\tavg_weight = 3.9798\n",
      "Model time: 9.422, Recombine time: 0.011\n",
      "\tavg_weight = 3.9892\n",
      "Model time: 8.121, Recombine time: 0.012\n",
      "\tavg_weight = 3.9907\n",
      "Model time: 9.034, Recombine time: 0.025\n",
      "\tavg_weight = 3.9767\n",
      "Model time: 11.636, Recombine time: 0.029\n",
      "\tavg_weight = 3.9921\n",
      "Model time: 11.365, Recombine time: 0.028\n",
      "\tavg_weight = 3.9871\n",
      "Model time: 10.275, Recombine time: 0.014\n",
      "\tavg_weight = 3.9923\n",
      "Model time: 11.537, Recombine time: 0.018\n",
      "\tavg_weight = 3.9919\n",
      "Model time: 10.520, Recombine time: 0.019\n",
      "\tavg_weight = 3.9582\n",
      "Model time: 11.221, Recombine time: 0.017\n",
      "\tavg_weight = 3.9856\n",
      "Model time: 9.317, Recombine time: 0.016\n",
      "\tavg_weight = 3.9909\n",
      "Model time: 7.927, Recombine time: 0.014\n",
      "\tavg_weight = 3.9898\n",
      "Model time: 7.318, Recombine time: 0.014\n",
      "\tavg_weight = 3.9780\n",
      "Model time: 8.919, Recombine time: 0.013\n",
      "\tavg_weight = 3.9788\n",
      "Model time: 8.910, Recombine time: 0.015\n",
      "\tavg_weight = 3.9699\n",
      "Model time: 8.718, Recombine time: 0.010\n",
      "\tavg_weight = 3.9901\n",
      "Model time: 7.886, Recombine time: 0.013\n",
      "\tavg_weight = 3.9802\n",
      "Model time: 9.058, Recombine time: 0.012\n",
      "\tavg_weight = 3.9888\n",
      "Model time: 12.160, Recombine time: 0.011\n",
      "\tavg_weight = 3.9923\n",
      "Model time: 10.068, Recombine time: 0.012\n",
      "\tavg_weight = 3.9920\n",
      "Model time: 8.341, Recombine time: 0.022\n",
      "\tavg_weight = 3.9892\n",
      "Model time: 10.080, Recombine time: 0.013\n",
      "\tavg_weight = 3.9924\n",
      "Model time: 9.902, Recombine time: 0.018\n",
      "\tavg_weight = 3.9913\n",
      "Model time: 9.340, Recombine time: 0.012\n",
      "\tavg_weight = 3.9869\n",
      "Model time: 9.042, Recombine time: 0.010\n",
      "\tavg_weight = 3.9945\n",
      "Model time: 8.647, Recombine time: 0.015\n",
      "\tavg_weight = 3.9762\n",
      "Model time: 8.389, Recombine time: 0.012\n",
      "\tavg_weight = 3.9950\n",
      "Model time: 9.688, Recombine time: 0.011\n",
      "\tavg_weight = 3.9857\n",
      "Model time: 10.141, Recombine time: 0.014\n",
      "\tavg_weight = 3.9902\n",
      "Model time: 10.506, Recombine time: 0.014\n",
      "\tavg_weight = 3.9596\n",
      "Model time: 7.717, Recombine time: 0.012\n",
      "\tavg_weight = 3.9785\n",
      "Model time: 8.480, Recombine time: 0.013\n",
      "\tavg_weight = 3.9880\n",
      "Model time: 8.404, Recombine time: 0.013\n",
      "\tavg_weight = 3.9458\n",
      "Model time: 8.242, Recombine time: 0.011\n",
      "\tavg_weight = 3.9926\n",
      "Model time: 9.163, Recombine time: 0.014\n",
      "\tavg_weight = 3.9864\n",
      "Model time: 11.430, Recombine time: 0.012\n",
      "\tavg_weight = 3.9610\n",
      "Model time: 10.336, Recombine time: 0.014\n",
      "\tavg_weight = 3.9939\n",
      "Model time: 8.378, Recombine time: 0.016\n",
      "\tavg_weight = 3.9669\n",
      "Model time: 8.460, Recombine time: 0.016\n",
      "\tavg_weight = 3.9696\n",
      "Model time: 8.456, Recombine time: 0.014\n",
      "\tavg_weight = 3.9793\n",
      "Model time: 7.915, Recombine time: 0.010\n",
      "\tavg_weight = 3.9921\n",
      "Model time: 9.330, Recombine time: 0.016\n",
      "\tavg_weight = 3.9726\n"
     ]
    }
   ],
   "source": [
    "frag_shots = shots // qmm.fragment_variants(wire_path_map)\n",
    "print('Frag shots:', frag_shots)\n",
    "backend = qiskit.Aer.get_backend('qasm_simulator')\n",
    "args = (fragments, wire_path_map, frag_shots)\n",
    "init_params = np.random.uniform(low=0.0, high=2*np.pi, size=num_params)\n",
    "out = minimize(avg_cost, init_params, args=args, method='COBYLA')"
   ]
  },
  {
   "cell_type": "code",
   "execution_count": 22,
   "id": "070a3b68-b96f-4b7c-9b17-b0996b31944c",
   "metadata": {},
   "outputs": [
    {
     "data": {
      "text/plain": [
       "     fun: -3.9726405386596584\n",
       "   maxcv: 0.0\n",
       " message: 'Optimization terminated successfully.'\n",
       "    nfev: 123\n",
       "  status: 1\n",
       " success: True\n",
       "       x: array([4.6700191 , 5.43203762, 6.74617464, 4.74229265, 4.42647849,\n",
       "       1.38914729, 7.90859645, 4.90207919, 5.54658715])"
      ]
     },
     "execution_count": 22,
     "metadata": {},
     "output_type": "execute_result"
    }
   ],
   "source": [
    "out"
   ]
  },
  {
   "cell_type": "code",
   "execution_count": 24,
   "id": "9732a516-1c12-4c15-b47d-24da55ce9ae2",
   "metadata": {},
   "outputs": [
    {
     "name": "stdout",
     "output_type": "stream",
     "text": [
      "Model time: 9.437, Recombine time: 0.016\n"
     ]
    }
   ],
   "source": [
    "opt_dist = get_circuit_output(out['x'], fragments, wire_path_map, frag_shots)"
   ]
  },
  {
   "cell_type": "code",
   "execution_count": 26,
   "id": "85a4d022-4cea-4d19-a9d9-532c745c8958",
   "metadata": {},
   "outputs": [
    {
     "name": "stdout",
     "output_type": "stream",
     "text": [
      "[('0001011010', 0.9157329010895604), ('0011011000', 0.0752922410755484), ('0001010010', 0.002475185773140183), ('0001011000', 0.0023213417858287478), ('0001110010', 0.0009067855136110705), ('0000001110', 0.000746147639545644), ('0001001010', 0.0006427482487524061), ('0000011010', 0.0006028699164753738), ('0011010000', 0.0004617853357803993), ('0000100110', 0.00027238311959837283), ('0000011011', 0.00015166543859713313), ('0001110000', 7.60966751617048e-05), ('0000110010', 6.757933950863446e-05), ('0010001100', 5.705016921023088e-05), ('0011001000', 5.354384920703491e-05), ('0010011000', 5.0493721765706595e-05), ('0001100010', 2.3759905376602673e-05), ('0000100100', 2.2764695165562803e-05), ('0010011001', 1.245895806415467e-05)]\n"
     ]
    }
   ],
   "source": [
    "top_probs = sorted([(key, val) for key, val in opt_dist.items() if val > 1e-5],\n",
    "                   key=lambda tup: tup[1], reverse=True)\n",
    "print(top_probs)"
   ]
  },
  {
   "cell_type": "code",
   "execution_count": null,
   "id": "19edefe0-f555-43fb-9bad-545b685d9697",
   "metadata": {},
   "outputs": [],
   "source": []
  }
 ],
 "metadata": {
  "kernelspec": {
   "display_name": "Python 3",
   "language": "python",
   "name": "python3"
  },
  "language_info": {
   "codemirror_mode": {
    "name": "ipython",
    "version": 3
   },
   "file_extension": ".py",
   "mimetype": "text/x-python",
   "name": "python",
   "nbconvert_exporter": "python",
   "pygments_lexer": "ipython3",
   "version": "3.7.9"
  }
 },
 "nbformat": 4,
 "nbformat_minor": 5
}
