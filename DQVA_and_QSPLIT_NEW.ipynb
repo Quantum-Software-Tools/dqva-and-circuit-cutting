{
 "cells": [
  {
   "cell_type": "code",
   "execution_count": 1,
   "id": "wound-costs",
   "metadata": {},
   "outputs": [],
   "source": [
    "import sys, glob, itertools\n",
    "import numpy as np\n",
    "import qiskit\n",
    "\n",
    "import networkx as nx\n",
    "from networkx.algorithms.community.kernighan_lin import kernighan_lin_bisection\n",
    "\n",
    "import utils.graph_funcs as graph_funcs\n",
    "import utils.helper_funcs as helper_funcs\n",
    "import utils.cutting_funcs as cutting_funcs\n",
    "\n",
    "import qsplit_circuit_cutter as qcc\n",
    "import qsplit_mlrecon_methods as qmm\n",
    "import qsplit_dqva_methods as qdm\n",
    "\n",
    "from ansatz import dqv_cut_ansatz"
   ]
  },
  {
   "cell_type": "code",
   "execution_count": 2,
   "id": "central-substitute",
   "metadata": {},
   "outputs": [
    {
     "data": {
      "image/png": "[encoded data removed]",
      "text/plain": [
       "<Figure size 432x288 with 1 Axes>"
      ]
     },
     "metadata": {},
     "output_type": "display_data"
    }
   ],
   "source": [
    "test_graphs = glob.glob(\"benchmark_graphs/N8_p30_graphs/*\")\n",
    "#test_graph = np.random.choice(test_graphs)\n",
    "G = graph_funcs.graph_from_file(test_graphs[0])\n",
    "qubit_num = G.number_of_nodes()\n",
    "nx.draw_spring(G, with_labels=True, node_color='gold')"
   ]
  },
  {
   "cell_type": "code",
   "execution_count": 3,
   "id": "digital-screw",
   "metadata": {},
   "outputs": [
    {
     "name": "stdout",
     "output_type": "stream",
     "text": [
      "Partition: ({1, 3, 5, 7}, {0, 2, 4, 6})\n",
      "Cut edges: [(5, 4), (0, 5)]\n",
      "Cut nodes: [5, 4, 0, 5] Hot nodes: [0, 4]\n"
     ]
    },
    {
     "data": {
      "image/png": "[encoded data removed]",
      "text/plain": [
       "<Figure size 432x288 with 1 Axes>"
      ]
     },
     "metadata": {},
     "output_type": "display_data"
    }
   ],
   "source": [
    "partition = kernighan_lin_bisection(G)\n",
    "print('Partition:', partition)\n",
    "subgraphs, cut_edges = graph_funcs.get_subgraphs(G, partition)\n",
    "cut_nodes, hot_nodes = cutting_funcs.choose_nodes(G, subgraphs, cut_edges, max_cuts=1)\n",
    "print('Cut edges:', cut_edges)\n",
    "print('Cut nodes:', cut_nodes, 'Hot nodes:', hot_nodes)\n",
    "graph_funcs.view_partition(partition, G)"
   ]
  },
  {
   "cell_type": "code",
   "execution_count": 6,
   "id": "conservative-supply",
   "metadata": {},
   "outputs": [
    {
     "name": "stdout",
     "output_type": "stream",
     "text": [
      "Initial state: 00000001\n",
      "params: [Parameter(var_0), Parameter(var_1), Parameter(var_2), Parameter(var_3), Parameter(var_4), Parameter(var_5), Parameter(var_6), Parameter(var_7), Parameter(var_8)]\n",
      "mixer order: [4, 3, 5, 0, 6, 7, 2, 1]\n",
      "\n"
     ]
    }
   ],
   "source": [
    "nq = len(G.nodes())\n",
    "P = 1\n",
    "init_state = '0'*nq\n",
    "init_state = '00000000'\n",
    "print('Initial state:', init_state)\n",
    "\n",
    "num_params = P * (nq + 1)\n",
    "\n",
    "mixer_order = list(np.random.permutation(list(G.nodes)))\n",
    "print('mixer order:', mixer_order)\n",
    "print()"
   ]
  },
  {
   "cell_type": "code",
   "execution_count": 7,
   "id": "characteristic-carter",
   "metadata": {},
   "outputs": [],
   "source": [
    "def get_circuit_and_cuts(num_params, init_state, mixer_order):\n",
    "\n",
    "    params = [qiskit.circuit.Parameter('var_{}'.format(num)) for num in range(num_params)]\n",
    "    print('params:', params)\n",
    "\n",
    "    kwargs = dict(params=params, init_state=init_state, mixer_order=mixer_order,\n",
    "                  decompose_toffoli=1, verbose=1, P=P, barriers=2)\n",
    "    \n",
    "    circuit, cuts = dqv_cut_ansatz.gen_dqva(G, partition, cut_nodes, hot_nodes, **kwargs)\n",
    "    \n",
    "    fragments, wire_path_map = qcc.cut_circuit(circuit, cuts)\n",
    "    \n",
    "    return fragments, wire_path_map"
   ]
  },
  {
   "cell_type": "code",
   "execution_count": 8,
   "id": "chronic-commonwealth",
   "metadata": {},
   "outputs": [
    {
     "name": "stdout",
     "output_type": "stream",
     "text": [
      "params: [Parameter(var_0), Parameter(var_1), Parameter(var_2), Parameter(var_3), Parameter(var_4), Parameter(var_5), Parameter(var_6), Parameter(var_7), Parameter(var_8)]\n",
      "WARNING: mixer order changed from [4, 3, 5, 0, 6, 7, 2, 1] to [4, 0, 6, 2, 3, 5, 7, 1] to respect subgraph ordering\n",
      "Parameters:\n",
      "\talpha_0: [Parameter(var_0), Parameter(var_1), Parameter(var_2), Parameter(var_3), Parameter(var_4), Parameter(var_5), Parameter(var_6)]\n",
      "\tgamma_0: var_7\n",
      "\talpha_1: [Parameter(var_8)]\n",
      "APPLYING MIXER UNITARY\n",
      "\tMixer order: [4, 0, 6, 2, 3, 5, 7, 1] Cut nodes: [5, 4, 0, 5] Hot nodes: [0, 4]\n",
      "\tinit_state: 00000001\n",
      "\talpha: [Parameter(var_0), Parameter(var_1), Parameter(var_2), Parameter(var_3), Parameter(var_4), Parameter(var_5), Parameter(var_6)]\n",
      "\tpad_alpha: [None, Parameter(var_5), Parameter(var_2), Parameter(var_3), Parameter(var_0), None, Parameter(var_1), Parameter(var_4)]\n",
      "\tSwap qubit = 3\n",
      "\tqubit: 4 num_qubits = 10 neighbors: [2, 5]\n",
      "\tqubit: 6 num_qubits = 10 neighbors: [0, 2]\n",
      "\tqubit: 2 num_qubits = 10 neighbors: [0, 4, 6]\n",
      "\tcuts: [(Qubit(QuantumRegister(8, 'q'), 5), 6)]\n",
      "\tqubit: 3 num_qubits = 10 neighbors: [5]\n",
      "\tqubit: 7 num_qubits = 10 neighbors: [1, 5]\n",
      "\tqubit: 1 num_qubits = 10 neighbors: [7]\n",
      "APPLYING MIXER UNITARY\n",
      "\tMixer order: [4, 0, 6, 2, 3, 5, 7, 1] Cut nodes: [5, 4, 0, 5] Hot nodes: []\n",
      "\tinit_state: 00000001\n",
      "\talpha: [Parameter(var_8)]\n",
      "\tpad_alpha: [None, None, None, None, None, None, Parameter(var_8), None]\n",
      "\tSwap qubit = 3\n",
      "\tqubit: 6 num_qubits = 10 neighbors: [0, 2]\n"
     ]
    },
    {
     "ename": "TypeError",
     "evalue": "'Qubit' object is not subscriptable",
     "output_type": "error",
     "traceback": [
      "\u001b[0;31m---------------------------------------------------------------------------\u001b[0m",
      "\u001b[0;31mTypeError\u001b[0m                                 Traceback (most recent call last)",
      "\u001b[0;32m<ipython-input-8-9621100c7b94>\u001b[0m in \u001b[0;36m<module>\u001b[0;34m\u001b[0m\n\u001b[0;32m----> 1\u001b[0;31m \u001b[0mcircuit\u001b[0m\u001b[0;34m,\u001b[0m \u001b[0mcuts\u001b[0m\u001b[0;34m,\u001b[0m \u001b[0mfragments\u001b[0m\u001b[0;34m,\u001b[0m \u001b[0mwire_path_map\u001b[0m \u001b[0;34m=\u001b[0m \u001b[0mget_circuit_and_cuts\u001b[0m\u001b[0;34m(\u001b[0m\u001b[0mnum_params\u001b[0m\u001b[0;34m,\u001b[0m \u001b[0minit_state\u001b[0m\u001b[0;34m,\u001b[0m \u001b[0mmixer_order\u001b[0m\u001b[0;34m)\u001b[0m\u001b[0;34m\u001b[0m\u001b[0;34m\u001b[0m\u001b[0m\n\u001b[0m\u001b[1;32m      2\u001b[0m \u001b[0mcirc\u001b[0m\u001b[0;34m.\u001b[0m\u001b[0mdraw\u001b[0m\u001b[0;34m(\u001b[0m\u001b[0mfold\u001b[0m\u001b[0;34m=\u001b[0m\u001b[0;34m-\u001b[0m\u001b[0;36m1\u001b[0m\u001b[0;34m)\u001b[0m\u001b[0;34m\u001b[0m\u001b[0;34m\u001b[0m\u001b[0m\n",
      "\u001b[0;32m<ipython-input-7-83bc050bb7dd>\u001b[0m in \u001b[0;36mget_circuit_and_cuts\u001b[0;34m(num_params, init_state, mixer_order)\u001b[0m\n\u001b[1;32m      9\u001b[0m     \u001b[0mcircuit\u001b[0m\u001b[0;34m,\u001b[0m \u001b[0mcuts\u001b[0m \u001b[0;34m=\u001b[0m \u001b[0mdqv_cut_ansatz\u001b[0m\u001b[0;34m.\u001b[0m\u001b[0mgen_dqva\u001b[0m\u001b[0;34m(\u001b[0m\u001b[0mG\u001b[0m\u001b[0;34m,\u001b[0m \u001b[0mpartition\u001b[0m\u001b[0;34m,\u001b[0m \u001b[0mcut_nodes\u001b[0m\u001b[0;34m,\u001b[0m \u001b[0mhot_nodes\u001b[0m\u001b[0;34m,\u001b[0m \u001b[0;34m**\u001b[0m\u001b[0mkwargs\u001b[0m\u001b[0;34m)\u001b[0m\u001b[0;34m\u001b[0m\u001b[0;34m\u001b[0m\u001b[0m\n\u001b[1;32m     10\u001b[0m \u001b[0;34m\u001b[0m\u001b[0m\n\u001b[0;32m---> 11\u001b[0;31m     \u001b[0mfragments\u001b[0m\u001b[0;34m,\u001b[0m \u001b[0mwire_path_map\u001b[0m \u001b[0;34m=\u001b[0m \u001b[0mqcc\u001b[0m\u001b[0;34m.\u001b[0m\u001b[0mcut_circuit\u001b[0m\u001b[0;34m(\u001b[0m\u001b[0mcircuit\u001b[0m\u001b[0;34m,\u001b[0m \u001b[0mcuts\u001b[0m\u001b[0;34m)\u001b[0m\u001b[0;34m\u001b[0m\u001b[0;34m\u001b[0m\u001b[0m\n\u001b[0m\u001b[1;32m     12\u001b[0m \u001b[0;34m\u001b[0m\u001b[0m\n\u001b[1;32m     13\u001b[0m     \u001b[0;32mreturn\u001b[0m \u001b[0mfragments\u001b[0m\u001b[0;34m,\u001b[0m \u001b[0mwire_path_map\u001b[0m\u001b[0;34m\u001b[0m\u001b[0;34m\u001b[0m\u001b[0m\n",
      "\u001b[0;32m~/ResearchWorkspace/dqva-and-circuit-cutting/qsplit_circuit_cutter.py\u001b[0m in \u001b[0;36mcut_circuit\u001b[0;34m(circuit, cuts, qreg_name, creg_name)\u001b[0m\n\u001b[1;32m    151\u001b[0m         \u001b[0;31m# replace all edges on this wire as appropriate\u001b[0m\u001b[0;34m\u001b[0m\u001b[0;34m\u001b[0m\u001b[0;34m\u001b[0m\u001b[0m\n\u001b[1;32m    152\u001b[0m         \u001b[0;32mfor\u001b[0m \u001b[0medge\u001b[0m \u001b[0;32min\u001b[0m \u001b[0mgraph\u001b[0m\u001b[0;34m.\u001b[0m\u001b[0medges\u001b[0m\u001b[0;34m(\u001b[0m\u001b[0;34m)\u001b[0m\u001b[0;34m:\u001b[0m\u001b[0;34m\u001b[0m\u001b[0;34m\u001b[0m\u001b[0m\n\u001b[0;32m--> 153\u001b[0;31m             \u001b[0;32mif\u001b[0m \u001b[0medge\u001b[0m\u001b[0;34m[\u001b[0m\u001b[0;36m2\u001b[0m\u001b[0;34m]\u001b[0m\u001b[0;34m[\u001b[0m\u001b[0;34m\"wire\"\u001b[0m\u001b[0;34m]\u001b[0m \u001b[0;34m!=\u001b[0m \u001b[0mcut_wire\u001b[0m\u001b[0;34m:\u001b[0m \u001b[0;32mcontinue\u001b[0m\u001b[0;34m\u001b[0m\u001b[0;34m\u001b[0m\u001b[0m\n\u001b[0m\u001b[1;32m    154\u001b[0m \u001b[0;34m\u001b[0m\u001b[0m\n\u001b[1;32m    155\u001b[0m             \u001b[0;31m# if this edge ends at the node at which we're cutting, splice in the new wire\u001b[0m\u001b[0;34m\u001b[0m\u001b[0;34m\u001b[0m\u001b[0;34m\u001b[0m\u001b[0m\n",
      "\u001b[0;31mTypeError\u001b[0m: 'Qubit' object is not subscriptable"
     ]
    }
   ],
   "source": [
    "circuit, cuts, fragments, wire_path_map = get_circuit_and_cuts(num_params, init_state, mixer_order)\n",
    "circ.draw(fold=-1)"
   ]
  },
  {
   "cell_type": "code",
   "execution_count": null,
   "id": "compact-switzerland",
   "metadata": {},
   "outputs": [],
   "source": []
  }
 ],
 "metadata": {
  "kernelspec": {
   "display_name": "Python 3",
   "language": "python",
   "name": "python3"
  },
  "language_info": {
   "codemirror_mode": {
    "name": "ipython",
    "version": 3
   },
   "file_extension": ".py",
   "mimetype": "text/x-python",
   "name": "python",
   "nbconvert_exporter": "python",
   "pygments_lexer": "ipython3",
   "version": "3.7.9"
  }
 },
 "nbformat": 4,
 "nbformat_minor": 5
}
