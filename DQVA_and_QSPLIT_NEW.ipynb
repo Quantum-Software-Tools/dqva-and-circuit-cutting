{
 "cells": [
  {
   "cell_type": "code",
   "execution_count": 1,
   "id": "wound-costs",
   "metadata": {},
   "outputs": [],
   "source": [
    "import sys, glob, itertools\n",
    "import numpy as np\n",
    "import qiskit\n",
    "\n",
    "import networkx as nx\n",
    "from networkx.algorithms.community.kernighan_lin import kernighan_lin_bisection\n",
    "\n",
    "import utils.graph_funcs as graph_funcs\n",
    "import utils.helper_funcs as helper_funcs\n",
    "import utils.cutting_funcs as cutting_funcs\n",
    "\n",
    "import qsplit_circuit_cutter as qcc\n",
    "import qsplit_mlrecon_methods as qmm\n",
    "import qsplit_dqva_methods as qdm\n",
    "\n",
    "from ansatz import dqv_cut_ansatz"
   ]
  },
  {
   "cell_type": "code",
   "execution_count": 2,
   "id": "central-substitute",
   "metadata": {},
   "outputs": [
    {
     "data": {
      "image/png": "[encoded data removed]",
      "text/plain": [
       "<Figure size 432x288 with 1 Axes>"
      ]
     },
     "metadata": {},
     "output_type": "display_data"
    }
   ],
   "source": [
    "test_graphs = glob.glob(\"benchmark_graphs/N8_p30_graphs/*\")\n",
    "#test_graph = np.random.choice(test_graphs)\n",
    "G = graph_funcs.graph_from_file(test_graphs[0])\n",
    "qubit_num = G.number_of_nodes()\n",
    "nx.draw_spring(G, with_labels=True, node_color='gold')"
   ]
  },
  {
   "cell_type": "code",
   "execution_count": 3,
   "id": "digital-screw",
   "metadata": {},
   "outputs": [
    {
     "name": "stdout",
     "output_type": "stream",
     "text": [
      "Partition: ({0, 2, 4, 6}, {1, 3, 5, 7})\n",
      "Cut edges: [(0, 5), (5, 4)]\n",
      "Cut nodes: [0, 5, 5, 4] Hot nodes: [0, 4]\n"
     ]
    },
    {
     "data": {
      "image/png": "[encoded data removed]",
      "text/plain": [
       "<Figure size 432x288 with 1 Axes>"
      ]
     },
     "metadata": {},
     "output_type": "display_data"
    }
   ],
   "source": [
    "partition = kernighan_lin_bisection(G)\n",
    "print('Partition:', partition)\n",
    "subgraphs, cut_edges = graph_funcs.get_subgraphs(G, partition)\n",
    "cut_nodes, hot_nodes = cutting_funcs.choose_nodes(G, subgraphs, cut_edges, max_cuts=1)\n",
    "print('Cut edges:', cut_edges)\n",
    "print('Cut nodes:', cut_nodes, 'Hot nodes:', hot_nodes)\n",
    "graph_funcs.view_partition(partition, G)"
   ]
  },
  {
   "cell_type": "code",
   "execution_count": 48,
   "id": "conservative-supply",
   "metadata": {},
   "outputs": [
    {
     "name": "stdout",
     "output_type": "stream",
     "text": [
      "Initial state: 00000000\n",
      "mixer order: [3, 0, 2, 4, 5, 7, 6, 1]\n",
      "\n"
     ]
    }
   ],
   "source": [
    "nq = len(G.nodes())\n",
    "P = 1\n",
    "shots = 500000\n",
    "init_state = '0'*nq\n",
    "init_state = '00000000'\n",
    "print('Initial state:', init_state)\n",
    "\n",
    "num_params = P * (nq + 1)\n",
    "\n",
    "mixer_order = list(np.random.permutation(list(G.nodes)))\n",
    "print('mixer order:', mixer_order)\n",
    "print()"
   ]
  },
  {
   "cell_type": "code",
   "execution_count": 57,
   "id": "characteristic-carter",
   "metadata": {},
   "outputs": [],
   "source": [
    "def get_circuit_and_cuts(num_params, init_state, mixer_order):\n",
    "\n",
    "    params = [qiskit.circuit.Parameter('var_{}'.format(num)) for num in range(num_params)]\n",
    "    print('params:', params)\n",
    "\n",
    "    kwargs = dict(params=params, init_state=init_state, mixer_order=mixer_order,\n",
    "                  decompose_toffoli=1, verbose=1, P=P, barriers=2)\n",
    "    \n",
    "    circuit, cuts = dqv_cut_ansatz.gen_dqva(G, partition, cut_nodes, hot_nodes, **kwargs)\n",
    "    print(cuts)\n",
    "    fragments, wire_path_map = qcc.cut_circuit(circuit, cuts)\n",
    "    \n",
    "    return circuit, cuts, fragments, wire_path_map"
   ]
  },
  {
   "cell_type": "code",
   "execution_count": 58,
   "id": "chronic-commonwealth",
   "metadata": {},
   "outputs": [
    {
     "name": "stdout",
     "output_type": "stream",
     "text": [
      "params: [Parameter(var_0), Parameter(var_1), Parameter(var_2), Parameter(var_3), Parameter(var_4), Parameter(var_5), Parameter(var_6), Parameter(var_7), Parameter(var_8)]\n",
      "WARNING: mixer order changed from [3, 0, 2, 4, 5, 7, 6, 1] to [0, 2, 4, 6, 3, 5, 7, 1] to respect subgraph ordering\n",
      "Parameters:\n",
      "\talpha_0: [Parameter(var_0), Parameter(var_1), Parameter(var_2), Parameter(var_3), Parameter(var_4), Parameter(var_5), Parameter(var_6), Parameter(var_7)]\n",
      "\tgamma_0: var_8\n",
      "APPLYING MIXER UNITARY\n",
      "\tMixer order: [0, 2, 4, 6, 3, 5, 7, 1] Cut nodes: [0, 5, 5, 4] Hot nodes: [0, 4]\n",
      "\tinit_state: 00000000\n",
      "\talpha: [Parameter(var_0), Parameter(var_1), Parameter(var_2), Parameter(var_3), Parameter(var_4), Parameter(var_5), Parameter(var_6), Parameter(var_7)]\n",
      "\tpad_alpha: [Parameter(var_0), Parameter(var_6), Parameter(var_1), Parameter(var_4), Parameter(var_2), None, Parameter(var_3), Parameter(var_5)]\n",
      "\tSwap qubit = 3\n",
      "\tqubit: 0 num_qubits = 10 neighbors: [2, 5, 6]\n",
      "\tqubit: 2 num_qubits = 10 neighbors: [0, 4, 6]\n",
      "\tqubit: 4 num_qubits = 10 neighbors: [2, 5]\n",
      "\tqubit: 6 num_qubits = 10 neighbors: [0, 2]\n",
      "\tcuts: [(Qubit(QuantumRegister(8, 'q'), 5), 12)]\n",
      "\tqubit: 3 num_qubits = 10 neighbors: [5]\n",
      "\tqubit: 7 num_qubits = 10 neighbors: [1, 5]\n",
      "\tqubit: 1 num_qubits = 10 neighbors: [7]\n",
      "i = 0 and cuts = [(Qubit(QuantumRegister(8, 'q'), 5), 12)]\n",
      "Outside loop, cuts = [(Qubit(QuantumRegister(8, 'q'), 5), 12)]\n",
      "fixed cuts: [(Qubit(QuantumRegister(8, 'q'), 5), 13)]\n",
      "[(Qubit(QuantumRegister(8, 'q'), 5), 13)]\n",
      "Cuts: [(Qubit(QuantumRegister(8, 'q'), 5), 13)]\n",
      "Fragments: [<qiskit.circuit.quantumcircuit.QuantumCircuit object at 0x7ff32e16c250>, <qiskit.circuit.quantumcircuit.QuantumCircuit object at 0x7ff32e16c8d0>]\n",
      "wire path map: {Qubit(QuantumRegister(8, 'q'), 0): ((0, Qubit(QuantumRegister(6, 'q'), 2)),), Qubit(QuantumRegister(8, 'q'), 1): ((1, Qubit(QuantumRegister(5, 'q'), 4)),), Qubit(QuantumRegister(8, 'q'), 2): ((0, Qubit(QuantumRegister(6, 'q'), 0)),), Qubit(QuantumRegister(8, 'q'), 3): ((1, Qubit(QuantumRegister(5, 'q'), 3)),), Qubit(QuantumRegister(8, 'q'), 4): ((0, Qubit(QuantumRegister(6, 'q'), 4)),), Qubit(QuantumRegister(8, 'q'), 5): ((0, Qubit(QuantumRegister(6, 'q'), 5)), (1, Qubit(QuantumRegister(5, 'q'), 0))), Qubit(QuantumRegister(8, 'q'), 6): ((0, Qubit(QuantumRegister(6, 'q'), 3)),), Qubit(QuantumRegister(8, 'q'), 7): ((1, Qubit(QuantumRegister(5, 'q'), 1)),), AncillaQubit(AncillaRegister(2, 'anc'), 0): ((0, Qubit(QuantumRegister(6, 'q'), 1)),), AncillaQubit(AncillaRegister(2, 'anc'), 1): ((1, Qubit(QuantumRegister(5, 'q'), 2)),)}\n"
     ]
    },
    {
     "data": {
      "text/html": [
       "<pre style=\"word-wrap: normal;white-space: pre;background: #fff0;line-height: 1.1;font-family: &quot;Courier New&quot;,Courier,monospace\">        ░                ┌─────────────┐                ░ ┌───┐     ┌───┐     ┌───┐               ┌───┐ ░                                               ░ ┌───┐          ┌───┐     ┌───┐     ┌───┐ ░                                               ░                                          ░                                               ░  ░ ┌─────────────┐ ░ \n",
       "  q_0: ─░────────────────┤ RX(2*var_0) ├────────────────░─┤ X ├──■──┤ X ├─────┤ X ├────────────■──┤ X ├─░───────────────────────────────────────────────░─┤ X ├──■───────┤ X ├─────┤ X ├──■──┤ X ├─░───────────────────────────────────────────────░──────────────────────────────────────────░───────────────────────────────────────────────░──░─┤ RZ(2*var_8) ├─░─\n",
       "        ░                └──────┬──────┘                ░ └───┘  │  └───┘     └───┘            │  └───┘ ░                                               ░ └───┘  │       └───┘     └───┘  │  └───┘ ░                                               ░ ┌───┐          ┌───┐     ┌───┐     ┌───┐ ░                ┌─────────────┐                ░  ░ ├─────────────┤ ░ \n",
       "  q_1: ─░───────────────────────┼───────────────────────░────────┼─────────────────────────────┼────────░───────────────────────────────────────────────░────────┼────────────────────────┼────────░───────────────────────────────────────────────░─┤ X ├──■───────┤ X ├─────┤ X ├──■──┤ X ├─░────────────────┤ RX(2*var_6) ├────────────────░──░─┤ RZ(2*var_8) ├─░─\n",
       "        ░ ┌───┐     ┌───┐       │       ┌───┐     ┌───┐ ░        │       ┌─────────────┐       │        ░ ┌───┐     ┌───┐     ┌───┐               ┌───┐ ░ ┌───┐  │       ┌───┐     ┌───┐  │  ┌───┐ ░                                               ░ └───┘  │       └───┘     └───┘  │  └───┘ ░                └──────┬──────┘                ░  ░ ├─────────────┤ ░ \n",
       "  q_2: ─░─┤ X ├──■──┤ X ├───────┼───────┤ X ├──■──┤ X ├─░────────┼───────┤ RX(2*var_1) ├───────┼────────░─┤ X ├──■──┤ X ├─────┤ X ├────────────■──┤ X ├─░─┤ X ├──■───────┤ X ├─────┤ X ├──■──┤ X ├─░───────────────────────────────────────────────░────────┼────────────────────────┼────────░───────────────────────┼───────────────────────░──░─┤ RZ(2*var_8) ├─░─\n",
       "        ░ └───┘  │  └───┘       │       └───┘  │  └───┘ ░        │       └──────┬──────┘       │        ░ └───┘  │  └───┘     └───┘            │  └───┘ ░ └───┘  │       └───┘     └───┘  │  └───┘ ░                ┌─────────────┐                ░        │                        │        ░                       │                       ░  ░ ├─────────────┤ ░ \n",
       "  q_3: ─░────────┼──────────────┼──────────────┼────────░────────┼──────────────┼──────────────┼────────░────────┼─────────────────────────────┼────────░────────┼────────────────────────┼────────░────────────────┤ RX(2*var_4) ├────────────────░────────┼────────────────────────┼────────░───────────────────────┼───────────────────────░──░─┤ RZ(2*var_8) ├─░─\n",
       "        ░        │              │              │        ░ ┌───┐  │  ┌───┐       │       ┌───┐  │  ┌───┐ ░        │       ┌─────────────┐       │        ░        │                        │        ░                └──────┬──────┘                ░        │                        │        ░                       │                       ░  ░ ├─────────────┤ ░ \n",
       "  q_4: ─░────────┼──────────────┼──────────────┼────────░─┤ X ├──■──┤ X ├───────┼───────┤ X ├──■──┤ X ├─░────────┼───────┤ RX(2*var_2) ├───────┼────────░────────┼────────────────────────┼────────░───────────────────────┼───────────────────────░────────┼────────────────────────┼────────░───────────────────────┼───────────────────────░──░─┤ RZ(2*var_8) ├─░─\n",
       "        ░ ┌───┐  │  ┌───┐       │       ┌───┐  │  ┌───┐ ░ └───┘  │  └───┘       │       └───┘  │  └───┘ ░ ┌───┐  │  ┌───┐└──────┬──────┘┌───┐  │  ┌───┐ ░        │                        │        ░ ┌───┐     ┌───┐       │       ┌───┐     ┌───┐ ░ ┌───┐  │       ┌───┐     ┌───┐  │  ┌───┐ ░                       │                       ░  ░ ├─────────────┤ ░ \n",
       "  q_5: ─░─┤ X ├──■──┤ X ├───────┼───────┤ X ├──■──┤ X ├─░────────┼──────────────┼──────────────┼────────░─┤ X ├──■──┤ X ├───────┼───────┤ X ├──■──┤ X ├─░────────┼────────────────────────┼────────░─┤ X ├──■──┤ X ├───────┼───────┤ X ├──■──┤ X ├─░─┤ X ├──■───────┤ X ├─────┤ X ├──■──┤ X ├─░───────────────────────┼───────────────────────░──░─┤ RZ(2*var_8) ├─░─\n",
       "        ░ ├───┤  │  ├───┤       │       ├───┤  │  ├───┤ ░ ┌───┐  │  ┌───┐       │       ┌───┐  │  ┌───┐ ░ └───┘  │  └───┘       │       └───┘  │  └───┘ ░        │  ┌─────────────┐       │        ░ └───┘  │  └───┘       │       └───┘  │  └───┘ ░ └───┘  │       └───┘     └───┘  │  └───┘ ░                       │                       ░  ░ ├─────────────┤ ░ \n",
       "  q_6: ─░─┤ X ├──■──┤ X ├───────┼───────┤ X ├──■──┤ X ├─░─┤ X ├──■──┤ X ├───────┼───────┤ X ├──■──┤ X ├─░────────┼──────────────┼──────────────┼────────░────────┼──┤ RX(2*var_3) ├───────┼────────░────────┼──────────────┼──────────────┼────────░────────┼────────────────────────┼────────░───────────────────────┼───────────────────────░──░─┤ RZ(2*var_8) ├─░─\n",
       "        ░ └───┘  │  └───┘       │       └───┘  │  └───┘ ░ └───┘  │  └───┘       │       └───┘  │  └───┘ ░        │              │              │        ░        │  └──────┬──────┘       │        ░        │              │              │        ░        │  ┌─────────────┐       │        ░ ┌───┐     ┌───┐       │       ┌───┐     ┌───┐ ░  ░ ├─────────────┤ ░ \n",
       "  q_7: ─░────────┼──────────────┼──────────────┼────────░────────┼──────────────┼──────────────┼────────░────────┼──────────────┼──────────────┼────────░────────┼─────────┼──────────────┼────────░────────┼──────────────┼──────────────┼────────░────────┼──┤ RX(2*var_5) ├───────┼────────░─┤ X ├──■──┤ X ├───────┼───────┤ X ├──■──┤ X ├─░──░─┤ RZ(2*var_8) ├─░─\n",
       "        ░      ┌─┴─┐            │            ┌─┴─┐      ░      ┌─┴─┐            │            ┌─┴─┐      ░      ┌─┴─┐            │            ┌─┴─┐      ░      ┌─┴─┐       │            ┌─┴─┐      ░        │              │              │        ░        │  └──────┬──────┘       │        ░ └───┘  │  └───┘       │       └───┘  │  └───┘ ░  ░ └─────────────┘ ░ \n",
       "anc_0: ─░──────┤ X ├────────────■────────────┤ X ├──────░──────┤ X ├────────────■────────────┤ X ├──────░──────┤ X ├────────────■────────────┤ X ├──────░──────┤ X ├───────■────────────┤ X ├──────░────────┼──────────────┼──────────────┼────────░────────┼─────────┼──────────────┼────────░────────┼──────────────┼──────────────┼────────░──░─────────────────░─\n",
       "        ░      └───┘                         └───┘      ░      └───┘                         └───┘      ░      └───┘                         └───┘      ░      └───┘                    └───┘      ░      ┌─┴─┐            │            ┌─┴─┐      ░      ┌─┴─┐       │            ┌─┴─┐      ░      ┌─┴─┐            │            ┌─┴─┐      ░  ░                 ░ \n",
       "anc_1: ─░───────────────────────────────────────────────░───────────────────────────────────────────────░───────────────────────────────────────────────░──────────────────────────────────────────░──────┤ X ├────────────■────────────┤ X ├──────░──────┤ X ├───────■────────────┤ X ├──────░──────┤ X ├────────────■────────────┤ X ├──────░──░─────────────────░─\n",
       "        ░                                               ░                                               ░                                               ░                                          ░      └───┘                         └───┘      ░      └───┘                    └───┘      ░      └───┘                         └───┘      ░  ░                 ░ </pre>"
      ],
      "text/plain": [
       "        ░                ┌─────────────┐                ░ ┌───┐     ┌───┐     ┌───┐               ┌───┐ ░                                               ░ ┌───┐          ┌───┐     ┌───┐     ┌───┐ ░                                               ░                                          ░                                               ░  ░ ┌─────────────┐ ░ \n",
       "  q_0: ─░────────────────┤ RX(2*var_0) ├────────────────░─┤ X ├──■──┤ X ├─────┤ X ├────────────■──┤ X ├─░───────────────────────────────────────────────░─┤ X ├──■───────┤ X ├─────┤ X ├──■──┤ X ├─░───────────────────────────────────────────────░──────────────────────────────────────────░───────────────────────────────────────────────░──░─┤ RZ(2*var_8) ├─░─\n",
       "        ░                └──────┬──────┘                ░ └───┘  │  └───┘     └───┘            │  └───┘ ░                                               ░ └───┘  │       └───┘     └───┘  │  └───┘ ░                                               ░ ┌───┐          ┌───┐     ┌───┐     ┌───┐ ░                ┌─────────────┐                ░  ░ ├─────────────┤ ░ \n",
       "  q_1: ─░───────────────────────┼───────────────────────░────────┼─────────────────────────────┼────────░───────────────────────────────────────────────░────────┼────────────────────────┼────────░───────────────────────────────────────────────░─┤ X ├──■───────┤ X ├─────┤ X ├──■──┤ X ├─░────────────────┤ RX(2*var_6) ├────────────────░──░─┤ RZ(2*var_8) ├─░─\n",
       "        ░ ┌───┐     ┌───┐       │       ┌───┐     ┌───┐ ░        │       ┌─────────────┐       │        ░ ┌───┐     ┌───┐     ┌───┐               ┌───┐ ░ ┌───┐  │       ┌───┐     ┌───┐  │  ┌───┐ ░                                               ░ └───┘  │       └───┘     └───┘  │  └───┘ ░                └──────┬──────┘                ░  ░ ├─────────────┤ ░ \n",
       "  q_2: ─░─┤ X ├──■──┤ X ├───────┼───────┤ X ├──■──┤ X ├─░────────┼───────┤ RX(2*var_1) ├───────┼────────░─┤ X ├──■──┤ X ├─────┤ X ├────────────■──┤ X ├─░─┤ X ├──■───────┤ X ├─────┤ X ├──■──┤ X ├─░───────────────────────────────────────────────░────────┼────────────────────────┼────────░───────────────────────┼───────────────────────░──░─┤ RZ(2*var_8) ├─░─\n",
       "        ░ └───┘  │  └───┘       │       └───┘  │  └───┘ ░        │       └──────┬──────┘       │        ░ └───┘  │  └───┘     └───┘            │  └───┘ ░ └───┘  │       └───┘     └───┘  │  └───┘ ░                ┌─────────────┐                ░        │                        │        ░                       │                       ░  ░ ├─────────────┤ ░ \n",
       "  q_3: ─░────────┼──────────────┼──────────────┼────────░────────┼──────────────┼──────────────┼────────░────────┼─────────────────────────────┼────────░────────┼────────────────────────┼────────░────────────────┤ RX(2*var_4) ├────────────────░────────┼────────────────────────┼────────░───────────────────────┼───────────────────────░──░─┤ RZ(2*var_8) ├─░─\n",
       "        ░        │              │              │        ░ ┌───┐  │  ┌───┐       │       ┌───┐  │  ┌───┐ ░        │       ┌─────────────┐       │        ░        │                        │        ░                └──────┬──────┘                ░        │                        │        ░                       │                       ░  ░ ├─────────────┤ ░ \n",
       "  q_4: ─░────────┼──────────────┼──────────────┼────────░─┤ X ├──■──┤ X ├───────┼───────┤ X ├──■──┤ X ├─░────────┼───────┤ RX(2*var_2) ├───────┼────────░────────┼────────────────────────┼────────░───────────────────────┼───────────────────────░────────┼────────────────────────┼────────░───────────────────────┼───────────────────────░──░─┤ RZ(2*var_8) ├─░─\n",
       "        ░ ┌───┐  │  ┌───┐       │       ┌───┐  │  ┌───┐ ░ └───┘  │  └───┘       │       └───┘  │  └───┘ ░ ┌───┐  │  ┌───┐└──────┬──────┘┌───┐  │  ┌───┐ ░        │                        │        ░ ┌───┐     ┌───┐       │       ┌───┐     ┌───┐ ░ ┌───┐  │       ┌───┐     ┌───┐  │  ┌───┐ ░                       │                       ░  ░ ├─────────────┤ ░ \n",
       "  q_5: ─░─┤ X ├──■──┤ X ├───────┼───────┤ X ├──■──┤ X ├─░────────┼──────────────┼──────────────┼────────░─┤ X ├──■──┤ X ├───────┼───────┤ X ├──■──┤ X ├─░────────┼────────────────────────┼────────░─┤ X ├──■──┤ X ├───────┼───────┤ X ├──■──┤ X ├─░─┤ X ├──■───────┤ X ├─────┤ X ├──■──┤ X ├─░───────────────────────┼───────────────────────░──░─┤ RZ(2*var_8) ├─░─\n",
       "        ░ ├───┤  │  ├───┤       │       ├───┤  │  ├───┤ ░ ┌───┐  │  ┌───┐       │       ┌───┐  │  ┌───┐ ░ └───┘  │  └───┘       │       └───┘  │  └───┘ ░        │  ┌─────────────┐       │        ░ └───┘  │  └───┘       │       └───┘  │  └───┘ ░ └───┘  │       └───┘     └───┘  │  └───┘ ░                       │                       ░  ░ ├─────────────┤ ░ \n",
       "  q_6: ─░─┤ X ├──■──┤ X ├───────┼───────┤ X ├──■──┤ X ├─░─┤ X ├──■──┤ X ├───────┼───────┤ X ├──■──┤ X ├─░────────┼──────────────┼──────────────┼────────░────────┼──┤ RX(2*var_3) ├───────┼────────░────────┼──────────────┼──────────────┼────────░────────┼────────────────────────┼────────░───────────────────────┼───────────────────────░──░─┤ RZ(2*var_8) ├─░─\n",
       "        ░ └───┘  │  └───┘       │       └───┘  │  └───┘ ░ └───┘  │  └───┘       │       └───┘  │  └───┘ ░        │              │              │        ░        │  └──────┬──────┘       │        ░        │              │              │        ░        │  ┌─────────────┐       │        ░ ┌───┐     ┌───┐       │       ┌───┐     ┌───┐ ░  ░ ├─────────────┤ ░ \n",
       "  q_7: ─░────────┼──────────────┼──────────────┼────────░────────┼──────────────┼──────────────┼────────░────────┼──────────────┼──────────────┼────────░────────┼─────────┼──────────────┼────────░────────┼──────────────┼──────────────┼────────░────────┼──┤ RX(2*var_5) ├───────┼────────░─┤ X ├──■──┤ X ├───────┼───────┤ X ├──■──┤ X ├─░──░─┤ RZ(2*var_8) ├─░─\n",
       "        ░      ┌─┴─┐            │            ┌─┴─┐      ░      ┌─┴─┐            │            ┌─┴─┐      ░      ┌─┴─┐            │            ┌─┴─┐      ░      ┌─┴─┐       │            ┌─┴─┐      ░        │              │              │        ░        │  └──────┬──────┘       │        ░ └───┘  │  └───┘       │       └───┘  │  └───┘ ░  ░ └─────────────┘ ░ \n",
       "anc_0: ─░──────┤ X ├────────────■────────────┤ X ├──────░──────┤ X ├────────────■────────────┤ X ├──────░──────┤ X ├────────────■────────────┤ X ├──────░──────┤ X ├───────■────────────┤ X ├──────░────────┼──────────────┼──────────────┼────────░────────┼─────────┼──────────────┼────────░────────┼──────────────┼──────────────┼────────░──░─────────────────░─\n",
       "        ░      └───┘                         └───┘      ░      └───┘                         └───┘      ░      └───┘                         └───┘      ░      └───┘                    └───┘      ░      ┌─┴─┐            │            ┌─┴─┐      ░      ┌─┴─┐       │            ┌─┴─┐      ░      ┌─┴─┐            │            ┌─┴─┐      ░  ░                 ░ \n",
       "anc_1: ─░───────────────────────────────────────────────░───────────────────────────────────────────────░───────────────────────────────────────────────░──────────────────────────────────────────░──────┤ X ├────────────■────────────┤ X ├──────░──────┤ X ├───────■────────────┤ X ├──────░──────┤ X ├────────────■────────────┤ X ├──────░──░─────────────────░─\n",
       "        ░                                               ░                                               ░                                               ░                                          ░      └───┘                         └───┘      ░      └───┘                    └───┘      ░      └───┘                         └───┘      ░  ░                 ░ "
      ]
     },
     "execution_count": 58,
     "metadata": {},
     "output_type": "execute_result"
    }
   ],
   "source": [
    "circuit, cuts, fragments, wire_path_map = get_circuit_and_cuts(num_params, init_state, mixer_order)\n",
    "print('Cuts:', cuts)\n",
    "print('Fragments:', fragments)\n",
    "print('wire path map:', wire_path_map)\n",
    "circuit.draw(fold=-1)"
   ]
  },
  {
   "cell_type": "code",
   "execution_count": 59,
   "id": "11964fbe-57c5-4922-81a6-0a8e0f2e0632",
   "metadata": {},
   "outputs": [],
   "source": [
    "def digit_substr(string):\n",
    "    return \"\".join(filter(str.isdigit, string))\n",
    "\n",
    "def bind(circuit, params):\n",
    "    binding = {circuit_param : params[int(digit_substr(circuit_param.name))]\n",
    "               for circuit_param in circuit.parameters}\n",
    "    return circuit.bind_parameters(binding)\n",
    "\n",
    "def get_circuit_output(params, var_fragments, wire_path_map, frag_shots):\n",
    "    fragments = [bind(fragment, params) for fragment in var_fragments]\n",
    "    recombined_dist = cutting_funcs.sim_with_cutting(fragments, wire_path_map, frag_shots, backend)\n",
    "    return recombined_dist"
   ]
  },
  {
   "cell_type": "code",
   "execution_count": 60,
   "id": "8a34f337-f193-4e94-91f7-77e3d6f01a2d",
   "metadata": {},
   "outputs": [
    {
     "name": "stdout",
     "output_type": "stream",
     "text": [
      "71428\n",
      "Model time: 3.390, Recombine time: 0.013\n",
      "{'0000100001': 0.05271767544211459, '0000100011': 0.05271767544211459, '0010001001': 0.03376690649330689, '0000001001': 0.07022724175966395, '0000000011': 0.017353393299531002, '0000001011': 0.07022724175966394, '0000110001': 0.0523410046888178, '0000110011': 0.0523410046888178, '0010011001': 0.07298632815736361, '0000011001': 0.06442565918652497, '0000010011': 0.036421202423602646, '0000011011': 0.06442565918652496, '0001100000': 0.018341716610884882, '0001100010': 0.018341716610884882, '0011001000': 0.022081628581670582, '0001001000': 0.014312933417572738, '0001000010': 0.01665883275600884, '0001001010': 0.014312933417572735, '0000100100': 0.036512693042546486, '0000100110': 0.036512693042546486, '0010001100': 0.02030824755467765, '0000001100': 0.02849262997031043, '0000000110': 0.001630591102372631, '0000001110': 0.02849262997031043, '0000100000': 0.018341716610884882, '0000100010': 0.018341716610884882, '0010001000': 0.022081628581670582, '0000001000': 0.014312933417572738, '0000000010': 0.01665883275600884, '0000001010': 0.014312933417572735}\n",
      "\n",
      "{'0000000000': 0.00089, '0000000001': 0.02926, '0000000010': 0.00068, '0000000011': 0.02222, '0000000100': 0.01018, '0000000110': 0.00773, '0000001000': 0.0102, '0000001001': 0.33438, '0000001010': 0.00775, '0000001011': 0.25393, '0000001100': 0.1163, '0000001110': 0.08832, '0000010000': 2e-05, '0000010001': 0.00059, '0000010010': 1e-05, '0000010011': 0.00045, '0000011000': 0.00021, '0000011001': 0.00679, '0000011010': 0.00016, '0000011011': 0.00516, '0001000000': 0.0012, '0001000010': 0.00091, '0001001000': 0.01367, '0001001010': 0.01038, '0001010000': 2e-05, '0001010010': 2e-05, '0001011000': 0.00028, '0001011010': 0.00021, '0010000000': 0.00013, '0010000001': 0.00436, '0010000100': 0.00152, '0010001000': 0.00152, '0010001001': 0.04982, '0010001100': 0.01733, '0010010001': 9e-05, '0010011000': 3e-05, '0010011001': 0.00101, '0011000000': 0.00018, '0011001000': 0.00204, '0011011000': 4e-05}\n",
      "0.36581739060312224\n"
     ]
    }
   ],
   "source": [
    "frag_shots = shots // qmm.fragment_variants(wire_path_map)\n",
    "print(frag_shots)\n",
    "init_params = np.arange(1, num_params+1)\n",
    "backend = qiskit.Aer.get_backend('statevector_simulator')\n",
    "recombined_dist = get_circuit_output(init_params, fragments, wire_path_map, frag_shots)\n",
    "print(recombined_dist)\n",
    "\n",
    "full_circuit = bind(circuit, init_params)\n",
    "result = qiskit.execute(full_circuit, backend=backend).result()\n",
    "sv = result.get_statevector(full_circuit)\n",
    "exact_dist = qiskit.quantum_info.Statevector(sv).probabilities_dict(decimals=5)\n",
    "print()\n",
    "print(exact_dist)\n",
    "\n",
    "print(qiskit.quantum_info.hellinger_fidelity(recombined_dist, exact_dist))"
   ]
  },
  {
   "cell_type": "code",
   "execution_count": 75,
   "id": "93f0e3e8-7fe6-4661-9354-6737fee1bc8c",
   "metadata": {},
   "outputs": [
    {
     "name": "stdout",
     "output_type": "stream",
     "text": [
      "[(Qubit(QuantumRegister(3, 'q'), 1), 1)]\n",
      "     ┌───┐          \n",
      "q_0: ┤ H ├──■───────\n",
      "     └───┘┌─┴─┐     \n",
      "q_1: ─────┤ X ├──■──\n",
      "          └───┘┌─┴─┐\n",
      "q_2: ──────────┤ X ├\n",
      "               └───┘\n",
      "Fragment 1\n",
      "     ┌───┐     \n",
      "q_0: ┤ H ├──■──\n",
      "     └───┘┌─┴─┐\n",
      "q_1: ─────┤ X ├\n",
      "          └───┘\n",
      "Fragment 2\n",
      "          \n",
      "q_0: ──■──\n",
      "     ┌─┴─┐\n",
      "q_1: ┤ X ├\n",
      "     └───┘\n",
      "frag shots: 142857\n",
      "Model time: 3.737, Recombine time: 0.003\n",
      "{'001': 0.2857142857142856, '111': 0.3428571428571429, '000': 0.28571428571428564, '110': 0.08571428571428578}\n",
      "\n",
      "{'000': 0.5, '111': 0.5}\n",
      "Hellinger fidelity: 0.5439340054494741\n"
     ]
    }
   ],
   "source": [
    "# Build a simple circuit\n",
    "my_circ = qiskit.QuantumCircuit(3, name='q')\n",
    "my_circ.h(0)\n",
    "my_circ.cx(0,1)\n",
    "my_circ.cx(1,2)\n",
    "\n",
    "# Cut it after the first CNOT on qubit 1\n",
    "cuts = [(qiskit.circuit.Qubit(qiskit.QuantumRegister(3, 'q'), 1), 1)]\n",
    "print(cuts)\n",
    "print(my_circ)\n",
    "\n",
    "# Cut the circuit\n",
    "fragments, wire_path_map = qcc.cut_circuit(my_circ, cuts)\n",
    "for i, frag in enumerate(fragments):\n",
    "    print('Fragment', i+1)\n",
    "    print(frag)\n",
    "shots = 100000\n",
    "frag_shots = shots // qmm.fragment_variants(wire_path_map)\n",
    "print('frag shots:', frag_shots)\n",
    "\n",
    "# Simulate and recombine\n",
    "backend = qiskit.Aer.get_backend('statevector_simulator')\n",
    "recombined_dist = cutting_funcs.sim_with_cutting(fragments, wire_path_map, frag_shots, backend)\n",
    "print(recombined_dist)\n",
    "\n",
    "# Evaluate the original circuit for comparison\n",
    "result = qiskit.execute(my_circ, backend=backend).result()\n",
    "sv = result.get_statevector(my_circ)\n",
    "exact_dist = qiskit.quantum_info.Statevector(sv).probabilities_dict(decimals=5)\n",
    "print()\n",
    "print(exact_dist)\n",
    "\n",
    "# Compute the Hellinger Fidelity\n",
    "print('Hellinger fidelity:', qiskit.quantum_info.hellinger_fidelity(recombined_dist, exact_dist))"
   ]
  },
  {
   "cell_type": "code",
   "execution_count": null,
   "id": "e27ea712-2e35-4102-a4b4-fa46196c955e",
   "metadata": {},
   "outputs": [],
   "source": [
    "def avg_cost(params, *args):\n",
    "    probs = get_circuit_output(params, *args)"
   ]
  },
  {
   "cell_type": "code",
   "execution_count": null,
   "id": "7debe98a-7614-4eac-bdf6-784b6c67e098",
   "metadata": {},
   "outputs": [],
   "source": [
    "args = (fragments, wire_path_map, frag_shots)\n",
    "init_params = np.random.uniform(low=0.0, high=2*np.pi, size=num_params)\n",
    "out = minimize(avg_cost, init_params, args=args, method='COBYLA')"
   ]
  }
 ],
 "metadata": {
  "kernelspec": {
   "display_name": "Python 3",
   "language": "python",
   "name": "python3"
  },
  "language_info": {
   "codemirror_mode": {
    "name": "ipython",
    "version": 3
   },
   "file_extension": ".py",
   "mimetype": "text/x-python",
   "name": "python",
   "nbconvert_exporter": "python",
   "pygments_lexer": "ipython3",
   "version": "3.7.9"
  }
 },
 "nbformat": 4,
 "nbformat_minor": 5
}
