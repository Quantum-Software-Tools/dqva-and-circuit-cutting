{
 "cells": [
  {
   "cell_type": "code",
   "execution_count": 2,
   "metadata": {},
   "outputs": [
    {
     "name": "stdout",
     "output_type": "stream",
     "text": [
      "Generating 3x4, 1+8+1 supremacy circuit\n",
      "0.16835766300000188\n",
      "71.609787798\n",
      "fidelity: 0.9999999999999987\n"
     ]
    }
   ],
   "source": [
    "from qcg.generators import gen_supremacy, gen_hwea\n",
    "from qiskit import BasicAer, execute\n",
    "from qiskit.circuit.quantumregister import QuantumRegister\n",
    "from qiskit import QuantumCircuit\n",
    "from qiskit.quantum_info.states.measures import state_fidelity\n",
    "import numpy as np\n",
    "import timeit\n",
    "\n",
    "circ = gen_supremacy(3,4,8,'71230456')\n",
    "\n",
    "start = timeit.default_timer()\n",
    "backend = BasicAer.get_backend('statevector_simulator')\n",
    "job = execute(circ, backend)\n",
    "desired_vector = job.result().get_statevector(circ)\n",
    "end = timeit.default_timer()\n",
    "print(end-start)\n",
    "\n",
    "start = timeit.default_timer()\n",
    "q = QuantumRegister(12)\n",
    "qc = QuantumCircuit(q)\n",
    "qc.initialize(desired_vector, q)\n",
    "job = execute(qc, backend)\n",
    "qc_state = job.result().get_statevector(qc)\n",
    "end = timeit.default_timer()\n",
    "print(end-start)\n",
    "\n",
    "print('fidelity:', state_fidelity(desired_vector,qc_state))"
   ]
  },
  {
   "cell_type": "code",
   "execution_count": null,
   "metadata": {},
   "outputs": [],
   "source": []
  }
 ],
 "metadata": {
  "kernelspec": {
   "display_name": "venv",
   "language": "python",
   "name": "venv"
  },
  "language_info": {
   "codemirror_mode": {
    "name": "ipython",
    "version": 3
   },
   "file_extension": ".py",
   "mimetype": "text/x-python",
   "name": "python",
   "nbconvert_exporter": "python",
   "pygments_lexer": "ipython3",
   "version": "3.7.3"
  }
 },
 "nbformat": 4,
 "nbformat_minor": 4
}
