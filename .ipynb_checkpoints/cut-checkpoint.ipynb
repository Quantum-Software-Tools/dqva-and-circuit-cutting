{
 "cells": [
  {
   "cell_type": "code",
   "execution_count": 13,
   "metadata": {},
   "outputs": [
    {
     "name": "stdout",
     "output_type": "stream",
     "text": [
      "{'100 1': 555, '000 1': 469}\n",
      "[ClassicalRegister(1, 'c'), ClassicalRegister(3, 'measure_c')]\n",
      "                     ┌───┐┌─┐   \n",
      "       q_0: |0>──────┤ X ├┤M├───\n",
      "               ┌─┐   └───┘└╥┘   \n",
      "       q_1: |0>┤M├─────────╫────\n",
      "               └╥┘┌─┐      ║    \n",
      "       q_2: |0>─╫─┤M├──────╫────\n",
      "                ║ └╥┘┌───┐ ║ ┌─┐\n",
      "       q_3: |0>─╫──╫─┤ H ├─╫─┤M├\n",
      "                ║  ║ └───┘ ║ └╥┘\n",
      "        c_0: 0 ═╬══╬═══════╩══╬═\n",
      "                ║  ║          ║ \n",
      "measure_c_0: 0 ═╩══╬══════════╬═\n",
      "                   ║          ║ \n",
      "measure_c_1: 0 ════╩══════════╬═\n",
      "                              ║ \n",
      "measure_c_2: 0 ═══════════════╩═\n",
      "                                \n"
     ]
    }
   ],
   "source": [
    "from qiskit.converters import circuit_to_dag, dag_to_circuit\n",
    "from qiskit.tools.visualization import dag_drawer\n",
    "from cutting_help_fun import *\n",
    "import pickle\n",
    "import networkx as nx\n",
    "from qiskit import BasicAer, execute\n",
    "\n",
    "num_qubits = 4\n",
    "q = QuantumRegister(num_qubits, 'q')\n",
    "c = ClassicalRegister(1, 'c')\n",
    "meas_c = ClassicalRegister(3, 'measure_c')\n",
    "circ = QuantumCircuit(q,c,meas_c)\n",
    "circ.x(q[0])\n",
    "circ.h(q[3])\n",
    "circ.measure(q[:1],c)\n",
    "circ.measure(q[1:],meas_c)\n",
    "\n",
    "backend_sim = BasicAer.get_backend('qasm_simulator')\n",
    "job_sim = execute(circ, backend_sim, shots=1024)\n",
    "result_sim = job_sim.result()\n",
    "counts = result_sim.get_counts(circ)\n",
    "print(counts)\n",
    "print(circ.cregs)\n",
    "\n",
    "print(circ)\n",
    "\n"
   ]
  },
  {
   "cell_type": "code",
   "execution_count": 22,
   "metadata": {},
   "outputs": [
    {
     "name": "stdout",
     "output_type": "stream",
     "text": [
      "[1, 2, 3]\n"
     ]
    }
   ],
   "source": [
    "dictionary = {}\n",
    "dictionary[12] = 'a'\n",
    "dictionary[21] = 'b'\n",
    "dictionary[33] = 'c'\n",
    "print(list(dictionary.keys()).index(21))"
   ]
  },
  {
   "cell_type": "code",
   "execution_count": null,
   "metadata": {},
   "outputs": [],
   "source": []
  }
 ],
 "metadata": {
  "kernelspec": {
   "display_name": "venv",
   "language": "python",
   "name": "venv"
  },
  "language_info": {
   "codemirror_mode": {
    "name": "ipython",
    "version": 3
   },
   "file_extension": ".py",
   "mimetype": "text/x-python",
   "name": "python",
   "nbconvert_exporter": "python",
   "pygments_lexer": "ipython3",
   "version": "3.7.3"
  }
 },
 "nbformat": 4,
 "nbformat_minor": 2
}
