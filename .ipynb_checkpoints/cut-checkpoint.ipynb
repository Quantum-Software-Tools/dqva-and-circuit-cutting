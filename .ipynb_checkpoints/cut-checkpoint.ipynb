{
 "cells": [
  {
   "cell_type": "code",
   "execution_count": 4,
   "metadata": {
    "scrolled": false
   },
   "outputs": [
    {
     "name": "stdout",
     "output_type": "stream",
     "text": [
      "will run 877 times\n",
      "(4, 14) [('q[0]0,q[1]0', 'q[0]1,q[4]1'), ('q[0]0,q[1]0', 'q[1]1,q[2]1'), ('q[4]0,q[5]0', 'q[5]1,q[6]1'), ('q[4]2,q[8]2', 'q[8]1,q[12]1')]\n",
      "(6, 9) [('q[0]1,q[4]1', 'q[4]2,q[8]2'), ('q[1]2,q[5]2', 'q[5]3,q[9]3'), ('q[2]2,q[6]2', 'q[6]3,q[10]3'), ('q[10]0,q[11]0', 'q[9]1,q[10]1'), ('q[11]1,q[15]1', 'q[7]2,q[11]2'), ('q[13]1,q[14]1', 'q[14]0,q[15]0')]\n",
      "(5, 12) [('q[0]0,q[1]0', 'q[1]1,q[2]1'), ('q[4]0,q[5]0', 'q[5]1,q[6]1'), ('q[0]1,q[4]1', 'q[4]2,q[8]2'), ('q[8]0,q[9]0', 'q[9]1,q[10]1'), ('q[12]0,q[13]0', 'q[13]1,q[14]1')]\n",
      "(7, 8) [('q[1]1,q[2]1', 'q[2]0,q[3]0'), ('q[5]1,q[6]1', 'q[6]0,q[7]0'), ('q[1]2,q[5]2', 'q[5]3,q[9]3'), ('q[10]0,q[11]0', 'q[11]1,q[15]1'), ('q[4]2,q[8]2', 'q[8]1,q[12]1'), ('q[13]1,q[14]1', 'q[14]0,q[15]0'), ('q[10]2,q[14]2', 'q[6]3,q[10]3')]\n"
     ]
    },
    {
     "data": {
      "text/plain": [
       "[None, None, None, None]"
      ]
     },
     "execution_count": 4,
     "metadata": {},
     "output_type": "execute_result"
    }
   ],
   "source": [
    "from qiskit.circuit.quantumregister import QuantumRegister\n",
    "from qiskit.dagcircuit.dagcircuit import DAGCircuit\n",
    "from qiskit.converters import circuit_to_dag, dag_to_circuit\n",
    "from qiskit.tools.visualization import dag_drawer\n",
    "import supremacy_generator as suprem_gen\n",
    "from qiskit.visualization import plot_state_city\n",
    "import numpy as np\n",
    "import functools\n",
    "import timeit\n",
    "from datetime import timedelta\n",
    "import supremacy_generator as suprem_gen\n",
    "import matplotlib.pyplot as plt\n",
    "from matplotlib import cm\n",
    "import auto_cut_help_fun as cut_finder\n",
    "\n",
    "circ = suprem_gen.circuit_generator(circuit_dimension=[4,4,8])\n",
    "pareto_K_d = cut_finder.find_pareto_solutions(circ)\n",
    "[print(x, pareto_K_d[x]) for x in pareto_K_d]"
   ]
  },
  {
   "cell_type": "code",
   "execution_count": 3,
   "metadata": {},
   "outputs": [
    {
     "data": {
      "text/html": [
       "<pre style=\"word-wrap: normal;white-space: pre;line-height: 15px;\">         ┌───┐   ┌───┐                        ┌────────────┐                                                    \n",
       " q_0: |0>┤ H ├─■─┤ T ├─────────────■──────────┤ Ry(1.5708) ├────────────────────────────────────────────────────\n",
       "         ├───┤ │ ├───┤             │          ├────────────┤                  ┌────────────┐                    \n",
       " q_1: |0>┤ H ├─■─┤ T ├─■───────────┼──────────┤ Ry(1.5708) ├───────■──────────┤ Rx(1.5708) ├────────────────────\n",
       "         ├───┤   └───┘ │           │          └───┬───┬────┘       │          ├────────────┤                    \n",
       " q_2: |0>┤ H ├─■───────■───────────┼──────────────┤ T ├─────────■──┼──────────┤ Ry(1.5708) ├────────────────────\n",
       "         ├───┤ │ ┌───┐             │          ┌───┴───┴────┐    │  │          └────────────┘                    \n",
       " q_3: |0>┤ H ├─■─┤ T ├─────────────┼────────■─┤ Ry(1.5708) ├────┼──┼────────────────────────────────────────────\n",
       "         ├───┤   ├───┤             │        │ ├────────────┤    │  │              ┌───┐                         \n",
       " q_4: |0>┤ H ├─■─┤ T ├─────────────■────────┼─┤ Ry(1.5708) ├────┼──┼─────■────────┤ T ├─────────────────────────\n",
       "         ├───┤ │ ├───┤                      │ ├────────────┤    │  │     │        ├───┤                         \n",
       " q_5: |0>┤ H ├─■─┤ T ├───────■──────────────┼─┤ Ry(1.5708) ├────┼──■─────┼────────┤ T ├─────────■───────────────\n",
       "         ├───┤   ├───┤       │              │ └────────────┘    │        │    ┌───┴───┴────┐    │     ┌───┐     \n",
       " q_6: |0>┤ H ├─■─┤ T ├───────■──────────────┼───────────────────■────────┼────┤ Rx(1.5708) ├─■──┼─────┤ T ├─────\n",
       "         ├───┤ │ ├───┤                      │ ┌────────────┐             │    └────────────┘ │  │     └───┘     \n",
       " q_7: |0>┤ H ├─■─┤ T ├──────────────────────■─┤ Rx(1.5708) ├─────────────┼──■────────────────┼──┼───────────────\n",
       "         ├───┤   ├───┤                        └────────────┘             │  │ ┌────────────┐ │  │               \n",
       " q_8: |0>┤ H ├─■─┤ T ├───────────────────■───────────────────────────────■──┼─┤ Ry(1.5708) ├─┼──┼───────────────\n",
       "         ├───┤ │ ├───┤                   │    ┌────────────┐                │ └───┬───┬────┘ │  │               \n",
       " q_9: |0>┤ H ├─■─┤ T ├────■──────────────┼────┤ Ry(1.5708) ├─■──────────────┼─────┤ T ├──────┼──■───────────────\n",
       "         ├───┤   └───┘    │              │    └───┬───┬────┘ │              │     └───┘      │    ┌────────────┐\n",
       "q_10: |0>┤ H ├─■──────────■──────────────┼────────┤ T ├──────┼────────■─────┼────────────────■────┤ Ry(1.5708) ├\n",
       "         ├───┤ │ ┌───┐                   │    ┌───┴───┴────┐ │        │     │                     └────────────┘\n",
       "q_11: |0>┤ H ├─■─┤ T ├────────────────■──┼────┤ Rx(1.5708) ├─┼────────┼─────■───────────────────────────────────\n",
       "         ├───┤   ├───┤                │  │    ├────────────┤ │        │                                         \n",
       "q_12: |0>┤ H ├─■─┤ T ├────────────────┼──■────┤ Rx(1.5708) ├─┼────────┼─────────────────────────────────────────\n",
       "         ├───┤ │ ├───┤                │       └────────────┘ │        │       ┌────────────┐                    \n",
       "q_13: |0>┤ H ├─■─┤ T ├──────────■─────┼──────────────────────■────────┼───────┤ Ry(1.5708) ├────────────────────\n",
       "         ├───┤   ├───┤          │     │       ┌────────────┐          │       └───┬───┬────┘                    \n",
       "q_14: |0>┤ H ├─■─┤ T ├──────────■─────┼───────┤ Ry(1.5708) ├──────────■───────────┤ T ├─────────────────────────\n",
       "         ├───┤ │ ├───┤                │       ├────────────┤                      └───┘                         \n",
       "q_15: |0>┤ H ├─■─┤ T ├────────────────■───────┤ Rx(1.5708) ├────────────────────────────────────────────────────\n",
       "         └───┘   └───┘                        └────────────┘                                                    </pre>"
      ],
      "text/plain": [
       "<qiskit.visualization.text.TextDrawing at 0x126212e48>"
      ]
     },
     "execution_count": 3,
     "metadata": {},
     "output_type": "execute_result"
    }
   ],
   "source": [
    "dag_drawer(circuit_to_dag(cut_finder.circ_stripping(circ)))\n",
    "circ.draw(output='text', line_length = 400)"
   ]
  },
  {
   "cell_type": "code",
   "execution_count": 8,
   "metadata": {},
   "outputs": [
    {
     "data": {
      "text/plain": [
       "(<auto_cut_help_fun.Graph at 0x12689da20>, ['b e g f', 'a c d'], [('a', 'b')])"
      ]
     },
     "execution_count": 8,
     "metadata": {},
     "output_type": "execute_result"
    }
   ],
   "source": [
    "graph = cut_finder.Graph([['a','b','c','d'], ['b','a','e','f','g'], ['c','a'], ['d','a'], ['e','b'], ['f','b'], ['g','b']])\n",
    "cut_finder.contract(graph)"
   ]
  },
  {
   "cell_type": "code",
   "execution_count": 3,
   "metadata": {},
   "outputs": [
    {
     "name": "stdout",
     "output_type": "stream",
     "text": [
      "{'a': Counter({'b': 3}), 'b': Counter({'a': 3})}\n",
      "[('a', 'b'), ('a', 'b'), ('a', 'b')]\n",
      "removing edge  ('a', 'b') a b\n",
      "FINISHED edges: []\n",
      "FINISHED verts: {'a': Counter()}\n",
      "**************************************************\n",
      "{'a': Counter()}\n",
      "[]\n"
     ]
    }
   ],
   "source": [
    "graph = cut_finder.Graph([['a','b','b','b'], ['b','a','a','a']])\n",
    "print(graph.verts)\n",
    "print(graph.edges)\n",
    "graph.merge_vertices(0)\n",
    "print('*'*50)\n",
    "print(graph.verts)\n",
    "print(graph.edges)"
   ]
  },
  {
   "cell_type": "code",
   "execution_count": null,
   "metadata": {},
   "outputs": [],
   "source": []
  }
 ],
 "metadata": {
  "kernelspec": {
   "display_name": "venv",
   "language": "python",
   "name": "venv"
  },
  "language_info": {
   "codemirror_mode": {
    "name": "ipython",
    "version": 3
   },
   "file_extension": ".py",
   "mimetype": "text/x-python",
   "name": "python",
   "nbconvert_exporter": "python",
   "pygments_lexer": "ipython3",
   "version": "3.7.3"
  }
 },
 "nbformat": 4,
 "nbformat_minor": 2
}
