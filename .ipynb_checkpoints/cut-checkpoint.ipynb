{
 "cells": [
  {
   "cell_type": "code",
   "execution_count": 5,
   "metadata": {},
   "outputs": [],
   "source": [
    "from qiskit.converters import circuit_to_dag, dag_to_circuit\n",
    "from qiskit.tools.visualization import dag_drawer\n",
    "from help_fun import cut_edges, generate_sub_circs, reg_dict_counter\n",
    "import pickle\n",
    "import networkx as nx\n",
    "\n",
    "circ = pickle.load(open('results/supremacy_circuit_4_8.dump', 'rb' ))"
   ]
  },
  {
   "cell_type": "code",
   "execution_count": 6,
   "metadata": {},
   "outputs": [
    {
     "name": "stdout",
     "output_type": "stream",
     "text": [
      "input wires mapping:  {'q[0]': (0, 0), 'q[1]': (0, 1), 'q[2]': (0, 2), 'q[3]': (0, 3), 'q[4]': (0, 4), 'q[5]': (0, 5), 'q[6]': (0, 6), 'q[7]': (0, 7), 'q[8]': (1, 0), 'q[9]': (1, 1), 'q[10]': (1, 2), 'q[11]': (1, 3), 'q[12]': (1, 4), 'q[13]': (1, 5), 'q[14]': (1, 6), 'q[15]': (1, 7)}\n",
      "Begin component  0\n",
      "reg_dict:  {'q': QuantumRegister(8, 'q'), 'cutQ': QuantumRegister(4, 'cutQ')}\n",
      "cumulative registers counts: {}\n",
      "added registers in the sub circuit: [QuantumRegister(8, 'q'), QuantumRegister(4, 'cutQ')] []\n",
      "finished component 0\n",
      "\n",
      "Begin component  1\n",
      "reg_dict:  {'q': QuantumRegister(8, 'q'), 'cutC': ClassicalRegister(4, 'cutC')}\n",
      "cumulative registers counts: {'q': QuantumRegister(8, 'q'), 'cutQ': QuantumRegister(4, 'cutQ')}\n",
      "added registers in the sub circuit: [QuantumRegister(8, 'q')] [ClassicalRegister(4, 'cutC')]\n",
      "finished component 1\n",
      "\n",
      "cut_dag has 2 connected components\n"
     ]
    }
   ],
   "source": [
    "original_dag = circuit_to_dag(circ)\n",
    "dag_drawer(original_dag, filename='results/original_dag.pdf')\n",
    "circ.draw(output='text',line_length=400,filename='results/original_circ.txt')\n",
    "\n",
    "q = circ.qregs[0]\n",
    "\n",
    "positions = [(q[8], 3), (q[9], 5), (q[10], 4), (q[11], 4)]\n",
    "cut_dag = cut_edges(original_dag=original_dag, positions=positions)\n",
    "dag_drawer(cut_dag, filename='results/cut_dag.pdf')\n",
    "\n",
    "sub_circs = generate_sub_circs(cut_dag, [q[8],q[9],q[10],q[11]])\n",
    "for i, sub_circ in enumerate(sub_circs):\n",
    "    dag_drawer(circuit_to_dag(sub_circ), filename='results/sub_dag_%d.pdf' % i)\n",
    "    sub_circ.draw(output='text',line_length = 400, filename='results/sub_circ_%d.txt' % i)\n",
    "    pickle.dump(sub_circ, open('results/sub_circ_%d.dump' % i, 'wb' ))\n",
    "print('cut_dag has %d connected components' % nx.number_weakly_connected_components(cut_dag._multi_graph))"
   ]
  },
  {
   "cell_type": "code",
   "execution_count": 7,
   "metadata": {},
   "outputs": [
    {
     "ename": "DAGCircuitError",
     "evalue": "'(qu)bit q[2] not found'",
     "output_type": "error",
     "traceback": [
      "\u001b[0;31m---------------------------------------------------------------------------\u001b[0m",
      "\u001b[0;31mDAGCircuitError\u001b[0m                           Traceback (most recent call last)",
      "\u001b[0;32m<ipython-input-7-1277e789d868>\u001b[0m in \u001b[0;36m<module>\u001b[0;34m\u001b[0m\n\u001b[1;32m      3\u001b[0m \u001b[0;34m\u001b[0m\u001b[0m\n\u001b[1;32m      4\u001b[0m \u001b[0mpositions\u001b[0m \u001b[0;34m=\u001b[0m \u001b[0;34m[\u001b[0m\u001b[0;34m(\u001b[0m\u001b[0mq\u001b[0m\u001b[0;34m[\u001b[0m\u001b[0;36m2\u001b[0m\u001b[0;34m]\u001b[0m\u001b[0;34m,\u001b[0m \u001b[0;36m1\u001b[0m\u001b[0;34m)\u001b[0m\u001b[0;34m,\u001b[0m \u001b[0;34m(\u001b[0m\u001b[0mq\u001b[0m\u001b[0;34m[\u001b[0m\u001b[0;36m6\u001b[0m\u001b[0;34m]\u001b[0m\u001b[0;34m,\u001b[0m \u001b[0;36m2\u001b[0m\u001b[0;34m)\u001b[0m\u001b[0;34m]\u001b[0m\u001b[0;34m\u001b[0m\u001b[0;34m\u001b[0m\u001b[0m\n\u001b[0;32m----> 5\u001b[0;31m \u001b[0mcut_dag\u001b[0m \u001b[0;34m=\u001b[0m \u001b[0mcut_edges\u001b[0m\u001b[0;34m(\u001b[0m\u001b[0moriginal_dag\u001b[0m\u001b[0;34m=\u001b[0m\u001b[0moriginal_dag\u001b[0m\u001b[0;34m,\u001b[0m \u001b[0mpositions\u001b[0m\u001b[0;34m=\u001b[0m\u001b[0mpositions\u001b[0m\u001b[0;34m)\u001b[0m\u001b[0;34m\u001b[0m\u001b[0;34m\u001b[0m\u001b[0m\n\u001b[0m\u001b[1;32m      6\u001b[0m \u001b[0msub_circs\u001b[0m \u001b[0;34m=\u001b[0m \u001b[0mgenerate_sub_circs\u001b[0m\u001b[0;34m(\u001b[0m\u001b[0mcut_dag\u001b[0m\u001b[0;34m,\u001b[0m \u001b[0;34m[\u001b[0m\u001b[0mq\u001b[0m\u001b[0;34m[\u001b[0m\u001b[0;36m2\u001b[0m\u001b[0;34m]\u001b[0m\u001b[0;34m,\u001b[0m\u001b[0mq\u001b[0m\u001b[0;34m[\u001b[0m\u001b[0;36m6\u001b[0m\u001b[0;34m]\u001b[0m\u001b[0;34m]\u001b[0m\u001b[0;34m)\u001b[0m\u001b[0;34m\u001b[0m\u001b[0;34m\u001b[0m\u001b[0m\n",
      "\u001b[0;32m~/Documents/Princeton/circuit_cutting/help_fun.py\u001b[0m in \u001b[0;36mcut_edges\u001b[0;34m(original_dag, positions)\u001b[0m\n\u001b[1;32m    181\u001b[0m     \u001b[0;32mfor\u001b[0m \u001b[0mposition\u001b[0m \u001b[0;32min\u001b[0m \u001b[0mpositions\u001b[0m\u001b[0;34m:\u001b[0m\u001b[0;34m\u001b[0m\u001b[0;34m\u001b[0m\u001b[0m\n\u001b[1;32m    182\u001b[0m         \u001b[0mwire\u001b[0m\u001b[0;34m,\u001b[0m \u001b[0msource_node_idx\u001b[0m \u001b[0;34m=\u001b[0m \u001b[0mposition\u001b[0m\u001b[0;34m\u001b[0m\u001b[0;34m\u001b[0m\u001b[0m\n\u001b[0;32m--> 183\u001b[0;31m         \u001b[0mcut_dag\u001b[0m \u001b[0;34m=\u001b[0m \u001b[0mcut_single_edge\u001b[0m\u001b[0;34m(\u001b[0m\u001b[0mcut_dag\u001b[0m\u001b[0;34m,\u001b[0m \u001b[0mwire\u001b[0m\u001b[0;34m,\u001b[0m \u001b[0msource_node_idx\u001b[0m\u001b[0;34m)\u001b[0m\u001b[0;34m\u001b[0m\u001b[0;34m\u001b[0m\u001b[0m\n\u001b[0m\u001b[1;32m    184\u001b[0m     \u001b[0;32mreturn\u001b[0m \u001b[0mcut_dag\u001b[0m\u001b[0;34m\u001b[0m\u001b[0;34m\u001b[0m\u001b[0m\n\u001b[1;32m    185\u001b[0m \u001b[0;34m\u001b[0m\u001b[0m\n",
      "\u001b[0;32m~/Documents/Princeton/circuit_cutting/help_fun.py\u001b[0m in \u001b[0;36mcut_single_edge\u001b[0;34m(original_dag, wire, source_node_idx)\u001b[0m\n\u001b[1;32m    161\u001b[0m     \u001b[0mcut_dag\u001b[0m \u001b[0;34m=\u001b[0m \u001b[0mcopy\u001b[0m\u001b[0;34m.\u001b[0m\u001b[0mdeepcopy\u001b[0m\u001b[0;34m(\u001b[0m\u001b[0moriginal_dag\u001b[0m\u001b[0;34m)\u001b[0m\u001b[0;34m\u001b[0m\u001b[0;34m\u001b[0m\u001b[0m\n\u001b[1;32m    162\u001b[0m \u001b[0;34m\u001b[0m\u001b[0m\n\u001b[0;32m--> 163\u001b[0;31m     \u001b[0mcut_dag\u001b[0m\u001b[0;34m.\u001b[0m\u001b[0m_check_bits\u001b[0m\u001b[0;34m(\u001b[0m\u001b[0;34m[\u001b[0m\u001b[0mwire\u001b[0m\u001b[0;34m]\u001b[0m\u001b[0;34m,\u001b[0m \u001b[0mcut_dag\u001b[0m\u001b[0;34m.\u001b[0m\u001b[0moutput_map\u001b[0m\u001b[0;34m)\u001b[0m\u001b[0;34m\u001b[0m\u001b[0;34m\u001b[0m\u001b[0m\n\u001b[0m\u001b[1;32m    164\u001b[0m \u001b[0;34m\u001b[0m\u001b[0m\n\u001b[1;32m    165\u001b[0m     \u001b[0moriginal_out_node\u001b[0m \u001b[0;34m=\u001b[0m \u001b[0mcut_dag\u001b[0m\u001b[0;34m.\u001b[0m\u001b[0moutput_map\u001b[0m\u001b[0;34m[\u001b[0m\u001b[0mwire\u001b[0m\u001b[0;34m]\u001b[0m\u001b[0;34m\u001b[0m\u001b[0;34m\u001b[0m\u001b[0m\n",
      "\u001b[0;32m~/Documents/Princeton/circuit_cutting/venv/lib/python3.7/site-packages/qiskit/dagcircuit/dagcircuit.py\u001b[0m in \u001b[0;36m_check_bits\u001b[0;34m(self, args, amap)\u001b[0m\n\u001b[1;32m    278\u001b[0m             \u001b[0;32mif\u001b[0m \u001b[0mwire\u001b[0m \u001b[0;32mnot\u001b[0m \u001b[0;32min\u001b[0m \u001b[0mamap\u001b[0m\u001b[0;34m:\u001b[0m\u001b[0;34m\u001b[0m\u001b[0;34m\u001b[0m\u001b[0m\n\u001b[1;32m    279\u001b[0m                 raise DAGCircuitError(\"(qu)bit %s[%d] not found\" %\n\u001b[0;32m--> 280\u001b[0;31m                                       (wire[0].name, wire[1]))\n\u001b[0m\u001b[1;32m    281\u001b[0m \u001b[0;34m\u001b[0m\u001b[0m\n\u001b[1;32m    282\u001b[0m     \u001b[0;32mdef\u001b[0m \u001b[0m_bits_in_condition\u001b[0m\u001b[0;34m(\u001b[0m\u001b[0mself\u001b[0m\u001b[0;34m,\u001b[0m \u001b[0mcond\u001b[0m\u001b[0;34m)\u001b[0m\u001b[0;34m:\u001b[0m\u001b[0;34m\u001b[0m\u001b[0;34m\u001b[0m\u001b[0m\n",
      "\u001b[0;31mDAGCircuitError\u001b[0m: '(qu)bit q[2] not found'"
     ]
    }
   ],
   "source": [
    "circ = pickle.load(open('results/sub_circ_0.dump', 'rb' ))\n",
    "original_dag = circuit_to_dag(circ)\n",
    "\n",
    "q = circ.qregs[0]\n",
    "\n",
    "positions = [(q[2], 1), (q[6], 2)]\n",
    "cut_dag = cut_edges(original_dag=original_dag, positions=positions)\n",
    "sub_circs = generate_sub_circs(cut_dag, [q[2],q[6]])"
   ]
  },
  {
   "cell_type": "code",
   "execution_count": null,
   "metadata": {},
   "outputs": [],
   "source": []
  }
 ],
 "metadata": {
  "kernelspec": {
   "display_name": "venv",
   "language": "python",
   "name": "venv"
  },
  "language_info": {
   "codemirror_mode": {
    "name": "ipython",
    "version": 3
   },
   "file_extension": ".py",
   "mimetype": "text/x-python",
   "name": "python",
   "nbconvert_exporter": "python",
   "pygments_lexer": "ipython3",
   "version": "3.7.3"
  }
 },
 "nbformat": 4,
 "nbformat_minor": 2
}
