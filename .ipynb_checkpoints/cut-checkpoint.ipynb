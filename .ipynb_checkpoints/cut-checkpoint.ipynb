{
 "cells": [
  {
   "cell_type": "code",
   "execution_count": 4,
   "metadata": {
    "scrolled": false
   },
   "outputs": [
    {
     "name": "stdout",
     "output_type": "stream",
     "text": [
      "will run 8 times\n",
      "will run 40 times\n",
      "will run 103 times\n",
      "will run 200 times\n",
      "will run 332 times\n",
      "will run 503 times\n",
      "will run 40 times\n",
      "will run 164 times\n",
      "will run 385 times\n",
      "will run 714 times\n",
      "will run 1156 times\n",
      "will run 103 times\n",
      "will run 385 times\n",
      "will run 877 times\n",
      "will run 200 times\n",
      "will run 714 times\n",
      "will run 332 times\n",
      "will run 1156 times\n"
     ]
    },
    {
     "ename": "SystemExit",
     "evalue": "0",
     "output_type": "error",
     "traceback": [
      "An exception has occurred, use %tb to see the full traceback.\n",
      "\u001b[0;31mSystemExit\u001b[0m\u001b[0;31m:\u001b[0m 0\n"
     ]
    }
   ],
   "source": [
    "from qiskit.circuit.quantumregister import QuantumRegister\n",
    "from qiskit.dagcircuit.dagcircuit import DAGCircuit\n",
    "from qiskit.converters import circuit_to_dag, dag_to_circuit\n",
    "from qiskit.tools.visualization import dag_drawer\n",
    "import supremacy_generator as suprem_gen\n",
    "from qiskit.visualization import plot_state_city\n",
    "import numpy as np\n",
    "import functools\n",
    "import timeit\n",
    "from datetime import timedelta\n",
    "import supremacy_generator as suprem_gen\n",
    "import matplotlib.pyplot as plt\n",
    "from matplotlib import cm\n",
    "import auto_cut_help_fun as cut_finder\n",
    "import circuit_cut as cutter\n",
    "import cutting_help_fun as cutting_helper\n",
    "import sys\n",
    "import networkx as nx\n",
    "\n",
    "dimensions = range(2,8)\n",
    "pareto_times = np.zeros((len(dimensions), len(dimensions)))\n",
    "bug_circ = None\n",
    "bug_cuts = None\n",
    "\n",
    "for i in dimensions:\n",
    "    for j in dimensions:\n",
    "        if i*j < 20:\n",
    "            circ = suprem_gen.circuit_generator(circuit_dimension=[i,j,8])\n",
    "            start = timeit.default_timer()\n",
    "            pareto_K_d = cut_finder.find_pareto_solutions(circ)\n",
    "            for x in pareto_K_d:\n",
    "                try:\n",
    "                    cutter.cut_circuit(circ, pareto_K_d[x])\n",
    "                except:\n",
    "                    bug_circ = circ\n",
    "                    bug_cuts = pareto_K_d[x]\n",
    "                    sys.exit(0)\n",
    "            end = timeit.default_timer()\n",
    "            pareto_times[i-2,j-2] = end-start\n",
    "        else:\n",
    "            pareto_times[i-2,j-2] = 0\n",
    "\n",
    "plt.figure(figsize=(10,10))\n",
    "plt.imshow(pareto_times, aspect='auto',\n",
    "           extent=[min(dimensions), max(dimensions), min(dimensions), max(dimensions)], cmap = cm.viridis)\n",
    "plt.xlabel('#horizontal qubits')\n",
    "plt.ylabel('#vertical qubits')\n",
    "plt.title('pareto solution time')\n",
    "plt.colorbar()\n",
    "plt.show()\n",
    "\n",
    "# for x in pareto_K_d:\n",
    "#     pareto_K, pareto_d = x\n",
    "#     sub_circs_no_bridge, complete_path_map, K, d = cutter.cut_circuit(circ, pareto_K_d[x])\n",
    "#     print((pareto_K, pareto_d), (K, d))"
   ]
  },
  {
   "cell_type": "code",
   "execution_count": 20,
   "metadata": {
    "scrolled": false
   },
   "outputs": [],
   "source": [
    "original_dag = circuit_to_dag(bug_circ)\n",
    "cut_dag, path_order_dict = cutting_helper.cut_edges(original_dag=original_dag, positions=bug_cuts)\n",
    "components = list(nx.weakly_connected_components(cut_dag._multi_graph))\n",
    "# for node in components[0]:\n",
    "#     print(node.type, node.name)\n",
    "dag_drawer(cut_dag)\n",
    "sub_circs_no_bridge = cutting_helper.generate_sub_circs(cut_dag, bug_cuts)\n",
    "dag_drawer(circuit_to_dag(sub_circs_no_bridge[0]))"
   ]
  },
  {
   "cell_type": "code",
   "execution_count": 11,
   "metadata": {},
   "outputs": [
    {
     "name": "stdout",
     "output_type": "stream",
     "text": [
      "((QuantumRegister(18, 'q'), 0), 0) (True, True, True)\n",
      "((QuantumRegister(18, 'q'), 0), 1) (False, False, False)\n",
      "((QuantumRegister(18, 'q'), 1), 0) (True, True, True)\n",
      "((QuantumRegister(18, 'q'), 1), 1) (False, False, False)\n",
      "((QuantumRegister(18, 'q'), 2), 0) (True, True, True)\n",
      "((QuantumRegister(18, 'q'), 2), 1) (False, False, False)\n",
      "((QuantumRegister(18, 'q'), 3), 0) (True, False, True)\n",
      "((QuantumRegister(18, 'q'), 3), 1) (False, True, True)\n",
      "((QuantumRegister(18, 'q'), 4), 0) (True, True, True)\n",
      "((QuantumRegister(18, 'q'), 4), 1) (False, False, False)\n",
      "((QuantumRegister(18, 'q'), 5), 0) (True, True, True)\n",
      "((QuantumRegister(18, 'q'), 5), 1) (False, False, False)\n",
      "((QuantumRegister(18, 'q'), 6), 0) (False, False, False)\n",
      "((QuantumRegister(18, 'q'), 6), 1) (True, True, True)\n",
      "((QuantumRegister(18, 'q'), 7), 0) (False, True, True)\n",
      "((QuantumRegister(18, 'q'), 7), 1) (True, False, True)\n",
      "((QuantumRegister(18, 'q'), 8), 0) (True, True, True)\n",
      "((QuantumRegister(18, 'q'), 8), 1) (False, False, False)\n",
      "((QuantumRegister(18, 'q'), 9), 0) (False, False, False)\n",
      "((QuantumRegister(18, 'q'), 9), 1) (True, True, True)\n",
      "((QuantumRegister(18, 'q'), 10), 0) (False, False, True)\n",
      "((QuantumRegister(18, 'q'), 10), 1) (True, True, True)\n",
      "((QuantumRegister(18, 'q'), 11), 0) (True, True, True)\n",
      "((QuantumRegister(18, 'q'), 11), 1) (False, False, False)\n",
      "((QuantumRegister(18, 'q'), 12), 0) (False, False, False)\n",
      "((QuantumRegister(18, 'q'), 12), 1) (True, True, True)\n",
      "((QuantumRegister(18, 'q'), 13), 0) (False, False, False)\n",
      "((QuantumRegister(18, 'q'), 13), 1) (True, True, True)\n",
      "((QuantumRegister(18, 'q'), 14), 0) (False, True, True)\n",
      "((QuantumRegister(18, 'q'), 14), 1) (True, False, True)\n",
      "((QuantumRegister(18, 'q'), 15), 0) (False, False, False)\n",
      "((QuantumRegister(18, 'q'), 15), 1) (True, True, True)\n",
      "((QuantumRegister(18, 'q'), 16), 0) (False, False, False)\n",
      "((QuantumRegister(18, 'q'), 16), 1) (True, True, True)\n",
      "((QuantumRegister(18, 'q'), 17), 0) (False, False, False)\n",
      "((QuantumRegister(18, 'q'), 17), 1) (True, True, True)\n",
      "[{'q': QuantumRegister(8, 'q'), 'output_q': ClassicalRegister(9, 'output_q'), 'measure_q': ClassicalRegister(2, 'measure_q'), 'ancilla_q': QuantumRegister(3, 'ancilla_q')}, {'ancilla_q': QuantumRegister(1, 'ancilla_q'), 'output_q': ClassicalRegister(9, 'output_q'), 'q': QuantumRegister(10, 'q'), 'measure_q': ClassicalRegister(2, 'measure_q')}]\n"
     ]
    },
    {
     "ename": "QiskitIndexError",
     "evalue": "'register index out of range'",
     "output_type": "error",
     "traceback": [
      "\u001b[0;31m---------------------------------------------------------------------------\u001b[0m",
      "\u001b[0;31mQiskitIndexError\u001b[0m                          Traceback (most recent call last)",
      "\u001b[0;32m<ipython-input-11-146a3fe5c94c>\u001b[0m in \u001b[0;36m<module>\u001b[0;34m\u001b[0m\n\u001b[1;32m      5\u001b[0m \u001b[0mcomponents\u001b[0m \u001b[0;34m=\u001b[0m \u001b[0mlist\u001b[0m\u001b[0;34m(\u001b[0m\u001b[0mnx\u001b[0m\u001b[0;34m.\u001b[0m\u001b[0mweakly_connected_components\u001b[0m\u001b[0;34m(\u001b[0m\u001b[0mcut_dag\u001b[0m\u001b[0;34m.\u001b[0m\u001b[0m_multi_graph\u001b[0m\u001b[0;34m)\u001b[0m\u001b[0;34m)\u001b[0m\u001b[0;34m\u001b[0m\u001b[0;34m\u001b[0m\u001b[0m\n\u001b[1;32m      6\u001b[0m \u001b[0mtranslation_dict\u001b[0m \u001b[0;34m=\u001b[0m \u001b[0mcutting_helper\u001b[0m\u001b[0;34m.\u001b[0m\u001b[0mtranslation_dict_calc\u001b[0m\u001b[0;34m(\u001b[0m\u001b[0minput_wires_mapping\u001b[0m\u001b[0;34m,\u001b[0m \u001b[0mcomponents\u001b[0m\u001b[0;34m,\u001b[0m \u001b[0min_out_arg_dict\u001b[0m\u001b[0;34m,\u001b[0m \u001b[0msub_reg_dicts\u001b[0m\u001b[0;34m)\u001b[0m\u001b[0;34m\u001b[0m\u001b[0;34m\u001b[0m\u001b[0m\n\u001b[0;32m----> 7\u001b[0;31m \u001b[0mcomplete_path_map\u001b[0m \u001b[0;34m=\u001b[0m \u001b[0mcutting_helper\u001b[0m\u001b[0;34m.\u001b[0m\u001b[0mcomplete_path_calc\u001b[0m\u001b[0;34m(\u001b[0m\u001b[0mpath_order_dict\u001b[0m\u001b[0;34m,\u001b[0m \u001b[0minput_wires_mapping\u001b[0m\u001b[0;34m,\u001b[0m \u001b[0mtranslation_dict\u001b[0m\u001b[0;34m,\u001b[0m \u001b[0msub_reg_dicts\u001b[0m\u001b[0;34m)\u001b[0m\u001b[0;34m\u001b[0m\u001b[0;34m\u001b[0m\u001b[0m\n\u001b[0m\u001b[1;32m      8\u001b[0m \u001b[0msub_circs_no_bridge\u001b[0m \u001b[0;34m=\u001b[0m \u001b[0mcutting_helper\u001b[0m\u001b[0;34m.\u001b[0m\u001b[0mgenerate_sub_circs\u001b[0m\u001b[0;34m(\u001b[0m\u001b[0mcut_dag\u001b[0m\u001b[0;34m,\u001b[0m \u001b[0mbug_cuts\u001b[0m\u001b[0;34m)\u001b[0m\u001b[0;34m\u001b[0m\u001b[0;34m\u001b[0m\u001b[0m\n\u001b[1;32m      9\u001b[0m \u001b[0mK\u001b[0m\u001b[0;34m,\u001b[0m \u001b[0md\u001b[0m \u001b[0;34m=\u001b[0m \u001b[0mcutting_helper\u001b[0m\u001b[0;34m.\u001b[0m\u001b[0mcluster_character\u001b[0m\u001b[0;34m(\u001b[0m\u001b[0msub_reg_dicts\u001b[0m\u001b[0;34m,\u001b[0m \u001b[0mbug_cuts\u001b[0m\u001b[0;34m)\u001b[0m\u001b[0;34m\u001b[0m\u001b[0;34m\u001b[0m\u001b[0m\n",
      "\u001b[0;32m~/Documents/Princeton/circuit_cutting/cutting_help_fun.py\u001b[0m in \u001b[0;36mcomplete_path_calc\u001b[0;34m(path_order_dict, input_wires_mapping, translation_dict, sub_reg_dicts)\u001b[0m\n\u001b[1;32m     96\u001b[0m             \u001b[0mqubit_in_tuple\u001b[0m \u001b[0;34m=\u001b[0m \u001b[0mtranslation_dict\u001b[0m\u001b[0;34m[\u001b[0m\u001b[0mtranslation_dict_key\u001b[0m\u001b[0;34m]\u001b[0m\u001b[0;34m\u001b[0m\u001b[0;34m\u001b[0m\u001b[0m\n\u001b[1;32m     97\u001b[0m             \u001b[0mreg_dict\u001b[0m \u001b[0;34m=\u001b[0m \u001b[0msub_reg_dicts\u001b[0m\u001b[0;34m[\u001b[0m\u001b[0msource_sub_circ_idx\u001b[0m\u001b[0;34m]\u001b[0m\u001b[0;34m\u001b[0m\u001b[0;34m\u001b[0m\u001b[0m\n\u001b[0;32m---> 98\u001b[0;31m             \u001b[0mclbit_out_tuple\u001b[0m \u001b[0;34m=\u001b[0m \u001b[0mreg_dict\u001b[0m\u001b[0;34m[\u001b[0m\u001b[0;34m'measure_'\u001b[0m \u001b[0;34m+\u001b[0m \u001b[0mwire\u001b[0m\u001b[0;34m[\u001b[0m\u001b[0;36m0\u001b[0m\u001b[0;34m]\u001b[0m\u001b[0;34m.\u001b[0m\u001b[0mname\u001b[0m\u001b[0;34m]\u001b[0m\u001b[0;34m[\u001b[0m\u001b[0mcl_measure_idx\u001b[0m\u001b[0;34m[\u001b[0m\u001b[0msource_sub_circ_idx\u001b[0m\u001b[0;34m]\u001b[0m\u001b[0;34m]\u001b[0m\u001b[0;34m\u001b[0m\u001b[0;34m\u001b[0m\u001b[0m\n\u001b[0m\u001b[1;32m     99\u001b[0m             \u001b[0mcl_measure_idx\u001b[0m\u001b[0;34m[\u001b[0m\u001b[0msource_sub_circ_idx\u001b[0m\u001b[0;34m]\u001b[0m \u001b[0;34m+=\u001b[0m \u001b[0;36m1\u001b[0m\u001b[0;34m\u001b[0m\u001b[0;34m\u001b[0m\u001b[0m\n\u001b[1;32m    100\u001b[0m             \u001b[0mcomplete_path_map\u001b[0m\u001b[0;34m[\u001b[0m\u001b[0mwire\u001b[0m\u001b[0;34m]\u001b[0m\u001b[0;34m.\u001b[0m\u001b[0mappend\u001b[0m\u001b[0;34m(\u001b[0m\u001b[0;34m(\u001b[0m\u001b[0msource_sub_circ_idx\u001b[0m\u001b[0;34m,\u001b[0m \u001b[0mqubit_in_tuple\u001b[0m\u001b[0;34m,\u001b[0m \u001b[0mclbit_out_tuple\u001b[0m\u001b[0;34m)\u001b[0m\u001b[0;34m)\u001b[0m\u001b[0;34m\u001b[0m\u001b[0;34m\u001b[0m\u001b[0m\n",
      "\u001b[0;32m~/Documents/Princeton/circuit_cutting/venv/lib/python3.7/site-packages/qiskit/circuit/register.py\u001b[0m in \u001b[0;36m__getitem__\u001b[0;34m(self, key)\u001b[0m\n\u001b[1;32m     90\u001b[0m         \u001b[0;32mif\u001b[0m \u001b[0misinstance\u001b[0m\u001b[0;34m(\u001b[0m\u001b[0mkey\u001b[0m\u001b[0;34m,\u001b[0m \u001b[0mint\u001b[0m\u001b[0;34m)\u001b[0m \u001b[0;32mand\u001b[0m \u001b[0mkey\u001b[0m \u001b[0;34m<\u001b[0m \u001b[0;36m0\u001b[0m\u001b[0;34m:\u001b[0m\u001b[0;34m\u001b[0m\u001b[0;34m\u001b[0m\u001b[0m\n\u001b[1;32m     91\u001b[0m             \u001b[0mkey\u001b[0m \u001b[0;34m=\u001b[0m \u001b[0mself\u001b[0m\u001b[0;34m.\u001b[0m\u001b[0msize\u001b[0m \u001b[0;34m+\u001b[0m \u001b[0mkey\u001b[0m\u001b[0;34m\u001b[0m\u001b[0;34m\u001b[0m\u001b[0m\n\u001b[0;32m---> 92\u001b[0;31m         \u001b[0mself\u001b[0m\u001b[0;34m.\u001b[0m\u001b[0mcheck_range\u001b[0m\u001b[0;34m(\u001b[0m\u001b[0mkey\u001b[0m\u001b[0;34m)\u001b[0m\u001b[0;34m\u001b[0m\u001b[0;34m\u001b[0m\u001b[0m\n\u001b[0m\u001b[1;32m     93\u001b[0m         \u001b[0;32mif\u001b[0m \u001b[0misinstance\u001b[0m\u001b[0;34m(\u001b[0m\u001b[0mkey\u001b[0m\u001b[0;34m,\u001b[0m \u001b[0mslice\u001b[0m\u001b[0;34m)\u001b[0m\u001b[0;34m:\u001b[0m\u001b[0;34m\u001b[0m\u001b[0;34m\u001b[0m\u001b[0m\n\u001b[1;32m     94\u001b[0m             \u001b[0;32mreturn\u001b[0m \u001b[0;34m[\u001b[0m\u001b[0;34m(\u001b[0m\u001b[0mself\u001b[0m\u001b[0;34m,\u001b[0m \u001b[0mind\u001b[0m\u001b[0;34m)\u001b[0m \u001b[0;32mfor\u001b[0m \u001b[0mind\u001b[0m \u001b[0;32min\u001b[0m \u001b[0mrange\u001b[0m\u001b[0;34m(\u001b[0m\u001b[0;34m*\u001b[0m\u001b[0mkey\u001b[0m\u001b[0;34m.\u001b[0m\u001b[0mindices\u001b[0m\u001b[0;34m(\u001b[0m\u001b[0mlen\u001b[0m\u001b[0;34m(\u001b[0m\u001b[0mself\u001b[0m\u001b[0;34m)\u001b[0m\u001b[0;34m)\u001b[0m\u001b[0;34m)\u001b[0m\u001b[0;34m]\u001b[0m\u001b[0;34m\u001b[0m\u001b[0;34m\u001b[0m\u001b[0m\n",
      "\u001b[0;32m~/Documents/Princeton/circuit_cutting/venv/lib/python3.7/site-packages/qiskit/circuit/register.py\u001b[0m in \u001b[0;36mcheck_range\u001b[0;34m(self, j)\u001b[0m\n\u001b[1;32m     66\u001b[0m         \u001b[0;32mif\u001b[0m \u001b[0misinstance\u001b[0m\u001b[0;34m(\u001b[0m\u001b[0mj\u001b[0m\u001b[0;34m,\u001b[0m \u001b[0mint\u001b[0m\u001b[0;34m)\u001b[0m\u001b[0;34m:\u001b[0m\u001b[0;34m\u001b[0m\u001b[0;34m\u001b[0m\u001b[0m\n\u001b[1;32m     67\u001b[0m             \u001b[0;32mif\u001b[0m \u001b[0mj\u001b[0m \u001b[0;34m<\u001b[0m \u001b[0;36m0\u001b[0m \u001b[0;32mor\u001b[0m \u001b[0mj\u001b[0m \u001b[0;34m>=\u001b[0m \u001b[0mself\u001b[0m\u001b[0;34m.\u001b[0m\u001b[0msize\u001b[0m\u001b[0;34m:\u001b[0m\u001b[0;34m\u001b[0m\u001b[0;34m\u001b[0m\u001b[0m\n\u001b[0;32m---> 68\u001b[0;31m                 \u001b[0;32mraise\u001b[0m \u001b[0mQiskitIndexError\u001b[0m\u001b[0;34m(\u001b[0m\u001b[0;34m\"register index out of range\"\u001b[0m\u001b[0;34m)\u001b[0m\u001b[0;34m\u001b[0m\u001b[0;34m\u001b[0m\u001b[0m\n\u001b[0m\u001b[1;32m     69\u001b[0m             \u001b[0;32melif\u001b[0m \u001b[0misinstance\u001b[0m\u001b[0;34m(\u001b[0m\u001b[0mj\u001b[0m\u001b[0;34m,\u001b[0m \u001b[0mslice\u001b[0m\u001b[0;34m)\u001b[0m\u001b[0;34m:\u001b[0m\u001b[0;34m\u001b[0m\u001b[0;34m\u001b[0m\u001b[0m\n\u001b[1;32m     70\u001b[0m                 if j.start < 0 or j.stop >= self.size or (j.step is not None and\n",
      "\u001b[0;31mQiskitIndexError\u001b[0m: 'register index out of range'"
     ]
    }
   ],
   "source": [
    "in_out_arg_dict = cutting_helper.contains_wire_nodes(cut_dag)\n",
    "[print(x,in_out_arg_dict[x]) for x in in_out_arg_dict]\n",
    "sub_reg_dicts, input_wires_mapping = cutting_helper.sub_circ_reg_counter(cut_dag, in_out_arg_dict)\n",
    "print(sub_reg_dicts)\n",
    "components = list(nx.weakly_connected_components(cut_dag._multi_graph))\n",
    "translation_dict = cutting_helper.translation_dict_calc(input_wires_mapping, components, in_out_arg_dict, sub_reg_dicts)\n",
    "complete_path_map = cutting_helper.complete_path_calc(path_order_dict, input_wires_mapping, translation_dict, sub_reg_dicts)\n",
    "K, d = cutting_helper.cluster_character(sub_reg_dicts, bug_cuts)"
   ]
  },
  {
   "cell_type": "code",
   "execution_count": null,
   "metadata": {},
   "outputs": [],
   "source": []
  }
 ],
 "metadata": {
  "kernelspec": {
   "display_name": "venv",
   "language": "python",
   "name": "venv"
  },
  "language_info": {
   "codemirror_mode": {
    "name": "ipython",
    "version": 3
   },
   "file_extension": ".py",
   "mimetype": "text/x-python",
   "name": "python",
   "nbconvert_exporter": "python",
   "pygments_lexer": "ipython3",
   "version": "3.7.3"
  }
 },
 "nbformat": 4,
 "nbformat_minor": 2
}
