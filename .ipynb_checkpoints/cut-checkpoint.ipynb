{
 "cells": [
  {
   "cell_type": "code",
   "execution_count": 1,
   "metadata": {},
   "outputs": [],
   "source": [
    "from qiskit.converters import circuit_to_dag, dag_to_circuit\n",
    "from qiskit.tools.visualization import dag_drawer\n",
    "from cutting_help_fun import *\n",
    "import pickle\n",
    "import networkx as nx\n",
    "\n",
    "circ = pickle.load(open('results/supremacy_circuit_4_8.dump', 'rb' ))\n",
    "original_dag = circuit_to_dag(circ)\n",
    "q = circ.qregs[0]\n",
    "positions = [(q[2], 1), (q[7], 1), (q[8],3), (q[9],6), (q[10], 4), (q[10],1), (q[14], 1)]\n",
    "\n",
    "cut_dag, path_order_dict = cut_edges(original_dag=original_dag, positions=positions)\n",
    "in_out_arg_dict = contains_wire_nodes(cut_dag)\n",
    "sub_reg_dicts, input_wires_mapping = sub_circ_reg_counter(cut_dag, in_out_arg_dict)\n",
    "components = list(nx.weakly_connected_components(cut_dag._multi_graph))\n",
    "translation_dict = translation_dict_calc(input_wires_mapping, components, in_out_arg_dict, sub_reg_dicts)\n",
    "sub_reg_dicts, input_wires_mapping = sub_circ_reg_counter(cut_dag, in_out_arg_dict)\n",
    "\n",
    "complete_path_map = complete_path_calc(path_order_dict, input_wires_mapping, translation_dict, sub_reg_dicts)"
   ]
  },
  {
   "cell_type": "code",
   "execution_count": 2,
   "metadata": {},
   "outputs": [
    {
     "name": "stdout",
     "output_type": "stream",
     "text": [
      "2\n",
      "(1, (QuantumRegister(6, 'q'), 2), (ClassicalRegister(3, 'measure_q'), 1))\n",
      "(2, (QuantumRegister(2, 'ancilla_q'), 0), (ClassicalRegister(3, 'measure_q'), 2))\n",
      "(0, (QuantumRegister(4, 'ancilla_q'), 1))\n"
     ]
    }
   ],
   "source": [
    "# [print(x, complete_path_map[x]) for x in complete_path_map]\n",
    "print(path_order_dict[q[10]])\n",
    "for link in complete_path_map[q[10]]:\n",
    "    print(link)"
   ]
  },
  {
   "cell_type": "code",
   "execution_count": null,
   "metadata": {},
   "outputs": [],
   "source": []
  }
 ],
 "metadata": {
  "kernelspec": {
   "display_name": "venv",
   "language": "python",
   "name": "venv"
  },
  "language_info": {
   "codemirror_mode": {
    "name": "ipython",
    "version": 3
   },
   "file_extension": ".py",
   "mimetype": "text/x-python",
   "name": "python",
   "nbconvert_exporter": "python",
   "pygments_lexer": "ipython3",
   "version": "3.7.3"
  }
 },
 "nbformat": 4,
 "nbformat_minor": 2
}
