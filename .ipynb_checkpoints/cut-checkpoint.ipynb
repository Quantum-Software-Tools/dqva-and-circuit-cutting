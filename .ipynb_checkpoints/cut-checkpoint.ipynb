{
 "cells": [
  {
   "cell_type": "code",
   "execution_count": 9,
   "metadata": {},
   "outputs": [],
   "source": [
    "from qiskit.converters import circuit_to_dag, dag_to_circuit\n",
    "from qiskit.tools.visualization import dag_drawer\n",
    "from help_fun import *\n",
    "import pickle\n",
    "import networkx as nx\n",
    "\n",
    "circ = pickle.load(open('results/supremacy_circuit_4_8.dump', 'rb' ))"
   ]
  },
  {
   "cell_type": "code",
   "execution_count": 10,
   "metadata": {},
   "outputs": [
    {
     "name": "stdout",
     "output_type": "stream",
     "text": [
      "cut_dag has 2 connected components\n",
      "[[False, True, False, False], [True, False, True, True]]\n",
      "[[True, False, True, True], [False, True, False, False]]\n"
     ]
    }
   ],
   "source": [
    "original_dag = circuit_to_dag(circ)\n",
    "q = circ.qregs[0]\n",
    "positions = [(q[2], 1), (q[7], 1), (q[10], 1), (q[14], 1)]\n",
    "wires_being_cut = [x[0] for x in positions]\n",
    "\n",
    "cut_dag = cut_edges(original_dag=original_dag, positions=positions)\n",
    "dag_drawer(cut_dag, filename='results/cut_dag.pdf')\n",
    "\n",
    "\n",
    "print('cut_dag has %d connected components' % nx.number_weakly_connected_components(cut_dag._multi_graph))"
   ]
  },
  {
   "cell_type": "code",
   "execution_count": 2,
   "metadata": {},
   "outputs": [
    {
     "name": "stdout",
     "output_type": "stream",
     "text": [
      "input wires mapping:  {'q[0]': (0, 0), 'q[1]': (0, 1), 'q[4]': (0, 2), 'q[5]': (0, 3), 'q[6]': (0, 4), 'q[7]': (0, 5), 'q[8]': (0, 6), 'q[9]': (0, 7), 'q[12]': (0, 8), 'q[13]': (0, 9), 'q[2]': (1, 0), 'q[3]': (1, 1), 'q[10]': (1, 2), 'q[11]': (1, 3), 'q[14]': (1, 4), 'q[15]': (1, 5)}\n",
      "Begin component  0\n",
      "reg_dict:  {'q': QuantumRegister(10, 'q'), 'cutC': ClassicalRegister(1, 'cutC'), 'cutQ': QuantumRegister(3, 'cutQ')}\n",
      "cumulative registers counts: {}\n",
      "added registers in the sub circuit: [QuantumRegister(10, 'q'), QuantumRegister(3, 'cutQ')] [ClassicalRegister(1, 'cutC')]\n",
      "finished component 0\n",
      "\n",
      "Begin component  1\n",
      "reg_dict:  {'q': QuantumRegister(6, 'q'), 'cutC': ClassicalRegister(3, 'cutC'), 'cutQ': QuantumRegister(1, 'cutQ')}\n",
      "cumulative registers counts: {'q': QuantumRegister(10, 'q'), 'cutC': ClassicalRegister(1, 'cutC'), 'cutQ': QuantumRegister(3, 'cutQ')}\n",
      "added registers in the sub circuit: [QuantumRegister(6, 'q'), QuantumRegister(1, 'cutQ')] [ClassicalRegister(3, 'cutC')]\n",
      "finished component 1\n",
      "\n",
      "cut_dag has 2 connected components\n",
      "bridge map: {(1, 4): (0, 'cutQ[0]'), (1, 0): (0, 'cutQ[1]'), (1, 2): (0, 'cutQ[2]'), (0, 5): (1, 'cutQ[0]')}\n"
     ]
    }
   ],
   "source": [
    "original_dag = circuit_to_dag(circ)\n",
    "dag_drawer(original_dag, filename='results/original_dag.pdf')\n",
    "circ.draw(output='text',line_length=400,filename='results/original_circ.txt')\n",
    "\n",
    "q = circ.qregs[0]\n",
    "\n",
    "positions = [(q[7], 1), (q[2], 1), (q[14], 1), (q[10], 1)]\n",
    "cut_dag = cut_edges(original_dag=original_dag, positions=positions)\n",
    "dag_drawer(cut_dag, filename='results/cut_dag.pdf')\n",
    "\n",
    "sub_circs, bridge_map = generate_sub_circs(cut_dag, [q[2],q[7],q[10],q[14]])\n",
    "for i, sub_circ in enumerate(sub_circs):\n",
    "    dag_drawer(circuit_to_dag(sub_circ), filename='results/sub_dag_%d.pdf' % i)\n",
    "    sub_circ.draw(output='text',line_length = 400, filename='results/sub_circ_%d.txt' % i)\n",
    "    pickle.dump(sub_circ, open('results/sub_circ_%d.dump' % i, 'wb' ))\n",
    "\n",
    "print('cut_dag has %d connected components' % nx.number_weakly_connected_components(cut_dag._multi_graph))\n",
    "print('bridge map:', bridge_map)"
   ]
  },
  {
   "cell_type": "code",
   "execution_count": 16,
   "metadata": {},
   "outputs": [
    {
     "name": "stdout",
     "output_type": "stream",
     "text": [
      "OrderedDict([('q', QuantumRegister(16, 'q'))])\n",
      "(QuantumRegister(16, 'q'), 0)\n",
      "q\n"
     ]
    }
   ],
   "source": [
    "print(original_dag.qregs)\n",
    "print(q[0])\n",
    "for node in original_dag.nodes():\n",
    "    if node.type == 'in':\n",
    "        print(node.wire[0].name)\n",
    "    break"
   ]
  },
  {
   "cell_type": "code",
   "execution_count": null,
   "metadata": {},
   "outputs": [],
   "source": []
  }
 ],
 "metadata": {
  "kernelspec": {
   "display_name": "venv",
   "language": "python",
   "name": "venv"
  },
  "language_info": {
   "codemirror_mode": {
    "name": "ipython",
    "version": 3
   },
   "file_extension": ".py",
   "mimetype": "text/x-python",
   "name": "python",
   "nbconvert_exporter": "python",
   "pygments_lexer": "ipython3",
   "version": "3.7.3"
  }
 },
 "nbformat": 4,
 "nbformat_minor": 2
}
