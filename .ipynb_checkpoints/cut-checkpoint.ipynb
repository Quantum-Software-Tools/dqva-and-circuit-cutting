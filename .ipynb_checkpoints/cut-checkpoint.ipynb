{
 "cells": [
  {
   "cell_type": "code",
   "execution_count": 3,
   "metadata": {},
   "outputs": [
    {
     "name": "stdout",
     "output_type": "stream",
     "text": [
      "(QuantumRegister(16, 'q'), 0) []\n",
      "(QuantumRegister(16, 'q'), 1) []\n",
      "(QuantumRegister(16, 'q'), 2) [(<qiskit.dagcircuit.dagnode.DAGNode object at 0x129793b38>, <qiskit.dagcircuit.dagnode.DAGNode object at 0x12983afd0>)]\n",
      "(QuantumRegister(16, 'q'), 3) []\n",
      "(QuantumRegister(16, 'q'), 4) []\n",
      "(QuantumRegister(16, 'q'), 5) []\n",
      "(QuantumRegister(16, 'q'), 6) []\n",
      "(QuantumRegister(16, 'q'), 7) [(<qiskit.dagcircuit.dagnode.DAGNode object at 0x1296eacf8>, <qiskit.dagcircuit.dagnode.DAGNode object at 0x1297931d0>)]\n",
      "(QuantumRegister(16, 'q'), 8) []\n",
      "(QuantumRegister(16, 'q'), 9) []\n",
      "(QuantumRegister(16, 'q'), 10) [(<qiskit.dagcircuit.dagnode.DAGNode object at 0x129793898>, <qiskit.dagcircuit.dagnode.DAGNode object at 0x1297e20f0>)]\n",
      "(QuantumRegister(16, 'q'), 11) []\n",
      "(QuantumRegister(16, 'q'), 12) []\n",
      "(QuantumRegister(16, 'q'), 13) []\n",
      "(QuantumRegister(16, 'q'), 14) [(<qiskit.dagcircuit.dagnode.DAGNode object at 0x129793e10>, <qiskit.dagcircuit.dagnode.DAGNode object at 0x1297c89b0>)]\n",
      "(QuantumRegister(16, 'q'), 15) []\n",
      "input_wires_mapping: {(QuantumRegister(16, 'q'), 0): (0, (QuantumRegister(10, 'q'), 0)), (QuantumRegister(16, 'q'), 1): (0, (QuantumRegister(10, 'q'), 1)), (QuantumRegister(16, 'q'), 4): (0, (QuantumRegister(10, 'q'), 2)), (QuantumRegister(16, 'q'), 5): (0, (QuantumRegister(10, 'q'), 3)), (QuantumRegister(16, 'q'), 6): (0, (QuantumRegister(10, 'q'), 4)), (QuantumRegister(16, 'q'), 7): (0, (QuantumRegister(10, 'q'), 5)), (QuantumRegister(16, 'q'), 8): (0, (QuantumRegister(10, 'q'), 6)), (QuantumRegister(16, 'q'), 9): (0, (QuantumRegister(10, 'q'), 7)), (QuantumRegister(16, 'q'), 12): (0, (QuantumRegister(10, 'q'), 8)), (QuantumRegister(16, 'q'), 13): (0, (QuantumRegister(10, 'q'), 9)), (QuantumRegister(16, 'q'), 2): (1, (QuantumRegister(6, 'q'), 0)), (QuantumRegister(16, 'q'), 3): (1, (QuantumRegister(6, 'q'), 1)), (QuantumRegister(16, 'q'), 10): (1, (QuantumRegister(6, 'q'), 2)), (QuantumRegister(16, 'q'), 11): (1, (QuantumRegister(6, 'q'), 3)), (QuantumRegister(16, 'q'), 14): (1, (QuantumRegister(6, 'q'), 4)), (QuantumRegister(16, 'q'), 15): (1, (QuantumRegister(6, 'q'), 5))}\n"
     ]
    }
   ],
   "source": [
    "from qiskit.converters import circuit_to_dag, dag_to_circuit\n",
    "from qiskit.tools.visualization import dag_drawer\n",
    "from help_fun import *\n",
    "import pickle\n",
    "import networkx as nx\n",
    "\n",
    "circ = pickle.load(open('results/supremacy_circuit_4_8.dump', 'rb' ))\n",
    "\n",
    "original_dag = circuit_to_dag(circ)\n",
    "q = circ.qregs[0]\n",
    "positions = [(q[2], 1), (q[7], 1), (q[10], 1), (q[14], 1)]\n",
    "wires_being_cut = [x[0] for x in positions]\n",
    "\n",
    "cut_dag, path_order_dict = cut_edges(original_dag=original_dag, positions=positions)\n",
    "# sub_reg_dicts, input_wires_mapping = reg_dict_counter(cut_dag, wires_being_cut)\n",
    "# path_order_dict = path_order_calc(original_dag, input_wires_mapping, positions)\n",
    "\n",
    "[print(x, path_order_dict[x]) for x in path_order_dict]\n",
    "# print('input_wires_mapping:', input_wires_mapping)\n",
    "\n",
    "# sub_circs = generate_sub_circs(cut_dag, positions)"
   ]
  },
  {
   "cell_type": "code",
   "execution_count": 2,
   "metadata": {},
   "outputs": [
    {
     "name": "stdout",
     "output_type": "stream",
     "text": [
      "cut_dag has 2 connected components\n"
     ]
    }
   ],
   "source": [
    "for i, sub_circ in enumerate(sub_circs):\n",
    "    dag_drawer(circuit_to_dag(sub_circ), filename='results/sub_dag_%d.pdf' % i)\n",
    "    sub_circ.draw(output='text',line_length = 400, filename='results/sub_circ_%d.txt' % i)\n",
    "#     pickle.dump(sub_circ, open('results/sub_circ_%d.dump' % i, 'wb' ))\n",
    "\n",
    "print('cut_dag has %d connected components' % nx.number_weakly_connected_components(cut_dag._multi_graph))"
   ]
  },
  {
   "cell_type": "code",
   "execution_count": 6,
   "metadata": {},
   "outputs": [
    {
     "name": "stdout",
     "output_type": "stream",
     "text": [
      "((QuantumRegister(16, 'q'), 2), 1)\n",
      "((QuantumRegister(16, 'q'), 7), 1)\n",
      "((QuantumRegister(16, 'q'), 10), 1)\n",
      "((QuantumRegister(16, 'q'), 14), 1)\n"
     ]
    }
   ],
   "source": [
    "for position in positions:\n",
    "    print(position)"
   ]
  },
  {
   "cell_type": "code",
   "execution_count": null,
   "metadata": {},
   "outputs": [],
   "source": []
  }
 ],
 "metadata": {
  "kernelspec": {
   "display_name": "venv",
   "language": "python",
   "name": "venv"
  },
  "language_info": {
   "codemirror_mode": {
    "name": "ipython",
    "version": 3
   },
   "file_extension": ".py",
   "mimetype": "text/x-python",
   "name": "python",
   "nbconvert_exporter": "python",
   "pygments_lexer": "ipython3",
   "version": "3.7.3"
  }
 },
 "nbformat": 4,
 "nbformat_minor": 2
}
