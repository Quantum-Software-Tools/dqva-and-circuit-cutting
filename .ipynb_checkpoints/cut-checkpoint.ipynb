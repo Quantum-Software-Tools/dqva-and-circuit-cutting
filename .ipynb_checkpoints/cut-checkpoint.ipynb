{
 "cells": [
  {
   "cell_type": "code",
   "execution_count": 9,
   "metadata": {},
   "outputs": [],
   "source": [
    "from qiskit.converters import circuit_to_dag, dag_to_circuit\n",
    "from qiskit.tools.visualization import dag_drawer\n",
    "from help_fun import cut_edges, generate_sub_circs\n",
    "import pickle\n",
    "\n",
    "circ = pickle.load(open('results/supremacy_circuit_4_8.dump', 'rb' ))"
   ]
  },
  {
   "cell_type": "code",
   "execution_count": 12,
   "metadata": {},
   "outputs": [
    {
     "name": "stdout",
     "output_type": "stream",
     "text": [
      "\n"
     ]
    }
   ],
   "source": [
    "original_dag = circuit_to_dag(circ)\n",
    "dag_drawer(original_dag, filename='results/original_dag.pdf')\n",
    "circ.draw(output='text',line_length=400,filename='results/original_circ.txt')\n",
    "\n",
    "positions = [[q[8], 'cz', 'cz'], [q[9], 'cz', 't'], [q[10], 'cz', 'cz'], []\n",
    "# cut_dag = cut_edge(original_dag=original_dag, wire=q[2],source_node_name='cy', dest_node_name='ch')\n",
    "# dag_drawer(cut_dag, filename='cut_dag.pdf')\n",
    "# dag_to_circuit(cut_dag).draw(output='mpl',filename='cut_circ.pdf')\n",
    "\n",
    "# sub_circs, _ = generate_sub_circs(cut_dag, q[2])\n",
    "# for i, sub_circ in enumerate(sub_circs):\n",
    "#     dag_drawer(circuit_to_dag(sub_circ), filename='sub_dag_%d.pdf' % i)\n",
    "#     sub_circ.draw(output='mpl',filename='sub_circ_%d.pdf' % i)"
   ]
  },
  {
   "cell_type": "code",
   "execution_count": null,
   "metadata": {},
   "outputs": [],
   "source": []
  }
 ],
 "metadata": {
  "kernelspec": {
   "display_name": "venv",
   "language": "python",
   "name": "venv"
  },
  "language_info": {
   "codemirror_mode": {
    "name": "ipython",
    "version": 3
   },
   "file_extension": ".py",
   "mimetype": "text/x-python",
   "name": "python",
   "nbconvert_exporter": "python",
   "pygments_lexer": "ipython3",
   "version": "3.7.3"
  }
 },
 "nbformat": 4,
 "nbformat_minor": 2
}
