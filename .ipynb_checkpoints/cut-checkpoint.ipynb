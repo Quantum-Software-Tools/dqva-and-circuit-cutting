{
 "cells": [
  {
   "cell_type": "code",
   "execution_count": 5,
   "metadata": {},
   "outputs": [],
   "source": [
    "from qiskit.converters import circuit_to_dag, dag_to_circuit\n",
    "from qiskit.tools.visualization import dag_drawer\n",
    "from help_fun import cut_edges, generate_sub_circs\n",
    "import pickle\n",
    "import networkx as nx\n",
    "\n",
    "circ = pickle.load(open('results/supremacy_circuit_4_8.dump', 'rb' ))"
   ]
  },
  {
   "cell_type": "code",
   "execution_count": 6,
   "metadata": {},
   "outputs": [
    {
     "name": "stdout",
     "output_type": "stream",
     "text": [
      "cut_dag has 2 connected components\n"
     ]
    }
   ],
   "source": [
    "original_dag = circuit_to_dag(circ)\n",
    "dag_drawer(original_dag, filename='results/original_dag.pdf')\n",
    "circ.draw(output='text',line_length=400,filename='results/original_circ.txt')\n",
    "\n",
    "q = circ.qregs[0]\n",
    "\n",
    "positions = [(q[8], 3), (q[9], 5), (q[10], 4), (q[11], 4)]\n",
    "cut_dag = cut_edges(original_dag=original_dag, positions=positions)\n",
    "dag_drawer(cut_dag, filename='results/cut_dag.pdf')\n",
    "# dag_to_circuit(cut_dag).draw(output='mpl',filename='cut_circ.pdf')\n",
    "\n",
    "sub_circs, _ = generate_sub_circs(cut_dag, [q[8],q[9],q[10],q[11]])\n",
    "# for i, sub_circ in enumerate(sub_circs):\n",
    "#     dag_drawer(circuit_to_dag(sub_circ), filename='sub_dag_%d.pdf' % i)\n",
    "#     sub_circ.draw(output='mpl',filename='sub_circ_%d.pdf' % i)\n",
    "print('cut_dag has %d connected components' % nx.number_weakly_connected_components(cut_dag._multi_graph))"
   ]
  },
  {
   "cell_type": "code",
   "execution_count": null,
   "metadata": {},
   "outputs": [],
   "source": []
  }
 ],
 "metadata": {
  "kernelspec": {
   "display_name": "venv",
   "language": "python",
   "name": "venv"
  },
  "language_info": {
   "codemirror_mode": {
    "name": "ipython",
    "version": 3
   },
   "file_extension": ".py",
   "mimetype": "text/x-python",
   "name": "python",
   "nbconvert_exporter": "python",
   "pygments_lexer": "ipython3",
   "version": "3.7.3"
  }
 },
 "nbformat": 4,
 "nbformat_minor": 2
}
