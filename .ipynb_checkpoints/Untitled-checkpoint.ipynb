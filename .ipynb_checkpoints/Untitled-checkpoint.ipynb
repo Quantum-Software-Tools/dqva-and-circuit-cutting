{
 "cells": [
  {
   "cell_type": "code",
   "execution_count": 1,
   "metadata": {},
   "outputs": [
    {
     "name": "stdout",
     "output_type": "stream",
     "text": [
      "1 connected components\n"
     ]
    }
   ],
   "source": [
    "from qiskit import QuantumRegister, ClassicalRegister, QuantumCircuit\n",
    "from qiskit.dagcircuit import *\n",
    "from qiskit.converters import circuit_to_dag, dag_to_circuit\n",
    "from qiskit.tools.visualization import dag_drawer\n",
    "from qiskit.extensions.standard import CHGate, HGate, CnotGate, CyGate, CzGate\n",
    "from qiskit.circuit import Measure\n",
    "from qiskit.circuit.quantumregister import QuantumRegister\n",
    "from qiskit.circuit.classicalregister import ClassicalRegister\n",
    "import itertools\n",
    "\n",
    "q = QuantumRegister(4, 'q')\n",
    "c = ClassicalRegister(4, 'c')\n",
    "circ = QuantumCircuit(q)\n",
    "circ.h([q[2],q[1]])\n",
    "circ.x([q[2],q[0]])\n",
    "circ.y(q[3])\n",
    "circ.cx(q[0], q[1])\n",
    "circ.cy(q[2], q[3])\n",
    "circ.cz(q[1], q[2])\n",
    "# circ.barrier()\n",
    "# circ.measure(q,c)\n",
    "circ.draw()\n",
    "\n",
    "dag = circuit_to_dag(circ)\n",
    "print('%d connected components' % circ.num_connected_components())\n",
    "# dag_drawer(dag)"
   ]
  },
  {
   "cell_type": "code",
   "execution_count": 2,
   "metadata": {},
   "outputs": [
    {
     "name": "stdout",
     "output_type": "stream",
     "text": [
      "adding edge from cy(source_node) to measure(meas_node)\n",
      "removing edge from cy(source_node) to cz(dest_node)\n",
      "adding edge from cut_c[0] to measure\n"
     ]
    },
    {
     "ename": "AttributeError",
     "evalue": "'ClassicalRegister' object has no attribute 'index'",
     "output_type": "error",
     "traceback": [
      "\u001b[0;31m---------------------------------------------------------------------------\u001b[0m",
      "\u001b[0;31mAttributeError\u001b[0m                            Traceback (most recent call last)",
      "\u001b[0;32m<ipython-input-2-6f90fa24738d>\u001b[0m in \u001b[0;36m<module>\u001b[0;34m\u001b[0m\n\u001b[1;32m      4\u001b[0m     \u001b[0;32mif\u001b[0m \u001b[0mnode\u001b[0m\u001b[0;34m.\u001b[0m\u001b[0mname\u001b[0m \u001b[0;34m==\u001b[0m \u001b[0;34m'cz'\u001b[0m\u001b[0;34m:\u001b[0m\u001b[0;34m\u001b[0m\u001b[0;34m\u001b[0m\u001b[0m\n\u001b[1;32m      5\u001b[0m         \u001b[0mdest_node\u001b[0m \u001b[0;34m=\u001b[0m \u001b[0mnode\u001b[0m\u001b[0;34m\u001b[0m\u001b[0;34m\u001b[0m\u001b[0m\n\u001b[0;32m----> 6\u001b[0;31m \u001b[0mdag\u001b[0m\u001b[0;34m.\u001b[0m\u001b[0minsert_measure\u001b[0m\u001b[0;34m(\u001b[0m\u001b[0mop\u001b[0m\u001b[0;34m=\u001b[0m\u001b[0mMeasure\u001b[0m\u001b[0;34m(\u001b[0m\u001b[0;34m)\u001b[0m\u001b[0;34m,\u001b[0m\u001b[0mqarg\u001b[0m\u001b[0;34m=\u001b[0m\u001b[0mq\u001b[0m\u001b[0;34m[\u001b[0m\u001b[0;36m2\u001b[0m\u001b[0;34m]\u001b[0m\u001b[0;34m,\u001b[0m\u001b[0msource_node\u001b[0m\u001b[0;34m=\u001b[0m\u001b[0msource_node\u001b[0m\u001b[0;34m,\u001b[0m \u001b[0mdest_node\u001b[0m\u001b[0;34m=\u001b[0m\u001b[0mdest_node\u001b[0m\u001b[0;34m)\u001b[0m\u001b[0;34m\u001b[0m\u001b[0;34m\u001b[0m\u001b[0m\n\u001b[0m\u001b[1;32m      7\u001b[0m \u001b[0;34m\u001b[0m\u001b[0m\n\u001b[1;32m      8\u001b[0m \u001b[0mdag_drawer\u001b[0m\u001b[0;34m(\u001b[0m\u001b[0mdag\u001b[0m\u001b[0;34m)\u001b[0m\u001b[0;34m\u001b[0m\u001b[0;34m\u001b[0m\u001b[0m\n",
      "\u001b[0;32m~/Documents/Princeton/circuit_cutting/qiskit-terra/qiskit/dagcircuit/dagcircuit.py\u001b[0m in \u001b[0;36minsert_measure\u001b[0;34m(self, op, qarg, source_node, dest_node, cargs, condition)\u001b[0m\n\u001b[1;32m    325\u001b[0m         \u001b[0mprint\u001b[0m\u001b[0;34m(\u001b[0m\u001b[0;34m'adding edge from %s to %s'\u001b[0m \u001b[0;34m%\u001b[0m \u001b[0;34m(\u001b[0m\u001b[0mc_reg_in_node\u001b[0m\u001b[0;34m.\u001b[0m\u001b[0mname\u001b[0m\u001b[0;34m,\u001b[0m \u001b[0mmeas_node\u001b[0m\u001b[0;34m.\u001b[0m\u001b[0mname\u001b[0m\u001b[0;34m)\u001b[0m\u001b[0;34m)\u001b[0m\u001b[0;34m\u001b[0m\u001b[0;34m\u001b[0m\u001b[0m\n\u001b[1;32m    326\u001b[0m         self._multi_graph.add_edge(c_reg_in_node, meas_node,\n\u001b[0;32m--> 327\u001b[0;31m         name=\"%s[%s]\" % (cut_c.name, cut_c.index), wire=cut_c)\n\u001b[0m\u001b[1;32m    328\u001b[0m \u001b[0;34m\u001b[0m\u001b[0m\n\u001b[1;32m    329\u001b[0m         \u001b[0;32mreturn\u001b[0m \u001b[0mself\u001b[0m\u001b[0;34m.\u001b[0m\u001b[0m_id_to_node\u001b[0m\u001b[0;34m[\u001b[0m\u001b[0mself\u001b[0m\u001b[0;34m.\u001b[0m\u001b[0m_max_node_id\u001b[0m\u001b[0;34m]\u001b[0m\u001b[0;34m\u001b[0m\u001b[0;34m\u001b[0m\u001b[0m\n",
      "\u001b[0;31mAttributeError\u001b[0m: 'ClassicalRegister' object has no attribute 'index'"
     ]
    }
   ],
   "source": [
    "for node in dag.op_nodes():\n",
    "    if node.name == 'cy':\n",
    "        source_node = node\n",
    "    if node.name == 'cz':\n",
    "        dest_node = node\n",
    "dag.insert_measure(op=Measure(),qarg=q[2],source_node=source_node, dest_node=dest_node)\n",
    "    \n",
    "dag_drawer(dag)"
   ]
  },
  {
   "cell_type": "code",
   "execution_count": 17,
   "metadata": {},
   "outputs": [
    {
     "name": "stdout",
     "output_type": "stream",
     "text": [
      "ClassicalRegister(1, 'c')\n",
      "QuantumRegister(1, 'q')\n",
      "q[0] in\n",
      "q[0] out\n",
      "0\n"
     ]
    },
    {
     "data": {
      "image/png": "[encoded data removed]",
      "text/plain": [
       "<IPython.core.display.Image object>"
      ]
     },
     "execution_count": 17,
     "metadata": {},
     "output_type": "execute_result"
    }
   ],
   "source": [
    "test_dag = DAGCircuit()\n",
    "c = ClassicalRegister(1, 'c')\n",
    "q = QuantumRegister(1, 'q')\n",
    "print(c)\n",
    "print(q)\n",
    "test_dag.add_creg(c)\n",
    "test_dag.add_qreg(q)\n",
    "c_reg_out_node = test_dag._id_to_node[test_dag._max_node_id]\n",
    "c_reg_in_node = test_dag._id_to_node[test_dag._max_node_id-1]\n",
    "print(c_reg_in_node.name, c_reg_in_node.type)\n",
    "print(c_reg_out_node.name, c_reg_out_node.type)\n",
    "print(c[0])\n",
    "dag_drawer(test_dag)"
   ]
  },
  {
   "cell_type": "code",
   "execution_count": null,
   "metadata": {},
   "outputs": [],
   "source": []
  }
 ],
 "metadata": {
  "kernelspec": {
   "display_name": "venv",
   "language": "python",
   "name": "venv"
  },
  "language_info": {
   "codemirror_mode": {
    "name": "ipython",
    "version": 3
   },
   "file_extension": ".py",
   "mimetype": "text/x-python",
   "name": "python",
   "nbconvert_exporter": "python",
   "pygments_lexer": "ipython3",
   "version": "3.7.3"
  }
 },
 "nbformat": 4,
 "nbformat_minor": 2
}
