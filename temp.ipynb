{
 "cells": [
  {
   "cell_type": "code",
   "execution_count": 4,
   "metadata": {},
   "outputs": [
    {
     "name": "stdout",
     "output_type": "stream",
     "text": [
      "8.219146013259888\n",
      "0.38608717918395996\n",
      "0.17391586303710938\n"
     ]
    }
   ],
   "source": [
    "from qcg.generators import gen_supremacy, gen_hwea\n",
    "from qiskit import BasicAer, execute\n",
    "import time\n",
    "from scipy.sparse import csr_matrix\n",
    "import numpy as np\n",
    "import random\n",
    "\n",
    "def measure_basis(l):\n",
    "    H = [[1,1],[1,-1]]/np.sqrt(2)\n",
    "    sDagger = [[1,0],[0,-1j]]\n",
    "    Id = [[1,0],[0,1]]\n",
    "    if len(l)==1:\n",
    "        if l[0] == 1 or l[0] == 2 or l[0] == 7 or l[0] == 8:\n",
    "            return Id\n",
    "        elif l[0] == 3 or l[0] == 4:\n",
    "            return H\n",
    "        elif l[0] == 5 or l[0] == 6:\n",
    "            return np.matmul(H,sDagger)\n",
    "        else:\n",
    "            raise Exception('Illegal change basis')\n",
    "    else:\n",
    "        return np.kron(measure_basis([l[0]]), measure_basis(l[1:]))\n",
    "\n",
    "repeat = int(1e2)\n",
    "dimensions = [3,3,8]\n",
    "num_qubits = dimensions[0]*dimensions[1]\n",
    "\n",
    "start = time.time()\n",
    "for i in range(repeat):\n",
    "    circ = gen_supremacy(*dimensions)\n",
    "    backend = BasicAer.get_backend('statevector_simulator')\n",
    "    job = execute(circ, backend=backend)\n",
    "    result = job.result()\n",
    "    outputstate = result.get_statevector(circ)\n",
    "end = time.time()\n",
    "print(end-start)\n",
    "\n",
    "start = time.time()\n",
    "for i in range(repeat):\n",
    "    l = [random.randint(1,8) for i in range(num_qubits)]\n",
    "    change_basis_matrix = measure_basis(l)\n",
    "    sparse_matrix = csr_matrix(change_basis_matrix)\n",
    "    modified_instance = csr_matrix.dot(sparse_matrix, outputstate)\n",
    "end = time.time()\n",
    "print(end-start)\n",
    "\n",
    "start = time.time()\n",
    "for i in range(repeat):\n",
    "    l = [random.randint(1,8) for i in range(num_qubits)]\n",
    "    change_basis_matrix = measure_basis(l)\n",
    "    modified_instance = np.matmul(change_basis_matrix, outputstate)\n",
    "end = time.time()\n",
    "print(end-start)"
   ]
  },
  {
   "cell_type": "code",
   "execution_count": null,
   "metadata": {},
   "outputs": [],
   "source": []
  }
 ],
 "metadata": {
  "kernelspec": {
   "display_name": "Python 3",
   "language": "python",
   "name": "python3"
  },
  "language_info": {
   "codemirror_mode": {
    "name": "ipython",
    "version": 3
   },
   "file_extension": ".py",
   "mimetype": "text/x-python",
   "name": "python",
   "nbconvert_exporter": "python",
   "pygments_lexer": "ipython3",
   "version": "3.7.4"
  }
 },
 "nbformat": 4,
 "nbformat_minor": 4
}
