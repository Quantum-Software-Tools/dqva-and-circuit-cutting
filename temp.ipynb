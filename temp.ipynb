{
 "cells": [
  {
   "cell_type": "code",
   "execution_count": 2,
   "metadata": {},
   "outputs": [
    {
     "name": "stdout",
     "output_type": "stream",
     "text": [
      "(QuantumRegister(16, 'qreg'), 0) [(0, (QuantumRegister(12, 'qreg'), 0))]\n",
      "(QuantumRegister(16, 'qreg'), 1) [(0, (QuantumRegister(12, 'qreg'), 3))]\n",
      "(QuantumRegister(16, 'qreg'), 2) [(0, (QuantumRegister(12, 'qreg'), 9)), (1, (QuantumRegister(2, 'cutQ'), 0))]\n",
      "(QuantumRegister(16, 'qreg'), 3) [(1, (QuantumRegister(1, 'qreg'), 0))]\n",
      "(QuantumRegister(16, 'qreg'), 4) [(0, (QuantumRegister(12, 'qreg'), 1))]\n",
      "(QuantumRegister(16, 'qreg'), 5) [(0, (QuantumRegister(12, 'qreg'), 6))]\n",
      "(QuantumRegister(16, 'qreg'), 6) [(0, (QuantumRegister(12, 'qreg'), 4))]\n",
      "(QuantumRegister(16, 'qreg'), 7) [(0, (QuantumRegister(12, 'qreg'), 10)), (3, (QuantumRegister(2, 'cutQ'), 0)), (1, (QuantumRegister(2, 'cutQ'), 1))]\n",
      "(QuantumRegister(16, 'qreg'), 8) [(0, (QuantumRegister(12, 'qreg'), 8))]\n",
      "(QuantumRegister(16, 'qreg'), 9) [(0, (QuantumRegister(12, 'qreg'), 5))]\n",
      "(QuantumRegister(16, 'qreg'), 10) [(0, (QuantumRegister(12, 'qreg'), 2)), (2, (QuantumRegister(2, 'cutQ'), 1))]\n",
      "(QuantumRegister(16, 'qreg'), 11) [(2, (QuantumRegister(3, 'qreg'), 0)), (3, (QuantumRegister(2, 'cutQ'), 1))]\n",
      "(QuantumRegister(16, 'qreg'), 12) [(0, (QuantumRegister(12, 'qreg'), 11))]\n",
      "(QuantumRegister(16, 'qreg'), 13) [(0, (QuantumRegister(12, 'qreg'), 7)), (2, (QuantumRegister(2, 'cutQ'), 0))]\n",
      "(QuantumRegister(16, 'qreg'), 14) [(2, (QuantumRegister(3, 'qreg'), 2))]\n",
      "(QuantumRegister(16, 'qreg'), 15) [(2, (QuantumRegister(3, 'qreg'), 1))]\n"
     ]
    }
   ],
   "source": [
    "import pickle\n",
    "cpm = pickle.load( open( './data/cpm.p', 'rb' ) )\n",
    "[print(x, cpm[x]) for x in cpm]\n",
    "cluster_0_circ = pickle.load( open( './data/cluster_0_circ.p', 'rb' ) )"
   ]
  },
  {
   "cell_type": "code",
   "execution_count": null,
   "metadata": {},
   "outputs": [],
   "source": []
  }
 ],
 "metadata": {
  "kernelspec": {
   "display_name": "venv",
   "language": "python",
   "name": "venv"
  },
  "language_info": {
   "codemirror_mode": {
    "name": "ipython",
    "version": 3
   },
   "file_extension": ".py",
   "mimetype": "text/x-python",
   "name": "python",
   "nbconvert_exporter": "python",
   "pygments_lexer": "ipython3",
   "version": "3.7.3"
  }
 },
 "nbformat": 4,
 "nbformat_minor": 4
}
