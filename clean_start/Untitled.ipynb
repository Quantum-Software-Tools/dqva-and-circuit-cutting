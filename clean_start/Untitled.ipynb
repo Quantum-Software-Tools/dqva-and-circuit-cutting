{
 "cells": [
  {
   "cell_type": "code",
   "execution_count": 2,
   "metadata": {},
   "outputs": [
    {
     "name": "stdout",
     "output_type": "stream",
     "text": [
      "will run 877 times\n",
      "(3, 14) [((QuantumRegister(16, 'q'), 1), 3), ((QuantumRegister(16, 'q'), 6), 1), ((QuantumRegister(16, 'q'), 7), 1)]\n",
      "3 14\n",
      "(2, 15) [((QuantumRegister(16, 'q'), 2), 3), ((QuantumRegister(16, 'q'), 7), 1)]\n",
      "2 15\n",
      "(4, 11) [((QuantumRegister(16, 'q'), 9), 4), ((QuantumRegister(16, 'q'), 6), 4), ((QuantumRegister(16, 'q'), 1), 3), ((QuantumRegister(16, 'q'), 13), 3)]\n",
      "4 11\n",
      "BUG\n"
     ]
    },
    {
     "ename": "SystemExit",
     "evalue": "0",
     "output_type": "error",
     "traceback": [
      "An exception has occurred, use %tb to see the full traceback.\n",
      "\u001b[0;31mSystemExit\u001b[0m\u001b[0;31m:\u001b[0m 0\n"
     ]
    },
    {
     "name": "stderr",
     "output_type": "stream",
     "text": [
      "/Users/weitang/Documents/Princeton/circuit_cutting/venv/lib/python3.7/site-packages/IPython/core/interactiveshell.py:3333: UserWarning: To exit: use 'exit', 'quit', or Ctrl-D.\n",
      "  warn(\"To exit: use 'exit', 'quit', or Ctrl-D.\", stacklevel=1)\n"
     ]
    }
   ],
   "source": [
    "import supremacy_generator as suprem_gen\n",
    "import auto_cut_finder as cut_finder\n",
    "import cutter as cutter\n",
    "import sys\n",
    "\n",
    "circ = suprem_gen.circuit_generator(circuit_dimension=(4,4,8), random_order=True)\n",
    "pareto_K_d = cut_finder.find_pareto_solutions(circ, num_clusters=2)\n",
    "bug_circ = None\n",
    "bug_cuts = None\n",
    "for pareto_key in pareto_K_d:\n",
    "    try:\n",
    "        sub_circs_no_bridge, complete_path_map, K, d = cutter.cut_circuit(circ, pareto_K_d[pareto_key])\n",
    "    except:\n",
    "        bug_circ = circ\n",
    "        bug_cuts = pareto_K_d[pareto_key]\n",
    "        print('BUG')\n",
    "        sys.exit(0)\n",
    "    print(pareto_key, pareto_K_d[pareto_key])\n",
    "    print(K, d)"
   ]
  },
  {
   "cell_type": "code",
   "execution_count": null,
   "metadata": {},
   "outputs": [],
   "source": []
  }
 ],
 "metadata": {
  "kernelspec": {
   "display_name": "venv",
   "language": "python",
   "name": "venv"
  },
  "language_info": {
   "codemirror_mode": {
    "name": "ipython",
    "version": 3
   },
   "file_extension": ".py",
   "mimetype": "text/x-python",
   "name": "python",
   "nbconvert_exporter": "python",
   "pygments_lexer": "ipython3",
   "version": "3.7.3"
  }
 },
 "nbformat": 4,
 "nbformat_minor": 2
}
