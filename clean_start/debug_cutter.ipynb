{
 "cells": [
  {
   "cell_type": "code",
   "execution_count": 110,
   "metadata": {},
   "outputs": [
    {
     "name": "stdout",
     "output_type": "stream",
     "text": [
      "will run 2877 times\n",
      "pareto solutions:\n",
      "(3, 23) [((QuantumRegister(25, 'q'), 2), 3), ((QuantumRegister(25, 'q'), 8), 1), ((QuantumRegister(25, 'q'), 9), 1)]\n",
      "****************************************************************************************************\n",
      "CMP:\n",
      "(QuantumRegister(25, 'q'), 0) [(0, (QuantumRegister(21, 'q'), 9))]\n",
      "(QuantumRegister(25, 'q'), 1) [(0, (QuantumRegister(21, 'q'), 18))]\n",
      "(QuantumRegister(25, 'q'), 2) [(0, (QuantumRegister(21, 'q'), 20)), (1, (QuantumRegister(1, 'cutQ'), 0))]\n",
      "(QuantumRegister(25, 'q'), 3) [(1, (QuantumRegister(4, 'q'), 0))]\n",
      "(QuantumRegister(25, 'q'), 4) [(1, (QuantumRegister(4, 'q'), 3))]\n",
      "(QuantumRegister(25, 'q'), 5) [(0, (QuantumRegister(21, 'q'), 5))]\n",
      "(QuantumRegister(25, 'q'), 6) [(0, (QuantumRegister(21, 'q'), 6))]\n",
      "(QuantumRegister(25, 'q'), 7) [(0, (QuantumRegister(21, 'q'), 17))]\n",
      "(QuantumRegister(25, 'q'), 8) [(1, (QuantumRegister(4, 'q'), 1)), (0, (QuantumRegister(2, 'cutQ'), 1))]\n",
      "(QuantumRegister(25, 'q'), 9) [(1, (QuantumRegister(4, 'q'), 2)), (0, (QuantumRegister(2, 'cutQ'), 0))]\n",
      "(QuantumRegister(25, 'q'), 10) [(0, (QuantumRegister(21, 'q'), 3))]\n",
      "(QuantumRegister(25, 'q'), 11) [(0, (QuantumRegister(21, 'q'), 15))]\n",
      "(QuantumRegister(25, 'q'), 12) [(0, (QuantumRegister(21, 'q'), 13))]\n",
      "(QuantumRegister(25, 'q'), 13) [(0, (QuantumRegister(21, 'q'), 2))]\n",
      "(QuantumRegister(25, 'q'), 14) [(0, (QuantumRegister(21, 'q'), 4))]\n",
      "(QuantumRegister(25, 'q'), 15) [(0, (QuantumRegister(21, 'q'), 7))]\n",
      "(QuantumRegister(25, 'q'), 16) [(0, (QuantumRegister(21, 'q'), 8))]\n",
      "(QuantumRegister(25, 'q'), 17) [(0, (QuantumRegister(21, 'q'), 19))]\n",
      "(QuantumRegister(25, 'q'), 18) [(0, (QuantumRegister(21, 'q'), 16))]\n",
      "(QuantumRegister(25, 'q'), 19) [(0, (QuantumRegister(21, 'q'), 14))]\n",
      "(QuantumRegister(25, 'q'), 20) [(0, (QuantumRegister(21, 'q'), 10))]\n",
      "(QuantumRegister(25, 'q'), 21) [(0, (QuantumRegister(21, 'q'), 1))]\n",
      "(QuantumRegister(25, 'q'), 22) [(0, (QuantumRegister(21, 'q'), 0))]\n",
      "(QuantumRegister(25, 'q'), 23) [(0, (QuantumRegister(21, 'q'), 12))]\n",
      "(QuantumRegister(25, 'q'), 24) [(0, (QuantumRegister(21, 'q'), 11))]\n",
      "K=3, d=23\n"
     ]
    }
   ],
   "source": [
    "import supremacy_generator as suprem_gen\n",
    "import auto_cut_finder as cut_finder\n",
    "import cutter\n",
    "import random\n",
    "from qiskit.tools.visualization import dag_drawer\n",
    "from qiskit.converters import circuit_to_dag, dag_to_circuit\n",
    "\n",
    "circ = suprem_gen.circuit_generator([5,5,8], random_order = True)\n",
    "\n",
    "pareto_K_d = cut_finder.find_pareto_solutions(circ=circ, num_clusters=2)\n",
    "keys = list(pareto_K_d.keys())\n",
    "key = random.choice(keys)\n",
    "pareto_cuts, pareto_grouping = pareto_K_d[key]\n",
    "\n",
    "fragments, complete_path_map, K, d = cutter.cut_circuit(circ, pareto_cuts)\n",
    "print('pareto solutions:')\n",
    "print(key, pareto_cuts)\n",
    "# [print(x) for x in pareto_grouping]\n",
    "print('*'*100)\n",
    "print('CMP:')\n",
    "[print(x, complete_path_map[x]) for x in complete_path_map]\n",
    "print('K=%d, d=%d' % (K,d))"
   ]
  },
  {
   "cell_type": "code",
   "execution_count": 109,
   "metadata": {
    "scrolled": false
   },
   "outputs": [],
   "source": [
    "def find_ops(fragments, fragment_idx, qubit):\n",
    "    ops = []\n",
    "    circ = fragments[fragment_idx]\n",
    "    for node in circuit_to_dag(circ).topological_op_nodes():\n",
    "        if qubit in node.qargs:\n",
    "            translated_qargs = []\n",
    "            for qarg in node.qargs:\n",
    "                original_qubit = find_original_qubit(fragment_idx, qarg)\n",
    "                translated_qargs.append(original_qubit)\n",
    "            ops.append((node.name, translated_qargs))\n",
    "    return ops\n",
    "\n",
    "def find_original_qubit(fragment_idx, qubit):\n",
    "    for original_qubit in complete_path_map:\n",
    "        if (fragment_idx, qubit) in complete_path_map[original_qubit]:\n",
    "            return original_qubit\n",
    "    return None  \n",
    "\n",
    "for input_qubit in complete_path_map:\n",
    "    path = complete_path_map[input_qubit]\n",
    "    fragment_ops = []\n",
    "    for p in path:\n",
    "        fragment_idx, fragment_qubit = p\n",
    "        fragment_ops += find_ops(fragments, fragment_idx, fragment_qubit)\n",
    "    \n",
    "    original_ops = []\n",
    "    for node in circuit_to_dag(circ).topological_op_nodes():\n",
    "        if input_qubit in node.qargs:\n",
    "            original_ops.append((node.name, node.qargs))\n",
    "    if fragment_ops != original_ops:\n",
    "        print('input_qubit', input_qubit)\n",
    "        print(fragment_ops)\n",
    "        print(original_ops)\n",
    "        print('*'*100)"
   ]
  },
  {
   "cell_type": "code",
   "execution_count": null,
   "metadata": {},
   "outputs": [],
   "source": []
  }
 ],
 "metadata": {
  "kernelspec": {
   "display_name": "venv",
   "language": "python",
   "name": "venv"
  },
  "language_info": {
   "codemirror_mode": {
    "name": "ipython",
    "version": 3
   },
   "file_extension": ".py",
   "mimetype": "text/x-python",
   "name": "python",
   "nbconvert_exporter": "python",
   "pygments_lexer": "ipython3",
   "version": "3.7.3"
  }
 },
 "nbformat": 4,
 "nbformat_minor": 2
}
