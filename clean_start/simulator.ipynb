{
 "cells": [
  {
   "cell_type": "code",
   "execution_count": 7,
   "metadata": {},
   "outputs": [
    {
     "name": "stdout",
     "output_type": "stream",
     "text": [
      "will run 164 times\n",
      "all keys [(2, 8), (3, 6)]\n",
      "(2, 8)\n"
     ]
    }
   ],
   "source": [
    "import sys\n",
    "import numpy as np\n",
    "from qiskit.converters import circuit_to_dag, dag_to_circuit\n",
    "import supremacy_generator as suprem_gen\n",
    "import auto_cut_finder as cut_finder\n",
    "import cutter\n",
    "import simulator\n",
    "from qiskit.tools.visualization import dag_drawer\n",
    "import timeit\n",
    "import matplotlib.pyplot as plt\n",
    "import random\n",
    "\n",
    "circ = suprem_gen.circuit_generator([3,3,8], random_order = False)\n",
    "pareto_K_d = cut_finder.find_pareto_solutions(circ=circ, num_clusters=2)\n",
    "keys = list(pareto_K_d.keys())\n",
    "print('all keys',keys)\n",
    "key = random.choice(keys)\n",
    "pareto_cuts, _ = pareto_K_d[key]\n",
    "print(key)"
   ]
  },
  {
   "cell_type": "code",
   "execution_count": 8,
   "metadata": {
    "scrolled": false
   },
   "outputs": [
    {
     "name": "stdout",
     "output_type": "stream",
     "text": [
      "Complete path map:\n",
      "(QuantumRegister(9, 'q'), 0) [(0, (QuantumRegister(7, 'q'), 5))]\n",
      "(QuantumRegister(9, 'q'), 1) [(0, (QuantumRegister(7, 'q'), 0))]\n",
      "(QuantumRegister(9, 'q'), 2) [(0, (QuantumRegister(7, 'q'), 6))]\n",
      "(QuantumRegister(9, 'q'), 3) [(0, (QuantumRegister(7, 'q'), 4)), (1, (QuantumRegister(1, 'cutQ'), 0))]\n",
      "(QuantumRegister(9, 'q'), 4) [(0, (QuantumRegister(7, 'q'), 3))]\n",
      "(QuantumRegister(9, 'q'), 5) [(0, (QuantumRegister(7, 'q'), 1))]\n",
      "(QuantumRegister(9, 'q'), 6) [(1, (QuantumRegister(2, 'q'), 1))]\n",
      "(QuantumRegister(9, 'q'), 7) [(1, (QuantumRegister(2, 'q'), 0)), (0, (QuantumRegister(1, 'cutQ'), 0))]\n",
      "(QuantumRegister(9, 'q'), 8) [(0, (QuantumRegister(7, 'q'), 2))]\n",
      "****************************************************************************************************\n",
      "Simulating fragments for 64 s samples * 2 fragment circuits\n",
      "76.56 % completed, estimated time remaining = 1.62 seconds\n",
      "Total Time: 6.74 seconds\n",
      "****************************************************************************************************\n",
      "Multiplying sigma and c for 64 s combinations\n"
     ]
    }
   ],
   "source": [
    "sub_circs_no_bridge, complete_path_map, K, d = cutter.cut_circuit(circ=circ, positions=pareto_cuts)\n",
    "print('Complete path map:')\n",
    "[print(x,complete_path_map[x]) for x in complete_path_map]\n",
    "print('*'*100)\n",
    "\n",
    "fragment_all_s, all_s = simulator.fragment_all_s_calc(sub_circs_no_bridge, complete_path_map, random_sampling=False)\n",
    "fragment_all_s = simulator.coefficients_multiplier(fragment_all_s, complete_path_map)"
   ]
  },
  {
   "cell_type": "code",
   "execution_count": 6,
   "metadata": {},
   "outputs": [
    {
     "data": {
      "text/plain": [
       "'011'"
      ]
     },
     "execution_count": 6,
     "metadata": {},
     "output_type": "execute_result"
    }
   ],
   "source": [
    "state = 3\n",
    "bin(state)[2:].zfill(3)"
   ]
  },
  {
   "cell_type": "code",
   "execution_count": null,
   "metadata": {},
   "outputs": [],
   "source": []
  }
 ],
 "metadata": {
  "kernelspec": {
   "display_name": "venv",
   "language": "python",
   "name": "venv"
  },
  "language_info": {
   "codemirror_mode": {
    "name": "ipython",
    "version": 3
   },
   "file_extension": ".py",
   "mimetype": "text/x-python",
   "name": "python",
   "nbconvert_exporter": "python",
   "pygments_lexer": "ipython3",
   "version": "3.7.3"
  }
 },
 "nbformat": 4,
 "nbformat_minor": 2
}
