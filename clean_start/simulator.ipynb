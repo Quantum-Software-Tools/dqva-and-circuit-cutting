{
 "cells": [
  {
   "cell_type": "code",
   "execution_count": 1,
   "metadata": {},
   "outputs": [
    {
     "name": "stdout",
     "output_type": "stream",
     "text": [
      "will run 8 times\n",
      "all keys [(2, 3)]\n",
      "(2, 3)\n"
     ]
    }
   ],
   "source": [
    "import sys\n",
    "import numpy as np\n",
    "from qiskit.converters import circuit_to_dag, dag_to_circuit\n",
    "import supremacy_generator as suprem_gen\n",
    "import auto_cut_finder as cut_finder\n",
    "import cutter\n",
    "import simulator\n",
    "from qiskit.tools.visualization import dag_drawer\n",
    "import timeit\n",
    "import matplotlib.pyplot as plt\n",
    "import random\n",
    "\n",
    "circ = suprem_gen.circuit_generator([2,2,8], random_order = False)\n",
    "pareto_K_d = cut_finder.find_pareto_solutions(circ=circ, num_clusters=2)\n",
    "keys = list(pareto_K_d.keys())\n",
    "print('all keys',keys)\n",
    "key = random.choice(keys)\n",
    "pareto_cuts, _ = pareto_K_d[key]\n",
    "print(key)"
   ]
  },
  {
   "cell_type": "code",
   "execution_count": 2,
   "metadata": {
    "scrolled": false
   },
   "outputs": [
    {
     "name": "stdout",
     "output_type": "stream",
     "text": [
      "Complete path map:\n",
      "(QuantumRegister(4, 'q'), 0) [(0, (QuantumRegister(2, 'q'), 1))]\n",
      "(QuantumRegister(4, 'q'), 1) [(0, (QuantumRegister(2, 'q'), 0)), (1, (QuantumRegister(1, 'cutQ'), 0))]\n",
      "(QuantumRegister(4, 'q'), 2) [(1, (QuantumRegister(2, 'q'), 1)), (0, (QuantumRegister(1, 'cutQ'), 0))]\n",
      "(QuantumRegister(4, 'q'), 3) [(1, (QuantumRegister(2, 'q'), 0))]\n",
      "****************************************************************************************************\n",
      "Simulating fragments for 64 s samples * 2 fragment circuits\n",
      "76.56 % completed, estimated time remaining = 0.83 seconds\n",
      "Total Time: 3.48 seconds\n",
      "****************************************************************************************************\n"
     ]
    }
   ],
   "source": [
    "sub_circs_no_bridge, complete_path_map, K, d = cutter.cut_circuit(circ=circ, positions=pareto_cuts)\n",
    "print('Complete path map:')\n",
    "[print(x,complete_path_map[x]) for x in complete_path_map]\n",
    "print('*'*100)\n",
    "\n",
    "fragment_all_s, all_s, sub_circ_qubits = simulator.fragment_all_s_calc(sub_circs_no_bridge, complete_path_map, random_sampling=False)\n",
    "# fragment_all_s = simulator.coefficients_multiplier(fragment_all_s, complete_path_map)"
   ]
  },
  {
   "cell_type": "code",
   "execution_count": 9,
   "metadata": {
    "scrolled": false
   },
   "outputs": [
    {
     "name": "stdout",
     "output_type": "stream",
     "text": [
      "[(QuantumRegister(3, 'cutQ'), 2), (QuantumRegister(3, 'cutQ'), 1), (QuantumRegister(3, 'cutQ'), 0), (QuantumRegister(3, 'q'), 2), (QuantumRegister(3, 'q'), 1), (QuantumRegister(3, 'q'), 0)]\n",
      "[(QuantumRegister(3, 'cutQ'), 2), (QuantumRegister(3, 'cutQ'), 1), (QuantumRegister(3, 'cutQ'), 0), (QuantumRegister(3, 'q'), 2), (QuantumRegister(3, 'q'), 1), (QuantumRegister(3, 'q'), 0)]\n"
     ]
    }
   ],
   "source": [
    "print(fragment_all_s['654'][1][1])\n",
    "print(fragment_all_s['573'][1][1])"
   ]
  },
  {
   "cell_type": "code",
   "execution_count": null,
   "metadata": {},
   "outputs": [],
   "source": []
  }
 ],
 "metadata": {
  "kernelspec": {
   "display_name": "venv",
   "language": "python",
   "name": "venv"
  },
  "language_info": {
   "codemirror_mode": {
    "name": "ipython",
    "version": 3
   },
   "file_extension": ".py",
   "mimetype": "text/x-python",
   "name": "python",
   "nbconvert_exporter": "python",
   "pygments_lexer": "ipython3",
   "version": "3.7.3"
  }
 },
 "nbformat": 4,
 "nbformat_minor": 2
}
