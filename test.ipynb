{
 "cells": [
  {
   "cell_type": "code",
   "execution_count": 1,
   "metadata": {},
   "outputs": [
    {
     "name": "stdout",
     "output_type": "stream",
     "text": "Generating 2x2, 8+1 supremacy circuit\nibmqx2: 5-qubit, max 75 jobs * 8192 shots\nibmq_20_tokyo: 20-qubit, max 900 jobs * 8192 shots\n2019-08-07T18:05:01.678Z None JobStatus.DONE\nNone\n2019-07-27T21:08:52.348Z None JobStatus.DONE\nNone\n2019-07-27T21:08:45.623Z None JobStatus.DONE\nNone\n2019-07-27T21:08:37.700Z None JobStatus.DONE\nNone\n2019-07-27T21:08:31.816Z None JobStatus.DONE\nNone\n2019-07-27T21:08:26.516Z None JobStatus.DONE\nNone\n2019-07-27T21:08:21.725Z None JobStatus.DONE\nNone\n2019-07-27T21:08:15.676Z None JobStatus.DONE\nNone\n2019-07-27T21:08:10.351Z None JobStatus.DONE\nNone\n2019-07-27T21:08:02.960Z None JobStatus.DONE\nNone\nibmq_16_melbourne: 14-qubit, max 150 jobs * 8192 shots\n2019-11-02T03:16:03.484Z None JobStatus.DONE\nNone\n2019-11-01T14:56:26.931Z None JobStatus.DONE\nNone\n2019-11-01T14:54:15.394Z None JobStatus.DONE\nNone\n2019-11-01T14:52:55.851Z None JobStatus.DONE\nNone\n2019-11-01T14:51:36.404Z None JobStatus.DONE\nNone\n2019-11-01T14:46:19.473Z None JobStatus.DONE\nNone\n2019-11-01T01:43:13.333Z None JobStatus.DONE\nNone\n2019-11-01T01:35:33.923Z None JobStatus.DONE\nNone\n2019-10-31T20:36:50.998Z None JobStatus.DONE\nNone\n2019-10-31T20:27:58.304Z None JobStatus.DONE\nNone\nibmq_poughkeepsie: 20-qubit, max 900 jobs * 8192 shots\n2019-11-04T19:51:42.080Z None JobStatus.DONE\nNone\n2019-11-04T19:50:59.527Z None JobStatus.DONE\nNone\n2019-11-04T19:42:45.755Z None JobStatus.ERROR\nERROR_VALIDATING_JOB\n2019-11-04T19:42:06.910Z None JobStatus.ERROR\nERROR_VALIDATING_JOB\n2019-11-04T19:19:57.902Z None JobStatus.ERROR\nERROR_VALIDATING_JOB\n2019-11-01T21:52:39.518Z None JobStatus.ERROR\nThe following experiments failed:\n\n2019-11-01T21:52:12.277Z None JobStatus.ERROR\nThe following experiments failed:\n\n2019-11-01T21:44:34.094Z None JobStatus.DONE\nNone\n2019-10-31T03:05:25.497Z None JobStatus.ERROR\nThe following experiments failed:\n\n2019-10-31T03:04:41.066Z None JobStatus.ERROR\nThe following experiments failed:\n\nibmq_boeblingen: 20-qubit, max 900 jobs * 8192 shots\n2019-11-04T20:02:11.907Z 0 JobStatus.RUNNING\nNone\n2019-11-04T19:54:37.052Z None JobStatus.ERROR\nERROR_VALIDATING_JOB\n2019-11-04T19:48:51.670Z None JobStatus.ERROR\nERROR_VALIDATING_JOB\n2019-11-04T19:47:36.916Z None JobStatus.ERROR\nERROR_VALIDATING_JOB\n2019-11-04T19:45:29.058Z None JobStatus.ERROR\nERROR_VALIDATING_JOB\n2019-11-04T17:01:15.151Z None JobStatus.DONE\nNone\n2019-11-04T16:28:27.922Z None JobStatus.DONE\nNone\n2019-11-04T07:18:06.447Z None JobStatus.DONE\nNone\n2019-11-04T07:17:17.796Z None JobStatus.DONE\nNone\n2019-11-04T07:16:54.997Z None JobStatus.DONE\nNone\nibmq_vigo: 5-qubit, max 75 jobs * 8192 shots\nibmq_ourense: 5-qubit, max 75 jobs * 8192 shots\nibmq_johannesburg: 20-qubit, max 900 jobs * 8192 shots\n2019-11-04T19:41:07.952Z None JobStatus.ERROR\nERROR_VALIDATING_JOB\n2019-11-04T19:34:17.260Z None JobStatus.ERROR\nERROR_VALIDATING_JOB\n2019-11-04T19:31:29.076Z None JobStatus.ERROR\nERROR_VALIDATING_JOB\n2019-11-04T19:29:59.124Z None JobStatus.ERROR\nERROR_VALIDATING_JOB\nibmq_rochester: 53-qubit, max 75 jobs * 8192 shots\n2019-10-31T19:55:54.290Z None JobStatus.ERROR\nERROR_RUNNING_JOB\n"
    }
   ],
   "source": [
    "from qcg.generators import gen_supremacy, gen_hwea\n",
    "from qiskit.compiler import transpile, assemble\n",
    "from helper_fun import load_IBMQ, readout_mitigation, get_evaluator_info\n",
    "from qiskit.providers.aer import noise\n",
    "from qiskit import IBMQ\n",
    "\n",
    "circ = gen_supremacy(2,2,8,order='75601234')\n",
    "provider = load_IBMQ()\n",
    "\n",
    "for x in provider.backends():\n",
    "    if 'qasm' not in str(x):\n",
    "        evaluator_info = get_evaluator_info(circ=circ,device_name=str(x),fields=['properties'])\n",
    "        num_qubits = len(evaluator_info['properties'].qubits)\n",
    "        print('%s: %d-qubit, max %d jobs * %d shots'%(x,num_qubits,x.configuration().max_experiments,x.configuration().max_shots))\n",
    "        for job in x.jobs():\n",
    "            print(job.creation_date(),job.queue_position(),job.status())\n",
    "            print(job.error_message())"
   ]
  },
  {
   "cell_type": "code",
   "execution_count": null,
   "metadata": {},
   "outputs": [],
   "source": []
  }
 ],
 "metadata": {
  "file_extension": ".py",
  "kernelspec": {
   "display_name": "Python 3",
   "language": "python",
   "name": "python3"
  },
  "language_info": {
   "codemirror_mode": {
    "name": "ipython",
    "version": 3
   },
   "file_extension": ".py",
   "mimetype": "text/x-python",
   "name": "python",
   "nbconvert_exporter": "python",
   "pygments_lexer": "ipython3",
   "version": "3.7.4"
  },
  "mimetype": "text/x-python",
  "name": "python",
  "npconvert_exporter": "python",
  "pygments_lexer": "ipython3",
  "version": 3
 },
 "nbformat": 4,
 "nbformat_minor": 4
}