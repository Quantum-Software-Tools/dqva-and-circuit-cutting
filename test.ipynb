{
 "cells": [
  {
   "cell_type": "code",
   "execution_count": 4,
   "metadata": {},
   "outputs": [
    {
     "name": "stdout",
     "output_type": "stream",
     "text": "Generating 2x2, 8+1 supremacy circuit\nibmq_boeblingen: 20-qubit, max 900 jobs * 8192 shots\n"
    }
   ],
   "source": [
    "from qcg.generators import gen_supremacy, gen_hwea\n",
    "from qiskit.compiler import transpile, assemble\n",
    "from helper_fun import load_IBMQ, readout_mitigation, get_evaluator_info\n",
    "from qiskit.providers.aer import noise\n",
    "from qiskit import IBMQ\n",
    "from qiskit.providers.jobstatus import JobStatus\n",
    "\n",
    "circ = gen_supremacy(2,2,8)\n",
    "provider = load_IBMQ()\n",
    "\n",
    "for x in provider.backends():\n",
    "    if 'qasm' not in str(x) and str(x) == 'ibmq_boeblingen':\n",
    "        evaluator_info = get_evaluator_info(circ=circ,device_name=str(x),fields=['properties'])\n",
    "        num_qubits = len(evaluator_info['properties'].qubits)\n",
    "        print('%s: %d-qubit, max %d jobs * %d shots'%(x,num_qubits,x.configuration().max_experiments,x.configuration().max_shots))\n",
    "        for job in x.jobs():\n",
    "            if job.status() not in [JobStatus['DONE'],JobStatus['CANCELLED'],JobStatus['ERROR']]:\n",
    "                print(job.creation_date(),job.queue_position(),job.status(),job.job_id())"
   ]
  },
  {
   "cell_type": "code",
   "execution_count": null,
   "metadata": {},
   "outputs": [],
   "source": []
  }
 ],
 "metadata": {
  "file_extension": ".py",
  "kernelspec": {
   "display_name": "Python 3",
   "language": "python",
   "name": "python3"
  },
  "language_info": {
   "codemirror_mode": {
    "name": "ipython",
    "version": 3
   },
   "file_extension": ".py",
   "mimetype": "text/x-python",
   "name": "python",
   "nbconvert_exporter": "python",
   "pygments_lexer": "ipython3",
   "version": "3.7.4"
  },
  "mimetype": "text/x-python",
  "name": "python",
  "npconvert_exporter": "python",
  "pygments_lexer": "ipython3",
  "version": 3
 },
 "nbformat": 4,
 "nbformat_minor": 4
}