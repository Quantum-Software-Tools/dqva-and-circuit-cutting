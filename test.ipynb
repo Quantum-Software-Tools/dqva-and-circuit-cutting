{
 "cells": [
  {
   "cell_type": "code",
   "execution_count": 1,
   "metadata": {},
   "outputs": [
    {
     "ename": "ModuleNotFoundError",
     "evalue": "No module named 'simulator'",
     "output_type": "error",
     "traceback": [
      "\u001b[0;31m---------------------------------------------------------------------------\u001b[0m",
      "\u001b[0;31mModuleNotFoundError\u001b[0m                       Traceback (most recent call last)",
      "\u001b[0;32m<ipython-input-1-ad57296f62ec>\u001b[0m in \u001b[0;36m<module>\u001b[0;34m\u001b[0m\n\u001b[1;32m      7\u001b[0m \u001b[0;32mimport\u001b[0m \u001b[0mpickle\u001b[0m\u001b[0;34m\u001b[0m\u001b[0;34m\u001b[0m\u001b[0m\n\u001b[1;32m      8\u001b[0m \u001b[0;32mimport\u001b[0m \u001b[0mnumpy\u001b[0m \u001b[0;32mas\u001b[0m \u001b[0mnp\u001b[0m\u001b[0;34m\u001b[0m\u001b[0;34m\u001b[0m\u001b[0m\n\u001b[0;32m----> 9\u001b[0;31m \u001b[0;32mimport\u001b[0m \u001b[0msimulator\u001b[0m\u001b[0;34m\u001b[0m\u001b[0;34m\u001b[0m\u001b[0m\n\u001b[0m\u001b[1;32m     10\u001b[0m \u001b[0;32mfrom\u001b[0m \u001b[0mqcg\u001b[0m\u001b[0;34m.\u001b[0m\u001b[0mgenerators\u001b[0m \u001b[0;32mimport\u001b[0m \u001b[0mgen_supremacy\u001b[0m\u001b[0;34m\u001b[0m\u001b[0;34m\u001b[0m\u001b[0m\n\u001b[1;32m     11\u001b[0m \u001b[0;34m\u001b[0m\u001b[0m\n",
      "\u001b[0;31mModuleNotFoundError\u001b[0m: No module named 'simulator'"
     ]
    }
   ],
   "source": [
    "from qcg.generators import gen_supremacy\n",
    "from qiskit.converters import circuit_to_dag, dag_to_circuit\n",
    "from qiskit.extensions.standard import HGate, SGate, SdgGate, XGate\n",
    "from qiskit.tools.visualization import dag_drawer\n",
    "from qiskit.quantum_info.states.measures import state_fidelity\n",
    "import randomized_searcher as r_s\n",
    "import pickle\n",
    "import numpy as np\n",
    "from qcg.generators import gen_supremacy\n",
    "\n",
    "def measure_basis(l):\n",
    "    if len(l)==1:\n",
    "        return l[0]\n",
    "    else:\n",
    "        return np.kron(l[0], measure_basis(l[1:]))\n",
    "    \n",
    "initializations = (5,5,6)\n",
    "\n",
    "complete_path_map = pickle.load( open( './data/cpm.p', 'rb' ) )\n",
    "[print(x, complete_path_map[x]) for x in complete_path_map]\n",
    "cluster_0_measurement = pickle.load( open( './data/cluster_0_measurement.p', 'rb' ) )\n",
    "cluster_0_circ = pickle.load( open( './data/cluster_0_circ.p', 'rb' ) )\n",
    "print(cluster_0_circ.qubits)\n",
    "\n",
    "print('*'*100)\n",
    "\n",
    "H = [[1,1],[1,-1]]/np.sqrt(2)\n",
    "sDagger = [[1,0],[0,-1j]]\n",
    "Id = [[1,0],[0,1]]\n",
    "\n",
    "meas_0 = cluster_0_measurement[(1,)+initializations]\n",
    "meas_1 = cluster_0_measurement[(5,)+initializations]\n",
    "\n",
    "prod = measure_basis([Id,Id,Id,Id,Id,Id,np.matmul(H,sDagger)])\n",
    "\n",
    "modified = np.matmul(prod, meas_0)\n",
    "print('fidelity between modified vs simulation =',state_fidelity(modified, meas_1))\n",
    "\n",
    "print('*'*100)\n",
    "cluster_0_measurement_sv, cluster_0_cut_in_qubits = pickle.load( open( './data/cluster_0_measurement_sv.p', 'rb' ) )\n",
    "meas_2 = cluster_0_measurement_sv[initializations]\n",
    "sv_modified = np.matmul(prod, meas_2)\n",
    "print('fidelity between sv_modified vs simulation', state_fidelity(sv_modified, meas_1))"
   ]
  },
  {
   "cell_type": "code",
   "execution_count": null,
   "metadata": {},
   "outputs": [],
   "source": []
  }
 ],
 "metadata": {
  "kernelspec": {
   "display_name": "venv",
   "language": "python",
   "name": "venv"
  },
  "language_info": {
   "codemirror_mode": {
    "name": "ipython",
    "version": 3
   },
   "file_extension": ".py",
   "mimetype": "text/x-python",
   "name": "python",
   "nbconvert_exporter": "python",
   "pygments_lexer": "ipython3",
   "version": "3.7.3"
  }
 },
 "nbformat": 4,
 "nbformat_minor": 4
}
