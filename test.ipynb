{
 "nbformat": 4,
 "nbformat_minor": 2,
 "metadata": {
  "language_info": {
   "name": "python",
   "codemirror_mode": {
    "name": "ipython",
    "version": 3
   }
  },
  "orig_nbformat": 2,
  "file_extension": ".py",
  "mimetype": "text/x-python",
  "name": "python",
  "npconvert_exporter": "python",
  "pygments_lexer": "ipython3",
  "version": 3
 },
 "cells": [
  {
   "cell_type": "code",
   "execution_count": 1,
   "metadata": {},
   "outputs": [
    {
     "name": "stdout",
     "output_type": "stream",
     "text": "┌─────────────────────┐           ┌───┐                    ░ »\n      (q00) q0|0>┤ U3(pi/4,-pi/2,pi/2) ├───────────┤ X ├────────────────────░─»\n                 └─┬──────────────────┬┘           └─┬─┘       ┌──────────┐ ░ »\n      (q01) q1|0>──┤ U3(pi/2,pi/4,pi) ├───■──────────■─────────┤ U2(0,pi) ├─░─»\n                 ┌─┴──────────────────┴┐┌─┴─┐┌────────────────┐└──────────┘ ░ »\n      (q03) q2|0>┤ U3(pi/4,-pi/2,pi/2) ├┤ X ├┤ U3(pi/2,pi,pi) ├─────────────░─»\n                 ├─────────────────────┤└───┘└────────────────┘             ░ »\n      (q02) q3|0>┤ U3(pi/4,-pi/2,pi/2) ├────────────────────────────────────░─»\n                 └─────────────────────┘                                    ░ »\n (ancilla0) q4|0>─────────────────────────────────────────────────────────────»\n                                                                              »\n (ancilla1) q5|0>─────────────────────────────────────────────────────────────»\n                                                                              »\n (ancilla2) q6|0>─────────────────────────────────────────────────────────────»\n                                                                              »\n (ancilla3) q7|0>─────────────────────────────────────────────────────────────»\n                                                                              »\n (ancilla4) q8|0>─────────────────────────────────────────────────────────────»\n                                                                              »\n (ancilla5) q9|0>─────────────────────────────────────────────────────────────»\n                                                                              »\n(ancilla6) q10|0>─────────────────────────────────────────────────────────────»\n                                                                              »\n(ancilla7) q11|0>─────────────────────────────────────────────────────────────»\n                                                                              »\n(ancilla8) q12|0>─────────────────────────────────────────────────────────────»\n                                                                              »\n(ancilla9) q13|0>─────────────────────────────────────────────────────────────»\n                                                                              »\n          c_0: 0 ═════════════════════════════════════════════════════════════»\n                                                                              »\n          c_1: 0 ═════════════════════════════════════════════════════════════»\n                                                                              »\n          c_2: 0 ═════════════════════════════════════════════════════════════»\n                                                                              »\n          c_3: 0 ═════════════════════════════════════════════════════════════»\n                                                                              »\n«              ┌─┐         \n«      (q00) q0┤M├─────────\n«              └╥┘┌─┐      \n«      (q01) q1─╫─┤M├──────\n«               ║ └╥┘   ┌─┐\n«      (q03) q2─╫──╫────┤M├\n«               ║  ║ ┌─┐└╥┘\n«      (q02) q3─╫──╫─┤M├─╫─\n«               ║  ║ └╥┘ ║ \n« (ancilla0) q4─╫──╫──╫──╫─\n«               ║  ║  ║  ║ \n« (ancilla1) q5─╫──╫──╫──╫─\n«               ║  ║  ║  ║ \n« (ancilla2) q6─╫──╫──╫──╫─\n«               ║  ║  ║  ║ \n« (ancilla3) q7─╫──╫──╫──╫─\n«               ║  ║  ║  ║ \n« (ancilla4) q8─╫──╫──╫──╫─\n«               ║  ║  ║  ║ \n« (ancilla5) q9─╫──╫──╫──╫─\n«               ║  ║  ║  ║ \n«(ancilla6) q10─╫──╫──╫──╫─\n«               ║  ║  ║  ║ \n«(ancilla7) q11─╫──╫──╫──╫─\n«               ║  ║  ║  ║ \n«(ancilla8) q12─╫──╫──╫──╫─\n«               ║  ║  ║  ║ \n«(ancilla9) q13─╫──╫──╫──╫─\n«               ║  ║  ║  ║ \n«         c_0: ═╩══╬══╬══╬═\n«                  ║  ║  ║ \n«         c_1: ════╩══╬══╬═\n«                     ║  ║ \n«         c_2: ═══════╩══╬═\n«                        ║ \n«         c_3: ══════════╩═\n«                          \n"
    }
   ],
   "source": [
    "from qiskit.converters import circuit_to_dag, dag_to_circuit\n",
    "from helper_fun import load_IBMQ\n",
    "from qiskit.transpiler.passes import NoiseAdaptiveLayout\n",
    "from qiskit.providers.aer import noise\n",
    "import datetime as dt\n",
    "from qcg.generators import gen_supremacy, gen_hwea\n",
    "from qiskit.circuit.classicalregister import ClassicalRegister\n",
    "from qiskit import QuantumCircuit\n",
    "from qiskit.compiler import transpile\n",
    "\n",
    "provider = load_IBMQ()\n",
    "\n",
    "circ = gen_supremacy(2,2,4,order='75601234')\n",
    "c = ClassicalRegister(len(circ.qubits), 'c')\n",
    "meas = QuantumCircuit(circ.qregs[0], c)\n",
    "meas.barrier(circ.qubits)\n",
    "meas.measure(circ.qubits,c)\n",
    "qc = circ+meas\n",
    "\n",
    "device = provider.get_backend('ibmq_16_melbourne')\n",
    "properties = device.properties(dt.datetime(day=16, month=10, year=2019, hour=20))\n",
    "coupling_map = device.configuration().coupling_map\n",
    "noise_model = noise.device.basic_device_noise_model(properties)\n",
    "basis_gates = noise_model.basis_gates\n",
    "dag = circuit_to_dag(circ)\n",
    "noise_mapper = NoiseAdaptiveLayout(properties)\n",
    "noise_mapper.run(dag)\n",
    "initial_layout = noise_mapper.property_set['layout']\n",
    "\n",
    "new_circuit = transpile(qc, backend=device, basis_gates=basis_gates,coupling_map=coupling_map,backend_properties=properties,initial_layout=initial_layout)\n",
    "\n",
    "print(new_circuit)"
   ]
  },
  {
   "cell_type": "code",
   "execution_count": 2,
   "metadata": {},
   "outputs": [
    {
     "name": "stdout",
     "output_type": "stream",
     "text": "Layout({\n0: Qubit(QuantumRegister(4, 'q0'), 0),\n1: Qubit(QuantumRegister(4, 'q0'), 1),\n3: Qubit(QuantumRegister(4, 'q0'), 2),\n2: Qubit(QuantumRegister(4, 'q0'), 3),\n4: Qubit(QuantumRegister(10, 'ancilla'), 0),\n5: Qubit(QuantumRegister(10, 'ancilla'), 1),\n6: Qubit(QuantumRegister(10, 'ancilla'), 2),\n7: Qubit(QuantumRegister(10, 'ancilla'), 3),\n8: Qubit(QuantumRegister(10, 'ancilla'), 4),\n9: Qubit(QuantumRegister(10, 'ancilla'), 5),\n10: Qubit(QuantumRegister(10, 'ancilla'), 6),\n11: Qubit(QuantumRegister(10, 'ancilla'), 7),\n12: Qubit(QuantumRegister(10, 'ancilla'), 8),\n13: Qubit(QuantumRegister(10, 'ancilla'), 9)\n})\n"
    }
   ],
   "source": [
    "print(initial_layout)"
   ]
  },
  {
   "cell_type": "code",
   "execution_count": null,
   "metadata": {},
   "outputs": [],
   "source": []
  }
 ]
}