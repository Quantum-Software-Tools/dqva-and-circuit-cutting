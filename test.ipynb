{
 "cells": [
  {
   "cell_type": "code",
   "execution_count": 9,
   "metadata": {},
   "outputs": [
    {
     "name": "stdout",
     "output_type": "stream",
     "text": [
      "No mitigation: [0.03466796875, 0.0146484375, 0.4501953125, 0.01806640625, 0.02978515625, 0.0068359375, 0.42431640625, 0.021484375]\n"
     ]
    }
   ],
   "source": [
    "from qcg.generators import gen_supremacy, gen_hwea\n",
    "from helper_fun import evaluate_circ, get_evaluator_info\n",
    "from qiskit import Aer\n",
    "\n",
    "circ = gen_hwea(3,4)\n",
    "evaluator_info = get_evaluator_info(circ=circ,device_name='ibmq_boeblingen',\n",
    "                                    fields=['device','basis_gates','coupling_map','properties','initial_layout','noise_model','num_shots'])\n",
    "qasm_noise = evaluate_circ(circ=circ, backend='noisy_qasm_simulator', evaluator_info=evaluator_info)\n",
    "print('No mitigation:', qasm_noise)"
   ]
  },
  {
   "cell_type": "code",
   "execution_count": null,
   "metadata": {},
   "outputs": [],
   "source": [
    "def partial_readout_mitigation(num_shots,device,initial_layout):\n",
    "    if num_shots>device.configuration().max_shots:\n",
    "        print('During readout mitigation, num_shots %.3e exceeded hardware max'%num_shots)\n",
    "        num_shots = device.configuration().max_shots\n",
    "    filter_begin = time()\n",
    "    properties = device.properties()\n",
    "    num_qubits = len(properties.qubits)\n",
    "\n",
    "    # Generate the calibration circuits\n",
    "    qr = QuantumRegister(num_qubits)\n",
    "    qubit_list = []\n",
    "    _initial_layout = initial_layout.get_physical_bits()\n",
    "    for q in _initial_layout:\n",
    "        if 'ancilla' not in _initial_layout[q].register.name:\n",
    "            qubit_list.append(q)\n",
    "    meas_calibs, state_labels = complete_meas_cal(qubit_list=qubit_list, qr=qr, circlabel='mcal')\n",
    "    print('Calculating measurement filter, %d-qubit calibration circuits * %d * %.3e shots.'%(len(meas_calibs[0].qubits),len(meas_calibs),num_shots),end=' ')\n",
    "    assert len(meas_calibs)<=device.configuration().max_experiments/3*2\n",
    "\n",
    "    # Execute the calibration circuits\n",
    "    meas_calibs_transpiled = transpile(meas_calibs, backend=device)\n",
    "    qobj = assemble(meas_calibs_transpiled, backend=device, shots=num_shots)\n",
    "    job = device.run(qobj)\n",
    "    cal_results = job.result()\n",
    "\n",
    "    meas_fitter = CompleteMeasFitter(cal_results, state_labels, qubit_list=qubit_list, circlabel='mcal')\n",
    "    meas_filter = meas_fitter.filter\n",
    "    filter_time = time() - filter_begin\n",
    "    print('%.3e seconds'%filter_time)\n",
    "    return meas_filter\n",
    "\n",
    "meas_filter = partial_readout_mitigation(evaluator_info['num_shots'],Aer.get_backend('qasm_simulator'),initial_layout)\n",
    "evaluator_info['meas_filter'] = meas_filter\n",
    "qasm_noise_mitigated = evaluate_circ(circ=circ, backend='noisy_qasm_simulator', evaluator_info=evaluator_info)\n",
    "print('With mitigation:', qasm_noise_mitigated)"
   ]
  }
 ],
 "metadata": {
  "file_extension": ".py",
  "kernelspec": {
   "display_name": "Python 3",
   "language": "python",
   "name": "python3"
  },
  "language_info": {
   "codemirror_mode": {
    "name": "ipython",
    "version": 3
   },
   "file_extension": ".py",
   "mimetype": "text/x-python",
   "name": "python",
   "nbconvert_exporter": "python",
   "pygments_lexer": "ipython3",
   "version": "3.7.4"
  },
  "mimetype": "text/x-python",
  "name": "python",
  "npconvert_exporter": "python",
  "pygments_lexer": "ipython3",
  "version": 3
 },
 "nbformat": 4,
 "nbformat_minor": 4
}
