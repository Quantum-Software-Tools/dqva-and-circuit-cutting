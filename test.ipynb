{
 "cells": [
  {
   "cell_type": "code",
   "execution_count": 1,
   "metadata": {},
   "outputs": [
    {
     "name": "stdout",
     "output_type": "stream",
     "text": "ibmqx2 5 max 75 jobs\nibmq_20_tokyo 20 max 900 jobs\nibmq_16_melbourne 14 max 150 jobs\nibmq_poughkeepsie 20 max 900 jobs\nibmq_boeblingen 20 max 900 jobs\nibmq_vigo 5 max 75 jobs\nibmq_ourense 5 max 75 jobs\nibmq_johannesburg 20 max 900 jobs\nibmq_rochester 53 max 75 jobs\n"
    }
   ],
   "source": [
    "from qcg.generators import gen_supremacy, gen_hwea\n",
    "from qiskit.compiler import transpile, assemble\n",
    "from helper_fun import load_IBMQ, readout_mitigation, get_evaluator_info\n",
    "from qiskit.providers.aer import noise\n",
    "from qiskit import IBMQ\n",
    "\n",
    "IBMQ.delete_account()\n",
    "circ = gen_supremacy(2,2,8,order='75601234')\n",
    "provider = load_IBMQ()\n",
    "\n",
    "for x in provider.backends():\n",
    "    if 'qasm' not in str(x):\n",
    "        evaluator_info = get_evaluator_info(circ=circ,device_name=str(x),fields=['properties'])\n",
    "        num_qubits = len(evaluator_info['properties'].qubits)\n",
    "        print('%s %d max %d jobs'%(x,num_qubits,x.configuration().max_experiments))"
   ]
  },
  {
   "cell_type": "code",
   "execution_count": null,
   "metadata": {},
   "outputs": [],
   "source": []
  }
 ],
 "metadata": {
  "file_extension": ".py",
  "kernelspec": {
   "display_name": "Python 3",
   "language": "python",
   "name": "python3"
  },
  "language_info": {
   "codemirror_mode": {
    "name": "ipython",
    "version": 3
   },
   "file_extension": ".py",
   "mimetype": "text/x-python",
   "name": "python",
   "nbconvert_exporter": "python",
   "pygments_lexer": "ipython3",
   "version": "3.7.4"
  },
  "mimetype": "text/x-python",
  "name": "python",
  "npconvert_exporter": "python",
  "pygments_lexer": "ipython3",
  "version": 3
 },
 "nbformat": 4,
 "nbformat_minor": 4
}