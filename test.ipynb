{
 "cells": [
  {
   "cell_type": "code",
   "execution_count": 1,
   "metadata": {},
   "outputs": [],
   "source": [
    "from qcg.generators import gen_supremacy\n",
    "from qiskit.converters import circuit_to_dag, dag_to_circuit\n",
    "from qiskit.tools.visualization import dag_drawer\n",
    "import randomized_searcher as r_s\n",
    "\n",
    "circ = gen_supremacy(4,4,8)\n",
    "hardness, positions, K, d, num_cluster = r_s.find_cuts(circ,num_trials=int(2e4), hw_max_qubit=10)"
   ]
  },
  {
   "cell_type": "code",
   "execution_count": 3,
   "metadata": {},
   "outputs": [
    {
     "name": "stdout",
     "output_type": "stream",
     "text": [
      "[((QuantumRegister(16, 'qreg'), 9), 4), ((QuantumRegister(16, 'qreg'), 11), 3), ((QuantumRegister(16, 'qreg'), 2), 2), ((QuantumRegister(16, 'qreg'), 10), 2), ((QuantumRegister(16, 'qreg'), 6), 4), ((QuantumRegister(16, 'qreg'), 4), 2)]\n",
      "[4, 4, 4]\n",
      "[7, 6, 9]\n"
     ]
    },
    {
     "data": {
      "text/plain": [
       "'random.png'"
      ]
     },
     "execution_count": 3,
     "metadata": {},
     "output_type": "execute_result"
    }
   ],
   "source": [
    "print(positions)\n",
    "print(K)\n",
    "print(d)\n",
    "dag_drawer(circuit_to_dag(circ), filename='random.png')"
   ]
  },
  {
   "cell_type": "code",
   "execution_count": null,
   "metadata": {},
   "outputs": [],
   "source": []
  }
 ],
 "metadata": {
  "kernelspec": {
   "display_name": "venv",
   "language": "python",
   "name": "venv"
  },
  "language_info": {
   "codemirror_mode": {
    "name": "ipython",
    "version": 3
   },
   "file_extension": ".py",
   "mimetype": "text/x-python",
   "name": "python",
   "nbconvert_exporter": "python",
   "pygments_lexer": "ipython3",
   "version": "3.7.3"
  }
 },
 "nbformat": 4,
 "nbformat_minor": 4
}
