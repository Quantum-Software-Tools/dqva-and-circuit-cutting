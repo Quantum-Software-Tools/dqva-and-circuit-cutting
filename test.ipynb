{
 "cells": [
  {
   "cell_type": "code",
   "execution_count": 1,
   "metadata": {},
   "outputs": [
    {
     "name": "stdout",
     "output_type": "stream",
     "text": "Generating 2x2, 1+8+1 supremacy circuit\nGenerating 2x3, 1+8+1 supremacy circuit\n"
    }
   ],
   "source": [
    "from qcg.generators import gen_supremacy, gen_hwea\n",
    "from qiskit.compiler import transpile, assemble\n",
    "from helper_fun import load_IBMQ, readout_mitigation, get_evaluator_info\n",
    "from qiskit.providers.aer import noise\n",
    "from qiskit import IBMQ\n",
    "from qiskit.providers.jobstatus import JobStatus\n",
    "from helper_fun import evaluate_circs\n",
    "\n",
    "circ0 = gen_supremacy(2,2,8)\n",
    "circ1 = gen_supremacy(2,3,8)\n",
    "circs = [circ0,circ1]\n",
    "transpiled_circs = measure_circs(circs)\n",
    "transpiled_circs = transpile_circs(circs,evaluator_info)\n",
    "qasm_noisy_fc = evaluate_circs(circs=transpiled_circs,backend='noisy_qasm_simulator',evaluator_info=evaluator_info)"
   ]
  },
  {
   "cell_type": "code",
   "execution_count": 4,
   "metadata": {},
   "outputs": [
    {
     "data": {
      "text/plain": "64"
     },
     "execution_count": 4,
     "metadata": {},
     "output_type": "execute_result"
    }
   ],
   "source": [
    "len(sv_noiseless_fc[1])"
   ]
  },
  {
   "cell_type": "code",
   "execution_count": null,
   "metadata": {},
   "outputs": [],
   "source": []
  }
 ],
 "metadata": {
  "file_extension": ".py",
  "kernelspec": {
   "display_name": "Python 3",
   "language": "python",
   "name": "python3"
  },
  "language_info": {
   "codemirror_mode": {
    "name": "ipython",
    "version": 3
   },
   "file_extension": ".py",
   "mimetype": "text/x-python",
   "name": "python",
   "nbconvert_exporter": "python",
   "pygments_lexer": "ipython3",
   "version": "3.7.4"
  },
  "mimetype": "text/x-python",
  "name": "python",
  "npconvert_exporter": "python",
  "pygments_lexer": "ipython3",
  "version": 3
 },
 "nbformat": 4,
 "nbformat_minor": 4
}