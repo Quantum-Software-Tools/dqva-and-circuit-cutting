{
 "cells": [
  {
   "cell_type": "code",
   "execution_count": 1,
   "metadata": {},
   "outputs": [
    {
     "name": "stdout",
     "output_type": "stream",
     "text": [
      "Calculating measurement filter, 20-qubit calibration circuits * 2 * 3.072e+03 shots. 1.438e+02 seconds\n"
     ]
    }
   ],
   "source": [
    "import pickle\n",
    "from helper_fun import get_evaluator_info, evaluate_circ, apply_measurement\n",
    "\n",
    "device_name = 'ibmq_boeblingen'\n",
    "job_submittor_input = pickle.load(open('./benchmark_data/job_submittor_input_ibmq_boeblingen_saturated.p', 'rb' ))\n",
    "case = (4,6)\n",
    "cluster_idx = 0\n",
    "cluster_circ = job_submittor_input[case]['clusters'][cluster_idx]\n",
    "\n",
    "evaluator_info = get_evaluator_info(circ=cluster_circ,device_name=device_name,\n",
    "fields=['device','basis_gates','coupling_map','properties','initial_layout','noise_model','num_shots','meas_filter'])"
   ]
  },
  {
   "cell_type": "code",
   "execution_count": 7,
   "metadata": {},
   "outputs": [],
   "source": [
    "from qiskit.compiler import transpile, assemble\n",
    "def submit_hardware_jobs(circs, evaluator_info):\n",
    "    if evaluator_info['num_shots']>evaluator_info['device'].configuration().max_shots:\n",
    "        print('During circuit evaluation on hardware, num_shots %.3e exceeded hardware max'%evaluator_info['num_shots'])\n",
    "        evaluator_info['num_shots'] = device.configuration().max_shots\n",
    "    \n",
    "    mapped_circuits = []\n",
    "    for circ in circs:\n",
    "        qc=apply_measurement(circ)\n",
    "        mapped_circuit = transpile(qc,\n",
    "        backend=evaluator_info['device'], basis_gates=evaluator_info['basis_gates'],\n",
    "        coupling_map=evaluator_info['coupling_map'],backend_properties=evaluator_info['properties'],\n",
    "        initial_layout=evaluator_info['initial_layout'])\n",
    "        mapped_circuits.append(mapped_circuit)\n",
    "\n",
    "    qobj = assemble(mapped_circuits, backend=evaluator_info['device'], shots=evaluator_info['num_shots'])\n",
    "    job = evaluator_info['device'].run(qobj)\n",
    "    \n",
    "    hw_result = job.result()\n",
    "    return hw_result"
   ]
  },
  {
   "cell_type": "code",
   "execution_count": 8,
   "metadata": {},
   "outputs": [
    {
     "name": "stdout",
     "output_type": "stream",
     "text": [
      "Cluster 0 has 9 instances\n"
     ]
    }
   ],
   "source": [
    "cluster_instances = job_submittor_input[case]['all_cluster_prob'][cluster_idx]\n",
    "print('Cluster %d has %d instances'%(cluster_idx,len(cluster_instances)))\n",
    "\n",
    "hw_result = submit_hardware_jobs(circs=cluster_instances.values(),evaluator_info=evaluator_info)"
   ]
  },
  {
   "cell_type": "code",
   "execution_count": 18,
   "metadata": {},
   "outputs": [],
   "source": [
    "mapped_circuits = []\n",
    "for circ in cluster_instances.values():\n",
    "    qc=apply_measurement(circ)\n",
    "    mapped_circuit = transpile(qc,\n",
    "    backend=evaluator_info['device'], basis_gates=evaluator_info['basis_gates'],\n",
    "    coupling_map=evaluator_info['coupling_map'],backend_properties=evaluator_info['properties'],\n",
    "    initial_layout=evaluator_info['initial_layout'])\n",
    "    mapped_circuits.append(mapped_circuit)"
   ]
  },
  {
   "cell_type": "code",
   "execution_count": 19,
   "metadata": {},
   "outputs": [
    {
     "ename": "QiskitError",
     "evalue": "'Data for experiment \"circuit42\" could not be found.'",
     "output_type": "error",
     "traceback": [
      "\u001b[0;31m---------------------------------------------------------------------------\u001b[0m",
      "\u001b[0;31mStopIteration\u001b[0m                             Traceback (most recent call last)",
      "\u001b[0;32m~/Documents/circuit_cutting/venv/lib/python3.7/site-packages/qiskit/result/result.py\u001b[0m in \u001b[0;36m_get_experiment\u001b[0;34m(self, key)\u001b[0m\n\u001b[1;32m    259\u001b[0m                 \u001b[0;31m# Look into `result[x].header.name` for the names.\u001b[0m\u001b[0;34m\u001b[0m\u001b[0;34m\u001b[0m\u001b[0;34m\u001b[0m\u001b[0m\n\u001b[0;32m--> 260\u001b[0;31m                 exp = next(result for result in self.results\n\u001b[0m\u001b[1;32m    261\u001b[0m                            if getattr(getattr(result, 'header', None),\n",
      "\u001b[0;31mStopIteration\u001b[0m: ",
      "\nDuring handling of the above exception, another exception occurred:\n",
      "\u001b[0;31mQiskitError\u001b[0m                               Traceback (most recent call last)",
      "\u001b[0;32m<ipython-input-19-684590b778dd>\u001b[0m in \u001b[0;36m<module>\u001b[0;34m\u001b[0m\n\u001b[1;32m      1\u001b[0m \u001b[0mmitigated_results\u001b[0m \u001b[0;34m=\u001b[0m \u001b[0mevaluator_info\u001b[0m\u001b[0;34m[\u001b[0m\u001b[0;34m'meas_filter'\u001b[0m\u001b[0;34m]\u001b[0m\u001b[0;34m.\u001b[0m\u001b[0mapply\u001b[0m\u001b[0;34m(\u001b[0m\u001b[0mhw_result\u001b[0m\u001b[0;34m)\u001b[0m\u001b[0;34m\u001b[0m\u001b[0;34m\u001b[0m\u001b[0m\n\u001b[0;32m----> 2\u001b[0;31m \u001b[0mhw_counts\u001b[0m \u001b[0;34m=\u001b[0m \u001b[0;34m[\u001b[0m\u001b[0mmitigated_results\u001b[0m\u001b[0;34m.\u001b[0m\u001b[0mget_counts\u001b[0m\u001b[0;34m(\u001b[0m\u001b[0mcirc\u001b[0m\u001b[0;34m)\u001b[0m \u001b[0;32mfor\u001b[0m \u001b[0mcirc\u001b[0m \u001b[0;32min\u001b[0m \u001b[0mmapped_circuits\u001b[0m\u001b[0;34m]\u001b[0m\u001b[0;34m\u001b[0m\u001b[0;34m\u001b[0m\u001b[0m\n\u001b[0m",
      "\u001b[0;32m<ipython-input-19-684590b778dd>\u001b[0m in \u001b[0;36m<listcomp>\u001b[0;34m(.0)\u001b[0m\n\u001b[1;32m      1\u001b[0m \u001b[0mmitigated_results\u001b[0m \u001b[0;34m=\u001b[0m \u001b[0mevaluator_info\u001b[0m\u001b[0;34m[\u001b[0m\u001b[0;34m'meas_filter'\u001b[0m\u001b[0;34m]\u001b[0m\u001b[0;34m.\u001b[0m\u001b[0mapply\u001b[0m\u001b[0;34m(\u001b[0m\u001b[0mhw_result\u001b[0m\u001b[0;34m)\u001b[0m\u001b[0;34m\u001b[0m\u001b[0;34m\u001b[0m\u001b[0m\n\u001b[0;32m----> 2\u001b[0;31m \u001b[0mhw_counts\u001b[0m \u001b[0;34m=\u001b[0m \u001b[0;34m[\u001b[0m\u001b[0mmitigated_results\u001b[0m\u001b[0;34m.\u001b[0m\u001b[0mget_counts\u001b[0m\u001b[0;34m(\u001b[0m\u001b[0mcirc\u001b[0m\u001b[0;34m)\u001b[0m \u001b[0;32mfor\u001b[0m \u001b[0mcirc\u001b[0m \u001b[0;32min\u001b[0m \u001b[0mmapped_circuits\u001b[0m\u001b[0;34m]\u001b[0m\u001b[0;34m\u001b[0m\u001b[0;34m\u001b[0m\u001b[0m\n\u001b[0m",
      "\u001b[0;32m~/Documents/circuit_cutting/venv/lib/python3.7/site-packages/qiskit/result/result.py\u001b[0m in \u001b[0;36mget_counts\u001b[0;34m(self, experiment)\u001b[0m\n\u001b[1;32m    173\u001b[0m         \"\"\"\n\u001b[1;32m    174\u001b[0m         \u001b[0;32mtry\u001b[0m\u001b[0;34m:\u001b[0m\u001b[0;34m\u001b[0m\u001b[0;34m\u001b[0m\u001b[0m\n\u001b[0;32m--> 175\u001b[0;31m             \u001b[0mexp\u001b[0m \u001b[0;34m=\u001b[0m \u001b[0mself\u001b[0m\u001b[0;34m.\u001b[0m\u001b[0m_get_experiment\u001b[0m\u001b[0;34m(\u001b[0m\u001b[0mexperiment\u001b[0m\u001b[0;34m)\u001b[0m\u001b[0;34m\u001b[0m\u001b[0;34m\u001b[0m\u001b[0m\n\u001b[0m\u001b[1;32m    176\u001b[0m             \u001b[0;32mtry\u001b[0m\u001b[0;34m:\u001b[0m\u001b[0;34m\u001b[0m\u001b[0;34m\u001b[0m\u001b[0m\n\u001b[1;32m    177\u001b[0m                 \u001b[0mheader\u001b[0m \u001b[0;34m=\u001b[0m \u001b[0mexp\u001b[0m\u001b[0;34m.\u001b[0m\u001b[0mheader\u001b[0m\u001b[0;34m.\u001b[0m\u001b[0mto_dict\u001b[0m\u001b[0;34m(\u001b[0m\u001b[0;34m)\u001b[0m\u001b[0;34m\u001b[0m\u001b[0;34m\u001b[0m\u001b[0m\n",
      "\u001b[0;32m~/Documents/circuit_cutting/venv/lib/python3.7/site-packages/qiskit/result/result.py\u001b[0m in \u001b[0;36m_get_experiment\u001b[0;34m(self, key)\u001b[0m\n\u001b[1;32m    263\u001b[0m             \u001b[0;32mexcept\u001b[0m \u001b[0mStopIteration\u001b[0m\u001b[0;34m:\u001b[0m\u001b[0;34m\u001b[0m\u001b[0;34m\u001b[0m\u001b[0m\n\u001b[1;32m    264\u001b[0m                 raise QiskitError('Data for experiment \"%s\" could not be found.' %\n\u001b[0;32m--> 265\u001b[0;31m                                   key)\n\u001b[0m\u001b[1;32m    266\u001b[0m \u001b[0;34m\u001b[0m\u001b[0m\n\u001b[1;32m    267\u001b[0m         \u001b[0;31m# Check that the retrieved experiment was successful\u001b[0m\u001b[0;34m\u001b[0m\u001b[0;34m\u001b[0m\u001b[0;34m\u001b[0m\u001b[0m\n",
      "\u001b[0;31mQiskitError\u001b[0m: 'Data for experiment \"circuit42\" could not be found.'"
     ]
    }
   ],
   "source": [
    "mitigated_results = evaluator_info['meas_filter'].apply(hw_result)\n",
    "hw_counts = [mitigated_results.get_counts(circ) for circ in mapped_circuits]"
   ]
  },
  {
   "cell_type": "code",
   "execution_count": null,
   "metadata": {},
   "outputs": [],
   "source": []
  }
 ],
 "metadata": {
  "file_extension": ".py",
  "kernelspec": {
   "display_name": "Python 3",
   "language": "python",
   "name": "python3"
  },
  "language_info": {
   "codemirror_mode": {
    "name": "ipython",
    "version": 3
   },
   "file_extension": ".py",
   "mimetype": "text/x-python",
   "name": "python",
   "nbconvert_exporter": "python",
   "pygments_lexer": "ipython3",
   "version": "3.7.4"
  },
  "mimetype": "text/x-python",
  "name": "python",
  "npconvert_exporter": "python",
  "pygments_lexer": "ipython3",
  "version": 3
 },
 "nbformat": 4,
 "nbformat_minor": 4
}
