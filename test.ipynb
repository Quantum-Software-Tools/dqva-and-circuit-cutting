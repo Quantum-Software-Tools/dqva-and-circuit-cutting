{
 "cells": [
  {
   "cell_type": "code",
   "execution_count": 2,
   "metadata": {},
   "outputs": [
    {
     "name": "stdout",
     "output_type": "stream",
     "text": [
      "Generating 4x4, 1+8+1 supremacy circuit\n"
     ]
    }
   ],
   "source": [
    "from randomized_searcher import *\n",
    "from qcg.generators import gen_supremacy\n",
    "\n",
    "circ = gen_supremacy(4,4,8)\n",
    "stripped_circ = circ_stripping(circ)\n",
    "graph = circuit_to_graph(stripped_circ)"
   ]
  },
  {
   "cell_type": "code",
   "execution_count": 3,
   "metadata": {},
   "outputs": [
    {
     "name": "stdout",
     "output_type": "stream",
     "text": [
      "{'qreg[0]0,qreg[1]0': Counter({'qreg[0]1,qreg[4]1': 1, 'qreg[1]1,qreg[2]0': 1}), 'qreg[1]1,qreg[2]0': Counter({'qreg[0]0,qreg[1]0': 1, 'qreg[1]2,qreg[5]3': 1, 'qreg[2]1,qreg[6]2': 1}), 'qreg[6]0,qreg[7]0': Counter({'qreg[6]1,qreg[10]0': 1, 'qreg[7]1,qreg[11]2': 1}), 'qreg[8]0,qreg[9]0': Counter({'qreg[4]0,qreg[8]1': 1, 'qreg[9]1,qreg[10]1': 1}), 'qreg[4]0,qreg[8]1': Counter({'qreg[0]1,qreg[4]1': 1, 'qreg[8]0,qreg[9]0': 1, 'qreg[8]2,qreg[12]1': 1}), 'qreg[0]1,qreg[4]1': Counter({'qreg[0]0,qreg[1]0': 1, 'qreg[4]0,qreg[8]1': 1, 'qreg[4]2,qreg[5]0': 1}), 'qreg[4]2,qreg[5]0': Counter({'qreg[0]1,qreg[4]1': 1, 'qreg[5]1,qreg[9]3': 1}), 'qreg[6]1,qreg[10]0': Counter({'qreg[6]0,qreg[7]0': 1, 'qreg[2]1,qreg[6]2': 1, 'qreg[9]1,qreg[10]1': 1}), 'qreg[2]1,qreg[6]2': Counter({'qreg[1]1,qreg[2]0': 1, 'qreg[2]2,qreg[3]0': 1, 'qreg[6]1,qreg[10]0': 1, 'qreg[5]2,qreg[6]3': 1}), 'qreg[2]2,qreg[3]0': Counter({'qreg[2]1,qreg[6]2': 1, 'qreg[3]1,qreg[7]2': 1}), 'qreg[9]1,qreg[10]1': Counter({'qreg[8]0,qreg[9]0': 1, 'qreg[9]2,qreg[13]0': 1, 'qreg[6]1,qreg[10]0': 1, 'qreg[10]2,qreg[11]1': 1}), 'qreg[9]2,qreg[13]0': Counter({'qreg[9]1,qreg[10]1': 1, 'qreg[5]1,qreg[9]3': 1, 'qreg[12]0,qreg[13]1': 1}), 'qreg[12]0,qreg[13]1': Counter({'qreg[8]2,qreg[12]1': 1, 'qreg[9]2,qreg[13]0': 1, 'qreg[13]2,qreg[14]1': 1}), 'qreg[5]1,qreg[9]3': Counter({'qreg[4]2,qreg[5]0': 1, 'qreg[5]2,qreg[6]3': 1, 'qreg[9]2,qreg[13]0': 1}), 'qreg[5]2,qreg[6]3': Counter({'qreg[5]1,qreg[9]3': 1, 'qreg[1]2,qreg[5]3': 1, 'qreg[2]1,qreg[6]2': 1}), 'qreg[1]2,qreg[5]3': Counter({'qreg[1]1,qreg[2]0': 1, 'qreg[5]2,qreg[6]3': 1}), 'qreg[8]2,qreg[12]1': Counter({'qreg[4]0,qreg[8]1': 1, 'qreg[12]0,qreg[13]1': 1}), 'qreg[14]0,qreg[15]0': Counter({'qreg[13]2,qreg[14]1': 1, 'qreg[11]0,qreg[15]1': 1}), 'qreg[11]0,qreg[15]1': Counter({'qreg[10]2,qreg[11]1': 1, 'qreg[14]0,qreg[15]0': 1}), 'qreg[10]2,qreg[11]1': Counter({'qreg[9]1,qreg[10]1': 1, 'qreg[10]3,qreg[14]2': 1, 'qreg[11]0,qreg[15]1': 1, 'qreg[7]1,qreg[11]2': 1}), 'qreg[13]2,qreg[14]1': Counter({'qreg[12]0,qreg[13]1': 1, 'qreg[14]0,qreg[15]0': 1, 'qreg[10]3,qreg[14]2': 1}), 'qreg[10]3,qreg[14]2': Counter({'qreg[10]2,qreg[11]1': 1, 'qreg[13]2,qreg[14]1': 1}), 'qreg[7]1,qreg[11]2': Counter({'qreg[6]0,qreg[7]0': 1, 'qreg[3]1,qreg[7]2': 1, 'qreg[10]2,qreg[11]1': 1}), 'qreg[3]1,qreg[7]2': Counter({'qreg[2]2,qreg[3]0': 1, 'qreg[7]1,qreg[11]2': 1})}\n"
     ]
    }
   ],
   "source": [
    "print(graph.verts)"
   ]
  },
  {
   "cell_type": "code",
   "execution_count": 4,
   "metadata": {},
   "outputs": [
    {
     "name": "stdout",
     "output_type": "stream",
     "text": [
      "[('qreg[0]0,qreg[1]0', 'qreg[0]1,qreg[4]1'), ('qreg[0]0,qreg[1]0', 'qreg[1]1,qreg[2]0'), ('qreg[1]1,qreg[2]0', 'qreg[1]2,qreg[5]3'), ('qreg[1]1,qreg[2]0', 'qreg[2]1,qreg[6]2'), ('qreg[6]0,qreg[7]0', 'qreg[6]1,qreg[10]0'), ('qreg[6]0,qreg[7]0', 'qreg[7]1,qreg[11]2'), ('qreg[8]0,qreg[9]0', 'qreg[9]1,qreg[10]1'), ('qreg[4]0,qreg[8]1', 'qreg[8]0,qreg[9]0'), ('qreg[4]0,qreg[8]1', 'qreg[8]2,qreg[12]1'), ('qreg[0]1,qreg[4]1', 'qreg[4]0,qreg[8]1'), ('qreg[0]1,qreg[4]1', 'qreg[4]2,qreg[5]0'), ('qreg[4]2,qreg[5]0', 'qreg[5]1,qreg[9]3'), ('qreg[6]1,qreg[10]0', 'qreg[9]1,qreg[10]1'), ('qreg[2]1,qreg[6]2', 'qreg[2]2,qreg[3]0'), ('qreg[2]1,qreg[6]2', 'qreg[6]1,qreg[10]0'), ('qreg[2]1,qreg[6]2', 'qreg[5]2,qreg[6]3'), ('qreg[2]2,qreg[3]0', 'qreg[3]1,qreg[7]2'), ('qreg[9]1,qreg[10]1', 'qreg[9]2,qreg[13]0'), ('qreg[12]0,qreg[13]1', 'qreg[8]2,qreg[12]1'), ('qreg[12]0,qreg[13]1', 'qreg[9]2,qreg[13]0'), ('qreg[12]0,qreg[13]1', 'qreg[13]2,qreg[14]1'), ('qreg[5]1,qreg[9]3', 'qreg[5]2,qreg[6]3'), ('qreg[5]1,qreg[9]3', 'qreg[9]2,qreg[13]0'), ('qreg[1]2,qreg[5]3', 'qreg[5]2,qreg[6]3'), ('qreg[11]0,qreg[15]1', 'qreg[14]0,qreg[15]0'), ('qreg[10]2,qreg[11]1', 'qreg[9]1,qreg[10]1'), ('qreg[10]2,qreg[11]1', 'qreg[10]3,qreg[14]2'), ('qreg[10]2,qreg[11]1', 'qreg[11]0,qreg[15]1'), ('qreg[10]2,qreg[11]1', 'qreg[7]1,qreg[11]2'), ('qreg[13]2,qreg[14]1', 'qreg[14]0,qreg[15]0'), ('qreg[10]3,qreg[14]2', 'qreg[13]2,qreg[14]1'), ('qreg[3]1,qreg[7]2', 'qreg[7]1,qreg[11]2')]\n"
     ]
    }
   ],
   "source": [
    "print(graph.edges)"
   ]
  },
  {
   "cell_type": "code",
   "execution_count": null,
   "metadata": {},
   "outputs": [],
   "source": []
  }
 ],
 "metadata": {
  "kernelspec": {
   "display_name": "venv",
   "language": "python",
   "name": "venv"
  },
  "language_info": {
   "codemirror_mode": {
    "name": "ipython",
    "version": 3
   },
   "file_extension": ".py",
   "mimetype": "text/x-python",
   "name": "python",
   "nbconvert_exporter": "python",
   "pygments_lexer": "ipython3",
   "version": "3.7.3"
  }
 },
 "nbformat": 4,
 "nbformat_minor": 2
}
