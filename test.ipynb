{
 "cells": [
  {
   "cell_type": "code",
   "execution_count": 1,
   "metadata": {},
   "outputs": [
    {
     "name": "stdout",
     "output_type": "stream",
     "text": "Generating 2x2, 1+8+1 supremacy circuit\ntype of counts: <class 'dict'>\ntype of counts: <class 'dict'>\ntype of counts: <class 'dict'>\n"
    }
   ],
   "source": [
    "from helper_fun import get_evaluator_info, evaluate_circ, apply_measurement\n",
    "from qcg.generators import gen_supremacy, gen_hwea\n",
    "\n",
    "circ = gen_supremacy(2,2,8)\n",
    "device_name = 'ibmq_boeblingen'\n",
    "evaluator_info = get_evaluator_info(circ=circ,device_name=device_name,fields=['num_shots'])\n",
    "qasm_noiseless_fc = evaluate_circ(circ=circ,backend='noiseless_qasm_simulator',evaluator_info=evaluator_info)"
   ]
  },
  {
   "cell_type": "code",
   "execution_count": null,
   "metadata": {},
   "outputs": [],
   "source": []
  }
 ],
 "metadata": {
  "file_extension": ".py",
  "kernelspec": {
   "display_name": "Python 3",
   "language": "python",
   "name": "python3"
  },
  "language_info": {
   "codemirror_mode": {
    "name": "ipython",
    "version": 3
   },
   "file_extension": ".py",
   "mimetype": "text/x-python",
   "name": "python",
   "nbconvert_exporter": "python",
   "pygments_lexer": "ipython3",
   "version": "3.7.4"
  },
  "mimetype": "text/x-python",
  "name": "python",
  "npconvert_exporter": "python",
  "pygments_lexer": "ipython3",
  "version": 3
 },
 "nbformat": 4,
 "nbformat_minor": 4
}