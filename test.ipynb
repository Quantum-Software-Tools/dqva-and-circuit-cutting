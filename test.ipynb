{
 "cells": [
  {
   "cell_type": "code",
   "execution_count": 1,
   "metadata": {},
   "outputs": [
    {
     "name": "stdout",
     "output_type": "stream",
     "text": [
      "ibmqx2\n",
      "ibmq_qasm_simulator\n",
      "ibmq_20_tokyo\n",
      "ibmq_16_melbourne\n",
      "ibmq_poughkeepsie\n",
      "ibmq_boeblingen\n",
      "ibmq_vigo\n",
      "ibmq_ourense\n",
      "ibmq_johannesburg\n",
      "ibmq_rochester\n"
     ]
    }
   ],
   "source": [
    "from helper_fun import load_IBMQ\n",
    "from qcg.generators import gen_supremacy, gen_hwea\n",
    "from qiskit.compiler import transpile, assemble\n",
    "from helper_fun import evaluate_circ, readout_mitigation, find_saturated_shots\n",
    "from qiskit.providers.aer import noise\n",
    "\n",
    "provider=load_IBMQ()\n",
    "[print(x) for x in provider.backends()]\n",
    "\n",
    "circ = gen_supremacy(2,3,8,order='75601234')\n",
    "device_name = 'ibmq_16_melbourne'\n",
    "\n",
    "device = provider.get_backend(device_name)\n",
    "properties = device.properties()\n",
    "coupling_map = device.configuration().coupling_map\n",
    "noise_model = noise.device.basic_device_noise_model(properties)\n",
    "basis_gates = noise_model.basis_gates\n",
    "meas_filter, initial_layout = readout_mitigation(circ=circ,num_shots=1024,device_name=device_name)"
   ]
  },
  {
   "cell_type": "code",
   "execution_count": 2,
   "metadata": {},
   "outputs": [
    {
     "name": "stdout",
     "output_type": "stream",
     "text": [
      "[4.094117611997664] 1.0000000000000002\n",
      "[4.094117611997664, 4.075466483282276] 1.0\n",
      "[4.094117611997664, 4.075466483282276, 4.0796218360245495] 0.9999999999999999\n",
      "[4.094117611997664, 4.075466483282276, 4.0796218360245495, 4.087371519262463] 1.0\n",
      "[4.094117611997664, 4.075466483282276, 4.0796218360245495, 4.087371519262463, 4.077556879700742] 1.0\n",
      "[4.094117611997664, 4.075466483282276, 4.0796218360245495, 4.087371519262463, 4.077556879700742, 4.069287186725964] 1.0000000000000002\n",
      "[4.094117611997664, 4.075466483282276, 4.0796218360245495, 4.087371519262463, 4.077556879700742, 4.069287186725964, 4.071644841521139] 1.0\n",
      "requires 7000 shots\n"
     ]
    }
   ],
   "source": [
    "qasm_info = {}\n",
    "qasm_info['device'] = device\n",
    "qasm_info['properties'] = properties\n",
    "qasm_info['coupling_map'] = coupling_map\n",
    "qasm_info['noise_model'] = noise_model\n",
    "qasm_info['basis_gates'] = basis_gates\n",
    "qasm_info['meas_filter'] = meas_filter\n",
    "qasm_info['initial_layout'] = initial_layout\n",
    "num_shots = find_saturated_shots(circ,qasm_info)\n",
    "print('requires %d shots'%num_shots)\n",
    "qasm_info['num_shots'] = num_shots\n",
    "# hw_prob = evaluate_circ(circ=circ, backend='hardware', qasm_info=qasm_info)\n",
    "# print(hw_prob)"
   ]
  },
  {
   "cell_type": "code",
   "execution_count": null,
   "metadata": {},
   "outputs": [],
   "source": []
  }
 ],
 "metadata": {
  "file_extension": ".py",
  "kernelspec": {
   "display_name": "Python 3",
   "language": "python",
   "name": "python3"
  },
  "language_info": {
   "codemirror_mode": {
    "name": "ipython",
    "version": 3
   },
   "file_extension": ".py",
   "mimetype": "text/x-python",
   "name": "python",
   "nbconvert_exporter": "python",
   "pygments_lexer": "ipython3",
   "version": "3.7.4"
  },
  "mimetype": "text/x-python",
  "name": "python",
  "npconvert_exporter": "python",
  "pygments_lexer": "ipython3",
  "version": 3
 },
 "nbformat": 4,
 "nbformat_minor": 4
}
