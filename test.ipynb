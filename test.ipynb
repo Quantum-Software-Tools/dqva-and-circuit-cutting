{
 "cells": [
  {
   "cell_type": "code",
   "execution_count": 64,
   "metadata": {
    "scrolled": false
   },
   "outputs": [
    {
     "name": "stdout",
     "output_type": "stream",
     "text": [
      "Generating 3x3, 1+8+1 supremacy circuit\n",
      "4882120488\n",
      "4882119368\n",
      "4878083184\n",
      "4878083744\n",
      "4878083968\n",
      "4878084192\n",
      "4878084416\n",
      "4878198824\n",
      "4878198880\n",
      "4878199216\n",
      "4878199720\n",
      "4878196976\n"
     ]
    }
   ],
   "source": [
    "from randomized_searcher import *\n",
    "from qcg.generators import gen_supremacy\n",
    "from qiskit.converters import circuit_to_dag, dag_to_circuit\n",
    "from qiskit.tools.visualization import dag_drawer\n",
    "import randomized_searcher as r_s\n",
    "        \n",
    "\n",
    "circ = gen_supremacy(3,3,8,'71230456')\n",
    "stripped_circ = r_s.circ_stripping(circ)\n",
    "dag = circuit_to_dag(stripped_circ)\n",
    "for vertex in dag.topological_op_nodes():\n",
    "    print(id(vertex))"
   ]
  },
  {
   "cell_type": "code",
   "execution_count": 2,
   "metadata": {},
   "outputs": [
    {
     "name": "stdout",
     "output_type": "stream",
     "text": [
      "{'qreg[1]0,qreg[2]0': Counter({'qreg[0]0,qreg[1]1': 1, 'qreg[2]1,qreg[5]1': 1}), 'qreg[0]0,qreg[1]1': Counter({'qreg[0]1,qreg[3]1': 1, 'qreg[1]0,qreg[2]0': 1, 'qreg[1]2,qreg[4]3': 1}), 'qreg[4]0,qreg[7]0': Counter({'qreg[3]0,qreg[4]1': 1, 'qreg[7]1,qreg[8]0': 1}), 'qreg[3]0,qreg[4]1': Counter({'qreg[0]1,qreg[3]1': 1, 'qreg[4]0,qreg[7]0': 1, 'qreg[4]2,qreg[5]0': 1}), 'qreg[0]1,qreg[3]1': Counter({'qreg[0]0,qreg[1]1': 1, 'qreg[3]0,qreg[4]1': 1, 'qreg[3]2,qreg[6]1': 1}), 'qreg[4]2,qreg[5]0': Counter({'qreg[3]0,qreg[4]1': 1, 'qreg[1]2,qreg[4]3': 1, 'qreg[2]1,qreg[5]1': 1}), 'qreg[1]2,qreg[4]3': Counter({'qreg[0]0,qreg[1]1': 1, 'qreg[4]2,qreg[5]0': 1}), 'qreg[2]1,qreg[5]1': Counter({'qreg[1]0,qreg[2]0': 1, 'qreg[4]2,qreg[5]0': 1, 'qreg[5]2,qreg[8]1': 1}), 'qreg[7]1,qreg[8]0': Counter({'qreg[4]0,qreg[7]0': 1, 'qreg[6]0,qreg[7]2': 1, 'qreg[5]2,qreg[8]1': 1}), 'qreg[5]2,qreg[8]1': Counter({'qreg[2]1,qreg[5]1': 1, 'qreg[7]1,qreg[8]0': 1}), 'qreg[6]0,qreg[7]2': Counter({'qreg[3]2,qreg[6]1': 1, 'qreg[7]1,qreg[8]0': 1}), 'qreg[3]2,qreg[6]1': Counter({'qreg[0]1,qreg[3]1': 1, 'qreg[6]0,qreg[7]2': 1})}\n"
     ]
    }
   ],
   "source": [
    "print(graph.verts)"
   ]
  },
  {
   "cell_type": "code",
   "execution_count": 3,
   "metadata": {},
   "outputs": [
    {
     "name": "stdout",
     "output_type": "stream",
     "text": [
      "[('qreg[1]0,qreg[2]0', 'qreg[2]1,qreg[5]1'), ('qreg[0]0,qreg[1]1', 'qreg[0]1,qreg[3]1'), ('qreg[0]0,qreg[1]1', 'qreg[1]0,qreg[2]0'), ('qreg[0]0,qreg[1]1', 'qreg[1]2,qreg[4]3'), ('qreg[4]0,qreg[7]0', 'qreg[7]1,qreg[8]0'), ('qreg[3]0,qreg[4]1', 'qreg[4]0,qreg[7]0'), ('qreg[3]0,qreg[4]1', 'qreg[4]2,qreg[5]0'), ('qreg[0]1,qreg[3]1', 'qreg[3]0,qreg[4]1'), ('qreg[0]1,qreg[3]1', 'qreg[3]2,qreg[6]1'), ('qreg[1]2,qreg[4]3', 'qreg[4]2,qreg[5]0'), ('qreg[2]1,qreg[5]1', 'qreg[4]2,qreg[5]0'), ('qreg[2]1,qreg[5]1', 'qreg[5]2,qreg[8]1'), ('qreg[5]2,qreg[8]1', 'qreg[7]1,qreg[8]0'), ('qreg[6]0,qreg[7]2', 'qreg[7]1,qreg[8]0'), ('qreg[3]2,qreg[6]1', 'qreg[6]0,qreg[7]2')]\n"
     ]
    }
   ],
   "source": [
    "print(graph.edges)"
   ]
  },
  {
   "cell_type": "code",
   "execution_count": null,
   "metadata": {},
   "outputs": [],
   "source": []
  }
 ],
 "metadata": {
  "kernelspec": {
   "display_name": "venv",
   "language": "python",
   "name": "venv"
  },
  "language_info": {
   "codemirror_mode": {
    "name": "ipython",
    "version": 3
   },
   "file_extension": ".py",
   "mimetype": "text/x-python",
   "name": "python",
   "nbconvert_exporter": "python",
   "pygments_lexer": "ipython3",
   "version": "3.7.3"
  }
 },
 "nbformat": 4,
 "nbformat_minor": 2
}
