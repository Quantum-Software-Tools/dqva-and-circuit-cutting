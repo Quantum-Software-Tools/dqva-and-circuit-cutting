{
 "cells": [
  {
   "cell_type": "code",
   "execution_count": null,
   "metadata": {},
   "outputs": [
    {
     "name": "stdout",
     "output_type": "stream",
     "text": [
      "Generating 2x2, 1+8+1 supremacy circuit\n",
      "Calculating measurement filter, 20-qubit calibration circuits * 16 * 2.048e+03 shots. 6.140e-01 seconds\n",
      "Mitigation for 4 qubit circuit took 6.223e-03 seconds\n",
      "--------------------------------------------------\n",
      "Generating 1x5, 1+8+1 supremacy circuit\n",
      "Calculating measurement filter, 20-qubit calibration circuits * 32 * 2.048e+03 shots. 7.807e-01 seconds\n",
      "Mitigation for 5 qubit circuit took 1.563e-02 seconds\n",
      "--------------------------------------------------\n",
      "Generating 2x3, 1+8+1 supremacy circuit\n",
      "Calculating measurement filter, 20-qubit calibration circuits * 64 * 3.072e+03 shots. 2.120e+00 seconds\n",
      "Mitigation for 6 qubit circuit took 2.982e-02 seconds\n",
      "--------------------------------------------------\n",
      "Generating 1x7, 1+8+1 supremacy circuit\n",
      "Calculating measurement filter, 20-qubit calibration circuits * 128 * 4.096e+03 shots. 4.685e+00 seconds\n",
      "Mitigation for 7 qubit circuit took 1.380e-01 seconds\n",
      "--------------------------------------------------\n",
      "Generating 2x4, 1+8+1 supremacy circuit\n",
      "Calculating measurement filter, 20-qubit calibration circuits * 256 * 4.096e+03 shots. 1.059e+01 seconds\n",
      "Mitigation for 8 qubit circuit took 7.657e-01 seconds\n",
      "--------------------------------------------------\n",
      "Generating 3x3, 1+8+1 supremacy circuit\n",
      "Calculating measurement filter, 20-qubit calibration circuits * 512 * 6.144e+03 shots. 3.009e+01 seconds\n",
      "Mitigation for 9 qubit circuit took 4.475e+00 seconds\n",
      "--------------------------------------------------\n",
      "Generating 2x5, 1+8+1 supremacy circuit\n",
      "During readout mitigation, num_shots 9.216e+03 exceeded hardware max\n",
      "Calculating measurement filter, 20-qubit calibration circuits * 1024 * 8.192e+03 shots. 7.977e+01 seconds\n",
      "During circuit evaluation on hardware, num_shots 9.216e+03 exceeded hardware max\n",
      "Mitigation for 10 qubit circuit took 3.241e+01 seconds\n",
      "--------------------------------------------------\n",
      "Generating 3x4, 1+8+1 supremacy circuit\n",
      "During readout mitigation, num_shots 1.536e+04 exceeded hardware max\n",
      "Calculating measurement filter, 20-qubit calibration circuits * 4096 * 8.192e+03 shots. 3.687e+02 seconds\n",
      "During circuit evaluation on hardware, num_shots 1.536e+04 exceeded hardware max\n"
     ]
    }
   ],
   "source": [
    "from helper_fun import get_evaluator_info, evaluate_circ\n",
    "from qcg.generators import gen_supremacy, gen_hwea\n",
    "import numpy as np\n",
    "\n",
    "for dimension in [[2,2],[1,5],[2,3],[1,7],[2,4],[3,3],[2,5],[3,4]]:\n",
    "    i,j=dimension\n",
    "    circ = gen_supremacy(i,j,8)\n",
    "    device_name = 'ibmq_boeblingen'\n",
    "\n",
    "    evaluator_info = get_evaluator_info(circ=circ,device_name=device_name,\n",
    "        fields=['device','basis_gates','coupling_map','properties','initial_layout','num_shots','meas_filter'])\n",
    "    hw_fc = evaluate_circ(circ=circ,backend='hardware',evaluator_info=evaluator_info)\n",
    "    print('-'*50)"
   ]
  },
  {
   "cell_type": "code",
   "execution_count": null,
   "metadata": {},
   "outputs": [],
   "source": []
  }
 ],
 "metadata": {
  "file_extension": ".py",
  "kernelspec": {
   "display_name": "Python 3",
   "language": "python",
   "name": "python3"
  },
  "language_info": {
   "codemirror_mode": {
    "name": "ipython",
    "version": 3
   },
   "file_extension": ".py",
   "mimetype": "text/x-python",
   "name": "python",
   "nbconvert_exporter": "python",
   "pygments_lexer": "ipython3",
   "version": "3.7.4"
  },
  "mimetype": "text/x-python",
  "name": "python",
  "npconvert_exporter": "python",
  "pygments_lexer": "ipython3",
  "version": 3
 },
 "nbformat": 4,
 "nbformat_minor": 4
}
