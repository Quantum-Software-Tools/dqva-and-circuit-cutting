{
 "cells": [
  {
   "cell_type": "code",
   "execution_count": 2,
   "metadata": {},
   "outputs": [],
   "source": [
    "from helper_fun import load_IBMQ\n",
    "from qcg.generators import gen_supremacy, gen_hwea\n",
    "from qiskit.compiler import transpile, assemble\n",
    "from helper_fun import readout_mitigation, get_evaluator_info\n",
    "from qiskit.providers.aer import noise\n",
    "\n",
    "circ = gen_supremacy(2,2,8,order='75601234')\n",
    "device_name = 'ibmq_20_tokyo'\n",
    "evaluator_info = get_evaluator_info(circ=circ,device_name=device_name,fields=['device','basis_gates','coupling_map','properties','initial_layout','noise_model','num_shots','meas_filter'])"
   ]
  },
  {
   "cell_type": "code",
   "execution_count": null,
   "metadata": {},
   "outputs": [],
   "source": []
  }
 ],
 "metadata": {
  "file_extension": ".py",
  "kernelspec": {
   "display_name": "Python 3",
   "language": "python",
   "name": "python3"
  },
  "language_info": {
   "codemirror_mode": {
    "name": "ipython",
    "version": 3
   },
   "file_extension": ".py",
   "mimetype": "text/x-python",
   "name": "python",
   "nbconvert_exporter": "python",
   "pygments_lexer": "ipython3",
   "version": "3.7.4"
  },
  "mimetype": "text/x-python",
  "name": "python",
  "npconvert_exporter": "python",
  "pygments_lexer": "ipython3",
  "version": 3
 },
 "nbformat": 4,
 "nbformat_minor": 4
}