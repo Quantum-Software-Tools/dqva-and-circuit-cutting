{
 "cells": [
  {
   "cell_type": "code",
   "execution_count": 1,
   "metadata": {},
   "outputs": [
    {
     "name": "stdout",
     "output_type": "stream",
     "text": [
      "Generating 2x2, 1+8+1 supremacy circuit\n"
     ]
    }
   ],
   "source": [
    "from qiskit.compiler import transpile, assemble\n",
    "from helper_fun import get_evaluator_info, evaluate_circ, apply_measurement\n",
    "from qcg.generators import gen_supremacy, gen_hwea\n",
    "from qiskit import Aer, IBMQ, execute\n",
    "\n",
    "device = Aer.get_backend('qasm_simulator')\n",
    "circ = gen_supremacy(2,2,8)\n",
    "device_name = 'ibmq_boeblingen'\n",
    "fields = ['num_shots']\n",
    "evaluator_info = get_evaluator_info(circ,device_name,fields)\n",
    "qc = apply_measurement(circ)\n",
    "qc_transpiled = transpile(qc, backend=device)\n",
    "\n",
    "qcs = [qc_transpiled for i in range(2)]\n",
    "qobj = assemble(qcs, backend=device, shots=evaluator_info['num_shots'])\n",
    "job = device.run(qobj)\n",
    "result_0 = job.result()\n",
    "result_1 = job.result()"
   ]
  },
  {
   "cell_type": "code",
   "execution_count": 3,
   "metadata": {},
   "outputs": [
    {
     "name": "stdout",
     "output_type": "stream",
     "text": [
      "qobj_id c4f06d9a-0727-4a00-910a-c59b37ff99d9\n",
      "job_id b6849b3b-3adc-404d-9f8e-6457551e6b82\n",
      "backend_name qasm_simulator\n",
      "success True\n",
      "results [{'success': True, 'status': 'DONE', 'header': {'qubit_labels': [['q0', 0], ['q0', 1], ['q0', 2], ['q0', 3]], 'clbit_labels': [['c', 0], ['c', 1], ['c', 2], ['c', 3]], 'creg_sizes': [['c', 4]], 'memory_slots': 4, 'name': 'circuit9', 'n_qubits': 4, 'qreg_sizes': [['q0', 4]]}, 'shots': 2048, 'meas_level': 2, 'data': {'counts': {'0xf': 126, '0x1': 53, '0x9': 228, '0x6': 299, '0x4': 4, '0x8': 53, '0xe': 181, '0xb': 81, '0xc': 40, '0x2': 38, '0x3': 145, '0xd': 191, '0x0': 286, '0x5': 160, '0xa': 117, '0x7': 46}}, 'seed_simulator': 465875011, 'time_taken': 0.003984818, 'metadata': {'measure_sampling': True, 'method': 'statevector', 'parallel_shots': 1, 'parallel_state_update': 16}}, {'success': True, 'status': 'DONE', 'header': {'qubit_labels': [['q0', 0], ['q0', 1], ['q0', 2], ['q0', 3]], 'clbit_labels': [['c', 0], ['c', 1], ['c', 2], ['c', 3]], 'creg_sizes': [['c', 4]], 'memory_slots': 4, 'name': 'circuit9', 'n_qubits': 4, 'qreg_sizes': [['q0', 4]]}, 'shots': 2048, 'meas_level': 2, 'data': {'counts': {'0xf': 135, '0x1': 44, '0x9': 244, '0x6': 310, '0x4': 6, '0x8': 70, '0xe': 168, '0xb': 92, '0xc': 30, '0x2': 34, '0x3': 151, '0xd': 173, '0x0': 288, '0x5': 158, '0xa': 117, '0x7': 28}}, 'seed_simulator': 2708881750, 'time_taken': 0.003742912, 'metadata': {'measure_sampling': True, 'method': 'statevector', 'parallel_shots': 1, 'parallel_state_update': 16}}]\n",
      "date 2019-11-08T10:55:06.776028\n",
      "status COMPLETED\n",
      "header {'backend_version': '0.3.2', 'backend_name': 'qasm_simulator'}\n",
      "backend_version 0.3.2\n",
      "time_taken 0.023412227630615234\n",
      "metadata {'max_memory_mb': 8192, 'omp_enabled': True, 'parallel_experiments': 1, 'time_taken': 0.007917795}\n"
     ]
    },
    {
     "data": {
      "text/plain": [
       "[None, None, None, None, None, None, None, None, None, None, None]"
      ]
     },
     "execution_count": 3,
     "metadata": {},
     "output_type": "execute_result"
    }
   ],
   "source": [
    "dict_0 = result_0.to_dict()\n",
    "[print(x, dict_0[x]) for x in dict_0]"
   ]
  },
  {
   "cell_type": "code",
   "execution_count": null,
   "metadata": {},
   "outputs": [],
   "source": []
  }
 ],
 "metadata": {
  "file_extension": ".py",
  "kernelspec": {
   "display_name": "Python 3",
   "language": "python",
   "name": "python3"
  },
  "language_info": {
   "codemirror_mode": {
    "name": "ipython",
    "version": 3
   },
   "file_extension": ".py",
   "mimetype": "text/x-python",
   "name": "python",
   "nbconvert_exporter": "python",
   "pygments_lexer": "ipython3",
   "version": "3.7.4"
  },
  "mimetype": "text/x-python",
  "name": "python",
  "npconvert_exporter": "python",
  "pygments_lexer": "ipython3",
  "version": 3
 },
 "nbformat": 4,
 "nbformat_minor": 4
}
