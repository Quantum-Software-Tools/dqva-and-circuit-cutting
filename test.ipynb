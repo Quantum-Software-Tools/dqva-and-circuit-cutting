{
 "nbformat": 4,
 "nbformat_minor": 2,
 "metadata": {
  "language_info": {
   "name": "python",
   "codemirror_mode": {
    "name": "ipython",
    "version": 3
   }
  },
  "orig_nbformat": 2,
  "file_extension": ".py",
  "mimetype": "text/x-python",
  "name": "python",
  "npconvert_exporter": "python",
  "pygments_lexer": "ipython3",
  "version": 3
 },
 "cells": [
  {
   "cell_type": "code",
   "execution_count": 7,
   "metadata": {},
   "outputs": [
    {
     "name": "stdout",
     "output_type": "stream",
     "text": "ibmqx2\nibmq_qasm_simulator\nibmq_20_tokyo\nibmq_16_melbourne\nibmq_poughkeepsie\nibmq_boeblingen\nibmq_vigo\nibmq_ourense\nibmq_johannesburg\nibmq_rochester\n"
    }
   ],
   "source": [
    "from helper_fun import load_IBMQ\n",
    "provider=load_IBMQ()\n",
    "[print(x) for x in provider.backends()]\n",
    "device = provider.get_backend('ibmq_16_melbourne')"
   ]
  },
  {
   "cell_type": "code",
   "execution_count": null,
   "metadata": {},
   "outputs": [],
   "source": []
  }
 ]
}