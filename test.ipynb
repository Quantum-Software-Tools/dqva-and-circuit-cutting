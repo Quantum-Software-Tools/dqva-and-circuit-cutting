{
 "cells": [
  {
   "cell_type": "code",
   "execution_count": 3,
   "metadata": {
    "scrolled": false
   },
   "outputs": [
    {
     "name": "stdout",
     "output_type": "stream",
     "text": [
      "Generating 3x4, 1+8+1 supremacy circuit\n",
      "splitting into 2 fragments, 22 edges 17 vertices graph\n",
      "cut_edges are: [('qreg[1]0,qreg[2]0', 'qreg[2]1,qreg[3]0'), ('qreg[4]0,qreg[5]1', 'qreg[5]0,qreg[9]0'), ('qreg[4]2,qreg[8]1', 'qreg[8]0,qreg[9]2'), ('qreg[6]1,qreg[7]1', 'qreg[7]0,qreg[11]0'), ('qreg[2]2,qreg[6]2', 'qreg[6]1,qreg[7]1'), ('qreg[3]1,qreg[7]2', 'qreg[6]1,qreg[7]1')]\n",
      "group is: qreg[0]0,qreg[1]1 qreg[1]0,qreg[2]0 qreg[0]1,qreg[4]1 qreg[4]2,qreg[8]1 qreg[1]2,qreg[5]3 qreg[4]0,qreg[5]1 qreg[5]2,qreg[6]0 qreg[6]1,qreg[7]1\n",
      "looking at vertex: qreg[0]0,qreg[1]1\n",
      "qarg qreg[0]0 is a starting node, d++\n",
      "looking at vertex: qreg[1]0,qreg[2]0\n",
      "qarg qreg[1]0 is a starting node, d++\n",
      "qarg qreg[2]0 is a starting node, d++\n",
      "vertex qreg[1]0,qreg[2]0 is cutting src node, K++\n",
      "looking at vertex: qreg[0]1,qreg[4]1\n",
      "looking at vertex: qreg[4]2,qreg[8]1\n",
      "vertex qreg[4]2,qreg[8]1 is cutting src node, K++\n",
      "looking at vertex: qreg[1]2,qreg[5]3\n",
      "looking at vertex: qreg[4]0,qreg[5]1\n",
      "qarg qreg[4]0 is a starting node, d++\n",
      "vertex qreg[4]0,qreg[5]1 is cutting src node, K++\n",
      "looking at vertex: qreg[5]2,qreg[6]0\n",
      "qarg qreg[6]0 is a starting node, d++\n",
      "looking at vertex: qreg[6]1,qreg[7]1\n",
      "vertex qreg[6]1,qreg[7]1 is cutting src node, K++\n",
      "vertex qreg[6]1,qreg[7]1 is cutting dest node, d++, K++\n",
      "vertex qreg[6]1,qreg[7]1 is cutting dest node, d++, K++\n",
      "K = 6, d = 7\n",
      "----------------------------------------------------------------------------------------------------\n",
      "group is: qreg[10]1,qreg[11]1 qreg[7]0,qreg[11]0 qreg[2]1,qreg[3]0 qreg[3]1,qreg[7]2 qreg[2]2,qreg[6]2 qreg[6]3,qreg[10]2 qreg[8]0,qreg[9]2 qreg[9]1,qreg[10]0 qreg[5]0,qreg[9]0\n",
      "looking at vertex: qreg[10]1,qreg[11]1\n",
      "looking at vertex: qreg[7]0,qreg[11]0\n",
      "qarg qreg[7]0 is a starting node, d++\n",
      "qarg qreg[11]0 is a starting node, d++\n",
      "vertex qreg[7]0,qreg[11]0 is cutting dest node, d++, K++\n",
      "looking at vertex: qreg[2]1,qreg[3]0\n",
      "qarg qreg[3]0 is a starting node, d++\n",
      "vertex qreg[2]1,qreg[3]0 is cutting dest node, d++, K++\n",
      "looking at vertex: qreg[3]1,qreg[7]2\n",
      "vertex qreg[3]1,qreg[7]2 is cutting src node, K++\n",
      "looking at vertex: qreg[2]2,qreg[6]2\n",
      "vertex qreg[2]2,qreg[6]2 is cutting src node, K++\n",
      "looking at vertex: qreg[6]3,qreg[10]2\n",
      "looking at vertex: qreg[8]0,qreg[9]2\n",
      "qarg qreg[8]0 is a starting node, d++\n",
      "vertex qreg[8]0,qreg[9]2 is cutting dest node, d++, K++\n",
      "looking at vertex: qreg[9]1,qreg[10]0\n",
      "qarg qreg[10]0 is a starting node, d++\n",
      "looking at vertex: qreg[5]0,qreg[9]0\n",
      "qarg qreg[5]0 is a starting node, d++\n",
      "qarg qreg[9]0 is a starting node, d++\n",
      "vertex qreg[5]0,qreg[9]0 is cutting dest node, d++, K++\n",
      "K = 6, d = 11\n",
      "----------------------------------------------------------------------------------------------------\n",
      "cumulative hardness = 570425344.0\n",
      "cut finder results:\n",
      "[((QuantumRegister(12, 'qreg'), 7), 4), ((QuantumRegister(12, 'qreg'), 6), 3), ((QuantumRegister(12, 'qreg'), 2), 2), ((QuantumRegister(12, 'qreg'), 8), 2), ((QuantumRegister(12, 'qreg'), 5), 1), ((QuantumRegister(12, 'qreg'), 7), 1)]\n",
      "570425344.0\n",
      "6 11\n",
      "**************************************************\n",
      "cutter results:\n",
      "K = 6 d = [8, 10]\n"
     ]
    }
   ],
   "source": [
    "from randomized_searcher import *\n",
    "from qcg.generators import gen_supremacy\n",
    "from qiskit.converters import circuit_to_dag, dag_to_circuit\n",
    "from qiskit.tools.visualization import dag_drawer\n",
    "import randomized_searcher as r_s\n",
    "import cutter\n",
    "\n",
    "circ = gen_supremacy(3,4,8,'71230456')\n",
    "dag_drawer(circuit_to_dag(circ),filename='dag.pdf')\n",
    "cuts, hardness, K, d = r_s.find_best_cuts(circ, hw_max_qubit=20,num_clusters=2)\n",
    "print('cut finder results:')\n",
    "print(cuts)\n",
    "print(hardness)\n",
    "print(K, d)\n",
    "print('*'*50)\n",
    "fragments, complete_path_map, K, d = cutter.cut_circuit(circ, cuts)\n",
    "print('cutter results:')\n",
    "print('K =', K, 'd =', d)"
   ]
  },
  {
   "cell_type": "code",
   "execution_count": 4,
   "metadata": {},
   "outputs": [],
   "source": [
    "for idx, fragment in enumerate(fragments):\n",
    "    dag_drawer(circuit_to_dag(fragment),filename='fragment%d.pdf'%idx)"
   ]
  },
  {
   "cell_type": "code",
   "execution_count": null,
   "metadata": {},
   "outputs": [],
   "source": []
  }
 ],
 "metadata": {
  "kernelspec": {
   "display_name": "venv",
   "language": "python",
   "name": "venv"
  },
  "language_info": {
   "codemirror_mode": {
    "name": "ipython",
    "version": 3
   },
   "file_extension": ".py",
   "mimetype": "text/x-python",
   "name": "python",
   "nbconvert_exporter": "python",
   "pygments_lexer": "ipython3",
   "version": "3.7.3"
  }
 },
 "nbformat": 4,
 "nbformat_minor": 2
}
