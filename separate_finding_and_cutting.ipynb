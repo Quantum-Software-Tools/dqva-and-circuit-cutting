{
 "cells": [
  {
   "cell_type": "code",
   "execution_count": 1,
   "metadata": {},
   "outputs": [],
   "source": [
    "from cutqc.main import CutQC\n",
    "from qiskit import *\n",
    "import numpy as np"
   ]
  },
  {
   "cell_type": "code",
   "execution_count": 2,
   "metadata": {},
   "outputs": [
    {
     "name": "stdout",
     "output_type": "stream",
     "text": [
      "                                                                \n",
      "q_0: ──■─────────────────────────────────────────────────────■──\n",
      "     ┌─┴─┐                                                 ┌─┴─┐\n",
      "q_1: ┤ X ├──■───────────────────────────────────────────■──┤ X ├\n",
      "     └───┘┌─┴─┐                                       ┌─┴─┐└───┘\n",
      "q_2: ─────┤ X ├──■─────────────────────────────────■──┤ X ├─────\n",
      "          └───┘┌─┴─┐                             ┌─┴─┐└───┘     \n",
      "q_3: ──────────┤ X ├──■───────────────────────■──┤ X ├──────────\n",
      "               └───┘┌─┴─┐                   ┌─┴─┐└───┘          \n",
      "q_4: ───────────────┤ X ├──■─────────────■──┤ X ├───────────────\n",
      "                    └───┘┌─┴─┐┌───────┐┌─┴─┐└───┘               \n",
      "q_5: ────────────────────┤ X ├┤ RX(π) ├┤ X ├────────────────────\n",
      "                         └───┘└───────┘└───┘                    \n"
     ]
    }
   ],
   "source": [
    "nq = 6\n",
    "full_circ = QuantumCircuit(nq)\n",
    "for i in range(nq-1):\n",
    "    full_circ.cx(i, i+1)\n",
    "full_circ.rx(np.pi, nq-1)\n",
    "for i in range(nq-1,0,-1):\n",
    "    full_circ.cx(i-1, i)\n",
    "print(full_circ)"
   ]
  },
  {
   "cell_type": "code",
   "execution_count": 3,
   "metadata": {},
   "outputs": [],
   "source": [
    "max_subcircuit_qubit = 4\n",
    "num_subcircuits = [2]\n",
    "max_cuts = 2\n",
    "verbose = 2\n",
    "\n",
    "circuits = {'my_circ':full_circ}\n",
    "\n",
    "cutqc = CutQC(circuits, max_subcircuit_qubit, num_subcircuits, max_cuts, verbose)"
   ]
  },
  {
   "cell_type": "markdown",
   "metadata": {},
   "source": [
    "## Prior functionality:\n",
    "The code below will no longer execute because I've changed the CutQC `__init__` function so it does *not* immediately call `_cut()`\n",
    "\n",
    "However, the output shows how the circuit above should be partitioned"
   ]
  },
  {
   "cell_type": "code",
   "execution_count": 10,
   "metadata": {},
   "outputs": [
    {
     "name": "stdout",
     "output_type": "stream",
     "text": [
      "dict_keys(['circuit', 'max_subcircuit_qubit', 'subcircuits', 'complete_path_map', 'searcher_time', 'num_rho_qubits', 'num_O_qubits', 'num_d_qubits', 'objective', 'positions', 'counter', 'cost_estimate'])\n",
      "Subcircuit 0\n",
      "                         \n",
      "q_0: ──■──────────────■──\n",
      "     ┌─┴─┐          ┌─┴─┐\n",
      "q_1: ┤ X ├──■────■──┤ X ├\n",
      "     └───┘┌─┴─┐  │  └───┘\n",
      "q_2: ─────┤ X ├──┼───────\n",
      "          └───┘┌─┴─┐     \n",
      "q_3: ──────────┤ X ├─────\n",
      "               └───┘     \n",
      "Subcircuit 1\n",
      "                                            \n",
      "q_0: ──■─────────────────────────────────■──\n",
      "     ┌─┴─┐                             ┌─┴─┐\n",
      "q_1: ┤ X ├──■───────────────────────■──┤ X ├\n",
      "     └───┘┌─┴─┐                   ┌─┴─┐└───┘\n",
      "q_2: ─────┤ X ├──■─────────────■──┤ X ├─────\n",
      "          └───┘┌─┴─┐┌───────┐┌─┴─┐└───┘     \n",
      "q_3: ──────────┤ X ├┤ RX(π) ├┤ X ├──────────\n",
      "               └───┘└───────┘└───┘          \n"
     ]
    }
   ],
   "source": [
    "cutsoln = cutqc.cut_solns[0]\n",
    "print(cutsoln.keys())\n",
    "for i, subcirc in enumerate(cutsoln['subcircuits']):\n",
    "    print('Subcircuit', i)\n",
    "    print(subcirc)"
   ]
  },
  {
   "cell_type": "markdown",
   "metadata": {},
   "source": [
    "## New functionality:\n",
    "Now, instead of calling `_cut()` which would *find* and *cut* the circuit we first solve the MIP model for the initial circuit.\n",
    "Solving this model will use the Gurobi optimizer to find the best cut locations given our constrains. We'll then use this same model\n",
    "to repeatedly cut circuits which have identical structure up to the values of their parametrized rotation gates."
   ]
  },
  {
   "cell_type": "code",
   "execution_count": 4,
   "metadata": {},
   "outputs": [
    {
     "name": "stdout",
     "output_type": "stream",
     "text": [
      "Using license file /Users/teague/gurobi.lic\n",
      "Academic license - for non-commercial use only\n"
     ]
    },
    {
     "data": {
      "text/plain": [
       "[['q[0]0 q[1]0', 'q[1]1 q[2]0', 'q[1]2 q[2]3', 'q[0]1 q[1]3'],\n",
       " ['q[2]1 q[3]0',\n",
       "  'q[3]1 q[4]0',\n",
       "  'q[4]1 q[5]0',\n",
       "  'q[4]2 q[5]1',\n",
       "  'q[3]2 q[4]3',\n",
       "  'q[2]2 q[3]3']]"
      ]
     },
     "execution_count": 4,
     "metadata": {},
     "output_type": "execute_result"
    }
   ],
   "source": [
    "mip_model = cutqc.get_MIP_model(max_subcircuit_qubit, num_subcircuits, max_cuts)\n",
    "mip_model.subcircuits_vertices"
   ]
  },
  {
   "cell_type": "code",
   "execution_count": 6,
   "metadata": {},
   "outputs": [
    {
     "name": "stdout",
     "output_type": "stream",
     "text": [
      "Subcirc 0\n",
      "                         \n",
      "q_0: ──■──────────────■──\n",
      "     ┌─┴─┐          ┌─┴─┐\n",
      "q_1: ┤ X ├──■────■──┤ X ├\n",
      "     └───┘┌─┴─┐  │  └───┘\n",
      "q_2: ─────┤ X ├──┼───────\n",
      "          └───┘┌─┴─┐     \n",
      "q_3: ──────────┤ X ├─────\n",
      "               └───┘     \n",
      "Subcirc 1\n",
      "                                            \n",
      "q_0: ──■─────────────────────────────────■──\n",
      "     ┌─┴─┐                             ┌─┴─┐\n",
      "q_1: ┤ X ├──■───────────────────────■──┤ X ├\n",
      "     └───┘┌─┴─┐                   ┌─┴─┐└───┘\n",
      "q_2: ─────┤ X ├──■─────────────■──┤ X ├─────\n",
      "          └───┘┌─┴─┐┌───────┐┌─┴─┐└───┘     \n",
      "q_3: ──────────┤ X ├┤ RX(π) ├┤ X ├──────────\n",
      "               └───┘└───────┘└───┘          \n"
     ]
    }
   ],
   "source": [
    "subcircs, cpm = cutqc.get_subcircs_from_model(full_circ, mip_model)\n",
    "for i, subcirc in enumerate(subcircs):\n",
    "    print('Subcirc', i)\n",
    "    print(subcirc)"
   ]
  },
  {
   "cell_type": "code",
   "execution_count": 7,
   "metadata": {},
   "outputs": [
    {
     "name": "stdout",
     "output_type": "stream",
     "text": [
      "                                                                 \n",
      "q_0: ──■──────────────────────────────────────────────────────■──\n",
      "     ┌─┴─┐                                                  ┌─┴─┐\n",
      "q_1: ┤ X ├──■────────────────────────────────────────────■──┤ X ├\n",
      "     └───┘┌─┴─┐                                        ┌─┴─┐└───┘\n",
      "q_2: ─────┤ X ├──■──────────────────────────────────■──┤ X ├─────\n",
      "          └───┘┌─┴─┐                              ┌─┴─┐└───┘     \n",
      "q_3: ──────────┤ X ├──■────────────────────────■──┤ X ├──────────\n",
      "               └───┘┌─┴─┐                    ┌─┴─┐└───┘          \n",
      "q_4: ───────────────┤ X ├──■──────────────■──┤ X ├───────────────\n",
      "                    └───┘┌─┴─┐┌────────┐┌─┴─┐└───┘               \n",
      "q_5: ────────────────────┤ X ├┤ RX(2π) ├┤ X ├────────────────────\n",
      "                         └───┘└────────┘└───┘                    \n"
     ]
    }
   ],
   "source": [
    "nq = 6\n",
    "full_circ2 = QuantumCircuit(nq)\n",
    "for i in range(nq-1):\n",
    "    full_circ2.cx(i, i+1)\n",
    "full_circ2.rx(2*np.pi, nq-1)\n",
    "for i in range(nq-1,0,-1):\n",
    "    full_circ2.cx(i-1, i)\n",
    "print(full_circ2)"
   ]
  },
  {
   "cell_type": "code",
   "execution_count": 8,
   "metadata": {},
   "outputs": [
    {
     "name": "stdout",
     "output_type": "stream",
     "text": [
      "Subcirc 0\n",
      "                         \n",
      "q_0: ──■──────────────■──\n",
      "     ┌─┴─┐          ┌─┴─┐\n",
      "q_1: ┤ X ├──■────■──┤ X ├\n",
      "     └───┘┌─┴─┐  │  └───┘\n",
      "q_2: ─────┤ X ├──┼───────\n",
      "          └───┘┌─┴─┐     \n",
      "q_3: ──────────┤ X ├─────\n",
      "               └───┘     \n",
      "Subcirc 1\n",
      "                                             \n",
      "q_0: ──■──────────────────────────────────■──\n",
      "     ┌─┴─┐                              ┌─┴─┐\n",
      "q_1: ┤ X ├──■────────────────────────■──┤ X ├\n",
      "     └───┘┌─┴─┐                    ┌─┴─┐└───┘\n",
      "q_2: ─────┤ X ├──■──────────────■──┤ X ├─────\n",
      "          └───┘┌─┴─┐┌────────┐┌─┴─┐└───┘     \n",
      "q_3: ──────────┤ X ├┤ RX(2π) ├┤ X ├──────────\n",
      "               └───┘└────────┘└───┘          \n"
     ]
    }
   ],
   "source": [
    "subcircs, cpm = cutqc.get_subcircs_from_model(full_circ2, mip_model)\n",
    "for i, subcirc in enumerate(subcircs):\n",
    "    print('Subcirc', i)\n",
    "    print(subcirc)"
   ]
  },
  {
   "cell_type": "markdown",
   "metadata": {},
   "source": [
    "## Test this with DQVA circuits"
   ]
  },
  {
   "cell_type": "code",
   "execution_count": 10,
   "metadata": {},
   "outputs": [],
   "source": [
    "from cutDQVA import gen_dqva\n",
    "import networkx as nx"
   ]
  },
  {
   "cell_type": "code",
   "execution_count": 11,
   "metadata": {},
   "outputs": [
    {
     "data": {
      "image/png": "[encoded data removed]",
      "text/plain": [
       "<Figure size 432x288 with 1 Axes>"
      ]
     },
     "metadata": {},
     "output_type": "display_data"
    }
   ],
   "source": [
    "G = nx.Graph()\n",
    "G.add_edges_from([(0, 1), (0, 2), (0, 3), (1, 2), (1, 3), (2, 3), (3, 4), (4, 5), (4, 6), (5, 6), (5, 7), (6, 7)])\n",
    "nx.draw_spring(G, with_labels=True, node_color='gold')"
   ]
  },
  {
   "cell_type": "code",
   "execution_count": null,
   "metadata": {},
   "outputs": [],
   "source": [
    "nq = len(G.nodes)\n",
    "kl_bisection = ({0,1,2,3}, {4,5,6,7})\n",
    "dqva_circ = gen_dqva(G, kl_bisection, params=params, init_state=cur_init_state,\n",
    "                     cut=True, mixer_order=cur_permutation, verbose=0,\n",
    "                     decompose_toffoli=2, barriers=0, hot_nodes=[hotnode])"
   ]
  }
 ],
 "metadata": {
  "kernelspec": {
   "display_name": "Python 3",
   "language": "python",
   "name": "python3"
  },
  "language_info": {
   "codemirror_mode": {
    "name": "ipython",
    "version": 3
   },
   "file_extension": ".py",
   "mimetype": "text/x-python",
   "name": "python",
   "nbconvert_exporter": "python",
   "pygments_lexer": "ipython3",
   "version": "3.7.7"
  }
 },
 "nbformat": 4,
 "nbformat_minor": 4
}
