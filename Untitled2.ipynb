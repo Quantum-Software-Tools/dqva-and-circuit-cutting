{
 "cells": [
  {
   "cell_type": "code",
   "execution_count": 2,
   "metadata": {},
   "outputs": [
    {
     "name": "stdout",
     "output_type": "stream",
     "text": [
      "           ┌────────────┐┌───┐                           \n",
      "cutQ_0: |0>┤ Ry(1.5708) ├┤ T ├─■─────────────────────────\n",
      "           └────────────┘└───┘ │ ┌────────────┐┌───┐┌───┐\n",
      "cutQ_1: |0>────────────────────■─┤ Rx(1.5708) ├┤ T ├┤ H ├\n",
      "                                 └────────────┘└───┘└───┘\n"
     ]
    }
   ],
   "source": [
    "import pickle\n",
    "cluster_3_circ = pickle.load( open( './data/cluster_3_circ.p', 'rb' ) )\n",
    "print(cluster_3_circ)"
   ]
  },
  {
   "cell_type": "code",
   "execution_count": null,
   "metadata": {},
   "outputs": [],
   "source": []
  }
 ],
 "metadata": {
  "kernelspec": {
   "display_name": "venv",
   "language": "python",
   "name": "venv"
  },
  "language_info": {
   "codemirror_mode": {
    "name": "ipython",
    "version": 3
   },
   "file_extension": ".py",
   "mimetype": "text/x-python",
   "name": "python",
   "nbconvert_exporter": "python",
   "pygments_lexer": "ipython3",
   "version": "3.7.3"
  }
 },
 "nbformat": 4,
 "nbformat_minor": 4
}
