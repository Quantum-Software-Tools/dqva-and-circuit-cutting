{
 "cells": [
  {
   "cell_type": "code",
   "execution_count": 3,
   "metadata": {},
   "outputs": [
    {
     "name": "stdout",
     "output_type": "stream",
     "text": [
      "searcher: 6 cuts K = [4, 4, 4] d = [4, 9, 9] 3 clusters\n",
      "actual cutter: K = 6 d = [9, 9, 4] 3 clusters\n"
     ]
    }
   ],
   "source": [
    "from qcg.generators import gen_supremacy\n",
    "import cutter\n",
    "import randomized_searcher as r_s\n",
    "\n",
    "circ = gen_supremacy(4,4,8)\n",
    "hardness, positions, K, d, num_cluster = r_s.find_cuts(circ,num_trials=int(1e3), hw_max_qubit=10)\n",
    "print('searcher: %d cuts'%len(positions),'K =', K,'d =',d, '%d clusters'%num_cluster)\n",
    "fragments, complete_path_map, K, d = cutter.cut_circuit(circ,positions)\n",
    "print('actual cutter: K =', K,'d =',d,'%d clusters'%len(fragments))"
   ]
  },
  {
   "cell_type": "code",
   "execution_count": null,
   "metadata": {},
   "outputs": [],
   "source": []
  }
 ],
 "metadata": {
  "kernelspec": {
   "display_name": "venv",
   "language": "python",
   "name": "venv"
  },
  "language_info": {
   "codemirror_mode": {
    "name": "ipython",
    "version": 3
   },
   "file_extension": ".py",
   "mimetype": "text/x-python",
   "name": "python",
   "nbconvert_exporter": "python",
   "pygments_lexer": "ipython3",
   "version": "3.7.3"
  }
 },
 "nbformat": 4,
 "nbformat_minor": 4
}
