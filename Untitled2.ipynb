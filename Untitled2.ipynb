{
 "cells": [
  {
   "cell_type": "code",
   "execution_count": 20,
   "metadata": {},
   "outputs": [
    {
     "name": "stdout",
     "output_type": "stream",
     "text": [
      "         ┌───┐┌───┐┌───┐\n",
      "q0_0: |0>┤ H ├┤ T ├┤ H ├\n",
      "         ├───┤├───┤├───┤\n",
      "q0_1: |0>┤ H ├┤ T ├┤ H ├\n",
      "         ├───┤├───┤└───┘\n",
      "q0_2: |0>┤ H ├┤ T ├──■──\n",
      "         ├───┤├───┤  │  \n",
      "q0_3: |0>┤ H ├┤ T ├──■──\n",
      "         └───┘└───┘     \n",
      "[ 0.3017767+0.3017767j  0.125    -0.125j      0.125    -0.125j\n",
      " -0.0517767-0.0517767j  0.       +0.4267767j  0.1767767+0.j\n",
      "  0.1767767+0.j         0.       -0.0732233j  0.       +0.4267767j\n",
      "  0.1767767+0.j         0.1767767+0.j         0.       -0.0732233j\n",
      "  0.3017767-0.3017767j -0.125    -0.125j     -0.125    -0.125j\n",
      " -0.0517767+0.0517767j]\n",
      "----------------------------------------------------------------------------------------------------\n",
      "         ┌───┐┌───┐┌───┐┌───┐\n",
      "q1_0: |0>┤ H ├┤ T ├┤ H ├┤ H ├\n",
      "         ├───┤├───┤├───┤└───┘\n",
      "q1_1: |0>┤ H ├┤ T ├┤ H ├─────\n",
      "         ├───┤├───┤└───┘     \n",
      "q1_2: |0>┤ H ├┤ T ├──■───────\n",
      "         ├───┤├───┤  │       \n",
      "q1_3: |0>┤ H ├┤ T ├──■───────\n",
      "         └───┘└───┘          \n",
      "[ 0.3017767+0.125j      0.125    +0.3017767j  0.0517767-0.125j\n",
      "  0.125    -0.0517767j  0.125    +0.3017767j -0.125    +0.3017767j\n",
      "  0.125    -0.0517767j  0.125    +0.0517767j  0.125    +0.3017767j\n",
      " -0.125    +0.3017767j  0.125    -0.0517767j  0.125    +0.0517767j\n",
      "  0.125    -0.3017767j  0.3017767-0.125j     -0.125    -0.0517767j\n",
      " -0.0517767-0.125j    ]\n",
      "----------------------------------------------------------------------------------------------------\n",
      "0.9999999999999996\n"
     ]
    }
   ],
   "source": [
    "from qiskit import QuantumCircuit\n",
    "from qiskit.circuit.quantumregister import QuantumRegister\n",
    "from qiskit.quantum_info.states.measures import state_fidelity\n",
    "import simulator\n",
    "import numpy as np\n",
    "\n",
    "def measure_basis(l):\n",
    "    if len(l)==1:\n",
    "        return l[0]\n",
    "    else:\n",
    "        return np.kron(l[0], measure_basis(l[1:]))\n",
    "\n",
    "q0 = QuantumRegister(4, 'q0')\n",
    "circ_0 = QuantumCircuit(q0)\n",
    "circ_0.h(q0)\n",
    "circ_0.t(q0)\n",
    "circ_0.h(q0[:2])\n",
    "circ_0.cz(q0[2],q0[3])\n",
    "circ_0_meas = simulator.simulate_circ(circ_0)\n",
    "print(circ_0)\n",
    "print(circ_0_meas)\n",
    "\n",
    "print('-'*100)\n",
    "\n",
    "q1 = QuantumRegister(4, 'q1')\n",
    "circ_1 = QuantumCircuit(q1)\n",
    "circ_1.h(q1)\n",
    "circ_1.t(q1)\n",
    "circ_1.h(q1[:2])\n",
    "circ_1.cz(q1[2],q1[3])\n",
    "circ_1.h(q1[0])\n",
    "circ_1_meas = simulator.simulate_circ(circ_1)\n",
    "print(circ_1)\n",
    "print(circ_1_meas)\n",
    "\n",
    "print('-'*100)\n",
    "\n",
    "H = [[1,1],[1,-1]]/np.sqrt(2)\n",
    "sDagger = [[1,0],[0,-1j]]\n",
    "Id = [[1,0],[0,1]]\n",
    "\n",
    "prod = measure_basis([Id,Id,Id,H])\n",
    "modified = np.matmul(prod, circ_0_meas)\n",
    "print(state_fidelity(modified, circ_1_meas))"
   ]
  },
  {
   "cell_type": "code",
   "execution_count": null,
   "metadata": {},
   "outputs": [],
   "source": []
  }
 ],
 "metadata": {
  "kernelspec": {
   "display_name": "venv",
   "language": "python",
   "name": "venv"
  },
  "language_info": {
   "codemirror_mode": {
    "name": "ipython",
    "version": 3
   },
   "file_extension": ".py",
   "mimetype": "text/x-python",
   "name": "python",
   "nbconvert_exporter": "python",
   "pygments_lexer": "ipython3",
   "version": "3.7.3"
  }
 },
 "nbformat": 4,
 "nbformat_minor": 4
}
