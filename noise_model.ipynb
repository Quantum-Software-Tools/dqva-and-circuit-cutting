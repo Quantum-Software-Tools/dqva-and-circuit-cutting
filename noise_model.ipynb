{
 "cells": [
  {
   "cell_type": "code",
   "execution_count": 12,
   "metadata": {},
   "outputs": [
    {
     "name": "stdout",
     "output_type": "stream",
     "text": [
      "0.999999999999998\n",
      "1.0000000000000004\n",
      "6.423106505955482e-05\n"
     ]
    }
   ],
   "source": [
    "from qcg.generators import gen_supremacy, gen_hwea\n",
    "from qiskit.circuit.classicalregister import ClassicalRegister\n",
    "from qiskit import QuantumCircuit\n",
    "from qiskit import Aer, IBMQ, execute\n",
    "import numpy as np\n",
    "from scipy.stats import wasserstein_distance\n",
    "\n",
    "def reverseBits(num,bitSize): \n",
    "    binary = bin(num)\n",
    "    reverse = binary[-1:1:-1] \n",
    "    reverse = reverse + (bitSize - len(reverse))*'0'\n",
    "    return int(reverse,2)\n",
    "\n",
    "num_shots = int(1e5)\n",
    "circ = gen_supremacy(2,4,8,order='75601234')\n",
    "\n",
    "backend = Aer.get_backend('statevector_simulator')\n",
    "job = execute(circ, backend=backend)\n",
    "result = job.result()\n",
    "outputstate = result.get_statevector(circ)\n",
    "outputstate_ordered = [0 for sv in outputstate]\n",
    "for i, sv in enumerate(outputstate):\n",
    "    reverse_i = reverseBits(i,len(circ.qubits))\n",
    "    outputstate_ordered[reverse_i] = sv\n",
    "output_prob = [np.power(np.absolute(x),2) for x in outputstate_ordered]\n",
    "print(sum(output_prob))\n",
    "\n",
    "\n",
    "\n",
    "c = ClassicalRegister(len(circ.qubits), 'c')\n",
    "meas = QuantumCircuit(circ.qregs[0], c)\n",
    "meas.barrier(circ.qubits)\n",
    "meas.measure(circ.qubits,c)\n",
    "qc = circ+meas\n",
    "backend = Aer.get_backend('qasm_simulator')\n",
    "job_sim = execute(qc, backend, shots=num_shots)\n",
    "result = job_sim.result()\n",
    "counts = result.get_counts(qc)\n",
    "prob_ordered = [0 for x in range(np.power(2,len(circ.qubits)))]\n",
    "for state in counts:\n",
    "    reversed_state = reverseBits(int(state,2),len(circ.qubits))\n",
    "    prob_ordered[reversed_state] = counts[state]/num_shots\n",
    "print(sum(prob_ordered))\n",
    "\n",
    "print(wasserstein_distance(output_prob,prob_ordered))"
   ]
  },
  {
   "cell_type": "code",
   "execution_count": null,
   "metadata": {},
   "outputs": [],
   "source": []
  }
 ],
 "metadata": {
  "file_extension": ".py",
  "kernelspec": {
   "display_name": "Python 3",
   "language": "python",
   "name": "python3"
  },
  "language_info": {
   "codemirror_mode": {
    "name": "ipython",
    "version": 3
   },
   "file_extension": ".py",
   "mimetype": "text/x-python",
   "name": "python",
   "nbconvert_exporter": "python",
   "pygments_lexer": "ipython3",
   "version": "3.7.4"
  },
  "mimetype": "text/x-python",
  "name": "python",
  "npconvert_exporter": "python",
  "pygments_lexer": "ipython3",
  "version": 3
 },
 "nbformat": 4,
 "nbformat_minor": 4
}
