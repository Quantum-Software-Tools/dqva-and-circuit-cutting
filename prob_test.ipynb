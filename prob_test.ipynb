{
 "cells": [
  {
   "cell_type": "code",
   "execution_count": 5,
   "metadata": {},
   "outputs": [
    {
     "name": "stdout",
     "output_type": "stream",
     "text": [
      "original circuit:\n",
      "        ┌───┐     ┌───┐          \n",
      "q_0: |0>┤ H ├──■──┤ H ├──────────\n",
      "        ├───┤┌─┴─┐└───┘┌───┐┌───┐\n",
      "q_1: |0>┤ H ├┤ X ├──■──┤ T ├┤ Y ├\n",
      "        └───┘└───┘┌─┴─┐├───┤└───┘\n",
      "q_2: |0>──────────┤ X ├┤ Y ├─────\n",
      "                  └───┘└───┘     \n",
      "uncut measurement: [0.4999999999999998, 0.0, 0.0, 0.0, 0.0, 0.0, 0.4999999999999999, 0.0]\n",
      "****************************************************************************************************\n",
      "Complete path map:\n",
      "Qubit(QuantumRegister(3, 'q'), 0) : [(0, Qubit(QuantumRegister(2, 'q'), 0))]\n",
      "Qubit(QuantumRegister(3, 'q'), 1) : [(0, Qubit(QuantumRegister(2, 'q'), 1)), (1, Qubit(QuantumRegister(1, 'cutQ'), 0))]\n",
      "Qubit(QuantumRegister(3, 'q'), 2) : [(1, Qubit(QuantumRegister(1, 'q'), 0))]\n",
      "cluster 0 circuit:\n",
      "        ┌───┐     ┌───┐\n",
      "q_0: |0>┤ H ├──■──┤ H ├\n",
      "        ├───┤┌─┴─┐└───┘\n",
      "q_1: |0>┤ H ├┤ X ├─────\n",
      "        └───┘└───┘     \n",
      "cluster 1 circuit:\n",
      "           ┌───┐┌───┐     \n",
      "   q_0: |0>┤ X ├┤ Y ├─────\n",
      "           └─┬─┘├───┤┌───┐\n",
      "cutQ_0: |0>──■──┤ T ├┤ Y ├\n",
      "                └───┘└───┘\n",
      "**************************************************\n"
     ]
    }
   ],
   "source": [
    "from qiskit import QuantumCircuit, QuantumRegister, ClassicalRegister\n",
    "from qiskit import BasicAer, execute\n",
    "from qiskit.converters import circuit_to_dag, dag_to_circuit\n",
    "from qiskit.extensions.standard import HGate, SGate, SdgGate, XGate, YGate, IdGate, ZGate\n",
    "import numpy as np\n",
    "from scipy.stats import wasserstein_distance\n",
    "from qiskit.quantum_info.states.measures import state_fidelity\n",
    "import copy\n",
    "import itertools\n",
    "import cutter\n",
    "\n",
    "def simulate_circ(circ, simulator='statevector_simulator'):\n",
    "    backend = BasicAer.get_backend(simulator)\n",
    "    job = execute(circ, backend=backend)\n",
    "    result = job.result()\n",
    "    outputstate = result.get_statevector(circ)\n",
    "    outputprob = [np.power(abs(x),2) for x in outputstate]\n",
    "    return outputprob\n",
    "\n",
    "q = QuantumRegister(3,'q')\n",
    "original_circ = QuantumCircuit(q)\n",
    "original_circ.h(0)\n",
    "original_circ.h(1)\n",
    "original_circ.cx(0,1)\n",
    "original_circ.cx(1,2)\n",
    "original_circ.t(1)\n",
    "original_circ.y(1)\n",
    "original_circ.h(0)\n",
    "original_circ.y(2)\n",
    "original_circ_prob = simulate_circ(original_circ)\n",
    "print('original circuit:')\n",
    "print(original_circ)\n",
    "print('uncut measurement:', original_circ_prob)\n",
    "print('*'*100)\n",
    "\n",
    "positions = [(q[1],1)]\n",
    "clusters, complete_path_map, K, d = cutter.cut_circuit(original_circ, positions)\n",
    "\n",
    "print('Complete path map:')\n",
    "[print(x, ':',complete_path_map[x]) for x in complete_path_map]\n",
    "for idx, x in enumerate(clusters):\n",
    "    print('cluster %d circuit:'%idx)\n",
    "    print(x)\n",
    "print('*'*50)"
   ]
  },
  {
   "cell_type": "code",
   "execution_count": 6,
   "metadata": {},
   "outputs": [
    {
     "name": "stdout",
     "output_type": "stream",
     "text": [
      "[0.4999999999999998, 0.0, 0.0, 0.0, 0.0, 0.0, 0.5, 0.0]\n",
      "[0.4999999999999998, 0.0, 0.0, 0.0, 0.0, 0.0, 0.4999999999999999, 0.0]\n"
     ]
    },
    {
     "data": {
      "text/plain": [
       "1.3877787807814457e-17"
      ]
     },
     "execution_count": 6,
     "metadata": {},
     "output_type": "execute_result"
    }
   ],
   "source": [
    "all_s = list(itertools.product(range(1,9),repeat=len(positions)))\n",
    "reconstructed = [0 for x in range(len(original_circ_prob))]\n",
    "for s in all_s:\n",
    "    cluster_0_copy = copy.deepcopy(clusters[0])\n",
    "    cluster_0_dag = circuit_to_dag(cluster_0_copy)\n",
    "    O_qubit = cluster_0_copy.qubits[1]\n",
    "    \n",
    "    cluster_1_copy = copy.deepcopy(clusters[1])\n",
    "    cluster_1_dag = circuit_to_dag(cluster_1_copy)\n",
    "    rho_qubit = cluster_1_copy.qubits[1]\n",
    "    \n",
    "    if s[0]==2 or s[0]==8:\n",
    "        cluster_1_dag.apply_operation_front(op=XGate(),qargs=[rho_qubit],cargs=[])\n",
    "    elif s[0]==3:\n",
    "        cluster_0_dag.apply_operation_back(op=HGate(),qargs=[O_qubit])\n",
    "        cluster_1_dag.apply_operation_front(op=HGate(),qargs=[rho_qubit],cargs=[])\n",
    "    elif s[0]==4:\n",
    "        cluster_0_dag.apply_operation_back(op=HGate(),qargs=[O_qubit])\n",
    "        cluster_1_dag.apply_operation_front(op=HGate(),qargs=[rho_qubit],cargs=[])\n",
    "        cluster_1_dag.apply_operation_front(op=XGate(),qargs=[rho_qubit],cargs=[])\n",
    "    elif s[0]==5:\n",
    "        cluster_0_dag.apply_operation_back(op=SdgGate(),qargs=[O_qubit])\n",
    "        cluster_0_dag.apply_operation_back(op=HGate(),qargs=[O_qubit])\n",
    "        cluster_1_dag.apply_operation_front(op=SGate(),qargs=[rho_qubit],cargs=[])\n",
    "        cluster_1_dag.apply_operation_front(op=HGate(),qargs=[rho_qubit],cargs=[])\n",
    "    elif s[0]==6:\n",
    "        cluster_0_dag.apply_operation_back(op=SdgGate(),qargs=[O_qubit])\n",
    "        cluster_0_dag.apply_operation_back(op=HGate(),qargs=[O_qubit])\n",
    "        cluster_1_dag.apply_operation_front(op=SGate(),qargs=[rho_qubit],cargs=[])\n",
    "        cluster_1_dag.apply_operation_front(op=HGate(),qargs=[rho_qubit],cargs=[])\n",
    "        cluster_1_dag.apply_operation_front(op=XGate(),qargs=[rho_qubit],cargs=[])\n",
    "    \n",
    "    cluster_0_circ = dag_to_circuit(cluster_0_dag)\n",
    "    cluster_0_meas = simulate_circ(cluster_0_circ)\n",
    "    \n",
    "    cluster_1_circ = dag_to_circuit(cluster_1_dag)\n",
    "    cluster_1_meas = simulate_circ(cluster_1_circ)\n",
    "    \n",
    "    t_s = np.kron(cluster_0_meas,cluster_1_meas)\n",
    "    if s[0]!=1 and s[0]!=2:\n",
    "        t_s = [t_s[i]-t_s[i+8] for i in range(8)]\n",
    "    else:\n",
    "        t_s = [t_s[i]+t_s[i+8] for i in range(8)]\n",
    "    \n",
    "    if s[0]==4 or s[0]==6 or s[0]==8:\n",
    "        t_s = [-1/2*x for x in t_s]\n",
    "    else:\n",
    "        t_s = [1/2*x for x in t_s]\n",
    "    \n",
    "    t_s_ordered = [0 for x in t_s]\n",
    "    t_s_ordered[0] = t_s[0]\n",
    "    t_s_ordered[1] = t_s[4]\n",
    "    t_s_ordered[2] = t_s[2]\n",
    "    t_s_ordered[3] = t_s[6]\n",
    "    t_s_ordered[4] = t_s[1]\n",
    "    t_s_ordered[5] = t_s[5]\n",
    "    t_s_ordered[6] = t_s[3]\n",
    "    t_s_ordered[7] = t_s[7]\n",
    "    for i in range(len(reconstructed)):\n",
    "        reconstructed[i] += t_s_ordered[i]\n",
    "    \n",
    "print(reconstructed)\n",
    "print(original_circ_prob)\n",
    "wasserstein_distance(original_circ_prob,reconstructed)"
   ]
  },
  {
   "cell_type": "code",
   "execution_count": null,
   "metadata": {},
   "outputs": [],
   "source": []
  }
 ],
 "metadata": {
  "kernelspec": {
   "display_name": "Python 3",
   "language": "python",
   "name": "python3"
  },
  "language_info": {
   "codemirror_mode": {
    "name": "ipython",
    "version": 3
   },
   "file_extension": ".py",
   "mimetype": "text/x-python",
   "name": "python",
   "nbconvert_exporter": "python",
   "pygments_lexer": "ipython3",
   "version": "3.7.4"
  }
 },
 "nbformat": 4,
 "nbformat_minor": 4
}
