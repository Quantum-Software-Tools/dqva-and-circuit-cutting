{
 "cells": [
  {
   "cell_type": "code",
   "execution_count": 4,
   "metadata": {},
   "outputs": [],
   "source": [
    "import glob\n",
    "import networkx as nx\n",
    "import numpy as np\n",
    "import matplotlib.pyplot as plt\n",
    "\n",
    "from qiskit import *\n",
    "from qiskit.quantum_info import Statevector\n",
    "\n",
    "import dqva\n",
    "\n",
    "from utils.graph_funcs import *\n",
    "from utils.helper_funcs import *\n",
    "\n",
    "from ansatz import qaoa, qv_ansatz, dqv_ansatz, dqv_cut_ansatz"
   ]
  },
  {
   "cell_type": "code",
   "execution_count": 2,
   "metadata": {},
   "outputs": [
    {
     "name": "stdout",
     "output_type": "stream",
     "text": [
      "50\n"
     ]
    }
   ],
   "source": [
    "test_graphs = glob.glob('benchmark_graphs/N8_p20_graphs/*')\n",
    "test_graphs = sorted(test_graphs, key=lambda g: int(g.split('/')[-1].strip('G.txt')))\n",
    "print(len(test_graphs))"
   ]
  },
  {
   "cell_type": "code",
   "execution_count": 3,
   "metadata": {},
   "outputs": [
    {
     "name": "stdout",
     "output_type": "stream",
     "text": [
      "benchmark_graphs/N8_p20_graphs/G1.txt\n",
      "Optimal: ('01011001', 4)\n"
     ]
    },
    {
     "data": {
      "image/png": "[encoded data removed]",
      "text/plain": [
       "<Figure size 432x288 with 1 Axes>"
      ]
     },
     "metadata": {},
     "output_type": "display_data"
    }
   ],
   "source": [
    "graph = test_graphs[0]\n",
    "print(graph)\n",
    "G = graph_from_file(graph)\n",
    "print('Optimal:', brute_force_search(G))\n",
    "nx.draw_spring(G, with_labels=True, node_color='gold')"
   ]
  },
  {
   "cell_type": "code",
   "execution_count": 14,
   "metadata": {},
   "outputs": [
    {
     "name": "stdout",
     "output_type": "stream",
     "text": [
      "['benchmark_graphs/N8_p20_graphs/G2.txt', 'benchmark_graphs/N8_p20_graphs/G3.txt']\n"
     ]
    }
   ],
   "source": [
    "sample_graphs = test_graphs[1:3]\n",
    "print(sample_graphs)"
   ]
  },
  {
   "cell_type": "code",
   "execution_count": 15,
   "metadata": {
    "scrolled": true
   },
   "outputs": [
    {
     "name": "stdout",
     "output_type": "stream",
     "text": [
      "benchmark_graphs/N8_p20_graphs/G2.txt\n",
      "Start round 1.1, Initial state = 00000000\n",
      "\tNum params = 2\n",
      "\tCurrent Mixer Order: [2, 6, 4, 1, 0, 7, 5, 3]\n",
      "\tOptimal cost: -4.0\n",
      "\tFound new independent set: 01100110, Hamming weight = 4\n",
      "Start round 1.2, Initial state = 01100110\n",
      "\tNum params = 2\n",
      "\tCurrent Mixer Order: [2, 6, 4, 1, 0, 7, 5, 3]\n",
      "\tOptimal cost: -4.0\n",
      "\tNone of the measured bitstrings had higher Hamming weight than: 01100110\n",
      "\tRETURNING, best hamming weight: 4\n",
      "------------------------------\n",
      "Found approximation ratio = 0.8, with 24 multi-qubit gates\n",
      "------------------------------\n",
      "Start round 1.1, Initial state = 00000000\n",
      "\tNum params = 4\n",
      "\tCurrent Mixer Order: [4, 2, 3, 5, 0, 7, 1, 6]\n",
      "\tOptimal cost: -4.999267578125\n",
      "\tFound new independent set: 11001011, Hamming weight = 5\n",
      "Start round 1.2, Initial state = 11001011\n",
      "\tNum params = 4\n",
      "\tCurrent Mixer Order: [4, 2, 3, 5, 0, 7, 1, 6]\n",
      "\tOptimal cost: -5.0\n",
      "\tNone of the measured bitstrings had higher Hamming weight than: 11001011\n",
      "\tRETURNING, best hamming weight: 5\n",
      "------------------------------\n",
      "Found approximation ratio = 1.0, with 48 multi-qubit gates\n",
      "------------------------------\n",
      "Start round 1.1, Initial state = 00000000\n",
      "\tNum params = 6\n",
      "\tCurrent Mixer Order: [4, 6, 1, 2, 5, 3, 7, 0]\n",
      "\tOptimal cost: -3.98193359375\n",
      "\tFound new independent set: 11001011, Hamming weight = 5\n",
      "Start round 1.2, Initial state = 11001011\n",
      "\tNum params = 6\n",
      "\tCurrent Mixer Order: [4, 6, 1, 2, 5, 3, 7, 0]\n",
      "\tOptimal cost: -5.0\n",
      "\tNone of the measured bitstrings had higher Hamming weight than: 11001011\n",
      "\tRETURNING, best hamming weight: 5\n",
      "------------------------------\n",
      "Found approximation ratio = 1.0, with 72 multi-qubit gates\n",
      "------------------------------\n",
      "benchmark_graphs/N8_p20_graphs/G3.txt\n",
      "Start round 1.1, Initial state = 00000000\n",
      "\tNum params = 2\n",
      "\tCurrent Mixer Order: [4, 7, 2, 6, 5, 0, 3, 1]\n",
      "\tOptimal cost: -4.0\n",
      "\tFound new independent set: 11010001, Hamming weight = 4\n",
      "Start round 1.2, Initial state = 11010001\n",
      "\tNum params = 2\n",
      "\tCurrent Mixer Order: [4, 7, 2, 6, 5, 0, 3, 1]\n",
      "\tOptimal cost: -4.0\n",
      "\tNone of the measured bitstrings had higher Hamming weight than: 11010001\n",
      "\tRETURNING, best hamming weight: 4\n",
      "------------------------------\n",
      "Found approximation ratio = 1.0, with 24 multi-qubit gates\n",
      "------------------------------\n",
      "Start round 1.1, Initial state = 00000000\n",
      "\tNum params = 4\n",
      "\tCurrent Mixer Order: [0, 3, 2, 6, 7, 5, 1, 4]\n",
      "\tOptimal cost: -3.067626953125\n",
      "\tFound new independent set: 11100001, Hamming weight = 4\n",
      "Start round 1.2, Initial state = 11100001\n",
      "\tNum params = 4\n",
      "\tCurrent Mixer Order: [0, 3, 2, 6, 7, 5, 1, 4]\n",
      "\tOptimal cost: -4.0\n",
      "\tNone of the measured bitstrings had higher Hamming weight than: 11100001\n",
      "\tRETURNING, best hamming weight: 4\n",
      "------------------------------\n",
      "Found approximation ratio = 1.0, with 48 multi-qubit gates\n",
      "------------------------------\n",
      "Start round 1.1, Initial state = 00000000\n",
      "\tNum params = 6\n",
      "\tCurrent Mixer Order: [4, 3, 0, 2, 6, 7, 5, 1]\n",
      "\tOptimal cost: -3.0069580078125\n",
      "\tFound new independent set: 11010001, Hamming weight = 4\n",
      "Start round 1.2, Initial state = 11010001\n",
      "\tNum params = 6\n",
      "\tCurrent Mixer Order: [4, 3, 0, 2, 6, 7, 5, 1]\n",
      "\tOptimal cost: -4.0\n",
      "\tNone of the measured bitstrings had higher Hamming weight than: 11010001\n",
      "\tRETURNING, best hamming weight: 4\n",
      "------------------------------\n",
      "Found approximation ratio = 1.0, with 72 multi-qubit gates\n",
      "------------------------------\n"
     ]
    }
   ],
   "source": [
    "qaoa_data = {}\n",
    "\n",
    "for graph_name in sample_graphs:\n",
    "    print(graph_name)\n",
    "    G = graph_from_file(graph_name)\n",
    "    nq = len(G.nodes())\n",
    "    opt_mis = brute_force_search(G)[1]\n",
    "    init_state = '0'*nq\n",
    "    \n",
    "    graph_key = graph_name.split('/')[-1].strip('.txt')\n",
    "    graph_data = []\n",
    "    \n",
    "    for P in [1,2,3]:\n",
    "        output = dqva.solve_mis_qaoa(init_state, G, P=P, sim='qasm')\n",
    "        ap_ratio = hamming_weight(output[0]) / opt_mis\n",
    "        gate_count = 3 * nq * P\n",
    "        print('-'*30)\n",
    "        print('Found approximation ratio = {}, with {} multi-qubit gates'.format(ap_ratio, gate_count))\n",
    "        print('-'*30)\n",
    "        graph_data.append((gate_count, ap_ratio))\n",
    "    \n",
    "    qaoa_data[graph_key] = graph_data"
   ]
  },
  {
   "cell_type": "code",
   "execution_count": 16,
   "metadata": {},
   "outputs": [
    {
     "name": "stdout",
     "output_type": "stream",
     "text": [
      "{'G2': [(24, 0.8), (48, 1.0), (72, 1.0)], 'G3': [(24, 1.0), (48, 1.0), (72, 1.0)]}\n"
     ]
    }
   ],
   "source": [
    "print(qaoa_data)"
   ]
  },
  {
   "cell_type": "code",
   "execution_count": null,
   "metadata": {},
   "outputs": [],
   "source": [
    "qaoa_data"
   ]
  }
 ],
 "metadata": {
  "kernelspec": {
   "display_name": "Python 3",
   "language": "python",
   "name": "python3"
  },
  "language_info": {
   "codemirror_mode": {
    "name": "ipython",
    "version": 3
   },
   "file_extension": ".py",
   "mimetype": "text/x-python",
   "name": "python",
   "nbconvert_exporter": "python",
   "pygments_lexer": "ipython3",
   "version": "3.7.7"
  }
 },
 "nbformat": 4,
 "nbformat_minor": 4
}
