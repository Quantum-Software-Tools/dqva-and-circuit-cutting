{
 "cells": [
  {
   "cell_type": "code",
   "execution_count": 3,
   "metadata": {},
   "outputs": [
    {
     "name": "stdout",
     "output_type": "stream",
     "text": [
      "CPM:\n",
      "(QuantumRegister(16, 'qreg'), 0) [(0, (QuantumRegister(12, 'qreg'), 0))]\n",
      "(QuantumRegister(16, 'qreg'), 1) [(0, (QuantumRegister(12, 'qreg'), 3))]\n",
      "(QuantumRegister(16, 'qreg'), 2) [(0, (QuantumRegister(12, 'qreg'), 9)), (1, (QuantumRegister(2, 'cutQ'), 0))]\n",
      "(QuantumRegister(16, 'qreg'), 3) [(1, (QuantumRegister(1, 'qreg'), 0))]\n",
      "(QuantumRegister(16, 'qreg'), 4) [(0, (QuantumRegister(12, 'qreg'), 1))]\n",
      "(QuantumRegister(16, 'qreg'), 5) [(0, (QuantumRegister(12, 'qreg'), 6))]\n",
      "(QuantumRegister(16, 'qreg'), 6) [(0, (QuantumRegister(12, 'qreg'), 4))]\n",
      "(QuantumRegister(16, 'qreg'), 7) [(0, (QuantumRegister(12, 'qreg'), 10)), (3, (QuantumRegister(2, 'cutQ'), 0)), (1, (QuantumRegister(2, 'cutQ'), 1))]\n",
      "(QuantumRegister(16, 'qreg'), 8) [(0, (QuantumRegister(12, 'qreg'), 8))]\n",
      "(QuantumRegister(16, 'qreg'), 9) [(0, (QuantumRegister(12, 'qreg'), 5))]\n",
      "(QuantumRegister(16, 'qreg'), 10) [(0, (QuantumRegister(12, 'qreg'), 2)), (2, (QuantumRegister(2, 'cutQ'), 1))]\n",
      "(QuantumRegister(16, 'qreg'), 11) [(2, (QuantumRegister(3, 'qreg'), 0)), (3, (QuantumRegister(2, 'cutQ'), 1))]\n",
      "(QuantumRegister(16, 'qreg'), 12) [(0, (QuantumRegister(12, 'qreg'), 11))]\n",
      "(QuantumRegister(16, 'qreg'), 13) [(0, (QuantumRegister(12, 'qreg'), 7)), (2, (QuantumRegister(2, 'cutQ'), 0))]\n",
      "(QuantumRegister(16, 'qreg'), 14) [(2, (QuantumRegister(3, 'qreg'), 2))]\n",
      "(QuantumRegister(16, 'qreg'), 15) [(2, (QuantumRegister(3, 'qreg'), 1))]\n",
      "****************************************************************************************************\n",
      "[(QuantumRegister(12, 'qreg'), 0), (QuantumRegister(12, 'qreg'), 1), (QuantumRegister(12, 'qreg'), 2), (QuantumRegister(12, 'qreg'), 3), (QuantumRegister(12, 'qreg'), 4), (QuantumRegister(12, 'qreg'), 5), (QuantumRegister(12, 'qreg'), 6), (QuantumRegister(12, 'qreg'), 7), (QuantumRegister(12, 'qreg'), 8), (QuantumRegister(12, 'qreg'), 9), (QuantumRegister(12, 'qreg'), 10), (QuantumRegister(12, 'qreg'), 11)]\n",
      "****************************************************************************************************\n",
      "fidelity between modified vs direct simulation = 0.9999999999999987\n"
     ]
    }
   ],
   "source": [
    "from qiskit.converters import circuit_to_dag, dag_to_circuit\n",
    "from qiskit.extensions.standard import HGate, SGate, SdgGate, XGate\n",
    "from qiskit.tools.visualization import dag_drawer\n",
    "from qiskit.quantum_info.states.measures import state_fidelity\n",
    "import pickle\n",
    "import numpy as np\n",
    "import uniter\n",
    "\n",
    "def measure_basis(l):\n",
    "    if len(l)==1:\n",
    "        return l[0]\n",
    "    else:\n",
    "        return np.kron(l[0], measure_basis(l[1:]))\n",
    "\n",
    "complete_path_map = pickle.load( open( './data/cpm.p', 'rb' ) )\n",
    "print('CPM:')\n",
    "[print(x, complete_path_map[x]) for x in complete_path_map]\n",
    "print('*'*100)\n",
    "cluster_0_measurement_init_meas = pickle.load( open( './data/cluster_0_measurement_init_meas.p', 'rb' ) )\n",
    "cluster_0_measurement_init = pickle.load( open( './data/cluster_0_measurement_init.p', 'rb' ) )\n",
    "cluster_0_circ = pickle.load( open( './data/cluster_0_circ.p', 'rb' ) )\n",
    "print(cluster_0_circ.qubits)\n",
    "\n",
    "print('*'*100)\n",
    "\n",
    "H = [[1,1],[1,-1]]/np.sqrt(2)\n",
    "sDagger = [[1,0],[0,-1j]]\n",
    "Id = [[1,0],[0,1]]\n",
    "\n",
    "initializations = (1,)*12\n",
    "measurement_basis = (1, 1, 2, 1, 1, 1, 1, 3, 1, 4, 6, 1)\n",
    "\n",
    "direct_sim = cluster_0_measurement_init_meas[(initializations, measurement_basis)]\n",
    "init_sim = cluster_0_measurement_init[initializations]\n",
    "\n",
    "change_basis_matrix = uniter.measure_basis(measurement_basis[::-1])\n",
    "modified = np.matmul(change_basis_matrix, init_sim)\n",
    "\n",
    "print('fidelity between modified vs direct simulation =',state_fidelity(modified, direct_sim))"
   ]
  },
  {
   "cell_type": "code",
   "execution_count": null,
   "metadata": {},
   "outputs": [],
   "source": []
  }
 ],
 "metadata": {
  "kernelspec": {
   "display_name": "venv",
   "language": "python",
   "name": "venv"
  },
  "language_info": {
   "codemirror_mode": {
    "name": "ipython",
    "version": 3
   },
   "file_extension": ".py",
   "mimetype": "text/x-python",
   "name": "python",
   "nbconvert_exporter": "python",
   "pygments_lexer": "ipython3",
   "version": "3.7.3"
  }
 },
 "nbformat": 4,
 "nbformat_minor": 4
}
