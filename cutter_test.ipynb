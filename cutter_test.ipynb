{
 "cells": [
  {
   "cell_type": "code",
   "execution_count": 2,
   "metadata": {},
   "outputs": [
    {
     "name": "stdout",
     "output_type": "stream",
     "text": [
      "original circuit:\n",
      "        ┌───┐               \n",
      "q_0: |0>┤ H ├──■─────────■──\n",
      "        ├───┤┌─┴─┐     ┌─┴─┐\n",
      "q_1: |0>┤ T ├┤ X ├──■──┤ X ├\n",
      "        └───┘└───┘┌─┴─┐├───┤\n",
      "q_2: |0>──────────┤ X ├┤ Y ├\n",
      "                  └───┘└───┘\n",
      "----------------------------------------------------------------------------------------------------\n",
      "Qubit(QuantumRegister(3, 'q'), 0) [(0, 0), (1, 0)]\n",
      "Qubit(QuantumRegister(3, 'q'), 1) [(0, 1), (1, 1)]\n",
      "Qubit(QuantumRegister(3, 'q'), 2) [(0, 2), (2, 0)]\n",
      "        ┌───┐          \n",
      "q_0: |0>┤ H ├──■───────\n",
      "        ├───┤┌─┴─┐     \n",
      "q_1: |0>┤ T ├┤ X ├──■──\n",
      "        └───┘└───┘┌─┴─┐\n",
      "q_2: |0>──────────┤ X ├\n",
      "                  └───┘\n",
      "             \n",
      "q_0: |0>──■──\n",
      "        ┌─┴─┐\n",
      "q_1: |0>┤ X ├\n",
      "        └───┘\n",
      "        ┌───┐\n",
      "q_0: |0>┤ Y ├\n",
      "        └───┘\n",
      "3 [3, 2, 1]\n"
     ]
    }
   ],
   "source": [
    "from qiskit import QuantumCircuit, QuantumRegister, ClassicalRegister\n",
    "from qiskit.converters import circuit_to_dag, dag_to_circuit\n",
    "from qiskit.tools.visualization import dag_drawer\n",
    "import cutter\n",
    "\n",
    "q = QuantumRegister(3,'q')\n",
    "original_circ = QuantumCircuit(q)\n",
    "original_circ.h(0)\n",
    "original_circ.t(1)\n",
    "original_circ.cx(0,1)\n",
    "original_circ.cx(1,2)\n",
    "original_circ.cx(0,1)\n",
    "original_circ.y(2)\n",
    "print('original circuit:')\n",
    "print(original_circ)\n",
    "print('-'*100)\n",
    "\n",
    "positions = [(q[0],1),(q[1],2),(q[2],0)]\n",
    "cluster_circs, complete_path_map, K, d = cutter.cut_circuit(original_circ, positions)\n",
    "\n",
    "[print(x,complete_path_map[x]) for x in complete_path_map]\n",
    "[print(x) for x in cluster_circs]\n",
    "print(K,d)"
   ]
  },
  {
   "cell_type": "code",
   "execution_count": null,
   "metadata": {},
   "outputs": [],
   "source": []
  }
 ],
 "metadata": {
  "kernelspec": {
   "display_name": "Python 3",
   "language": "python",
   "name": "python3"
  },
  "language_info": {
   "codemirror_mode": {
    "name": "ipython",
    "version": 3
   },
   "file_extension": ".py",
   "mimetype": "text/x-python",
   "name": "python",
   "nbconvert_exporter": "python",
   "pygments_lexer": "ipython3",
   "version": "3.7.4"
  }
 },
 "nbformat": 4,
 "nbformat_minor": 4
}
