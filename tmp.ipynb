{
 "cells": [
  {
   "cell_type": "code",
   "execution_count": 7,
   "metadata": {},
   "outputs": [
    {
     "name": "stdout",
     "output_type": "stream",
     "text": [
      "1.5803186408950502e-05\n"
     ]
    }
   ],
   "source": [
    "import pickle\n",
    "from qiskit import BasicAer, execute\n",
    "from qiskit.quantum_info.states.measures import state_fidelity\n",
    "\n",
    "def simulate_circ(circ, simulator='statevector_simulator'):\n",
    "    backend = BasicAer.get_backend(simulator)\n",
    "    job = execute(circ, backend=backend)\n",
    "    result = job.result()\n",
    "    outputstate = result.get_statevector(circ)\n",
    "    return outputstate\n",
    "\n",
    "dirname = './data'\n",
    "full_circ = pickle.load(open( '%s/full_circ.p'%dirname, 'rb' ))\n",
    "original_sv = simulate_circ(full_circ)\n",
    "reconstructed_sv = pickle.load(open( '%s/reconstructed.p'%dirname, 'rb' ))\n",
    "\n",
    "print(state_fidelity(original_sv,reconstructed_sv))"
   ]
  },
  {
   "cell_type": "code",
   "execution_count": null,
   "metadata": {},
   "outputs": [],
   "source": []
  }
 ],
 "metadata": {
  "kernelspec": {
   "display_name": "Python 3",
   "language": "python",
   "name": "python3"
  },
  "language_info": {
   "codemirror_mode": {
    "name": "ipython",
    "version": 3
   },
   "file_extension": ".py",
   "mimetype": "text/x-python",
   "name": "python",
   "nbconvert_exporter": "python",
   "pygments_lexer": "ipython3",
   "version": "3.7.4"
  }
 },
 "nbformat": 4,
 "nbformat_minor": 4
}
