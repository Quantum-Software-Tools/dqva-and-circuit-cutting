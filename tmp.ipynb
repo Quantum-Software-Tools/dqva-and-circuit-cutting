{
 "cells": [
  {
   "cell_type": "code",
   "execution_count": 5,
   "metadata": {},
   "outputs": [
    {
     "data": {
      "text/plain": [
       "0.999999999999994"
      ]
     },
     "execution_count": 5,
     "metadata": {},
     "output_type": "execute_result"
    }
   ],
   "source": [
    "import evaluator_prob as evaluator\n",
    "from qiskit.quantum_info.states.measures import state_fidelity\n",
    "from qcg.generators import gen_supremacy, gen_hwea\n",
    "\n",
    "circ = gen_supremacy(4,4,8,order='75601234')\n",
    "sv1 = evaluator.simulate_circ(circ, 'statevector_simulator', noisy=False, provider_info=None, output_format='sv', num_shots=1024)\n",
    "sv2 = evaluator.simulate_circ(circ, 'statevector_simulator', noisy=False, provider_info=None, output_format='sv', num_shots=1024)\n",
    "state_fidelity(sv1,sv2)"
   ]
  },
  {
   "cell_type": "code",
   "execution_count": null,
   "metadata": {},
   "outputs": [],
   "source": []
  }
 ],
 "metadata": {
  "kernelspec": {
   "display_name": "Python 3",
   "language": "python",
   "name": "python3"
  },
  "language_info": {
   "codemirror_mode": {
    "name": "ipython",
    "version": 3
   },
   "file_extension": ".py",
   "mimetype": "text/x-python",
   "name": "python",
   "nbconvert_exporter": "python",
   "pygments_lexer": "ipython3",
   "version": "3.7.4"
  }
 },
 "nbformat": 4,
 "nbformat_minor": 4
}
