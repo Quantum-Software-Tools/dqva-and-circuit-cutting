{
 "cells": [
  {
   "cell_type": "code",
   "execution_count": 1,
   "metadata": {},
   "outputs": [
    {
     "name": "stdout",
     "output_type": "stream",
     "text": [
      "fid =  0.9999999999999964\n"
     ]
    }
   ],
   "source": [
    "import pickle\n",
    "from qiskit import BasicAer, execute\n",
    "from qiskit.quantum_info.states.measures import state_fidelity\n",
    "\n",
    "def reverseBits(num,bitSize): \n",
    "    binary = bin(num) \n",
    "    reverse = binary[-1:1:-1] \n",
    "    reverse = reverse + (bitSize - len(reverse))*'0'\n",
    "    return int(reverse,2)\n",
    "\n",
    "def simulate_circ(circ, simulator='statevector_simulator'):\n",
    "    backend = BasicAer.get_backend(simulator)\n",
    "    job = execute(circ, backend=backend)\n",
    "    result = job.result()\n",
    "    outputstate = result.get_statevector(circ)\n",
    "    outputstate_ordered = [0 for sv in outputstate]\n",
    "    for i, sv in enumerate(outputstate):\n",
    "        reverse_i = reverseBits(i,len(circ.qubits))\n",
    "        outputstate_ordered[reverse_i] = sv\n",
    "    return outputstate_ordered\n",
    "\n",
    "dirname = './data'\n",
    "full_circ = pickle.load(open( '%s/full_circ.p'%dirname, 'rb' ))\n",
    "original_sv = simulate_circ(full_circ)\n",
    "reconstructed_sv = pickle.load(open( '%s/reconstructed.p'%dirname, 'rb' ))\n",
    "\n",
    "print('fid = ',state_fidelity(original_sv,reconstructed_sv))"
   ]
  },
  {
   "cell_type": "code",
   "execution_count": 11,
   "metadata": {},
   "outputs": [
    {
     "name": "stdout",
     "output_type": "stream",
     "text": [
      "        ┌───┐\n",
      "q_0: |0>┤ X ├\n",
      "        └───┘\n",
      "q_1: |0>─────\n",
      "        ┌───┐\n",
      "q_2: |0>┤ X ├\n",
      "        └───┘\n",
      "q_3: |0>─────\n",
      "             \n",
      "0000 : 0.0\n",
      "0001 : 0.0\n",
      "0010 : 0.0\n",
      "0011 : 0.0\n",
      "0100 : 0.0\n",
      "0101 : 0.0\n",
      "0110 : 0.0\n",
      "0111 : 0.0\n",
      "1000 : 0.0\n",
      "1001 : 0.0\n",
      "1010 : 1.0\n",
      "1011 : 0.0\n",
      "1100 : 0.0\n",
      "1101 : 0.0\n",
      "1110 : 0.0\n",
      "1111 : 0.0\n"
     ]
    }
   ],
   "source": [
    "from qiskit import QuantumCircuit, QuantumRegister, ClassicalRegister\n",
    "from qiskit import BasicAer, execute\n",
    "import numpy as np\n",
    "\n",
    "def simulate_circ(circ, simulator):\n",
    "    backend = BasicAer.get_backend('statevector_simulator')\n",
    "    job = execute(circ, backend=backend)\n",
    "    result = job.result()\n",
    "    outputstate = result.get_statevector(circ)\n",
    "    outputstate_ordered = [0 for sv in outputstate]\n",
    "    for i, sv in enumerate(outputstate):\n",
    "        reverse_i = reverseBits(i,len(circ.qubits))\n",
    "        outputstate_ordered[reverse_i] = sv\n",
    "    if simulator == 'sv':\n",
    "        return outputstate_ordered\n",
    "    else:\n",
    "        output_prob = [np.power(np.absolute(x),2) for x in outputstate_ordered]\n",
    "        return output_prob\n",
    "\n",
    "q = QuantumRegister(4,'q')\n",
    "circ = QuantumCircuit(q)\n",
    "circ.x(0)\n",
    "circ.x(2)\n",
    "\n",
    "print(circ)\n",
    "\n",
    "sv = simulate_circ(circ,'prob')\n",
    "for i,sv in enumerate(sv):\n",
    "    bin_i = bin(i)[2:].zfill(4)\n",
    "    print(bin_i,':',sv)"
   ]
  },
  {
   "cell_type": "code",
   "execution_count": 2,
   "metadata": {},
   "outputs": [
    {
     "ename": "TypeError",
     "evalue": "unsupported operand type(s) for *: 'dict' and 'dict'",
     "output_type": "error",
     "traceback": [
      "\u001b[0;31m---------------------------------------------------------------------------\u001b[0m",
      "\u001b[0;31mTypeError\u001b[0m                                 Traceback (most recent call last)",
      "\u001b[0;32m<ipython-input-2-b0269ab17c52>\u001b[0m in \u001b[0;36m<module>\u001b[0;34m\u001b[0m\n\u001b[1;32m      2\u001b[0m \u001b[0mdict_0\u001b[0m \u001b[0;34m=\u001b[0m \u001b[0;34m{\u001b[0m\u001b[0;34m'00'\u001b[0m\u001b[0;34m:\u001b[0m\u001b[0;36m0.2\u001b[0m\u001b[0;34m,\u001b[0m\u001b[0;34m'01'\u001b[0m\u001b[0;34m:\u001b[0m\u001b[0;36m0.3\u001b[0m\u001b[0;34m,\u001b[0m\u001b[0;34m'10'\u001b[0m\u001b[0;34m:\u001b[0m\u001b[0;36m0.4\u001b[0m\u001b[0;34m,\u001b[0m\u001b[0;34m'11'\u001b[0m\u001b[0;34m:\u001b[0m\u001b[0;36m0.5\u001b[0m\u001b[0;34m}\u001b[0m\u001b[0;34m\u001b[0m\u001b[0;34m\u001b[0m\u001b[0m\n\u001b[1;32m      3\u001b[0m \u001b[0mdict_1\u001b[0m \u001b[0;34m=\u001b[0m \u001b[0;34m{\u001b[0m\u001b[0;34m'00'\u001b[0m\u001b[0;34m:\u001b[0m\u001b[0;36m0.2\u001b[0m\u001b[0;34m,\u001b[0m\u001b[0;34m'01'\u001b[0m\u001b[0;34m:\u001b[0m\u001b[0;36m0.3\u001b[0m\u001b[0;34m,\u001b[0m\u001b[0;34m'10'\u001b[0m\u001b[0;34m:\u001b[0m\u001b[0;36m0.4\u001b[0m\u001b[0;34m,\u001b[0m\u001b[0;34m'11'\u001b[0m\u001b[0;34m:\u001b[0m\u001b[0;36m0.5\u001b[0m\u001b[0;34m}\u001b[0m\u001b[0;34m\u001b[0m\u001b[0;34m\u001b[0m\u001b[0m\n\u001b[0;32m----> 4\u001b[0;31m \u001b[0mnp\u001b[0m\u001b[0;34m.\u001b[0m\u001b[0mkron\u001b[0m\u001b[0;34m(\u001b[0m\u001b[0mdict_0\u001b[0m\u001b[0;34m,\u001b[0m\u001b[0mdict_1\u001b[0m\u001b[0;34m)\u001b[0m\u001b[0;34m\u001b[0m\u001b[0;34m\u001b[0m\u001b[0m\n\u001b[0m",
      "\u001b[0;32m<__array_function__ internals>\u001b[0m in \u001b[0;36mkron\u001b[0;34m(*args, **kwargs)\u001b[0m\n",
      "\u001b[0;32m~/Documents/circuit_cutting/venv/lib/python3.7/site-packages/numpy/lib/shape_base.py\u001b[0m in \u001b[0;36mkron\u001b[0;34m(a, b)\u001b[0m\n\u001b[1;32m   1122\u001b[0m     \u001b[0mndb\u001b[0m\u001b[0;34m,\u001b[0m \u001b[0mnda\u001b[0m \u001b[0;34m=\u001b[0m \u001b[0mb\u001b[0m\u001b[0;34m.\u001b[0m\u001b[0mndim\u001b[0m\u001b[0;34m,\u001b[0m \u001b[0ma\u001b[0m\u001b[0;34m.\u001b[0m\u001b[0mndim\u001b[0m\u001b[0;34m\u001b[0m\u001b[0;34m\u001b[0m\u001b[0m\n\u001b[1;32m   1123\u001b[0m     \u001b[0;32mif\u001b[0m \u001b[0;34m(\u001b[0m\u001b[0mnda\u001b[0m \u001b[0;34m==\u001b[0m \u001b[0;36m0\u001b[0m \u001b[0;32mor\u001b[0m \u001b[0mndb\u001b[0m \u001b[0;34m==\u001b[0m \u001b[0;36m0\u001b[0m\u001b[0;34m)\u001b[0m\u001b[0;34m:\u001b[0m\u001b[0;34m\u001b[0m\u001b[0;34m\u001b[0m\u001b[0m\n\u001b[0;32m-> 1124\u001b[0;31m         \u001b[0;32mreturn\u001b[0m \u001b[0m_nx\u001b[0m\u001b[0;34m.\u001b[0m\u001b[0mmultiply\u001b[0m\u001b[0;34m(\u001b[0m\u001b[0ma\u001b[0m\u001b[0;34m,\u001b[0m \u001b[0mb\u001b[0m\u001b[0;34m)\u001b[0m\u001b[0;34m\u001b[0m\u001b[0;34m\u001b[0m\u001b[0m\n\u001b[0m\u001b[1;32m   1125\u001b[0m     \u001b[0mas_\u001b[0m \u001b[0;34m=\u001b[0m \u001b[0ma\u001b[0m\u001b[0;34m.\u001b[0m\u001b[0mshape\u001b[0m\u001b[0;34m\u001b[0m\u001b[0;34m\u001b[0m\u001b[0m\n\u001b[1;32m   1126\u001b[0m     \u001b[0mbs\u001b[0m \u001b[0;34m=\u001b[0m \u001b[0mb\u001b[0m\u001b[0;34m.\u001b[0m\u001b[0mshape\u001b[0m\u001b[0;34m\u001b[0m\u001b[0;34m\u001b[0m\u001b[0m\n",
      "\u001b[0;31mTypeError\u001b[0m: unsupported operand type(s) for *: 'dict' and 'dict'"
     ]
    }
   ],
   "source": [
    "import numpy as np\n",
    "dict_0 = {'00':0.2,'01':0.3,'10':0.4,'11':0.5}\n",
    "dict_1 = {'00':0.2,'01':0.3,'10':0.4,'11':0.5}\n",
    "np.kron(dict_0,dict_1)"
   ]
  },
  {
   "cell_type": "code",
   "execution_count": null,
   "metadata": {},
   "outputs": [],
   "source": []
  }
 ],
 "metadata": {
  "kernelspec": {
   "display_name": "Python 3",
   "language": "python",
   "name": "python3"
  },
  "language_info": {
   "codemirror_mode": {
    "name": "ipython",
    "version": 3
   },
   "file_extension": ".py",
   "mimetype": "text/x-python",
   "name": "python",
   "nbconvert_exporter": "python",
   "pygments_lexer": "ipython3",
   "version": "3.7.4"
  }
 },
 "nbformat": 4,
 "nbformat_minor": 4
}
