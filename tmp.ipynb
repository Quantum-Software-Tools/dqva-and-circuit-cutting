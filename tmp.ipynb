{
 "cells": [
  {
   "cell_type": "code",
   "execution_count": 1,
   "metadata": {},
   "outputs": [
    {
     "name": "stdout",
     "output_type": "stream",
     "text": [
      "qasm = 2.734e-04, qasm+noise = 8.314e-03, qasm+noise+noise-adaptive = 4.975e-03\n"
     ]
    }
   ],
   "source": [
    "import evaluator_prob as evaluator\n",
    "from qiskit.circuit.classicalregister import ClassicalRegister\n",
    "from qiskit import QuantumCircuit\n",
    "from qiskit.transpiler.passes import NoiseAdaptiveLayout\n",
    "from qcg.generators import gen_supremacy, gen_hwea\n",
    "from qiskit import Aer, IBMQ, execute\n",
    "from qiskit.converters import circuit_to_dag, dag_to_circuit\n",
    "from scipy.stats import wasserstein_distance\n",
    "from qiskit.providers.aer import noise\n",
    "import numpy as np\n",
    "import matplotlib.pyplot as plt\n",
    "from qiskit.tools.visualization import plot_histogram\n",
    "\n",
    "circ = gen_supremacy(2,3,8,order='75601234')\n",
    "\n",
    "num_shots = int(1e5)\n",
    "provider = IBMQ.load_account()\n",
    "device = provider.get_backend('ibmq_16_melbourne')\n",
    "properties = device.properties()\n",
    "coupling_map = device.configuration().coupling_map\n",
    "noise_model = noise.device.basic_device_noise_model(properties)\n",
    "basis_gates = noise_model.basis_gates\n",
    "dag = circuit_to_dag(circ)\n",
    "noise_mapper = NoiseAdaptiveLayout(properties)\n",
    "noise_mapper.run(dag)\n",
    "initial_layout = noise_mapper.property_set['layout']\n",
    "\n",
    "ground_truth = evaluator.simulate_circ(circ=circ,backend='statevector_simulator',noisy=False,qasm_info=None)\n",
    "\n",
    "qasm_info = [None,None,None,num_shots,None]\n",
    "qasm_prob = evaluator.simulate_circ(circ=circ,backend='qasm_simulator',noisy=False,qasm_info=qasm_info)\n",
    "qasm_distance = wasserstein_distance(ground_truth,qasm_prob)\n",
    "\n",
    "qasm_info = [noise_model,coupling_map,basis_gates,num_shots,None]\n",
    "qasm_noise_prob = evaluator.simulate_circ(circ=circ,backend='qasm_simulator',noisy=True,qasm_info=qasm_info)\n",
    "qasm_noise_distance = wasserstein_distance(ground_truth,qasm_noise_prob)\n",
    "\n",
    "qasm_info = [noise_model,coupling_map,basis_gates,num_shots,initial_layout]\n",
    "qasm_noise_na_prob = evaluator.simulate_circ(circ=circ,backend='qasm_simulator',noisy=True,qasm_info=qasm_info)\n",
    "qasm_noise_na_distance = wasserstein_distance(ground_truth,qasm_noise_na_prob)\n",
    "\n",
    "print('qasm = %.3e, qasm+noise = %.3e, qasm+noise+noise-adaptive = %.3e'%(qasm_distance,qasm_noise_distance,qasm_noise_na_distance))"
   ]
  },
  {
   "cell_type": "code",
   "execution_count": null,
   "metadata": {},
   "outputs": [],
   "source": []
  }
 ],
 "metadata": {
  "kernelspec": {
   "display_name": "Python 3",
   "language": "python",
   "name": "python3"
  },
  "language_info": {
   "codemirror_mode": {
    "name": "ipython",
    "version": 3
   },
   "file_extension": ".py",
   "mimetype": "text/x-python",
   "name": "python",
   "nbconvert_exporter": "python",
   "pygments_lexer": "ipython3",
   "version": "3.7.4"
  }
 },
 "nbformat": 4,
 "nbformat_minor": 4
}
