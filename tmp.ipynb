{
 "cells": [
  {
   "cell_type": "code",
   "execution_count": 2,
   "metadata": {},
   "outputs": [
    {
     "name": "stdout",
     "output_type": "stream",
     "text": [
      "state vector reconstruction fidelity =  0.9999999999999971\n",
      "probability reconstruction distance =  4.1914217614249497e-19\n"
     ]
    }
   ],
   "source": [
    "import pickle\n",
    "import numpy as np\n",
    "from qiskit import BasicAer, execute\n",
    "from qiskit.quantum_info.states.measures import state_fidelity\n",
    "from scipy.stats import wasserstein_distance\n",
    "\n",
    "def reverseBits(num,bitSize): \n",
    "    binary = bin(num) \n",
    "    reverse = binary[-1:1:-1] \n",
    "    reverse = reverse + (bitSize - len(reverse))*'0'\n",
    "    return int(reverse,2)\n",
    "\n",
    "def simulate_circ(circ, simulator):\n",
    "    backend = BasicAer.get_backend('statevector_simulator')\n",
    "    job = execute(circ, backend=backend)\n",
    "    result = job.result()\n",
    "    outputstate = result.get_statevector(circ)\n",
    "    outputstate_ordered = [0 for sv in outputstate]\n",
    "    for i, sv in enumerate(outputstate):\n",
    "        reverse_i = reverseBits(i,len(circ.qubits))\n",
    "        outputstate_ordered[reverse_i] = sv\n",
    "    if simulator == 'sv':\n",
    "        return outputstate_ordered\n",
    "    elif simulator == 'prob':\n",
    "        output_prob = [np.power(np.absolute(x),2) for x in outputstate_ordered]\n",
    "        return output_prob\n",
    "    else:\n",
    "        raise Exception('Illegal simulator')\n",
    "\n",
    "dirname = './data'\n",
    "full_circ = pickle.load(open( '%s/full_circ.p'%dirname, 'rb' ))\n",
    "\n",
    "original_sv = simulate_circ(full_circ,'sv')\n",
    "reconstructed_sv = pickle.load(open( '%s/reconstructed_sv.p'%dirname, 'rb' ))\n",
    "fidelity = state_fidelity(original_sv,reconstructed_sv)\n",
    "print('state vector reconstruction fidelity = ',fidelity)\n",
    "\n",
    "original_prob = simulate_circ(full_circ,'prob')\n",
    "reconstructed_prob = pickle.load(open( '%s/reconstructed_prob.p'%dirname, 'rb' ))\n",
    "distance = wasserstein_distance(original_prob,reconstructed_prob)\n",
    "print('probability reconstruction distance = ',distance)\n",
    "# print('first element comparison:',original_prob[0],reconstructed_prob[0])"
   ]
  },
  {
   "cell_type": "code",
   "execution_count": null,
   "metadata": {},
   "outputs": [],
   "source": []
  }
 ],
 "metadata": {
  "kernelspec": {
   "display_name": "Python 3",
   "language": "python",
   "name": "python3"
  },
  "language_info": {
   "codemirror_mode": {
    "name": "ipython",
    "version": 3
   },
   "file_extension": ".py",
   "mimetype": "text/x-python",
   "name": "python",
   "nbconvert_exporter": "python",
   "pygments_lexer": "ipython3",
   "version": "3.7.4"
  }
 },
 "nbformat": 4,
 "nbformat_minor": 4
}
