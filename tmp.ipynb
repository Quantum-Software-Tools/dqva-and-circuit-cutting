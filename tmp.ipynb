{
 "cells": [
  {
   "cell_type": "code",
   "execution_count": 44,
   "metadata": {},
   "outputs": [
    {
     "name": "stdout",
     "output_type": "stream",
     "text": [
      "Simulating 1*1 circuit\n",
      "Simulating 1*2 circuit\n",
      "Simulating 1*3 circuit\n",
      "Simulating 1*4 circuit\n",
      "Simulating 1*5 circuit\n",
      "Simulating 1*6 circuit\n",
      "Simulating 1*7 circuit\n",
      "Simulating 1*8 circuit\n",
      "Simulating 2*5 circuit\n",
      "Simulating 2*6 circuit\n",
      "Simulating 2*7 circuit\n",
      "Simulating 2*8 circuit\n",
      "Simulating 3*3 circuit\n",
      "Simulating 3*5 circuit\n",
      "Simulating 3*6 circuit\n",
      "Simulating 3*7 circuit\n",
      "Simulating 3*8 circuit\n",
      "Simulating 4*5 circuit\n"
     ]
    },
    {
     "data": {
      "image/png": "[encoded data removed]",
      "text/plain": [
       "<Figure size 432x288 with 1 Axes>"
      ]
     },
     "metadata": {
      "needs_background": "light"
     },
     "output_type": "display_data"
    }
   ],
   "source": [
    "from qcg.generators import gen_supremacy\n",
    "from qiskit import *\n",
    "from time import time\n",
    "import matplotlib.pyplot as plt\n",
    "import numpy as np\n",
    "\n",
    "def reverseBits(num,bitSize):\n",
    "    binary = bin(num)\n",
    "    reverse = binary[-1:1:-1] \n",
    "    reverse = reverse + (bitSize - len(reverse))*'0'\n",
    "    return int(reverse,2)\n",
    "\n",
    "def simulate_circ(circ,num_shots=1024):\n",
    "    c = ClassicalRegister(len(circ.qubits), 'c')\n",
    "    meas = QuantumCircuit(circ.qregs[0], c)\n",
    "    meas.barrier(circ.qubits)\n",
    "    meas.measure(circ.qubits,c)\n",
    "    qc = circ+meas\n",
    "    \n",
    "    backend_sim = BasicAer.get_backend('qasm_simulator')\n",
    "    job_sim = execute(qc, backend_sim, shots=num_shots)\n",
    "    result_sim = job_sim.result()\n",
    "    counts = result_sim.get_counts(qc)\n",
    "    prob_ordered = [0 for x in range(np.power(2,len(circ.qubits)))]\n",
    "#     print('Total %d states'%len(prob_ordered))\n",
    "    for state in counts:\n",
    "#         print('state is:',type(state),state,int(state,2))\n",
    "        reversed_state = reverseBits(int(state,2),len(circ.qubits))\n",
    "#         print('{} reversed_state = {}'.format(state,reversed_state))\n",
    "        prob_ordered[reversed_state] = counts[state]/num_shots\n",
    "    return prob_ordered\n",
    "\n",
    "times = []\n",
    "num_qubits = []\n",
    "dimension_limit = 10\n",
    "for i in range(1,dimension_limit):\n",
    "    for j in range(i,dimension_limit):\n",
    "        if i*j<=24 and i*j not in num_qubits:\n",
    "            print('Simulating %d*%d circuit'%(i,j))\n",
    "            num_qubits.append(i*j)\n",
    "            circ = gen_supremacy(i,j,8,order='75601234')\n",
    "            begin = time()\n",
    "            circ_prob = simulate_circ(circ)\n",
    "            end = time()\n",
    "            times.append(end-begin)\n",
    "\n",
    "num_qubits, times = zip(*sorted(zip(num_qubits, times)))\n",
    "plt.figure()\n",
    "plt.plot(num_qubits,times)\n",
    "plt.xlabel('#qubits')\n",
    "plt.ylabel('Runtime [s]')\n",
    "plt.show()"
   ]
  },
  {
   "cell_type": "code",
   "execution_count": null,
   "metadata": {},
   "outputs": [],
   "source": []
  }
 ],
 "metadata": {
  "kernelspec": {
   "display_name": "Python 3",
   "language": "python",
   "name": "python3"
  },
  "language_info": {
   "codemirror_mode": {
    "name": "ipython",
    "version": 3
   },
   "file_extension": ".py",
   "mimetype": "text/x-python",
   "name": "python",
   "nbconvert_exporter": "python",
   "pygments_lexer": "ipython3",
   "version": "3.7.4"
  }
 },
 "nbformat": 4,
 "nbformat_minor": 4
}
