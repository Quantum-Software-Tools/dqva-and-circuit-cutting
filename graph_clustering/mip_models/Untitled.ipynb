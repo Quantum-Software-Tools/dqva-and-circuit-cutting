{
 "cells": [
  {
   "cell_type": "code",
   "execution_count": 1,
   "metadata": {},
   "outputs": [
    {
     "name": "stdout",
     "output_type": "stream",
     "text": [
      "Academic license - for non-commercial use only\n",
      "Parameter updatemode unchanged\n",
      "   Value: 1  Min: 0  Max: 1  Default: 1\n"
     ]
    }
   ],
   "source": [
    "from runner import read_graph\n",
    "from basic_model import Basic_Model\n",
    "\n",
    "graph_file = '../data/graph.csv'\n",
    "cons_file = '../data/graph_cannot_links.csv'\n",
    "\n",
    "n_vertices, edges, constraints, node_ids = read_graph(graph_file, cons_file)\n",
    "kwargs = dict(n_vertices=n_vertices, \n",
    "                  edges=edges,\n",
    "                  constraints=constraints,\n",
    "                  k=3, gamma=5,\n",
    "                  verbosity=0,\n",
    "                  symmetry_breaking=True,\n",
    "                  overlap=False,\n",
    "                  timeout=None)\n",
    "m = Basic_Model(**kwargs)"
   ]
  },
  {
   "cell_type": "code",
   "execution_count": 2,
   "metadata": {},
   "outputs": [
    {
     "name": "stdout",
     "output_type": "stream",
     "text": [
      "27 vertices\n",
      "B\n"
     ]
    }
   ],
   "source": [
    "print(n_vertices,'vertices')\n",
    "print(m.mvars[0][0].VType)"
   ]
  },
  {
   "cell_type": "code",
   "execution_count": null,
   "metadata": {},
   "outputs": [],
   "source": []
  }
 ],
 "metadata": {
  "kernelspec": {
   "display_name": "venv",
   "language": "python",
   "name": "venv"
  },
  "language_info": {
   "codemirror_mode": {
    "name": "ipython",
    "version": 3
   },
   "file_extension": ".py",
   "mimetype": "text/x-python",
   "name": "python",
   "nbconvert_exporter": "python",
   "pygments_lexer": "ipython3",
   "version": "3.7.3"
  }
 },
 "nbformat": 4,
 "nbformat_minor": 2
}
