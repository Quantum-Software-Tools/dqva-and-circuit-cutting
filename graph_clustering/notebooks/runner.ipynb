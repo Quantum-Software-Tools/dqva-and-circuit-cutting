{
 "cells": [
  {
   "cell_type": "code",
   "execution_count": 1,
   "metadata": {
    "collapsed": false
   },
   "outputs": [],
   "source": [
    "from clustering_model import Clustering_Model"
   ]
  },
  {
   "cell_type": "code",
   "execution_count": 2,
   "metadata": {
    "collapsed": false,
    "scrolled": true
   },
   "outputs": [],
   "source": [
    "def read_graph(graph_fname, cons_fname=None):\n",
    "    node_names = dict()\n",
    "    node_ids = dict()\n",
    "    edges = set()\n",
    "    \n",
    "    def get_id(name):\n",
    "        if not name in node_names:\n",
    "            node_id = len(node_names)\n",
    "            node_names[name] = node_id\n",
    "            node_ids[node_id] = name \n",
    "\n",
    "        return node_names[name]  \n",
    "\n",
    "    def add_edge(v1, v2):\n",
    "        first = min(v1, v2)\n",
    "        second = max(v1, v2)\n",
    "        edges.add((first, second))\n",
    "\n",
    "\n",
    "    with open(graph_fname) as f:\n",
    "        f.readline()\n",
    "        for line in f:\n",
    "            line = line.strip()\n",
    "            if not line: continue\n",
    "            [n1, n2] = line.strip().split(',')\n",
    "            [v1, v2] = [get_id(i) for i in (n1, n2)]\n",
    "            add_edge(v1, v2)\n",
    "\n",
    "    n_vertices = max(node_ids.keys()) + 1\n",
    "    \n",
    "    \n",
    "    constraints = []\n",
    "    if cons_fname is not None:\n",
    "        with open(cons_fname) as f:\n",
    "            f.readline()\n",
    "            for line in f:\n",
    "                line = line.strip()\n",
    "                if not line: continue\n",
    "                [n1, n2, w] = line.split(',')\n",
    "                [v1, v2] = [get_id(i) for i in (n1, n2)]\n",
    "                w = float(w)\n",
    "                constraints.append((v1, v2, w))\n",
    "    \n",
    "    return n_vertices, list(edges), constraints, node_ids"
   ]
  },
  {
   "cell_type": "code",
   "execution_count": 3,
   "metadata": {
    "collapsed": false
   },
   "outputs": [],
   "source": [
    "n_vertices, edges, constraints, node_ids = read_graph('./data/graph.csv', 'data/graph_cannot_links.csv')\n",
    "k = 3    "
   ]
  },
  {
   "cell_type": "code",
   "execution_count": 4,
   "metadata": {
    "collapsed": false,
    "scrolled": true
   },
   "outputs": [
    {
     "name": "stdout",
     "output_type": "stream",
     "text": [
      "True\n",
      "-83.82825581166098\n"
     ]
    }
   ],
   "source": [
    "cm = Clustering_Model(n_vertices, edges, \n",
    "                      constraints=constraints, \n",
    "                      k=k, gamma=5, verbosity=0)\n",
    "cm.solve()\n",
    "print(cm.optimal)\n",
    "print(cm.objective)"
   ]
  }
 ],
 "metadata": {
  "kernelspec": {
   "display_name": "Python 3",
   "language": "python",
   "name": "python3"
  },
  "language_info": {
   "codemirror_mode": {
    "name": "ipython",
    "version": 3
   },
   "file_extension": ".py",
   "mimetype": "text/x-python",
   "name": "python",
   "nbconvert_exporter": "python",
   "pygments_lexer": "ipython3",
   "version": "3.5.2"
  }
 },
 "nbformat": 4,
 "nbformat_minor": 0
}
