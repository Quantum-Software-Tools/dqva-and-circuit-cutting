{
 "cells": [
  {
   "cell_type": "markdown",
   "metadata": {},
   "source": [
    "The skeleton for the cut callback functions"
   ]
  },
  {
   "cell_type": "code",
   "execution_count": null,
   "metadata": {
    "collapsed": true
   },
   "outputs": [],
   "source": [
    "from gurobipy import GRB, quicksum"
   ]
  },
  {
   "cell_type": "code",
   "execution_count": null,
   "metadata": {
    "collapsed": false
   },
   "outputs": [],
   "source": [
    "def mincut_callback(model, where):\n",
    "\n",
    "    if model._impcounter < 10 and where == GRB.Callback.MIPNODE:\n",
    "        if model.cbGet(GRB.Callback.MIPNODE_NODCNT) != 0: return\n",
    "        \n",
    "        relaxation_objval = model.cbGet(GRB.Callback.MIPNODE_OBJBND)\n",
    "        if model._relobj is not None:\n",
    "            imp = (model._relobj - relaxation_objval) / model._relobj\n",
    "            if imp < 0.005: \n",
    "                model._impcounter += 1\n",
    "            else:\n",
    "                model._impcounter = 0\n",
    "        model._relobj = relaxation_objval\n",
    "\n",
    "        for i in range(model._k):\n",
    "            capacities = model.cbGetNodeRel(model._vars[i])\n",
    "            cutsets = model._cutfinder.get_cutsets(capacities)\n",
    "            for (u, v, cutset) in cutsets:\n",
    "                cutset_expr = quicksum(model._vars[i][j] for j in cutset)\n",
    "                model.cbCut(cutset_expr >= model._vars[i][u] + model._vars[i][v] - 1)\n",
    "        \n",
    "    elif where == GRB.Callback.MIPSOL:\n",
    "        for i in range(model._k):\n",
    "            capacities = model.cbGetSolution(model._vars[i])\n",
    "            cutsets = model._cutfinder.get_cutsets(capacities)\n",
    "            for (u, v, cutset) in cutsets:\n",
    "                cutset_expr = quicksum(model._vars[i][j] for j in cutset)\n",
    "                model.cbLazy(cutset_expr >= model._vars[i][u] + model._vars[i][v] - 1)\n"
   ]
  }
 ],
 "metadata": {
  "kernelspec": {
   "display_name": "Python 3",
   "language": "python",
   "name": "python3"
  },
  "language_info": {
   "codemirror_mode": {
    "name": "ipython",
    "version": 3
   },
   "file_extension": ".py",
   "mimetype": "text/x-python",
   "name": "python",
   "nbconvert_exporter": "python",
   "pygments_lexer": "ipython3",
   "version": "3.4.3"
  }
 },
 "nbformat": 4,
 "nbformat_minor": 0
}
