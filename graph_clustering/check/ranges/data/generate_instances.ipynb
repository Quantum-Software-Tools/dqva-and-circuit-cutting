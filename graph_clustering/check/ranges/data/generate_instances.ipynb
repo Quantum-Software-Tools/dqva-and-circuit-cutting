{
 "cells": [
  {
   "cell_type": "code",
   "execution_count": null,
   "metadata": {
    "collapsed": false
   },
   "outputs": [],
   "source": [
    "import networkx as nx\n",
    "import random\n",
    "import json"
   ]
  },
  {
   "cell_type": "markdown",
   "metadata": {},
   "source": [
    "- graphs are lists of edges (first index is smaller)\n",
    "- constraints are triplets (u, v, w)\n",
    "- number of constraints is 3.5 * number of vertices"
   ]
  },
  {
   "cell_type": "code",
   "execution_count": null,
   "metadata": {
    "collapsed": true
   },
   "outputs": [],
   "source": [
    "def get_constraints(n):\n",
    "    counter = 0\n",
    "    p_set = set()\n",
    "    constraints = []\n",
    "    num_constraints = min(3.5 *n , n*(n-1)/2)\n",
    "    while counter < num_constraints:\n",
    "        a = random.randint(0, n-1)\n",
    "        b = random.randint(0, n-1)\n",
    "        first = min(a, b)\n",
    "        second = max(a, b)\n",
    "        if first != second and not (first, second) in p_set:\n",
    "            counter += 1\n",
    "            p_set.add((first, second))\n",
    "            w = random.random()\n",
    "            constraints.append((first, second, w)) \n",
    "    return constraints"
   ]
  },
  {
   "cell_type": "code",
   "execution_count": null,
   "metadata": {
    "collapsed": false
   },
   "outputs": [],
   "source": [
    "def make_cycle(n):\n",
    "    G = nx.cycle_graph(n)\n",
    "    edges = G.edges()\n",
    "    constraints = get_constraints(n)\n",
    "    info = dict(n_vertices=n, edges=edges, constraints=constraints)\n",
    "    with open('cycle_%d.json'%n, 'w') as f:\n",
    "        json.dump(info, f)\n",
    "        \n",
    "def make_complete(n):\n",
    "    G = nx.complete_graph(n)\n",
    "    edges = G.edges()\n",
    "    constraints = get_constraints(n)\n",
    "    info = dict(n_vertices=n, edges=edges, constraints=constraints)\n",
    "    with open('complete_%d.json'%n, 'w') as f:\n",
    "        json.dump(info, f)"
   ]
  },
  {
   "cell_type": "code",
   "execution_count": null,
   "metadata": {
    "collapsed": true
   },
   "outputs": [],
   "source": [
    "for i in [5, 10, 20, 30, 50, 100]:\n",
    "    make_cycle(i)\n",
    "    make_complete(i)"
   ]
  }
 ],
 "metadata": {
  "kernelspec": {
   "display_name": "Python 3",
   "language": "python",
   "name": "python3"
  },
  "language_info": {
   "codemirror_mode": {
    "name": "ipython",
    "version": 3
   },
   "file_extension": ".py",
   "mimetype": "text/x-python",
   "name": "python",
   "nbconvert_exporter": "python",
   "pygments_lexer": "ipython3",
   "version": "3.5.2"
  }
 },
 "nbformat": 4,
 "nbformat_minor": 1
}
