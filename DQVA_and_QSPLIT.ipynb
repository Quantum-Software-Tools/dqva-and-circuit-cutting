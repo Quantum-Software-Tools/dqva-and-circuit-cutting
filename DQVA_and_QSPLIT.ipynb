{
 "cells": [
  {
   "cell_type": "code",
   "execution_count": 1,
   "metadata": {},
   "outputs": [],
   "source": [
    "import numpy as np\n",
    "import networkx as nx\n",
    "import glob\n",
    "import matplotlib.pyplot as plt\n",
    "\n",
    "from networkx.algorithms.community.kernighan_lin import kernighan_lin_bisection\n",
    "import itertools\n",
    "from scipy.optimize import minimize\n",
    "\n",
    "from cutqc.main import CutQC\n",
    "from qiskit import *\n",
    "from qiskit.circuit import Qubit\n",
    "from qiskit.circuit.library.standard_gates import XGate\n",
    "from qiskit.circuit import ControlledGate\n",
    "from qiskit.quantum_info import Operator, Statevector\n",
    "from qiskit.visualization import plot_histogram\n",
    "from qiskit.transpiler.passes import Unroller\n",
    "from qiskit.transpiler import PassManager\n",
    "\n",
    "import qsplit_circuit_cutter as qcc\n",
    "import qsplit_mlrecon_methods as qmm\n",
    "\n",
    "import dqva\n",
    "\n",
    "from utils.graph_funcs import *\n",
    "from utils.helper_funcs import *"
   ]
  },
  {
   "cell_type": "markdown",
   "metadata": {},
   "source": [
    "# Generate cut-DQVA with updated QSPLIT"
   ]
  },
  {
   "cell_type": "code",
   "execution_count": 2,
   "metadata": {},
   "outputs": [],
   "source": [
    "def fidelity(dist, actual_dist):\n",
    "    nq = len(list(actual_dist.keys())[0])\n",
    "    all_bits = [ \"\".join(bits) for bits in itertools.product([\"0\", \"1\"], repeat = nq) ]\n",
    "    fidelity = sum( np.sqrt(actual_dist[bits] * dist[bits], dtype = complex)\n",
    "                    for bits in all_bits\n",
    "                    if actual_dist.get(bits) and dist.get(bits) )**2\n",
    "    return fidelity.real if fidelity.imag == 0 else fidelity"
   ]
  },
  {
   "cell_type": "markdown",
   "metadata": {},
   "source": [
    "## Functions for circuit generation\n",
    "Once these functions are totally debugged and working, they should be added to `ansatz/dqv_cut_ansatz.py`"
   ]
  },
  {
   "cell_type": "code",
   "execution_count": 24,
   "metadata": {},
   "outputs": [],
   "source": [
    "def apply_mixer(circ, alpha, init_state, G, cut_nodes, cutedges, subgraph_dict,\n",
    "                barriers, decompose_toffoli, mixer_order, hot_nodes,\n",
    "                verbose=0):\n",
    "    # Pad the given alpha parameters to account for the zeroed angles\n",
    "    pad_alpha = [None]*len(init_state)\n",
    "    next_alpha = 0\n",
    "    for qubit in mixer_order:\n",
    "        bit = list(reversed(init_state))[qubit]\n",
    "        if bit == '1' or next_alpha >= len(alpha) \\\n",
    "           or (qubit in cut_nodes and qubit not in hot_nodes):\n",
    "            continue\n",
    "        else:\n",
    "            pad_alpha[qubit] = alpha[next_alpha]\n",
    "            next_alpha += 1\n",
    "    if verbose > 0:\n",
    "        print('Mixer order:', mixer_order)\n",
    "        print('init_state: {}, alpha: {}, pad_alpha: {}'.format(init_state,\n",
    "                                                                alpha, pad_alpha))\n",
    "        print('Subgraph dict:', subgraph_dict)\n",
    "\n",
    "    # apply partial mixers V_i(alpha_i)\n",
    "    if mixer_order is None:\n",
    "        mixer_order = list(G.nodes)\n",
    "    for qubit in mixer_order:\n",
    "        if pad_alpha[qubit] == None or not G.has_node(qubit):\n",
    "            # Turn off mixers for qubits which are already 1\n",
    "            continue\n",
    "\n",
    "        neighbors = list(G.neighbors(qubit))\n",
    "        anc_idx = subgraph_dict[qubit]\n",
    "\n",
    "        if verbose > 0:\n",
    "            print('qubit:', qubit, 'num_qubits =', len(circ.qubits), 'neighbors:', neighbors)\n",
    "\n",
    "        # construct a multi-controlled Toffoli gate, with open-controls on q's neighbors\n",
    "        # Qiskit has bugs when attempting to simulate custom controlled gates.\n",
    "        # Instead, wrap a regular toffoli with X-gates\n",
    "        ctrl_qubits = [circ.qubits[i] for i in neighbors] \n",
    "        if decompose_toffoli > 0:\n",
    "            # apply the multi-controlled Toffoli, targetting the ancilla qubit\n",
    "            for ctrl in ctrl_qubits:\n",
    "                circ.x(ctrl)\n",
    "            circ.mcx(ctrl_qubits, circ.ancillas[anc_idx])\n",
    "            for ctrl in ctrl_qubits:\n",
    "                circ.x(ctrl)\n",
    "        else:\n",
    "            mc_toffoli = ControlledGate('mc_toffoli', len(neighbors)+1, [], num_ctrl_qubits=len(neighbors),\n",
    "                                        ctrl_state='0'*len(neighbors), base_gate=XGate())\n",
    "            circ.append(mc_toffoli, ctrl_qubits + [circ.ancillas[anc_idx]])\n",
    "\n",
    "        # apply an X rotation controlled by the state of the ancilla qubit\n",
    "        circ.crx(2*pad_alpha[qubit], circ.ancillas[anc_idx], circ.qubits[qubit])\n",
    "\n",
    "        # apply the same multi-controlled Toffoli to uncompute the ancilla\n",
    "        if decompose_toffoli > 0:\n",
    "            for ctrl in ctrl_qubits:\n",
    "                circ.x(ctrl)\n",
    "            circ.mcx(ctrl_qubits, circ.ancillas[anc_idx])\n",
    "            for ctrl in ctrl_qubits:\n",
    "                circ.x(ctrl)\n",
    "        else:\n",
    "            circ.append(mc_toffoli, ctrl_qubits + [circ.ancillas[anc_idx]])\n",
    "\n",
    "        if barriers > 1:\n",
    "            circ.barrier()\n",
    "\n",
    "def apply_phase_separator(circ, gamma, G):\n",
    "    for qb in G.nodes:\n",
    "        circ.rz(2*gamma, qb)"
   ]
  },
  {
   "cell_type": "code",
   "execution_count": 25,
   "metadata": {},
   "outputs": [],
   "source": [
    "def gen_cut_dqva(G, partition, uncut_nodes, P=1, params=[], init_state=None,\n",
    "                 barriers=1, decompose_toffoli=1, mixer_order=None,\n",
    "                 hot_nodes=[], verbose=0):\n",
    "\n",
    "    nq = len(G.nodes)\n",
    "    subgraphs, cutedges = get_subgraphs(G, partition)\n",
    "\n",
    "    if verbose > 0:\n",
    "        print('Current partition:', partition)\n",
    "        print('subgraphs:', [list(g.nodes) for g in subgraphs])\n",
    "        print('cutedges:', cutedges)\n",
    "        # The hot nodes parameter controls which of the nodes on the cut edges we will\n",
    "        # hit with a mixer unitary. The other nodes on the cut are \"cold\" and their\n",
    "        # mixer will be Identity\n",
    "        print('hot nodes:', hot_nodes)\n",
    "\n",
    "    # Step 1: Jump Start\n",
    "    # Run an efficient classical approximation algorithm to warm-start the optimization\n",
    "    # (For now, we will select the trivial set of bitstrings with Hamming weight equal to 1)\n",
    "    # Each partition should get its own jump start\n",
    "    if init_state is None:\n",
    "        init_state = '0'*nq\n",
    "\n",
    "    # Step 2: Mixer Initialization\n",
    "    dqv_circ = QuantumCircuit(nq, name='q')\n",
    "\n",
    "    # Add an ancilla qubit, 1 for each subgraph, for implementing the mixer unitaries\n",
    "    anc_reg = AncillaRegister(len(subgraphs), 'anc')\n",
    "    dqv_circ.add_register(anc_reg)\n",
    "\n",
    "    #print('Init state:', init_state)\n",
    "    for qb, bit in enumerate(reversed(init_state)):\n",
    "        if bit == '1':\n",
    "            dqv_circ.x(qb)\n",
    "    if barriers > 0:\n",
    "        dqv_circ.barrier()\n",
    "\n",
    "    # parse the variational parameters\n",
    "    cut_nodes = [n for n in G.nodes if n not in uncut_nodes]\n",
    "    uncut_nonzero = len([n for n in uncut_nodes if init_state[n] != '1'])\n",
    "    num_params = P * (uncut_nonzero + 1) + len(hot_nodes)\n",
    "    assert (len(params) == num_params),\"Incorrect number of parameters!\"\n",
    "    alpha_list = []\n",
    "    gamma_list = []\n",
    "    for p in range(P):\n",
    "        chunk = uncut_nonzero + 1\n",
    "        if p == 0:\n",
    "            chunk += len(hot_nodes)\n",
    "        cur_selection = params[p*chunk:(p+1)*chunk]\n",
    "        alpha_list.append(cur_selection[:-1])\n",
    "        gamma_list.append(cur_selection[-1])\n",
    "        \n",
    "    if verbose > 0:\n",
    "        for i in range(P):\n",
    "            print('alpha_{}: {}'.format(i, alpha_list[i]))\n",
    "            print('gamma_{}: {}'.format(i, gamma_list[i]))\n",
    "            \n",
    "    subgraph_dict = {}\n",
    "    for i, subgraph in enumerate(subgraphs):\n",
    "        for qubit in subgraph:\n",
    "            subgraph_dict[qubit] = i\n",
    "\n",
    "    for i, (alphas, gamma) in enumerate(zip(alpha_list, gamma_list)):\n",
    "        apply_mixer(dqv_circ, alphas, init_state, G, cut_nodes, cutedges,\n",
    "                    subgraph_dict, barriers, decompose_toffoli, mixer_order,\n",
    "                    hot_nodes, verbose=verbose)\n",
    "        \n",
    "        if barriers == 1:\n",
    "            dqv_circ.barrier()\n",
    "\n",
    "        apply_phase_separator(dqv_circ, gamma, G)\n",
    "        \n",
    "        if barriers == 0:\n",
    "            dqv_circ.barrier()\n",
    "            \n",
    "        # in every layer of the ansatz after the first,\n",
    "        # all hot nodes should be turned cold\n",
    "        if i == 0:\n",
    "            hot_nodes = []\n",
    "\n",
    "    if decompose_toffoli > 1:\n",
    "        basis_gates = ['x', 'h', 'cx', 'crx', 'rz', 't', 'tdg', 'u1']\n",
    "        pass_ = Unroller(basis_gates)\n",
    "        pm = PassManager(pass_)\n",
    "        dqv_circ = pm.run(dqv_circ)\n",
    "\n",
    "    return dqv_circ"
   ]
  },
  {
   "cell_type": "markdown",
   "metadata": {},
   "source": [
    "## Grab a test graph to test DQVA+circuit cutting"
   ]
  },
  {
   "cell_type": "code",
   "execution_count": 33,
   "metadata": {},
   "outputs": [
    {
     "name": "stdout",
     "output_type": "stream",
     "text": [
      "50\n",
      "True\n"
     ]
    },
    {
     "data": {
      "image/png": "[encoded data removed]",
      "text/plain": [
       "<Figure size 432x288 with 1 Axes>"
      ]
     },
     "metadata": {},
     "output_type": "display_data"
    }
   ],
   "source": [
    "test_graphs = glob.glob('benchmark_graphs/N6_d2_graphs/*')\n",
    "print(len(test_graphs))\n",
    "test_graph = test_graphs[1]\n",
    "G = graph_from_file(test_graph)\n",
    "print(nx.is_connected(G))\n",
    "nx.draw_spring(G, with_labels=True, node_color='gold')"
   ]
  },
  {
   "cell_type": "code",
   "execution_count": 34,
   "metadata": {},
   "outputs": [
    {
     "data": {
      "image/png": "[encoded data removed]",
      "text/plain": [
       "<Figure size 432x288 with 1 Axes>"
      ]
     },
     "metadata": {},
     "output_type": "display_data"
    }
   ],
   "source": [
    "kl_bisection = kernighan_lin_bisection(G)\n",
    "view_partition(kl_bisection, G)"
   ]
  },
  {
   "cell_type": "markdown",
   "metadata": {},
   "source": [
    "## Circuit initialization\n",
    "The following code block initializes the parameters needed by the `gen_cut_dqva()` function"
   ]
  },
  {
   "cell_type": "code",
   "execution_count": 35,
   "metadata": {},
   "outputs": [
    {
     "name": "stdout",
     "output_type": "stream",
     "text": [
      "G_A nodes: [0, 2, 5]\n",
      "G_B nodes: [1, 3, 4]\n",
      "cutedges: [(0, 1), (3, 2)]\n",
      "cutnodes: [0, 1, 3, 2]\n",
      "uncut nodes: [4, 5]\n",
      "Q_A_uc: [5], Q_A_c: [0, 2]\n",
      "Q_B_uc: [4], Q_B_c: [1, 3]\n",
      "[3, 1]\n",
      "node, t: 3 1\n",
      "node, t: 1 1\n",
      "hot_nodes: [3]\n",
      "params: [1, 2, 3, 4]\n"
     ]
    }
   ],
   "source": [
    "nq = len(G.nodes())\n",
    "P = 1\n",
    "mixer_order = list(range(nq))\n",
    "np.random.shuffle(mixer_order)\n",
    "\n",
    "# Set the initial state\n",
    "init_state = '0'*nq\n",
    "\n",
    "# This code follows the text in the Overleaf draft\n",
    "(G_A, G_B), cutedges = get_subgraphs(G, kl_bisection)\n",
    "print('G_A nodes:', G_A.nodes)\n",
    "print('G_B nodes:', G_B.nodes)\n",
    "print('cutedges:', cutedges)\n",
    "cut_nodes = []\n",
    "for edge in cutedges:\n",
    "    cut_nodes.extend(edge)\n",
    "cutnodes = list(set(cut_nodes))\n",
    "print('cutnodes:', cut_nodes)\n",
    "uncut_nodes = list(set(G.nodes).difference(set(cut_nodes)))\n",
    "print('uncut nodes:', uncut_nodes)\n",
    "\n",
    "Q_A_uc = [node for node in G_A.nodes if node in uncut_nodes]\n",
    "Q_A_c = [node for node in G_A.nodes if node in cut_nodes]\n",
    "\n",
    "Q_B_uc = [node for node in G_B.nodes if node in uncut_nodes]\n",
    "Q_B_c = [node for node in G_B.nodes if node in cut_nodes]\n",
    "\n",
    "print('Q_A_uc: {}, Q_A_c: {}'.format(Q_A_uc, Q_A_c))\n",
    "print('Q_B_uc: {}, Q_B_c: {}'.format(Q_B_uc, Q_B_c))\n",
    "\n",
    "# Initialization\n",
    "cut_limit = 1 # Set upper limit on the number of allowed cuts\n",
    "starter_idx = 1 # Which subgraph should we start with? Options: 0, 1\n",
    "\n",
    "starter_graph = (G_A, G_B)[starter_idx]\n",
    "starter_cut_nodes = (Q_A_c, Q_B_c)[starter_idx]\n",
    "np.random.shuffle(starter_cut_nodes)\n",
    "starter_cut_nodes = sorted(starter_cut_nodes,\n",
    "                           key=lambda n: len((list(starter_graph.neighbors(n)))),\n",
    "                           reverse=True)\n",
    "print(starter_cut_nodes)\n",
    "\n",
    "hot_nodes = []\n",
    "cut_count = 0\n",
    "for node in starter_cut_nodes:\n",
    "    t = len([e for e in cutedges if node in e])\n",
    "    print('node, t:', node, t)\n",
    "    if t + cut_count <= cut_limit and list(reversed(init_state))[node] != '1':\n",
    "        hot_nodes.append(node)\n",
    "        cut_count += t\n",
    "print('hot_nodes:', hot_nodes)\n",
    "\n",
    "uncut_nonzero = len([n for n in uncut_nodes if init_state[n] != '1'])\n",
    "num_params = P * (uncut_nonzero + 1) + len(hot_nodes)\n",
    "\n",
    "params = list(range(1, num_params + 1))\n",
    "print('params:', params)"
   ]
  },
  {
   "cell_type": "code",
   "execution_count": 36,
   "metadata": {},
   "outputs": [
    {
     "name": "stdout",
     "output_type": "stream",
     "text": [
      "Current partition: ({0, 2, 5}, {1, 3, 4})\n",
      "subgraphs: [[0, 2, 5], [1, 3, 4]]\n",
      "cutedges: [(0, 1), (3, 2)]\n",
      "hot nodes: [3]\n",
      "alpha_0: [1, 2, 3]\n",
      "gamma_0: 4\n",
      "Mixer order: [0, 1, 2, 3, 4, 5]\n",
      "init_state: 000000, alpha: [1, 2, 3], pad_alpha: [None, None, None, 1, 2, 3]\n",
      "Subgraph dict: {0: 0, 2: 0, 5: 0, 1: 1, 3: 1, 4: 1}\n",
      "qubit: 3 num_qubits = 8 neighbors: [4, 2]\n",
      "qubit: 4 num_qubits = 8 neighbors: [1, 3]\n",
      "qubit: 5 num_qubits = 8 neighbors: [0, 2]\n"
     ]
    },
    {
     "data": {
      "text/html": [
       "<pre style=\"word-wrap: normal;white-space: pre;background: #fff0;line-height: 1.1;font-family: &quot;Courier New&quot;,Courier,monospace\">        ░                                         ░                                    ░ ┌───┐       ┌───┐  ┌───┐     ┌───┐ ░ ┌───────┐\n",
       "  q_0: ─░─────────────────────────────────────────░────────────────────────────────────░─┤ X ├──■────┤ X ├──┤ X ├──■──┤ X ├─░─┤ RZ(8) ├\n",
       "        ░                                         ░ ┌───┐       ┌───┐  ┌───┐     ┌───┐ ░ └───┘  │    └───┘  └───┘  │  └───┘ ░ ├───────┤\n",
       "  q_1: ─░─────────────────────────────────────────░─┤ X ├──■────┤ X ├──┤ X ├──■──┤ X ├─░────────┼──────────────────┼────────░─┤ RZ(8) ├\n",
       "        ░ ┌───┐     ┌───┐  ┌───┐            ┌───┐ ░ └───┘  │    └───┘  └───┘  │  └───┘ ░ ┌───┐  │    ┌───┐  ┌───┐  │  ┌───┐ ░ ├───────┤\n",
       "  q_2: ─░─┤ X ├──■──┤ X ├──┤ X ├─────────■──┤ X ├─░────────┼──────────────────┼────────░─┤ X ├──■────┤ X ├──┤ X ├──■──┤ X ├─░─┤ RZ(8) ├\n",
       "        ░ └───┘  │  └───┘┌─┴───┴─┐       │  └───┘ ░ ┌───┐  │    ┌───┐  ┌───┐  │  ┌───┐ ░ └───┘  │    └───┘  └───┘  │  └───┘ ░ ├───────┤\n",
       "  q_3: ─░────────┼───────┤ RX(2) ├───────┼────────░─┤ X ├──■────┤ X ├──┤ X ├──■──┤ X ├─░────────┼──────────────────┼────────░─┤ RZ(8) ├\n",
       "        ░ ┌───┐  │  ┌───┐└───┬───┘┌───┐  │  ┌───┐ ░ └───┘  │  ┌─┴───┴─┐└───┘  │  └───┘ ░        │                  │        ░ ├───────┤\n",
       "  q_4: ─░─┤ X ├──■──┤ X ├────┼────┤ X ├──■──┤ X ├─░────────┼──┤ RX(4) ├───────┼────────░────────┼──────────────────┼────────░─┤ RZ(8) ├\n",
       "        ░ └───┘  │  └───┘    │    └───┘  │  └───┘ ░        │  └───┬───┘       │        ░        │  ┌───────┐       │        ░ ├───────┤\n",
       "  q_5: ─░────────┼───────────┼───────────┼────────░────────┼──────┼───────────┼────────░────────┼──┤ RX(6) ├───────┼────────░─┤ RZ(8) ├\n",
       "        ░        │           │           │        ░        │      │           │        ░      ┌─┴─┐└───┬───┘     ┌─┴─┐      ░ └───────┘\n",
       "anc_0: ─░────────┼───────────┼───────────┼────────░────────┼──────┼───────────┼────────░──────┤ X ├────■─────────┤ X ├──────░──────────\n",
       "        ░      ┌─┴─┐         │         ┌─┴─┐      ░      ┌─┴─┐    │         ┌─┴─┐      ░      └───┘              └───┘      ░          \n",
       "anc_1: ─░──────┤ X ├─────────■─────────┤ X ├──────░──────┤ X ├────■─────────┤ X ├──────░────────────────────────────────────░──────────\n",
       "        ░      └───┘                   └───┘      ░      └───┘              └───┘      ░                                    ░          </pre>"
      ],
      "text/plain": [
       "        ░                                         ░                                    ░ ┌───┐       ┌───┐  ┌───┐     ┌───┐ ░ ┌───────┐\n",
       "  q_0: ─░─────────────────────────────────────────░────────────────────────────────────░─┤ X ├──■────┤ X ├──┤ X ├──■──┤ X ├─░─┤ RZ(8) ├\n",
       "        ░                                         ░ ┌───┐       ┌───┐  ┌───┐     ┌───┐ ░ └───┘  │    └───┘  └───┘  │  └───┘ ░ ├───────┤\n",
       "  q_1: ─░─────────────────────────────────────────░─┤ X ├──■────┤ X ├──┤ X ├──■──┤ X ├─░────────┼──────────────────┼────────░─┤ RZ(8) ├\n",
       "        ░ ┌───┐     ┌───┐  ┌───┐            ┌───┐ ░ └───┘  │    └───┘  └───┘  │  └───┘ ░ ┌───┐  │    ┌───┐  ┌───┐  │  ┌───┐ ░ ├───────┤\n",
       "  q_2: ─░─┤ X ├──■──┤ X ├──┤ X ├─────────■──┤ X ├─░────────┼──────────────────┼────────░─┤ X ├──■────┤ X ├──┤ X ├──■──┤ X ├─░─┤ RZ(8) ├\n",
       "        ░ └───┘  │  └───┘┌─┴───┴─┐       │  └───┘ ░ ┌───┐  │    ┌───┐  ┌───┐  │  ┌───┐ ░ └───┘  │    └───┘  └───┘  │  └───┘ ░ ├───────┤\n",
       "  q_3: ─░────────┼───────┤ RX(2) ├───────┼────────░─┤ X ├──■────┤ X ├──┤ X ├──■──┤ X ├─░────────┼──────────────────┼────────░─┤ RZ(8) ├\n",
       "        ░ ┌───┐  │  ┌───┐└───┬───┘┌───┐  │  ┌───┐ ░ └───┘  │  ┌─┴───┴─┐└───┘  │  └───┘ ░        │                  │        ░ ├───────┤\n",
       "  q_4: ─░─┤ X ├──■──┤ X ├────┼────┤ X ├──■──┤ X ├─░────────┼──┤ RX(4) ├───────┼────────░────────┼──────────────────┼────────░─┤ RZ(8) ├\n",
       "        ░ └───┘  │  └───┘    │    └───┘  │  └───┘ ░        │  └───┬───┘       │        ░        │  ┌───────┐       │        ░ ├───────┤\n",
       "  q_5: ─░────────┼───────────┼───────────┼────────░────────┼──────┼───────────┼────────░────────┼──┤ RX(6) ├───────┼────────░─┤ RZ(8) ├\n",
       "        ░        │           │           │        ░        │      │           │        ░      ┌─┴─┐└───┬───┘     ┌─┴─┐      ░ └───────┘\n",
       "anc_0: ─░────────┼───────────┼───────────┼────────░────────┼──────┼───────────┼────────░──────┤ X ├────■─────────┤ X ├──────░──────────\n",
       "        ░      ┌─┴─┐         │         ┌─┴─┐      ░      ┌─┴─┐    │         ┌─┴─┐      ░      └───┘              └───┘      ░          \n",
       "anc_1: ─░──────┤ X ├─────────■─────────┤ X ├──────░──────┤ X ├────■─────────┤ X ├──────░────────────────────────────────────░──────────\n",
       "        ░      └───┘                   └───┘      ░      └───┘              └───┘      ░                                    ░          "
      ]
     },
     "execution_count": 36,
     "metadata": {},
     "output_type": "execute_result"
    }
   ],
   "source": [
    "# Generate the full dqva ansatz\n",
    "mixer_order = list(range(nq))\n",
    "circ = gen_cut_dqva(G, kl_bisection, uncut_nodes, P=P, params=params,\n",
    "                    init_state=init_state, barriers=2, decompose_toffoli=1,\n",
    "                    mixer_order=mixer_order, hot_nodes=hot_nodes, verbose=1)\n",
    "circ.draw(fold=-1)"
   ]
  },
  {
   "cell_type": "markdown",
   "metadata": {},
   "source": [
    "## Locate the cut locations\n",
    "Using all the information above, programmatically locate where the cuts should be placed to partition\n",
    "the DQVA circuit into two subcircuits"
   ]
  },
  {
   "cell_type": "code",
   "execution_count": 37,
   "metadata": {},
   "outputs": [
    {
     "name": "stdout",
     "output_type": "stream",
     "text": [
      "hot nodes: [3]\n",
      "applied mixers: [4, 5, 3]\n",
      "cut edge: (0, 1)\n",
      "cut edge: (3, 2)\n",
      "cut_qubit: 2 , loc_qubit: 3\n",
      "num_mixers_before: 0\n",
      "num_mixers_after: 1\n",
      "cuts:\n",
      "[(Qubit(QuantumRegister(6, 'q'), 2), 6)]\n"
     ]
    }
   ],
   "source": [
    "# Programmatically locate the cut locations\n",
    "#cuts = [(circ.qubits[2], 6)]\n",
    "print('hot nodes:', hot_nodes)\n",
    "applied_mixers = [n for n in uncut_nodes + hot_nodes if list(reversed(init_state))[n] != '1']\n",
    "print('applied mixers:', applied_mixers)\n",
    "\n",
    "cuts = []\n",
    "for edge in cutedges:\n",
    "    print('cut edge:', edge)\n",
    "    if edge[0] in hot_nodes:\n",
    "        cut_qubit = edge[1]\n",
    "        loc_qubit = edge[0]\n",
    "    elif edge[1] in hot_nodes:\n",
    "        cut_qubit = edge[0]\n",
    "        loc_qubit = edge[1]\n",
    "    else:\n",
    "        continue\n",
    "    assert cut_qubit not in hot_nodes\n",
    "    print('cut_qubit:', cut_qubit, ', loc_qubit:', loc_qubit)\n",
    "    \n",
    "    num_mixers_before = 0\n",
    "    num_mixers_after  = 0\n",
    "    passed = False # a boolean to keep track when we've passed the loc_qubit\n",
    "    for mixer in mixer_order:\n",
    "        # step through each partial mixer in order\n",
    "        if mixer not in applied_mixers:\n",
    "            # if this partial mixer is identity, skip\n",
    "            continue\n",
    "        \n",
    "        if mixer == loc_qubit:\n",
    "            # this is the partial mixer where we'll apply the cut(s)\n",
    "            passed = True\n",
    "        \n",
    "        else:\n",
    "            # check if this mixer has a control on the cut qubit\n",
    "            if cut_qubit in list(G.neighbors(mixer)):\n",
    "                if passed:\n",
    "                    # if we've passed the loc_qubit\n",
    "                    num_mixers_after += 1\n",
    "                else:\n",
    "                    # if we haven't passed the loc_qubit\n",
    "                    num_mixers_before += 1\n",
    "    \n",
    "    print('num_mixers_before:', num_mixers_before)\n",
    "    print('num_mixers_after:', num_mixers_after)\n",
    "    \n",
    "    if num_mixers_before > 0:\n",
    "        cuts.append((circ.qubits[cut_qubit], num_mixers_before * 6))\n",
    "    if num_mixers_after > 0:\n",
    "        cuts.append((circ.qubits[cut_qubit], num_mixers_after * 6))\n",
    "    \n",
    "print('cuts:')\n",
    "#cuts = [(Qubit(QuantumRegister(12, 'q'), 9), 6), (Qubit(QuantumRegister(12, 'q'), 1), 12)]\n",
    "#cuts = cuts[:-1]\n",
    "print(cuts)"
   ]
  },
  {
   "cell_type": "markdown",
   "metadata": {},
   "source": [
    "## With the given cut locations, split and simulate the circuit"
   ]
  },
  {
   "cell_type": "code",
   "execution_count": 38,
   "metadata": {},
   "outputs": [
    {
     "name": "stdout",
     "output_type": "stream",
     "text": [
      "Fragment 0\n",
      "     ┌───┐     ┌───┐  ┌───┐                ┌───┐┌───────┐\n",
      "q_0: ┤ X ├──■──┤ X ├──┤ X ├─────────────■──┤ X ├┤ RZ(8) ├\n",
      "     └───┘┌─┴─┐└───┘  └───┘           ┌─┴─┐└───┘└───────┘\n",
      "q_1: ─────┤ X ├─────────■─────────────┤ X ├──────────────\n",
      "     ┌───┐└─┬─┘┌───┐    │      ┌───┐  └─┬─┘┌───┐┌───────┐\n",
      "q_2: ┤ X ├──■──┤ X ├────┼──────┤ X ├────■──┤ X ├┤ RZ(8) ├\n",
      "     └───┘     └───┘┌───┴───┐┌─┴───┴─┐     └───┘└───────┘\n",
      "q_3: ───────────────┤ RX(6) ├┤ RZ(8) ├───────────────────\n",
      "                    └───────┘└───────┘                   \n",
      "Fragment 1\n",
      "     ┌───┐     ┌───┐  ┌───┐            ┌───┐     ┌───────┐┌───────┐                   \n",
      "q_0: ┤ X ├──■──┤ X ├──┤ X ├─────────■──┤ X ├─────┤ RX(4) ├┤ RZ(8) ├───────────────────\n",
      "     ├───┤  │  └───┘  └───┘         │  └───┘┌───┐└───┬───┘└─┬───┬─┘     ┌───┐┌───────┐\n",
      "q_1: ┤ X ├──┼───────────────────────┼────■──┤ X ├────┼──────┤ X ├────■──┤ X ├┤ RZ(8) ├\n",
      "     └───┘  │       ┌───────┐┌───┐  │    │  ├───┤    │      ├───┤    │  ├───┤├───────┤\n",
      "q_2: ───────┼───────┤ RX(2) ├┤ X ├──┼────■──┤ X ├────┼──────┤ X ├────■──┤ X ├┤ RZ(8) ├\n",
      "     ┌───┐  │  ┌───┐└───┬───┘├───┤  │    │  ├───┤    │      └───┘    │  └───┘└───────┘\n",
      "q_3: ┤ X ├──■──┤ X ├────┼────┤ X ├──■────┼──┤ X ├────┼───────────────┼────────────────\n",
      "     └───┘┌─┴─┐└───┘    │    └───┘┌─┴─┐┌─┴─┐└───┘    │             ┌─┴─┐              \n",
      "q_4: ─────┤ X ├─────────■─────────┤ X ├┤ X ├─────────■─────────────┤ X ├──────────────\n",
      "          └───┘                   └───┘└───┘                       └───┘              \n",
      "\n",
      "Qubit(QuantumRegister(6, 'q'), 0) --> ((0, Qubit(QuantumRegister(4, 'q'), 2)),)\n",
      "Qubit(QuantumRegister(6, 'q'), 1) --> ((1, Qubit(QuantumRegister(5, 'q'), 1)),)\n",
      "Qubit(QuantumRegister(6, 'q'), 2) --> ((1, Qubit(QuantumRegister(5, 'q'), 3)), (0, Qubit(QuantumRegister(4, 'q'), 0)))\n",
      "Qubit(QuantumRegister(6, 'q'), 3) --> ((1, Qubit(QuantumRegister(5, 'q'), 2)),)\n",
      "Qubit(QuantumRegister(6, 'q'), 4) --> ((1, Qubit(QuantumRegister(5, 'q'), 0)),)\n",
      "Qubit(QuantumRegister(6, 'q'), 5) --> ((0, Qubit(QuantumRegister(4, 'q'), 3)),)\n",
      "AncillaQubit(AncillaRegister(2, 'anc'), 0) --> ((0, Qubit(QuantumRegister(4, 'q'), 1)),)\n",
      "AncillaQubit(AncillaRegister(2, 'anc'), 1) --> ((1, Qubit(QuantumRegister(5, 'q'), 4)),)\n"
     ]
    }
   ],
   "source": [
    "frag_num = 2\n",
    "fragments, wire_path_map = qcc.cut_circuit(circ, cuts)\n",
    "for i, frag in enumerate(fragments):\n",
    "    print('Fragment', i)\n",
    "    print(frag.draw(fold=120))\n",
    "\n",
    "print()\n",
    "for key, val in wire_path_map.items():\n",
    "    print(key, '-->', val)"
   ]
  },
  {
   "cell_type": "code",
   "execution_count": 39,
   "metadata": {},
   "outputs": [
    {
     "name": "stdout",
     "output_type": "stream",
     "text": [
      "{'00000000': 0.04956051929322031, '00010000': 0.2366769277906791, '00001000': 0.6933055106276432, '00100000': 0.001031198944446434, '00110000': 0.004924426925770206, '00101000': 0.014425544830561556}\n"
     ]
    }
   ],
   "source": [
    "frag_data = qmm.collect_fragment_data(fragments, wire_path_map, shots=500000, tomography_backend='qasm_simulator')\n",
    "direct_models = qmm.direct_fragment_model(frag_data)\n",
    "likely_models = qmm.maximum_likelihood_model(direct_models)\n",
    "\n",
    "likely_recombined_dist = qmm.recombine_fragment_models(likely_models, wire_path_map)\n",
    "print({key: val for key, val in likely_recombined_dist.items() if val > 0.001})"
   ]
  },
  {
   "cell_type": "code",
   "execution_count": 40,
   "metadata": {},
   "outputs": [
    {
     "name": "stdout",
     "output_type": "stream",
     "text": [
      "{'00000000': 0.050125, '00010000': 0.23476, '00100000': 0.00098, '00101000': 0.01431, '00110000': 0.004705, '00001000': 0.69512}\n"
     ]
    }
   ],
   "source": [
    "circ.measure_all()\n",
    "shots = 200000\n",
    "result = execute(circ, backend=Aer.get_backend('qasm_simulator'), shots=shots).result()\n",
    "counts = result.get_counts(circ)\n",
    "actual_dist = {sample: counts[sample] / shots for sample in counts.keys()}\n",
    "print(actual_dist)"
   ]
  },
  {
   "cell_type": "code",
   "execution_count": 41,
   "metadata": {},
   "outputs": [
    {
     "data": {
      "text/plain": [
       "0.9999140646441325"
      ]
     },
     "execution_count": 41,
     "metadata": {},
     "output_type": "execute_result"
    }
   ],
   "source": [
    "fidelity(likely_recombined_dist, actual_dist)"
   ]
  },
  {
   "cell_type": "code",
   "execution_count": null,
   "metadata": {},
   "outputs": [],
   "source": []
  }
 ],
 "metadata": {
  "kernelspec": {
   "display_name": "Python 3",
   "language": "python",
   "name": "python3"
  },
  "language_info": {
   "codemirror_mode": {
    "name": "ipython",
    "version": 3
   },
   "file_extension": ".py",
   "mimetype": "text/x-python",
   "name": "python",
   "nbconvert_exporter": "python",
   "pygments_lexer": "ipython3",
   "version": "3.7.9"
  }
 },
 "nbformat": 4,
 "nbformat_minor": 4
}
