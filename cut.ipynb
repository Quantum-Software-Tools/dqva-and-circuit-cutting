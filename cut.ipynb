{
 "cells": [
  {
   "cell_type": "code",
   "execution_count": 1,
   "metadata": {},
   "outputs": [
    {
     "name": "stdout",
     "output_type": "stream",
     "text": [
      "original_dag has 1 connected components\n",
      "cut_dag has 4 connected components\n"
     ]
    },
    {
     "data": {
      "text/plain": [
       "<Figure size 836.111x526.75 with 1 Axes>"
      ]
     },
     "execution_count": 1,
     "metadata": {},
     "output_type": "execute_result"
    }
   ],
   "source": [
    "from qiskit import QuantumRegister, ClassicalRegister, QuantumCircuit\n",
    "from qiskit.dagcircuit import *\n",
    "from qiskit.converters import circuit_to_dag, dag_to_circuit\n",
    "from qiskit.tools.visualization import dag_drawer\n",
    "from qiskit.extensions.standard import CHGate, HGate, CnotGate, CyGate, CzGate\n",
    "from qiskit.circuit import Measure\n",
    "from qiskit.circuit.quantumregister import QuantumRegister, Qubit\n",
    "from qiskit.circuit.classicalregister import ClassicalRegister, Clbit\n",
    "from qiskit import BasicAer\n",
    "from qiskit.visualization import plot_histogram\n",
    "from qiskit import *\n",
    "import numpy as np\n",
    "import itertools\n",
    "import networkx as nx\n",
    "import pickle\n",
    "from help_fun import cut_edge\n",
    "\n",
    "q = QuantumRegister(4, 'q')\n",
    "# c = ClassicalRegister(4, 'c')\n",
    "circ = QuantumCircuit(q)\n",
    "circ.h([q[2],q[1]])\n",
    "circ.x([q[2],q[0]])\n",
    "circ.y(q[3])\n",
    "circ.cx(q[0], q[1])\n",
    "circ.cy(q[2], q[3])\n",
    "circ.ch(q[1], q[2])\n",
    "circ.x(q[2])\n",
    "# circ.barrier()\n",
    "# circ.measure(q,c)\n",
    "circ.draw()\n",
    "\n",
    "original_dag = circuit_to_dag(circ)\n",
    "print('original_dag has %d connected components' % nx.number_weakly_connected_components(original_dag._multi_graph))\n",
    "# print(nx.algorithms.connectivity.cuts.minimum_edge_cut(dag._multi_graph))\n",
    "dag_drawer(original_dag, filename='original_dag.pdf')\n",
    "circ.draw(output='mpl',filename='original_circ.pdf')\n",
    "\n",
    "cut_dag = cut_edge(original_dag=original_dag, wire=q[2],source_node_name='cy', dest_node_name='ch')\n",
    "print('cut_dag has %d connected components' % nx.number_weakly_connected_components(cut_dag._multi_graph))\n",
    "dag_drawer(cut_dag, filename='cut_dag.pdf')\n",
    "dag_to_circuit(cut_dag).draw(output='mpl',filename='cut_circ.pdf')"
   ]
  },
  {
   "cell_type": "code",
   "execution_count": 2,
   "metadata": {},
   "outputs": [
    {
     "name": "stdout",
     "output_type": "stream",
     "text": [
      "wire: Qubit(QuantumRegister(4, 'q'), 0)\n",
      "in(q[0])\n",
      "op(x)\n",
      "op(cx)\n",
      "out(q[0])\n",
      "\n",
      "wire: Qubit(QuantumRegister(4, 'q'), 1)\n",
      "in(q[1])\n",
      "op(h)\n",
      "op(cx)\n",
      "op(ch)\n",
      "out(q[1])\n",
      "\n",
      "wire: Qubit(QuantumRegister(4, 'q'), 2)\n",
      "in(q[2])\n",
      "op(h)\n",
      "op(x)\n",
      "op(cy)\n",
      "op(measure)\n",
      "out(q[2])\n",
      "\n",
      "wire: Qubit(QuantumRegister(4, 'q'), 3)\n",
      "in(q[3])\n",
      "op(y)\n",
      "op(cy)\n",
      "out(q[3])\n",
      "\n",
      "wire: Clbit(ClassicalRegister(1, 'cutC'), 0)\n",
      "in(cutC[0])\n",
      "\n",
      "wire: Qubit(QuantumRegister(1, 'cutQ'), 0)\n",
      "in(cutQ[0])\n",
      "\n"
     ]
    }
   ],
   "source": [
    "for wire in cut_dag.wires:\n",
    "    print('wire:', wire)\n",
    "    [print('%s(%s)' % (x.type, x.name)) for x in cut_dag.nodes_on_wire(wire)]\n",
    "    print()"
   ]
  },
  {
   "cell_type": "code",
   "execution_count": 3,
   "metadata": {},
   "outputs": [
    {
     "name": "stdout",
     "output_type": "stream",
     "text": [
      "wire: Qubit(QuantumRegister(4, 'q'), 0)\n",
      "in(q[0])\n",
      "op(x)\n",
      "op(cx)\n",
      "out(q[0])\n",
      "\n",
      "wire: Qubit(QuantumRegister(4, 'q'), 1)\n",
      "in(q[1])\n",
      "op(h)\n",
      "op(cx)\n",
      "op(ch)\n",
      "out(q[1])\n",
      "\n",
      "wire: Qubit(QuantumRegister(4, 'q'), 2)\n",
      "in(q[2])\n",
      "op(h)\n",
      "op(x)\n",
      "op(cy)\n",
      "op(ch)\n",
      "op(x)\n",
      "out(q[2])\n",
      "\n",
      "wire: Qubit(QuantumRegister(4, 'q'), 3)\n",
      "in(q[3])\n",
      "op(y)\n",
      "op(cy)\n",
      "out(q[3])\n",
      "\n"
     ]
    }
   ],
   "source": [
    "for wire in original_dag.wires:\n",
    "    print('wire:', wire)\n",
    "    [print('%s(%s)' % (x.type, x.name)) for x in original_dag.nodes_on_wire(wire)]\n",
    "    print()"
   ]
  },
  {
   "cell_type": "code",
   "execution_count": null,
   "metadata": {},
   "outputs": [],
   "source": []
  }
 ],
 "metadata": {
  "kernelspec": {
   "display_name": "venv",
   "language": "python",
   "name": "venv"
  },
  "language_info": {
   "codemirror_mode": {
    "name": "ipython",
    "version": 3
   },
   "file_extension": ".py",
   "mimetype": "text/x-python",
   "name": "python",
   "nbconvert_exporter": "python",
   "pygments_lexer": "ipython3",
   "version": "3.7.3"
  }
 },
 "nbformat": 4,
 "nbformat_minor": 2
}
