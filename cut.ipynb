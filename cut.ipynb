{
 "cells": [
  {
   "cell_type": "code",
   "execution_count": 1,
   "metadata": {},
   "outputs": [],
   "source": [
    "from qiskit.converters import circuit_to_dag, dag_to_circuit\n",
    "from qiskit.tools.visualization import dag_drawer\n",
    "from help_fun import cut_edges, generate_sub_circs\n",
    "import pickle\n",
    "import networkx as nx\n",
    "\n",
    "circ = pickle.load(open('results/supremacy_circuit_4_8.dump', 'rb' ))"
   ]
  },
  {
   "cell_type": "code",
   "execution_count": 2,
   "metadata": {},
   "outputs": [
    {
     "name": "stdout",
     "output_type": "stream",
     "text": [
      "component 0\n",
      "reg_dict: {'q': QuantumRegister(8, 'q'), 'c': ClassicalRegister(12, 'c'), 'cutQ': QuantumRegister(4, 'cutQ')}\n",
      "registers in the sub circuit: [QuantumRegister(8, 'q'), QuantumRegister(4, 'cutQ')] [ClassicalRegister(12, 'c')]\n",
      "total registers counts: {'q': QuantumRegister(8, 'q'), 'c': ClassicalRegister(12, 'c'), 'cutQ': QuantumRegister(4, 'cutQ')}\n",
      "finished component 0\n",
      "\n",
      "component 1\n",
      "reg_dict: {'q': QuantumRegister(8, 'q'), 'c': ClassicalRegister(4, 'c'), 'cutC': ClassicalRegister(4, 'cutC')}\n",
      "registers in the sub circuit: [QuantumRegister(8, 'q')] [ClassicalRegister(4, 'c'), ClassicalRegister(4, 'cutC')]\n",
      "total registers counts: {'q': QuantumRegister(16, 'q'), 'c': ClassicalRegister(16, 'c'), 'cutQ': QuantumRegister(4, 'cutQ'), 'cutC': ClassicalRegister(4, 'cutC')}\n",
      "finished component 1\n",
      "\n",
      "cut_dag has 2 connected components\n"
     ]
    }
   ],
   "source": [
    "original_dag = circuit_to_dag(circ)\n",
    "dag_drawer(original_dag, filename='results/original_dag.pdf')\n",
    "circ.draw(output='text',line_length=400,filename='results/original_circ.txt')\n",
    "\n",
    "q = circ.qregs[0]\n",
    "\n",
    "positions = [(q[8], 3), (q[9], 5), (q[10], 4), (q[11], 4)]\n",
    "cut_dag = cut_edges(original_dag=original_dag, positions=positions)\n",
    "dag_drawer(cut_dag, filename='results/cut_dag.pdf')\n",
    "# dag_to_circuit(cut_dag).draw(output='mpl',filename='cut_circ.pdf')\n",
    "\n",
    "sub_circs, _ = generate_sub_circs(cut_dag, [q[8],q[9],q[10],q[11]])\n",
    "for i, sub_circ in enumerate(sub_circs):\n",
    "    dag_drawer(circuit_to_dag(sub_circ), filename='results/sub_dag_%d.pdf' % i)\n",
    "    sub_circ.draw(output='text',line_length = 400, filename='results/sub_circ_%d.txt' % i)\n",
    "print('cut_dag has %d connected components' % nx.number_weakly_connected_components(cut_dag._multi_graph))"
   ]
  },
  {
   "cell_type": "code",
   "execution_count": 11,
   "metadata": {},
   "outputs": [
    {
     "name": "stdout",
     "output_type": "stream",
     "text": [
      "true\n"
     ]
    }
   ],
   "source": [
    "a = -2\n",
    "if a:\n",
    "    print('true')\n",
    "else:\n",
    "    print('false')"
   ]
  },
  {
   "cell_type": "code",
   "execution_count": null,
   "metadata": {},
   "outputs": [],
   "source": []
  }
 ],
 "metadata": {
  "kernelspec": {
   "display_name": "venv",
   "language": "python",
   "name": "venv"
  },
  "language_info": {
   "codemirror_mode": {
    "name": "ipython",
    "version": 3
   },
   "file_extension": ".py",
   "mimetype": "text/x-python",
   "name": "python",
   "nbconvert_exporter": "python",
   "pygments_lexer": "ipython3",
   "version": "3.7.3"
  }
 },
 "nbformat": 4,
 "nbformat_minor": 2
}
