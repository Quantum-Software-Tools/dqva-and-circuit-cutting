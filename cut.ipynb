{
 "cells": [
  {
   "cell_type": "code",
   "execution_count": 20,
   "metadata": {},
   "outputs": [
    {
     "name": "stdout",
     "output_type": "stream",
     "text": [
      "cut_dag has 2 connected components\n",
      "input wires mapping:\n",
      "(QuantumRegister(16, 'q'), 0) (0, (QuantumRegister(10, 'q'), 0))\n",
      "(QuantumRegister(16, 'q'), 1) (0, (QuantumRegister(10, 'q'), 1))\n",
      "(QuantumRegister(16, 'q'), 4) (0, (QuantumRegister(10, 'q'), 2))\n",
      "(QuantumRegister(16, 'q'), 5) (0, (QuantumRegister(10, 'q'), 3))\n",
      "(QuantumRegister(16, 'q'), 6) (0, (QuantumRegister(10, 'q'), 4))\n",
      "(QuantumRegister(16, 'q'), 7) (0, (QuantumRegister(10, 'q'), 5))\n",
      "(QuantumRegister(16, 'q'), 8) (0, (QuantumRegister(10, 'q'), 6))\n",
      "(QuantumRegister(16, 'q'), 9) (0, (QuantumRegister(10, 'q'), 7))\n",
      "(QuantumRegister(16, 'q'), 12) (0, (QuantumRegister(10, 'q'), 8))\n",
      "(QuantumRegister(16, 'q'), 13) (0, (QuantumRegister(10, 'q'), 9))\n",
      "(QuantumRegister(16, 'q'), 2) (1, (QuantumRegister(6, 'q'), 0))\n",
      "(QuantumRegister(16, 'q'), 3) (1, (QuantumRegister(6, 'q'), 1))\n",
      "(QuantumRegister(16, 'q'), 10) (1, (QuantumRegister(6, 'q'), 2))\n",
      "(QuantumRegister(16, 'q'), 11) (1, (QuantumRegister(6, 'q'), 3))\n",
      "(QuantumRegister(16, 'q'), 14) (1, (QuantumRegister(6, 'q'), 4))\n",
      "(QuantumRegister(16, 'q'), 15) (1, (QuantumRegister(6, 'q'), 5))\n"
     ]
    }
   ],
   "source": [
    "from qiskit.converters import circuit_to_dag, dag_to_circuit\n",
    "from qiskit.tools.visualization import dag_drawer\n",
    "from help_fun import *\n",
    "import pickle\n",
    "import networkx as nx\n",
    "\n",
    "circ = pickle.load(open('results/supremacy_circuit_4_8.dump', 'rb' ))\n",
    "\n",
    "original_dag = circuit_to_dag(circ)\n",
    "q = circ.qregs[0]\n",
    "positions = [(q[2], 1), (q[7], 1), (q[10], 1), (q[14], 1)]\n",
    "wires_being_cut = [x[0] for x in positions]\n",
    "\n",
    "cut_dag = cut_edges(original_dag=original_dag, positions=positions)\n",
    "\n",
    "sub_reg_dicts, input_wires_mapping = reg_dict_counter(cut_dag, wires_being_cut)\n",
    "\n",
    "print('cut_dag has %d connected components' % nx.number_weakly_connected_components(cut_dag._multi_graph))\n",
    "# print('sub_reg_dicts:\\n', sub_reg_dicts)\n",
    "print('input wires mapping:')\n",
    "for key in input_wires_mapping:\n",
    "    print(key, input_wires_mapping[key])\n",
    "\n",
    "# reg_dict = sub_reg_dicts[0]\n",
    "# for node in cut_dag.topological_op_nodes():\n",
    "#     for x in node.qargs:\n",
    "#         print(x)\n",
    "#         print(input_wires_mapping[x][1])\n",
    "#     break"
   ]
  },
  {
   "cell_type": "code",
   "execution_count": 2,
   "metadata": {},
   "outputs": [
    {
     "name": "stdout",
     "output_type": "stream",
     "text": [
      "Begin component  0\n",
      "reg_dict:  {'q': QuantumRegister(10, 'q'), 'measure_q': ClassicalRegister(1, 'measure_q'), 'ancilla_q': QuantumRegister(3, 'ancilla_q')}\n",
      "updating node t\n",
      "old arg: (QuantumRegister(16, 'q'), 14)\n",
      "qarg (QuantumRegister(16, 'q'), 14) is cut\n",
      "add to bridge_map: (0, (QuantumRegister(3, 'ancilla_q'), 0)) (1, (QuantumRegister(6, 'q'), 4), (ClassicalRegister(3, 'measure_q'), 0))\n",
      "new arg: (QuantumRegister(3, 'ancilla_q'), 0)\n",
      "updating node h\n",
      "old arg: (QuantumRegister(16, 'q'), 0)\n",
      "new arg: (QuantumRegister(10, 'q'), 0)\n",
      "updating node h\n",
      "old arg: (QuantumRegister(16, 'q'), 1)\n",
      "new arg: (QuantumRegister(10, 'q'), 1)\n",
      "updating node cz\n",
      "old arg: (QuantumRegister(16, 'q'), 0)\n",
      "new arg: (QuantumRegister(10, 'q'), 0)\n",
      "old arg: (QuantumRegister(16, 'q'), 1)\n",
      "new arg: (QuantumRegister(10, 'q'), 1)\n",
      "updating node t\n",
      "old arg: (QuantumRegister(16, 'q'), 0)\n",
      "new arg: (QuantumRegister(10, 'q'), 0)\n",
      "updating node t\n",
      "old arg: (QuantumRegister(16, 'q'), 1)\n",
      "new arg: (QuantumRegister(10, 'q'), 1)\n",
      "updating node cz\n",
      "old arg: (QuantumRegister(16, 'q'), 1)\n",
      "new arg: (QuantumRegister(10, 'q'), 1)\n",
      "old arg: (QuantumRegister(16, 'q'), 2)\n",
      "qarg (QuantumRegister(16, 'q'), 2) is cut\n",
      "add to bridge_map: (0, (QuantumRegister(3, 'ancilla_q'), 1)) (1, (QuantumRegister(6, 'q'), 0), (ClassicalRegister(3, 'measure_q'), 1))\n",
      "new arg: (QuantumRegister(3, 'ancilla_q'), 1)\n",
      "updating node rx\n",
      "old arg: (QuantumRegister(16, 'q'), 1)\n",
      "new arg: (QuantumRegister(10, 'q'), 1)\n",
      "updating node t\n",
      "old arg: (QuantumRegister(16, 'q'), 2)\n",
      "qarg (QuantumRegister(16, 'q'), 2) is cut\n",
      "add to bridge_map: (0, (QuantumRegister(3, 'ancilla_q'), 2)) (1, (QuantumRegister(6, 'q'), 0), (ClassicalRegister(3, 'measure_q'), 2))\n",
      "new arg: (QuantumRegister(3, 'ancilla_q'), 2)\n",
      "updating node h\n",
      "old arg: (QuantumRegister(16, 'q'), 4)\n",
      "new arg: (QuantumRegister(10, 'q'), 2)\n",
      "updating node h\n",
      "old arg: (QuantumRegister(16, 'q'), 5)\n",
      "new arg: (QuantumRegister(10, 'q'), 3)\n",
      "updating node cz\n",
      "old arg: (QuantumRegister(16, 'q'), 4)\n",
      "new arg: (QuantumRegister(10, 'q'), 2)\n",
      "old arg: (QuantumRegister(16, 'q'), 5)\n",
      "new arg: (QuantumRegister(10, 'q'), 3)\n",
      "updating node t\n",
      "old arg: (QuantumRegister(16, 'q'), 4)\n",
      "new arg: (QuantumRegister(10, 'q'), 2)\n",
      "updating node cz\n",
      "old arg: (QuantumRegister(16, 'q'), 0)\n",
      "new arg: (QuantumRegister(10, 'q'), 0)\n",
      "old arg: (QuantumRegister(16, 'q'), 4)\n",
      "new arg: (QuantumRegister(10, 'q'), 2)\n",
      "updating node rx\n",
      "old arg: (QuantumRegister(16, 'q'), 0)\n",
      "new arg: (QuantumRegister(10, 'q'), 0)\n",
      "updating node rx\n",
      "old arg: (QuantumRegister(16, 'q'), 4)\n",
      "new arg: (QuantumRegister(10, 'q'), 2)\n",
      "updating node t\n",
      "old arg: (QuantumRegister(16, 'q'), 5)\n",
      "new arg: (QuantumRegister(10, 'q'), 3)\n",
      "updating node h\n",
      "old arg: (QuantumRegister(16, 'q'), 6)\n",
      "new arg: (QuantumRegister(10, 'q'), 4)\n",
      "updating node h\n",
      "old arg: (QuantumRegister(16, 'q'), 7)\n",
      "qarg (QuantumRegister(16, 'q'), 7) is cut\n",
      "new arg: (QuantumRegister(10, 'q'), 5)\n",
      "updating node cz\n",
      "old arg: (QuantumRegister(16, 'q'), 6)\n",
      "new arg: (QuantumRegister(10, 'q'), 4)\n",
      "old arg: (QuantumRegister(16, 'q'), 7)\n",
      "qarg (QuantumRegister(16, 'q'), 7) is cut\n",
      "new arg: (QuantumRegister(10, 'q'), 5)\n",
      "updating node t\n",
      "old arg: (QuantumRegister(16, 'q'), 6)\n",
      "new arg: (QuantumRegister(10, 'q'), 4)\n",
      "updating node cz\n",
      "old arg: (QuantumRegister(16, 'q'), 5)\n",
      "new arg: (QuantumRegister(10, 'q'), 3)\n",
      "old arg: (QuantumRegister(16, 'q'), 6)\n",
      "new arg: (QuantumRegister(10, 'q'), 4)\n",
      "updating node cz\n",
      "old arg: (QuantumRegister(16, 'q'), 2)\n",
      "qarg (QuantumRegister(16, 'q'), 2) is cut\n"
     ]
    },
    {
     "ename": "QiskitIndexError",
     "evalue": "'register index out of range'",
     "output_type": "error",
     "traceback": [
      "\u001b[0;31m---------------------------------------------------------------------------\u001b[0m",
      "\u001b[0;31mQiskitIndexError\u001b[0m                          Traceback (most recent call last)",
      "\u001b[0;32m<ipython-input-2-7df3e189060b>\u001b[0m in \u001b[0;36m<module>\u001b[0;34m\u001b[0m\n\u001b[0;32m----> 1\u001b[0;31m \u001b[0msub_circs\u001b[0m\u001b[0;34m,\u001b[0m \u001b[0mbridge_map\u001b[0m \u001b[0;34m=\u001b[0m \u001b[0mgenerate_sub_circs\u001b[0m\u001b[0;34m(\u001b[0m\u001b[0mcut_dag\u001b[0m\u001b[0;34m,\u001b[0m \u001b[0mpositions\u001b[0m\u001b[0;34m)\u001b[0m\u001b[0;34m\u001b[0m\u001b[0;34m\u001b[0m\u001b[0m\n\u001b[0m",
      "\u001b[0;32m~/Documents/Princeton/circuit_cutting/help_fun.py\u001b[0m in \u001b[0;36mgenerate_sub_circs\u001b[0;34m(cut_dag, positions)\u001b[0m\n\u001b[1;32m    371\u001b[0m                             \u001b[0;31m# change qarg into the ancilla qubit tuple\u001b[0m\u001b[0;34m\u001b[0m\u001b[0;34m\u001b[0m\u001b[0;34m\u001b[0m\u001b[0m\n\u001b[1;32m    372\u001b[0m                             \u001b[0mancilla_sub_circ_idx\u001b[0m \u001b[0;34m=\u001b[0m \u001b[0mcomponent_idx\u001b[0m\u001b[0;34m\u001b[0m\u001b[0;34m\u001b[0m\u001b[0m\n\u001b[0;32m--> 373\u001b[0;31m                             \u001b[0mqubit_tuple\u001b[0m \u001b[0;34m=\u001b[0m \u001b[0mreg_dict\u001b[0m\u001b[0;34m[\u001b[0m\u001b[0;34m'ancilla_'\u001b[0m \u001b[0;34m+\u001b[0m \u001b[0mx\u001b[0m\u001b[0;34m[\u001b[0m\u001b[0;36m0\u001b[0m\u001b[0;34m]\u001b[0m\u001b[0;34m.\u001b[0m\u001b[0mname\u001b[0m\u001b[0;34m]\u001b[0m\u001b[0;34m[\u001b[0m\u001b[0mancilla_idx\u001b[0m\u001b[0;34m]\u001b[0m\u001b[0;34m\u001b[0m\u001b[0;34m\u001b[0m\u001b[0m\n\u001b[0m\u001b[1;32m    374\u001b[0m                             \u001b[0mkey\u001b[0m \u001b[0;34m=\u001b[0m \u001b[0;34m(\u001b[0m\u001b[0mancilla_sub_circ_idx\u001b[0m\u001b[0;34m,\u001b[0m \u001b[0mqubit_tuple\u001b[0m\u001b[0;34m)\u001b[0m\u001b[0;34m\u001b[0m\u001b[0;34m\u001b[0m\u001b[0m\n\u001b[1;32m    375\u001b[0m                             \u001b[0;31m# print('bridge_map key:', key)\u001b[0m\u001b[0;34m\u001b[0m\u001b[0;34m\u001b[0m\u001b[0;34m\u001b[0m\u001b[0m\n",
      "\u001b[0;32m~/Documents/Princeton/circuit_cutting/venv/lib/python3.7/site-packages/qiskit/circuit/register.py\u001b[0m in \u001b[0;36m__getitem__\u001b[0;34m(self, key)\u001b[0m\n\u001b[1;32m     90\u001b[0m         \u001b[0;32mif\u001b[0m \u001b[0misinstance\u001b[0m\u001b[0;34m(\u001b[0m\u001b[0mkey\u001b[0m\u001b[0;34m,\u001b[0m \u001b[0mint\u001b[0m\u001b[0;34m)\u001b[0m \u001b[0;32mand\u001b[0m \u001b[0mkey\u001b[0m \u001b[0;34m<\u001b[0m \u001b[0;36m0\u001b[0m\u001b[0;34m:\u001b[0m\u001b[0;34m\u001b[0m\u001b[0;34m\u001b[0m\u001b[0m\n\u001b[1;32m     91\u001b[0m             \u001b[0mkey\u001b[0m \u001b[0;34m=\u001b[0m \u001b[0mself\u001b[0m\u001b[0;34m.\u001b[0m\u001b[0msize\u001b[0m \u001b[0;34m+\u001b[0m \u001b[0mkey\u001b[0m\u001b[0;34m\u001b[0m\u001b[0;34m\u001b[0m\u001b[0m\n\u001b[0;32m---> 92\u001b[0;31m         \u001b[0mself\u001b[0m\u001b[0;34m.\u001b[0m\u001b[0mcheck_range\u001b[0m\u001b[0;34m(\u001b[0m\u001b[0mkey\u001b[0m\u001b[0;34m)\u001b[0m\u001b[0;34m\u001b[0m\u001b[0;34m\u001b[0m\u001b[0m\n\u001b[0m\u001b[1;32m     93\u001b[0m         \u001b[0;32mif\u001b[0m \u001b[0misinstance\u001b[0m\u001b[0;34m(\u001b[0m\u001b[0mkey\u001b[0m\u001b[0;34m,\u001b[0m \u001b[0mslice\u001b[0m\u001b[0;34m)\u001b[0m\u001b[0;34m:\u001b[0m\u001b[0;34m\u001b[0m\u001b[0;34m\u001b[0m\u001b[0m\n\u001b[1;32m     94\u001b[0m             \u001b[0;32mreturn\u001b[0m \u001b[0;34m[\u001b[0m\u001b[0;34m(\u001b[0m\u001b[0mself\u001b[0m\u001b[0;34m,\u001b[0m \u001b[0mind\u001b[0m\u001b[0;34m)\u001b[0m \u001b[0;32mfor\u001b[0m \u001b[0mind\u001b[0m \u001b[0;32min\u001b[0m \u001b[0mrange\u001b[0m\u001b[0;34m(\u001b[0m\u001b[0;34m*\u001b[0m\u001b[0mkey\u001b[0m\u001b[0;34m.\u001b[0m\u001b[0mindices\u001b[0m\u001b[0;34m(\u001b[0m\u001b[0mlen\u001b[0m\u001b[0;34m(\u001b[0m\u001b[0mself\u001b[0m\u001b[0;34m)\u001b[0m\u001b[0;34m)\u001b[0m\u001b[0;34m)\u001b[0m\u001b[0;34m]\u001b[0m\u001b[0;34m\u001b[0m\u001b[0;34m\u001b[0m\u001b[0m\n",
      "\u001b[0;32m~/Documents/Princeton/circuit_cutting/venv/lib/python3.7/site-packages/qiskit/circuit/register.py\u001b[0m in \u001b[0;36mcheck_range\u001b[0;34m(self, j)\u001b[0m\n\u001b[1;32m     66\u001b[0m         \u001b[0;32mif\u001b[0m \u001b[0misinstance\u001b[0m\u001b[0;34m(\u001b[0m\u001b[0mj\u001b[0m\u001b[0;34m,\u001b[0m \u001b[0mint\u001b[0m\u001b[0;34m)\u001b[0m\u001b[0;34m:\u001b[0m\u001b[0;34m\u001b[0m\u001b[0;34m\u001b[0m\u001b[0m\n\u001b[1;32m     67\u001b[0m             \u001b[0;32mif\u001b[0m \u001b[0mj\u001b[0m \u001b[0;34m<\u001b[0m \u001b[0;36m0\u001b[0m \u001b[0;32mor\u001b[0m \u001b[0mj\u001b[0m \u001b[0;34m>=\u001b[0m \u001b[0mself\u001b[0m\u001b[0;34m.\u001b[0m\u001b[0msize\u001b[0m\u001b[0;34m:\u001b[0m\u001b[0;34m\u001b[0m\u001b[0;34m\u001b[0m\u001b[0m\n\u001b[0;32m---> 68\u001b[0;31m                 \u001b[0;32mraise\u001b[0m \u001b[0mQiskitIndexError\u001b[0m\u001b[0;34m(\u001b[0m\u001b[0;34m\"register index out of range\"\u001b[0m\u001b[0;34m)\u001b[0m\u001b[0;34m\u001b[0m\u001b[0;34m\u001b[0m\u001b[0m\n\u001b[0m\u001b[1;32m     69\u001b[0m             \u001b[0;32melif\u001b[0m \u001b[0misinstance\u001b[0m\u001b[0;34m(\u001b[0m\u001b[0mj\u001b[0m\u001b[0;34m,\u001b[0m \u001b[0mslice\u001b[0m\u001b[0;34m)\u001b[0m\u001b[0;34m:\u001b[0m\u001b[0;34m\u001b[0m\u001b[0;34m\u001b[0m\u001b[0m\n\u001b[1;32m     70\u001b[0m                 if j.start < 0 or j.stop >= self.size or (j.step is not None and\n",
      "\u001b[0;31mQiskitIndexError\u001b[0m: 'register index out of range'"
     ]
    }
   ],
   "source": [
    "sub_circs, bridge_map = generate_sub_circs(cut_dag, positions)"
   ]
  },
  {
   "cell_type": "code",
   "execution_count": 2,
   "metadata": {},
   "outputs": [
    {
     "name": "stdout",
     "output_type": "stream",
     "text": [
      "input wires mapping:  {'q[0]': (0, 0), 'q[1]': (0, 1), 'q[4]': (0, 2), 'q[5]': (0, 3), 'q[6]': (0, 4), 'q[7]': (0, 5), 'q[8]': (0, 6), 'q[9]': (0, 7), 'q[12]': (0, 8), 'q[13]': (0, 9), 'q[2]': (1, 0), 'q[3]': (1, 1), 'q[10]': (1, 2), 'q[11]': (1, 3), 'q[14]': (1, 4), 'q[15]': (1, 5)}\n",
      "Begin component  0\n",
      "reg_dict:  {'q': QuantumRegister(10, 'q'), 'cutC': ClassicalRegister(1, 'cutC'), 'cutQ': QuantumRegister(3, 'cutQ')}\n",
      "cumulative registers counts: {}\n",
      "added registers in the sub circuit: [QuantumRegister(10, 'q'), QuantumRegister(3, 'cutQ')] [ClassicalRegister(1, 'cutC')]\n",
      "finished component 0\n",
      "\n",
      "Begin component  1\n",
      "reg_dict:  {'q': QuantumRegister(6, 'q'), 'cutC': ClassicalRegister(3, 'cutC'), 'cutQ': QuantumRegister(1, 'cutQ')}\n",
      "cumulative registers counts: {'q': QuantumRegister(10, 'q'), 'cutC': ClassicalRegister(1, 'cutC'), 'cutQ': QuantumRegister(3, 'cutQ')}\n",
      "added registers in the sub circuit: [QuantumRegister(6, 'q'), QuantumRegister(1, 'cutQ')] [ClassicalRegister(3, 'cutC')]\n",
      "finished component 1\n",
      "\n",
      "cut_dag has 2 connected components\n",
      "bridge map: {(1, 4): (0, 'cutQ[0]'), (1, 0): (0, 'cutQ[1]'), (1, 2): (0, 'cutQ[2]'), (0, 5): (1, 'cutQ[0]')}\n"
     ]
    }
   ],
   "source": [
    "original_dag = circuit_to_dag(circ)\n",
    "dag_drawer(original_dag, filename='results/original_dag.pdf')\n",
    "circ.draw(output='text',line_length=400,filename='results/original_circ.txt')\n",
    "\n",
    "q = circ.qregs[0]\n",
    "\n",
    "positions = [(q[7], 1), (q[2], 1), (q[14], 1), (q[10], 1)]\n",
    "cut_dag = cut_edges(original_dag=original_dag, positions=positions)\n",
    "dag_drawer(cut_dag, filename='results/cut_dag.pdf')\n",
    "\n",
    "sub_circs, bridge_map = generate_sub_circs(cut_dag, [q[2],q[7],q[10],q[14]])\n",
    "for i, sub_circ in enumerate(sub_circs):\n",
    "    dag_drawer(circuit_to_dag(sub_circ), filename='results/sub_dag_%d.pdf' % i)\n",
    "    sub_circ.draw(output='text',line_length = 400, filename='results/sub_circ_%d.txt' % i)\n",
    "    pickle.dump(sub_circ, open('results/sub_circ_%d.dump' % i, 'wb' ))\n",
    "\n",
    "print('cut_dag has %d connected components' % nx.number_weakly_connected_components(cut_dag._multi_graph))\n",
    "print('bridge map:', bridge_map)"
   ]
  },
  {
   "cell_type": "code",
   "execution_count": 16,
   "metadata": {},
   "outputs": [
    {
     "name": "stdout",
     "output_type": "stream",
     "text": [
      "OrderedDict([('q', QuantumRegister(16, 'q'))])\n",
      "(QuantumRegister(16, 'q'), 0)\n",
      "q\n"
     ]
    }
   ],
   "source": [
    "print(original_dag.qregs)\n",
    "print(q[0])\n",
    "for node in original_dag.nodes():\n",
    "    if node.type == 'in':\n",
    "        print(node.wire[0].name)\n",
    "    break"
   ]
  },
  {
   "cell_type": "code",
   "execution_count": null,
   "metadata": {},
   "outputs": [],
   "source": []
  }
 ],
 "metadata": {
  "kernelspec": {
   "display_name": "venv",
   "language": "python",
   "name": "venv"
  },
  "language_info": {
   "codemirror_mode": {
    "name": "ipython",
    "version": 3
   },
   "file_extension": ".py",
   "mimetype": "text/x-python",
   "name": "python",
   "nbconvert_exporter": "python",
   "pygments_lexer": "ipython3",
   "version": "3.7.3"
  }
 },
 "nbformat": 4,
 "nbformat_minor": 2
}
