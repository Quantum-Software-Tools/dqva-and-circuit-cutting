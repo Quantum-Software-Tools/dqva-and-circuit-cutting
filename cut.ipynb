{
 "cells": [
  {
   "cell_type": "code",
   "execution_count": 3,
   "metadata": {},
   "outputs": [
    {
     "name": "stdout",
     "output_type": "stream",
     "text": [
      "(QuantumRegister(16, 'q'), 0) []\n",
      "(QuantumRegister(16, 'q'), 1) []\n",
      "(QuantumRegister(16, 'q'), 4) []\n",
      "(QuantumRegister(16, 'q'), 5) []\n",
      "(QuantumRegister(16, 'q'), 6) []\n",
      "(QuantumRegister(16, 'q'), 7) [(-99, -99)]\n",
      "(QuantumRegister(16, 'q'), 8) []\n",
      "(QuantumRegister(16, 'q'), 9) []\n",
      "(QuantumRegister(16, 'q'), 12) []\n",
      "(QuantumRegister(16, 'q'), 13) []\n",
      "(QuantumRegister(16, 'q'), 2) [(-99, -99)]\n",
      "(QuantumRegister(16, 'q'), 3) []\n",
      "(QuantumRegister(16, 'q'), 10) [(-99, -99)]\n",
      "(QuantumRegister(16, 'q'), 11) []\n",
      "(QuantumRegister(16, 'q'), 14) [(-99, -99)]\n",
      "(QuantumRegister(16, 'q'), 15) []\n"
     ]
    },
    {
     "data": {
      "text/plain": [
       "[None,\n",
       " None,\n",
       " None,\n",
       " None,\n",
       " None,\n",
       " None,\n",
       " None,\n",
       " None,\n",
       " None,\n",
       " None,\n",
       " None,\n",
       " None,\n",
       " None,\n",
       " None,\n",
       " None,\n",
       " None]"
      ]
     },
     "execution_count": 3,
     "metadata": {},
     "output_type": "execute_result"
    }
   ],
   "source": [
    "from qiskit.converters import circuit_to_dag, dag_to_circuit\n",
    "from qiskit.tools.visualization import dag_drawer\n",
    "from help_fun import *\n",
    "import pickle\n",
    "import networkx as nx\n",
    "\n",
    "circ = pickle.load(open('results/supremacy_circuit_4_8.dump', 'rb' ))\n",
    "\n",
    "original_dag = circuit_to_dag(circ)\n",
    "q = circ.qregs[0]\n",
    "positions = [(q[2], 1), (q[7], 1), (q[10], 1), (q[14], 1)]\n",
    "wires_being_cut = [x[0] for x in positions]\n",
    "\n",
    "cut_dag = cut_edges(original_dag=original_dag, positions=positions)\n",
    "sub_reg_dicts, input_wires_mapping = reg_dict_counter(cut_dag, wires_being_cut)\n",
    "path_order_dict = path_order_calc(original_dag, input_wires_mapping, positions)\n",
    "\n",
    "[print(x, path_order_dict[x]) for x in path_order_dict]\n",
    "\n",
    "# sub_circs = generate_sub_circs(cut_dag, positions)"
   ]
  },
  {
   "cell_type": "code",
   "execution_count": 2,
   "metadata": {},
   "outputs": [
    {
     "name": "stdout",
     "output_type": "stream",
     "text": [
      "cut_dag has 2 connected components\n"
     ]
    }
   ],
   "source": [
    "for i, sub_circ in enumerate(sub_circs):\n",
    "    dag_drawer(circuit_to_dag(sub_circ), filename='results/sub_dag_%d.pdf' % i)\n",
    "    sub_circ.draw(output='text',line_length = 400, filename='results/sub_circ_%d.txt' % i)\n",
    "#     pickle.dump(sub_circ, open('results/sub_circ_%d.dump' % i, 'wb' ))\n",
    "\n",
    "print('cut_dag has %d connected components' % nx.number_weakly_connected_components(cut_dag._multi_graph))"
   ]
  },
  {
   "cell_type": "code",
   "execution_count": 6,
   "metadata": {},
   "outputs": [
    {
     "name": "stdout",
     "output_type": "stream",
     "text": [
      "((QuantumRegister(16, 'q'), 2), 1)\n",
      "((QuantumRegister(16, 'q'), 7), 1)\n",
      "((QuantumRegister(16, 'q'), 10), 1)\n",
      "((QuantumRegister(16, 'q'), 14), 1)\n"
     ]
    }
   ],
   "source": [
    "for position in positions:\n",
    "    print(position)"
   ]
  },
  {
   "cell_type": "code",
   "execution_count": null,
   "metadata": {},
   "outputs": [],
   "source": []
  }
 ],
 "metadata": {
  "kernelspec": {
   "display_name": "venv",
   "language": "python",
   "name": "venv"
  },
  "language_info": {
   "codemirror_mode": {
    "name": "ipython",
    "version": 3
   },
   "file_extension": ".py",
   "mimetype": "text/x-python",
   "name": "python",
   "nbconvert_exporter": "python",
   "pygments_lexer": "ipython3",
   "version": "3.7.3"
  }
 },
 "nbformat": 4,
 "nbformat_minor": 2
}
