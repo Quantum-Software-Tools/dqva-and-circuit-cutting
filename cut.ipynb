{
 "cells": [
  {
   "cell_type": "code",
   "execution_count": 1,
   "metadata": {},
   "outputs": [
    {
     "name": "stdout",
     "output_type": "stream",
     "text": [
      "input wires mapping:\n",
      " {(QuantumRegister(16, 'q'), 0): (0, (QuantumRegister(10, 'q'), 0)), (QuantumRegister(16, 'q'), 1): (0, (QuantumRegister(10, 'q'), 1)), (QuantumRegister(16, 'q'), 4): (0, (QuantumRegister(10, 'q'), 2)), (QuantumRegister(16, 'q'), 5): (0, (QuantumRegister(10, 'q'), 3)), (QuantumRegister(16, 'q'), 6): (0, (QuantumRegister(10, 'q'), 4)), (QuantumRegister(16, 'q'), 7): (0, (QuantumRegister(10, 'q'), 5)), (QuantumRegister(16, 'q'), 8): (0, (QuantumRegister(10, 'q'), 6)), (QuantumRegister(16, 'q'), 9): (0, (QuantumRegister(10, 'q'), 7)), (QuantumRegister(16, 'q'), 12): (0, (QuantumRegister(10, 'q'), 8)), (QuantumRegister(16, 'q'), 13): (0, (QuantumRegister(10, 'q'), 9)), (QuantumRegister(16, 'q'), 2): (1, (QuantumRegister(6, 'q'), 0)), (QuantumRegister(16, 'q'), 3): (1, (QuantumRegister(6, 'q'), 1)), (QuantumRegister(16, 'q'), 10): (1, (QuantumRegister(6, 'q'), 2)), (QuantumRegister(16, 'q'), 11): (1, (QuantumRegister(6, 'q'), 3)), (QuantumRegister(16, 'q'), 14): (1, (QuantumRegister(6, 'q'), 4)), (QuantumRegister(16, 'q'), 15): (1, (QuantumRegister(6, 'q'), 5))}\n",
      "sub_reg_dicts calculation:\n",
      " [{'q': QuantumRegister(10, 'q'), 'measure_q': ClassicalRegister(1, 'measure_q'), 'ancilla_q': QuantumRegister(3, 'ancilla_q')}, {'q': QuantumRegister(6, 'q'), 'measure_q': ClassicalRegister(3, 'measure_q'), 'ancilla_q': QuantumRegister(1, 'ancilla_q')}]\n",
      "translation_dict:\n",
      " {((QuantumRegister(16, 'q'), 0), 0): (QuantumRegister(10, 'q'), 0), ((QuantumRegister(16, 'q'), 1), 0): (QuantumRegister(10, 'q'), 1), ((QuantumRegister(16, 'q'), 4), 0): (QuantumRegister(10, 'q'), 2), ((QuantumRegister(16, 'q'), 5), 0): (QuantumRegister(10, 'q'), 3), ((QuantumRegister(16, 'q'), 6), 0): (QuantumRegister(10, 'q'), 4), ((QuantumRegister(16, 'q'), 7), 0): (QuantumRegister(10, 'q'), 5), ((QuantumRegister(16, 'q'), 7), 1): (QuantumRegister(1, 'ancilla_q'), 0), ((QuantumRegister(16, 'q'), 8), 0): (QuantumRegister(10, 'q'), 6), ((QuantumRegister(16, 'q'), 9), 0): (QuantumRegister(10, 'q'), 7), ((QuantumRegister(16, 'q'), 12), 0): (QuantumRegister(10, 'q'), 8), ((QuantumRegister(16, 'q'), 13), 0): (QuantumRegister(10, 'q'), 9), ((QuantumRegister(16, 'q'), 2), 0): (QuantumRegister(3, 'ancilla_q'), 0), ((QuantumRegister(16, 'q'), 2), 1): (QuantumRegister(6, 'q'), 0), ((QuantumRegister(16, 'q'), 3), 1): (QuantumRegister(6, 'q'), 1), ((QuantumRegister(16, 'q'), 10), 0): (QuantumRegister(3, 'ancilla_q'), 1), ((QuantumRegister(16, 'q'), 10), 1): (QuantumRegister(6, 'q'), 2), ((QuantumRegister(16, 'q'), 11), 1): (QuantumRegister(6, 'q'), 3), ((QuantumRegister(16, 'q'), 14), 0): (QuantumRegister(3, 'ancilla_q'), 2), ((QuantumRegister(16, 'q'), 14), 1): (QuantumRegister(6, 'q'), 4), ((QuantumRegister(16, 'q'), 15), 1): (QuantumRegister(6, 'q'), 5)}\n",
      "Begin component  0\n",
      "reg_dict:  {'q': QuantumRegister(10, 'q'), 'measure_q': ClassicalRegister(1, 'measure_q'), 'ancilla_q': QuantumRegister(3, 'ancilla_q')}\n",
      "finished component 0\n",
      "\n",
      "Begin component  1\n",
      "reg_dict:  {'q': QuantumRegister(6, 'q'), 'measure_q': ClassicalRegister(3, 'measure_q'), 'ancilla_q': QuantumRegister(1, 'ancilla_q')}\n",
      "finished component 1\n",
      "\n"
     ]
    }
   ],
   "source": [
    "from qiskit.converters import circuit_to_dag, dag_to_circuit\n",
    "from qiskit.tools.visualization import dag_drawer\n",
    "from help_fun import *\n",
    "import pickle\n",
    "import networkx as nx\n",
    "\n",
    "circ = pickle.load(open('results/supremacy_circuit_4_8.dump', 'rb' ))\n",
    "\n",
    "original_dag = circuit_to_dag(circ)\n",
    "q = circ.qregs[0]\n",
    "positions = [(q[2], 1), (q[7], 1), (q[10], 1), (q[14], 1)]\n",
    "cut_dag = cut_edges(original_dag=original_dag, positions=positions)\n",
    "\n",
    "sub_circs = generate_sub_circs(cut_dag, positions)"
   ]
  },
  {
   "cell_type": "code",
   "execution_count": 2,
   "metadata": {},
   "outputs": [
    {
     "name": "stdout",
     "output_type": "stream",
     "text": [
      "cut_dag has 2 connected components\n"
     ]
    }
   ],
   "source": [
    "for i, sub_circ in enumerate(sub_circs):\n",
    "    dag_drawer(circuit_to_dag(sub_circ), filename='results/sub_dag_%d.pdf' % i)\n",
    "    sub_circ.draw(output='text',line_length = 400, filename='results/sub_circ_%d.txt' % i)\n",
    "#     pickle.dump(sub_circ, open('results/sub_circ_%d.dump' % i, 'wb' ))\n",
    "\n",
    "print('cut_dag has %d connected components' % nx.number_weakly_connected_components(cut_dag._multi_graph))"
   ]
  },
  {
   "cell_type": "code",
   "execution_count": null,
   "metadata": {},
   "outputs": [],
   "source": []
  }
 ],
 "metadata": {
  "kernelspec": {
   "display_name": "venv",
   "language": "python",
   "name": "venv"
  },
  "language_info": {
   "codemirror_mode": {
    "name": "ipython",
    "version": 3
   },
   "file_extension": ".py",
   "mimetype": "text/x-python",
   "name": "python",
   "nbconvert_exporter": "python",
   "pygments_lexer": "ipython3",
   "version": "3.7.3"
  }
 },
 "nbformat": 4,
 "nbformat_minor": 2
}
