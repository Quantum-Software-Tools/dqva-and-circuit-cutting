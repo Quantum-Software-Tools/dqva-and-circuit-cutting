{
 "cells": [
  {
   "cell_type": "code",
   "execution_count": 6,
   "metadata": {},
   "outputs": [
    {
     "name": "stdout",
     "output_type": "stream",
     "text": [
      "cut_dag has 2 connected components\n"
     ]
    }
   ],
   "source": [
    "from qiskit.converters import circuit_to_dag, dag_to_circuit\n",
    "from qiskit.tools.visualization import dag_drawer\n",
    "from cutting_help_fun import *\n",
    "import pickle\n",
    "import networkx as nx\n",
    "\n",
    "circ = pickle.load(open('results/supremacy_circuit_4_8.dump', 'rb' ))\n",
    "original_dag = circuit_to_dag(circ)\n",
    "q = circ.qregs[0]\n",
    "# positions = [(q[2], 1), (q[7], 1), (q[8],3), (q[9],6), (q[10], 4), (q[10],1), (q[14], 1)]\n",
    "positions = [(q[2], 1), (q[7], 1), (q[10],1), (q[14], 1)]\n",
    "wires_being_cut = [x[0] for x in positions]\n",
    "\n",
    "cut_dag, path_order_dict = cut_edges(original_dag=original_dag, positions=positions)\n",
    "dag_drawer(cut_dag, filename='results/cut_dag.pdf')\n",
    "print('cut_dag has %d connected components' % nx.number_weakly_connected_components(cut_dag._multi_graph))\n",
    "\n",
    "# print('\\npath_order_dict:')\n",
    "# for key in path_order_dict:\n",
    "#     print(key, path_order_dict[key])\n",
    "\n",
    "in_out_arg_dict = contains_wire_nodes(cut_dag)\n",
    "# print('\\nin_out_arg_dict:')\n",
    "# for key in in_out_arg_dict:\n",
    "#     print(key, in_out_arg_dict[key])\n",
    "\n",
    "sub_reg_dicts, input_wires_mapping = sub_circ_reg_counter(cut_dag, in_out_arg_dict)\n",
    "# print('\\nsub_reg_dicts:')\n",
    "# for reg_dict in sub_reg_dicts:\n",
    "#     print(reg_dict)\n",
    "\n",
    "# print('\\ninput_wires_mapping:')\n",
    "# [print(x, input_wires_mapping[x]) for x in input_wires_mapping]\n",
    "\n",
    "components = list(nx.weakly_connected_components(cut_dag._multi_graph))\n",
    "translation_dict = translation_dict_calc(input_wires_mapping, components, in_out_arg_dict, sub_reg_dicts)\n",
    "# print('\\ntranslation_dict:')\n",
    "# [print(x, translation_dict[x]) for x in translation_dict]"
   ]
  },
  {
   "cell_type": "code",
   "execution_count": 7,
   "metadata": {},
   "outputs": [
    {
     "name": "stdout",
     "output_type": "stream",
     "text": [
      "Begin component  0\n",
      "reg_dict:  {'q': QuantumRegister(10, 'q'), 'ancilla_q': QuantumRegister(3, 'ancilla_q'), 'measure_q': ClassicalRegister(1, 'measure_q')}\n",
      "added registers in the sub circuit: [QuantumRegister(10, 'q'), QuantumRegister(3, 'ancilla_q')] [ClassicalRegister(1, 'measure_q')]\n",
      "finished component 0\n",
      "\n",
      "Begin component  1\n",
      "reg_dict:  {'measure_q': ClassicalRegister(3, 'measure_q'), 'q': QuantumRegister(6, 'q'), 'ancilla_q': QuantumRegister(1, 'ancilla_q')}\n",
      "added registers in the sub circuit: [QuantumRegister(6, 'q'), QuantumRegister(1, 'ancilla_q')] [ClassicalRegister(3, 'measure_q')]\n",
      "finished component 1\n",
      "\n"
     ]
    }
   ],
   "source": [
    "# complete_path_map = complete_path_calc(path_order_dict, input_wires_mapping, translation_dict, sub_reg_dicts)\n",
    "# print('\\ncomplete_path_map:')\n",
    "# [print(x, complete_path_map[x]) for x in complete_path_map]\n",
    "\n",
    "sub_circs = generate_sub_circs(cut_dag, positions)\n",
    "for idx, sub_circ in enumerate(sub_circs):\n",
    "    sub_circ.draw(output='text',line_length = 400, filename='results/sub_circ_%d.txt' % idx)\n",
    "    dag_drawer(circuit_to_dag(sub_circ), filename='results/sub_dag_%d.pdf' % idx)"
   ]
  },
  {
   "cell_type": "code",
   "execution_count": null,
   "metadata": {},
   "outputs": [],
   "source": []
  }
 ],
 "metadata": {
  "kernelspec": {
   "display_name": "venv",
   "language": "python",
   "name": "venv"
  },
  "language_info": {
   "codemirror_mode": {
    "name": "ipython",
    "version": 3
   },
   "file_extension": ".py",
   "mimetype": "text/x-python",
   "name": "python",
   "nbconvert_exporter": "python",
   "pygments_lexer": "ipython3",
   "version": "3.7.3"
  }
 },
 "nbformat": 4,
 "nbformat_minor": 2
}
