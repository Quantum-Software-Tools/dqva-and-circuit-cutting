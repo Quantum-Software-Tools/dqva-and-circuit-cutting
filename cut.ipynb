{
 "cells": [
  {
   "cell_type": "code",
   "execution_count": 50,
   "metadata": {},
   "outputs": [
    {
     "data": {
      "text/plain": [
       "'test.pdf'"
      ]
     },
     "execution_count": 50,
     "metadata": {},
     "output_type": "execute_result"
    }
   ],
   "source": [
    "from qiskit.converters import circuit_to_dag, dag_to_circuit\n",
    "from qiskit.tools.visualization import dag_drawer\n",
    "from cutting_help_fun import *\n",
    "import pickle\n",
    "import networkx as nx\n",
    "\n",
    "num_qubits = 4\n",
    "q = QuantumRegister(num_qubits, 'q')\n",
    "circ = QuantumCircuit(q)\n",
    "for i in range(num_qubits):\n",
    "    for j in range(i+1,num_qubits):\n",
    "        circ.cz(q[i], q[j])\n",
    "\n",
    "original_dag = circuit_to_dag(circ)\n",
    "dag_drawer(original_dag, filename='test.pdf')"
   ]
  },
  {
   "cell_type": "code",
   "execution_count": null,
   "metadata": {},
   "outputs": [],
   "source": []
  }
 ],
 "metadata": {
  "kernelspec": {
   "display_name": "venv",
   "language": "python",
   "name": "venv"
  },
  "language_info": {
   "codemirror_mode": {
    "name": "ipython",
    "version": 3
   },
   "file_extension": ".py",
   "mimetype": "text/x-python",
   "name": "python",
   "nbconvert_exporter": "python",
   "pygments_lexer": "ipython3",
   "version": "3.7.3"
  }
 },
 "nbformat": 4,
 "nbformat_minor": 2
}
