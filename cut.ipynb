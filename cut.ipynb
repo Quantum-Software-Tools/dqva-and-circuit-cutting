{
 "cells": [
  {
   "cell_type": "code",
   "execution_count": 1,
   "metadata": {},
   "outputs": [
    {
     "name": "stdout",
     "output_type": "stream",
     "text": [
      "{'type': 'op', 'op': <qiskit.extensions.standard.h.HGate object at 0x12e586470>, 'name': 'h', 'qargs': [(QuantumRegister(4, 'q'), 2)], 'cargs': [], 'condition': None}\n"
     ]
    }
   ],
   "source": [
    "from qiskit import QuantumRegister, ClassicalRegister, QuantumCircuit\n",
    "from qiskit.converters import circuit_to_dag, dag_to_circuit\n",
    "from qiskit.tools.visualization import dag_drawer\n",
    "from qiskit.extensions.standard import CHGate, HGate, CnotGate, CyGate, CzGate\n",
    "from qiskit.circuit import Measure\n",
    "from qiskit.circuit.quantumregister import QuantumRegister\n",
    "from qiskit.circuit.classicalregister import ClassicalRegister\n",
    "from qiskit import BasicAer\n",
    "from qiskit.visualization import plot_histogram\n",
    "from help_fun import cut_edge, generate_sub_circs\n",
    "import numpy as np\n",
    "import networkx as nx\n",
    "import pickle\n",
    "import argparse\n",
    "import os\n",
    "\n",
    "q = QuantumRegister(4, 'q')\n",
    "c = ClassicalRegister(4, 'c')\n",
    "circ = QuantumCircuit(q,c)\n",
    "circ.h([q[2],q[1]])\n",
    "circ.x([q[2],q[0]])\n",
    "circ.y(q[3])\n",
    "circ.cx(q[0], q[1])\n",
    "circ.cy(q[2], q[3])\n",
    "circ.ch(q[1], q[2])\n",
    "circ.x(q[2])\n",
    "circ.measure(q,c)\n",
    "\n",
    "for node in circuit_to_dag(circ).op_nodes():\n",
    "    print(node.data_dict)\n",
    "    break"
   ]
  },
  {
   "cell_type": "code",
   "execution_count": 2,
   "metadata": {},
   "outputs": [
    {
     "name": "stdout",
     "output_type": "stream",
     "text": [
      "component 0\n",
      "reg_dict: {'q': QuantumRegister(2, 'q'), 'c': ClassicalRegister(3, 'c'), 'cutQ': QuantumRegister(1, 'cutQ')}\n",
      "op x [(QuantumRegister(2, 'q'), 0)] []\n",
      "op h [(QuantumRegister(2, 'q'), 1)] []\n",
      "op cx [(QuantumRegister(2, 'q'), 0), (QuantumRegister(2, 'q'), 1)] []\n",
      "op ch [(QuantumRegister(2, 'q'), 1), (QuantumRegister(1, 'cutQ'), 0)] []\n",
      "op x [(QuantumRegister(1, 'cutQ'), 0)] []\n",
      "op measure [(QuantumRegister(2, 'q'), 0)] [(ClassicalRegister(3, 'c'), 0)]\n",
      "op measure [(QuantumRegister(2, 'q'), 1)] [(ClassicalRegister(3, 'c'), 1)]\n",
      "op measure [(QuantumRegister(1, 'cutQ'), 0)] [(ClassicalRegister(3, 'c'), 2)]\n",
      "registers in the sub circuit: [QuantumRegister(2, 'q'), QuantumRegister(1, 'cutQ')] [ClassicalRegister(3, 'c')]\n",
      "total registers counts: {'q': QuantumRegister(2, 'q'), 'c': ClassicalRegister(3, 'c'), 'cutQ': QuantumRegister(1, 'cutQ')}\n",
      "finished component 0\n",
      "\n",
      "component 1\n",
      "reg_dict: {'q': QuantumRegister(2, 'q'), 'c': ClassicalRegister(1, 'c'), 'cutC': ClassicalRegister(1, 'cutC')}\n",
      "op h [(QuantumRegister(2, 'q'), 0)] []\n",
      "op x [(QuantumRegister(2, 'q'), 0)] []\n",
      "op y [(QuantumRegister(2, 'q'), 1)] []\n",
      "op cy [(QuantumRegister(2, 'q'), 0), (QuantumRegister(2, 'q'), 1)] []\n",
      "op measure [(QuantumRegister(2, 'q'), 1)] [(ClassicalRegister(1, 'c'), 0)]\n",
      "registers in the sub circuit: [QuantumRegister(2, 'q')] [ClassicalRegister(1, 'c'), ClassicalRegister(1, 'cutC')]\n",
      "total registers counts: {'q': QuantumRegister(4, 'q'), 'c': ClassicalRegister(4, 'c'), 'cutQ': QuantumRegister(1, 'cutQ'), 'cutC': ClassicalRegister(1, 'cutC')}\n",
      "finished component 1\n",
      "\n"
     ]
    }
   ],
   "source": [
    "original_dag = circuit_to_dag(circ)\n",
    "dag_drawer(original_dag, filename='original_dag.pdf')\n",
    "circ.draw(output='mpl',filename='original_circ.pdf')\n",
    "\n",
    "cut_dag = cut_edge(original_dag=original_dag, wire=q[2],source_node_name='cy', dest_node_name='ch')\n",
    "dag_drawer(cut_dag, filename='cut_dag.pdf')\n",
    "dag_to_circuit(cut_dag).draw(output='mpl',filename='cut_circ.pdf')\n",
    "\n",
    "sub_circs, _ = generate_sub_circs(cut_dag, q[2])\n",
    "for i, sub_circ in enumerate(sub_circs):\n",
    "    dag_drawer(circuit_to_dag(sub_circ), filename='sub_dag_%d.pdf' % i)\n",
    "    sub_circ.draw(output='mpl',filename='sub_circ_%d.pdf' % i)"
   ]
  },
  {
   "cell_type": "code",
   "execution_count": null,
   "metadata": {},
   "outputs": [],
   "source": []
  }
 ],
 "metadata": {
  "kernelspec": {
   "display_name": "venv",
   "language": "python",
   "name": "venv"
  },
  "language_info": {
   "codemirror_mode": {
    "name": "ipython",
    "version": 3
   },
   "file_extension": ".py",
   "mimetype": "text/x-python",
   "name": "python",
   "nbconvert_exporter": "python",
   "pygments_lexer": "ipython3",
   "version": "3.7.3"
  }
 },
 "nbformat": 4,
 "nbformat_minor": 2
}
