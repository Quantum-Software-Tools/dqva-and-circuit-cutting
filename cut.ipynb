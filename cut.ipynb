{
 "cells": [
  {
   "cell_type": "code",
   "execution_count": 2,
   "metadata": {},
   "outputs": [
    {
     "name": "stdout",
     "output_type": "stream",
     "text": [
      "cut_dag has 3 connected components\n",
      "((QuantumRegister(16, 'q'), 0), 0) (True, True, True)\n",
      "((QuantumRegister(16, 'q'), 0), 1) (False, False, False)\n",
      "((QuantumRegister(16, 'q'), 0), 2) (False, False, False)\n",
      "((QuantumRegister(16, 'q'), 1), 0) (True, True, True)\n",
      "((QuantumRegister(16, 'q'), 1), 1) (False, False, False)\n",
      "((QuantumRegister(16, 'q'), 1), 2) (False, False, False)\n",
      "((QuantumRegister(16, 'q'), 2), 0) (False, True, True)\n",
      "((QuantumRegister(16, 'q'), 2), 1) (True, False, True)\n",
      "((QuantumRegister(16, 'q'), 2), 2) (False, False, False)\n",
      "((QuantumRegister(16, 'q'), 3), 0) (False, False, False)\n",
      "((QuantumRegister(16, 'q'), 3), 1) (True, True, True)\n",
      "((QuantumRegister(16, 'q'), 3), 2) (False, False, False)\n",
      "((QuantumRegister(16, 'q'), 4), 0) (True, True, True)\n",
      "((QuantumRegister(16, 'q'), 4), 1) (False, False, False)\n",
      "((QuantumRegister(16, 'q'), 4), 2) (False, False, False)\n",
      "((QuantumRegister(16, 'q'), 5), 0) (True, True, True)\n",
      "((QuantumRegister(16, 'q'), 5), 1) (False, False, False)\n",
      "((QuantumRegister(16, 'q'), 5), 2) (False, False, False)\n",
      "((QuantumRegister(16, 'q'), 6), 0) (True, True, True)\n",
      "((QuantumRegister(16, 'q'), 6), 1) (False, False, False)\n",
      "((QuantumRegister(16, 'q'), 6), 2) (False, False, False)\n",
      "((QuantumRegister(16, 'q'), 7), 0) (True, False, True)\n",
      "((QuantumRegister(16, 'q'), 7), 1) (False, True, True)\n",
      "((QuantumRegister(16, 'q'), 7), 2) (False, False, False)\n",
      "((QuantumRegister(16, 'q'), 8), 0) (False, True, True)\n",
      "((QuantumRegister(16, 'q'), 8), 1) (False, False, False)\n",
      "((QuantumRegister(16, 'q'), 8), 2) (True, False, True)\n",
      "((QuantumRegister(16, 'q'), 9), 0) (False, True, True)\n",
      "((QuantumRegister(16, 'q'), 9), 1) (False, False, False)\n",
      "((QuantumRegister(16, 'q'), 9), 2) (True, False, True)\n",
      "((QuantumRegister(16, 'q'), 10), 0) (False, True, True)\n",
      "((QuantumRegister(16, 'q'), 10), 1) (True, False, True)\n",
      "((QuantumRegister(16, 'q'), 10), 2) (False, False, True)\n",
      "((QuantumRegister(16, 'q'), 11), 0) (False, False, False)\n",
      "((QuantumRegister(16, 'q'), 11), 1) (True, True, True)\n",
      "((QuantumRegister(16, 'q'), 11), 2) (False, False, False)\n",
      "((QuantumRegister(16, 'q'), 12), 0) (False, False, False)\n",
      "((QuantumRegister(16, 'q'), 12), 1) (False, False, False)\n",
      "((QuantumRegister(16, 'q'), 12), 2) (True, True, True)\n",
      "((QuantumRegister(16, 'q'), 13), 0) (False, False, False)\n",
      "((QuantumRegister(16, 'q'), 13), 1) (False, False, False)\n",
      "((QuantumRegister(16, 'q'), 13), 2) (True, True, True)\n",
      "((QuantumRegister(16, 'q'), 14), 0) (False, False, False)\n",
      "((QuantumRegister(16, 'q'), 14), 1) (True, False, True)\n",
      "((QuantumRegister(16, 'q'), 14), 2) (False, True, True)\n",
      "((QuantumRegister(16, 'q'), 15), 0) (False, False, False)\n",
      "((QuantumRegister(16, 'q'), 15), 1) (True, True, True)\n",
      "((QuantumRegister(16, 'q'), 15), 2) (False, False, False)\n",
      "{'q': QuantumRegister(6, 'q'), 'ancilla_q': QuantumRegister(4, 'ancilla_q'), 'measure_q': QuantumRegister(1, 'measure_q')}\n",
      "{'measure_q': QuantumRegister(3, 'measure_q'), 'q': QuantumRegister(6, 'q'), 'ancilla_q': QuantumRegister(1, 'ancilla_q')}\n",
      "{'measure_q': QuantumRegister(3, 'measure_q'), 'q': QuantumRegister(4, 'q'), 'ancilla_q': QuantumRegister(2, 'ancilla_q')}\n"
     ]
    }
   ],
   "source": [
    "from qiskit.converters import circuit_to_dag, dag_to_circuit\n",
    "from qiskit.tools.visualization import dag_drawer\n",
    "from cutting_help_fun import *\n",
    "import pickle\n",
    "import networkx as nx\n",
    "\n",
    "circ = pickle.load(open('results/supremacy_circuit_4_8.dump', 'rb' ))\n",
    "original_dag = circuit_to_dag(circ)\n",
    "q = circ.qregs[0]\n",
    "positions = [(q[2], 1), (q[7], 1), (q[8],3), (q[9],6), (q[10], 4), (q[10],1), (q[14], 1)]\n",
    "# positions = [(q[2], 1), (q[7], 1), (q[10],1), (q[14], 1)]\n",
    "wires_being_cut = [x[0] for x in positions]\n",
    "\n",
    "cut_dag, path_order_dict = cut_edges(original_dag=original_dag, positions=positions)\n",
    "dag_drawer(cut_dag, filename='results/cut_dag.pdf')\n",
    "print('cut_dag has %d connected components' % nx.number_weakly_connected_components(cut_dag._multi_graph))\n",
    "\n",
    "in_out_arg_dict = contains_wire_nodes(cut_dag)\n",
    "for key in in_out_arg_dict:\n",
    "    print(key, in_out_arg_dict[key])\n",
    "sub_reg_dicts = sub_circ_reg_counter(cut_dag, in_out_arg_dict)\n",
    "# components = list(nx.weakly_connected_components(cut_dag._multi_graph))\n",
    "# sub_reg_dicts, input_wires_mapping = reg_dict_counter(cut_dag, wires_being_cut)\n",
    "for reg_dict in sub_reg_dicts:\n",
    "    print(reg_dict)\n",
    "# translation_dict = translation_dict_calc(input_wires_mapping, components, in_out_arg_dict, sub_reg_dicts)\n",
    "# complete_path_map = complete_path_calc(path_order_dict, input_wires_mapping, translation_dict, sub_reg_dicts)\n",
    "\n",
    "# [print(x, complete_path_map[x]) for x in complete_path_map]\n",
    "# sub_circs = generate_sub_circs(cut_dag, positions)"
   ]
  },
  {
   "cell_type": "code",
   "execution_count": 2,
   "metadata": {},
   "outputs": [
    {
     "name": "stdout",
     "output_type": "stream",
     "text": [
      "cut_dag has 2 connected components\n"
     ]
    }
   ],
   "source": [
    "for i, sub_circ in enumerate(sub_circs):\n",
    "    dag_drawer(circuit_to_dag(sub_circ), filename='results/sub_dag_%d.pdf' % i)\n",
    "    sub_circ.draw(output='text',line_length = 400, filename='results/sub_circ_%d.txt' % i)\n",
    "#     pickle.dump(sub_circ, open('results/sub_circ_%d.dump' % i, 'wb' ))\n",
    "\n",
    "print('cut_dag has %d connected components' % nx.number_weakly_connected_components(cut_dag._multi_graph))"
   ]
  },
  {
   "cell_type": "code",
   "execution_count": 6,
   "metadata": {},
   "outputs": [
    {
     "name": "stdout",
     "output_type": "stream",
     "text": [
      "((QuantumRegister(16, 'q'), 2), 1)\n",
      "((QuantumRegister(16, 'q'), 7), 1)\n",
      "((QuantumRegister(16, 'q'), 10), 1)\n",
      "((QuantumRegister(16, 'q'), 14), 1)\n"
     ]
    }
   ],
   "source": [
    "for position in positions:\n",
    "    print(position)"
   ]
  },
  {
   "cell_type": "code",
   "execution_count": null,
   "metadata": {},
   "outputs": [],
   "source": []
  }
 ],
 "metadata": {
  "kernelspec": {
   "display_name": "venv",
   "language": "python",
   "name": "venv"
  },
  "language_info": {
   "codemirror_mode": {
    "name": "ipython",
    "version": 3
   },
   "file_extension": ".py",
   "mimetype": "text/x-python",
   "name": "python",
   "nbconvert_exporter": "python",
   "pygments_lexer": "ipython3",
   "version": "3.7.3"
  }
 },
 "nbformat": 4,
 "nbformat_minor": 2
}
